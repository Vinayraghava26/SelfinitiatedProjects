{
 "cells": [
  {
   "attachments": {
    "mrbeast.jpg": {
     "image/jpeg": "[encoded data removed]"
    }
   },
   "cell_type": "markdown",
   "id": "f055b7e0",
   "metadata": {},
   "source": [
    "Analysing One of the top viewed and subscribed channel in Youtube.\n",
    "\n",
    "MR.Beast is 2nd most subscibed channel in Youtube. \n",
    "\n",
    "![mrbeast.jpg](attachment:mrbeast.jpg)\n",
    "\n",
    "Answering questions like\n",
    "\n",
    "1. Top 10 most viewed, Liked, Commented videos in the channel?\n",
    "2. Which day does the youtuber uploaded most videos?\n",
    "3. Which time does the youtuber uploaded most of the videos?\n",
    "4. Any relation between views vs duration?\n",
    "5. In which year did the youtuber uploaded most videos?\n",
    "6. Trend of views vs years?\n",
    "8. Relation between Likes vs Views Vs Duration?\n"
   ]
  },
  {
   "cell_type": "code",
   "execution_count": 832,
   "id": "6acb1e3b",
   "metadata": {},
   "outputs": [],
   "source": [
    "from googleapiclient.discovery import build\n",
    "import pandas as pd"
   ]
  },
  {
   "cell_type": "code",
   "execution_count": 833,
   "id": "b26af4ce",
   "metadata": {},
   "outputs": [],
   "source": [
    "channelid = 'UCX6OQ3DkcsbYNE6H8uQQuVA'"
   ]
  },
  {
   "cell_type": "code",
   "execution_count": 834,
   "id": "68aa5b2d",
   "metadata": {},
   "outputs": [
    {
     "data": {
      "text/plain": [
       "<googleapiclient.discovery.Resource at 0x28294d0c210>"
      ]
     },
     "execution_count": 834,
     "metadata": {},
     "output_type": "execute_result"
    }
   ],
   "source": [
    "youtube = build('youtube','v3',developerKey = api_key)\n",
    "youtube"
   ]
  },
  {
   "cell_type": "code",
   "execution_count": 835,
   "id": "d2b35ce1",
   "metadata": {},
   "outputs": [],
   "source": [
    "def get_channel_stats(youtube, channelid):\n",
    "    all_data =[]\n",
    "    request = youtube.channels().list(\n",
    "        part=\"snippet,contentDetails,statistics\",\n",
    "        id=channelid\n",
    "    )\n",
    "    response = request.execute()\n",
    "    for item in response['items']:\n",
    "        data = {'channelName': item['snippet']['title'],\n",
    "        'subscribers': item['statistics']['subscriberCount'],\n",
    "        'views': item['statistics']['viewCount'],\n",
    "        'totalVideos': item['statistics']['videoCount'],\n",
    "        'playlistId': item['contentDetails']['relatedPlaylists']['uploads']\n",
    "        }\n",
    "\n",
    "    all_data.append(data)\n",
    "\n",
    "    return pd.DataFrame(all_data)"
   ]
  },
  {
   "cell_type": "code",
   "execution_count": 836,
   "id": "5f0d6ac3",
   "metadata": {},
   "outputs": [
    {
     "data": {
      "text/html": [
       "<div>\n",
       "<style scoped>\n",
       "    .dataframe tbody tr th:only-of-type {\n",
       "        vertical-align: middle;\n",
       "    }\n",
       "\n",
       "    .dataframe tbody tr th {\n",
       "        vertical-align: top;\n",
       "    }\n",
       "\n",
       "    .dataframe thead th {\n",
       "        text-align: right;\n",
       "    }\n",
       "</style>\n",
       "<table border=\"1\" class=\"dataframe\">\n",
       "  <thead>\n",
       "    <tr style=\"text-align: right;\">\n",
       "      <th></th>\n",
       "      <th>channelName</th>\n",
       "      <th>subscribers</th>\n",
       "      <th>views</th>\n",
       "      <th>totalVideos</th>\n",
       "      <th>playlistId</th>\n",
       "    </tr>\n",
       "  </thead>\n",
       "  <tbody>\n",
       "    <tr>\n",
       "      <th>0</th>\n",
       "      <td>MrBeast</td>\n",
       "      <td>205000000</td>\n",
       "      <td>35811268534</td>\n",
       "      <td>762</td>\n",
       "      <td>UUX6OQ3DkcsbYNE6H8uQQuVA</td>\n",
       "    </tr>\n",
       "  </tbody>\n",
       "</table>\n",
       "</div>"
      ],
      "text/plain": [
       "  channelName subscribers        views totalVideos                playlistId\n",
       "0     MrBeast   205000000  35811268534         762  UUX6OQ3DkcsbYNE6H8uQQuVA"
      ]
     },
     "execution_count": 836,
     "metadata": {},
     "output_type": "execute_result"
    }
   ],
   "source": [
    "get_channel_stats(youtube, channelid)"
   ]
  },
  {
   "cell_type": "code",
   "execution_count": 837,
   "id": "0002c751",
   "metadata": {},
   "outputs": [],
   "source": [
    "video_ids = []\n",
    "def get_video_ids(youtube, playlist_id):\n",
    "    #video_ids = []\n",
    "    request = youtube.playlistItems().list(\n",
    "    part='contentDetails',\n",
    "    playlistId = playlist_id,\n",
    "    maxResults = 50)\n",
    "    response = request.execute()\n",
    "    for item in response['items']:\n",
    "          video_ids.append(item['contentDetails']['videoId'])\n",
    "    next_page_token = response.get('nextPageToken')\n",
    "    while next_page_token is not None:\n",
    "        request = youtube.playlistItems().list(\n",
    "             part='contentDetails',\n",
    "             playlistId = playlist_id,\n",
    "             maxResults = 50,\n",
    "             pageToken = next_page_token)\n",
    "        response = request.execute()\n",
    "        for item in response['items']:\n",
    "             video_ids.append(item['contentDetails']['videoId'])\n",
    "        next_page_token = response.get('nextPageToken')\n",
    "    return video_ids"
   ]
  },
  {
   "cell_type": "code",
   "execution_count": 838,
   "id": "252b1831",
   "metadata": {},
   "outputs": [
    {
     "data": {
      "text/plain": [
       "['QjvpjXdgugA',\n",
       " 'jGAJCAuV3pQ',\n",
       " 'c0v8OPItCOg',\n",
       " '3ryID_SwU5E',\n",
       " 'IemzxkkzI5s',\n",
       " '3OFj6l2tQ9s',\n",
       " 'bvlFjrcpD6s',\n",
       " 'AZlBZuS4hr0',\n",
       " 'Gx6VeIIbWwM',\n",
       " 'CAOY8EKH1qU',\n",
       " 'IQxea9UB1nQ',\n",
       " 'KrLj6nc516A',\n",
       " 'zgLhCT7aFCA',\n",
       " 'L5kIXRdwGAI',\n",
       " '19NmWqv4Alk',\n",
       " 'vBpQ1SlfVtU',\n",
       " 'NnNZLCl78Ao',\n",
       " 'NTZhwAldqwg',\n",
       " 'J_z-W4UVHkw',\n",
       " 'mKIhHNznt4s',\n",
       " 'jObOjhUkf50',\n",
       " 'O3YVBJ2n5xg',\n",
       " 'yhB3BgJyGl8',\n",
       " 'CP82DAKzL1U',\n",
       " 'fuhE6PYnRMc',\n",
       " 'stUofW3whpE',\n",
       " '48h57PspBec',\n",
       " 'ooAwCOP67GQ',\n",
       " 'FM7Z-Xq8Drc',\n",
       " 'WTOm65IZneg',\n",
       " '8kggT2ej-lo',\n",
       " 'GGBy50KtvRk',\n",
       " 'Y4-gFIfGXiQ',\n",
       " '1WEAJ-DFkHE',\n",
       " 'Y0cBiGUuB1Y',\n",
       " 'YLt73w6criQ',\n",
       " 'lglIQkCHO0g',\n",
       " 'TJ2ifmkGGus',\n",
       " '7IKab3HcfFk',\n",
       " 'h5NvTTOlOtI',\n",
       " 'se50viFJ0AQ',\n",
       " '0CTp1a-aCUM',\n",
       " 'FD-0KG-h2-c',\n",
       " 'kX3nB4PpJko',\n",
       " 'YlvcFJOE-OE',\n",
       " 'iogcY_4xGjo',\n",
       " 'S_CUEOBZ0P4',\n",
       " 'gHzuabZUd6c',\n",
       " '65fN_OUawjk',\n",
       " 'jdMNoQE3mIQ',\n",
       " '2isYuQZMbdU',\n",
       " 'tVWWp1PqDus',\n",
       " 'vaIgyRoUkQI',\n",
       " 'Hwybp38GnZw',\n",
       " 'hD1YtmKXNb4',\n",
       " 'LnlKwzc_TNA',\n",
       " '3jS_yEK8qVI',\n",
       " '00NgUctWoLQ',\n",
       " 'x9TQ6culXIA',\n",
       " 'QbJJwaVdgIs',\n",
       " '0e3GPea1Tyg',\n",
       " 'cV2gBU6hKfY',\n",
       " 'qIsgdOVGA04',\n",
       " 'cExLQ1o2pDw',\n",
       " 'uocETPj4Jx4',\n",
       " 'zxYjTTXc-J8',\n",
       " 'hxwpkM5w3Cc',\n",
       " 'ktyJIj6i4Qw',\n",
       " 'urtFrxDUV6c',\n",
       " 'nM89Wl03Q4g',\n",
       " 'NZlClr_ivb4',\n",
       " 'E6E22XQPhhg',\n",
       " 'TQHEJj68Jew',\n",
       " 'WcwGleN38zE',\n",
       " 'fMfipiV_17o',\n",
       " 'ayXxwJJId_c',\n",
       " '9bqk6ZUsKyA',\n",
       " 'DuQbOQwVaNE',\n",
       " 'vJH28ICkCdU',\n",
       " '_uwNDiU04zE',\n",
       " 'C680oxL__ck',\n",
       " '5Fg9oZk-5uA',\n",
       " 'PKtnafFtfEo',\n",
       " 'f0c7pSCoZqE',\n",
       " 'dg2Ag3e8W-Q',\n",
       " 'LeYsRMZFUq0',\n",
       " 'Dc2ZRmuH5OM',\n",
       " 'GLoeAJUcz38',\n",
       " 'SZQhgExjBvQ',\n",
       " 'IoZri9hq7z4',\n",
       " 'vp5sSqyZ5Go',\n",
       " 'AKJfakEsgy0',\n",
       " 'Vl3swga-Xrk',\n",
       " 'UE5AHE2Ypr8',\n",
       " 'TDiXxsQ0w2Q',\n",
       " 'oD155zWANQg',\n",
       " 's1ax8Tx_Jz0',\n",
       " 'NkE0AMGzpJY',\n",
       " 'FbM1yi4mMMc',\n",
       " '5V2B28OqfqM',\n",
       " 'Rj_vssRaZlQ',\n",
       " 'YQDDm9HLkV4',\n",
       " 'erQ_9yEz0ls',\n",
       " 'OAbP-V6fEVc',\n",
       " '_qAJMXfL6o0',\n",
       " '59AYXzCa-Cs',\n",
       " 'r7zJ8srwwjk',\n",
       " 'YSoJPA8-oHc',\n",
       " '5Hg_QSIJm8I',\n",
       " 'gsWPpE4Rid0',\n",
       " 'HBMmK1c44sE',\n",
       " 'oBYbxw8f5OI',\n",
       " 'AiGKBNGlzHo',\n",
       " '_mdKvblL_8s',\n",
       " 'yXWw0_UfSFg',\n",
       " 'F4Y3Pkn95GI',\n",
       " 'KSKJKLmAqpI',\n",
       " 'IYVjOfoU3uI',\n",
       " 'oI6aXhowFDY',\n",
       " 'LdMx2U5tby0',\n",
       " 'fY-LA3YaZ_M',\n",
       " '0hVZOJCYBBM',\n",
       " 'Z9WQy9jEY8M',\n",
       " 'bs0SWXbty18',\n",
       " 'yeqARWqjkps',\n",
       " 'wMuYiLby3-s',\n",
       " 'NbaWrbJDr48',\n",
       " 'sfv1QaRzJg8',\n",
       " 'RwnN2FVaHmw',\n",
       " 'X1jMMFOqxEw',\n",
       " 'ORUX1lHbOa8',\n",
       " 'LU_xVr4b2qM',\n",
       " 'tQ4m4zD7BBA',\n",
       " 'D9lVNzyhYnc',\n",
       " 'jokVbbLqV_E',\n",
       " 'HPJKxAhLw5I',\n",
       " 'Ims5p6wjW9s',\n",
       " 'anFxsa5jXrE',\n",
       " 'QxGVgXf_LNk',\n",
       " 'al6130OD1Ck',\n",
       " 'd1010B3sKNQ',\n",
       " 'NS3hse9ezik',\n",
       " 'npDey6_9YRs',\n",
       " '0NGWT9COcEI',\n",
       " '3LLnjRLrvLU',\n",
       " 'bTrV5v7GLcQ',\n",
       " 'lBYC4_Lccjw',\n",
       " 'gL6iSCSHjco',\n",
       " 'UQtltNZ_pjs',\n",
       " '0DaMUhgcAqo',\n",
       " 'TOcGSwJBPMQ',\n",
       " 'ws694xrKopA',\n",
       " 'UtnsWzaoRtg',\n",
       " '6wsFjjhZPJI',\n",
       " 'Rmf6T_Ewt38',\n",
       " 'n6qc4LHN2KQ',\n",
       " '2eFSU7TFOnk',\n",
       " 'RCvnytndd9c',\n",
       " 'AA-VpIj8F5Y',\n",
       " 'fWcSBWadolA',\n",
       " 'YyhKdOCwD7s',\n",
       " 'ha4tRQwKIUg',\n",
       " 'xRwy_rKc7gI',\n",
       " 'H1WBdh56Vq4',\n",
       " 'xhIYirjB4Yc',\n",
       " 'HfJMs4mrSJM',\n",
       " 'tYHTVjfShOA',\n",
       " 'JTQcIR2ZxU4',\n",
       " 'xpNeg0hPZIs',\n",
       " '9yrdFAJUSaU',\n",
       " 'i2O6GMpNWGo',\n",
       " 'Y6jC6VaO3j0',\n",
       " 'Ooke4YZv8Ts',\n",
       " 'ZV7rU6lnAKQ',\n",
       " 'iUzi5JmJNWc',\n",
       " '9cCpZl8euLI',\n",
       " 'I046_n20d3s',\n",
       " '2nd73lyvq4w',\n",
       " 'nuM0Z4a7kMs',\n",
       " 'qPBtTPJHS0Q',\n",
       " 'A-vX1AGBGsc',\n",
       " 'IiW2smvEcBM',\n",
       " 'q6Qw8mUVTrE',\n",
       " 'dBxOYE2j55U',\n",
       " '984NGLLYDUg',\n",
       " '7zi0bi-RDj4',\n",
       " 'XaxhLbxZ13k',\n",
       " 'L8nh1wuXTbI',\n",
       " '9-HphHIJS9c',\n",
       " 'rPXmbM2UEbU',\n",
       " 'sESRuTyfsEk',\n",
       " 'QapO3maXd9k',\n",
       " '71VpdDb8e6U',\n",
       " 'Su34c5Z8DW4',\n",
       " 'e5DqdX-7_g4',\n",
       " '9vB-48kHbBU',\n",
       " '3ix_gbcubTo',\n",
       " 'mGIpOtncmSM',\n",
       " 'VqnQ-0q2gb4',\n",
       " '3TflpIllQHY',\n",
       " '1SwVSTKFCsc',\n",
       " 'ZPuEUe_8SRM',\n",
       " 'gKVZz4kcuns',\n",
       " 'nywT2SenPIo',\n",
       " 'xBP9EUQIkNs',\n",
       " 'qZNxvnQv0h4',\n",
       " 'uE6gud1voDs',\n",
       " 'f0M64XpmTz8',\n",
       " 'Gz3yak1cl-8',\n",
       " '9GD6hbqu2oM',\n",
       " 'GUWGsIVEMSQ',\n",
       " 'wDqJZ_2ZA3A',\n",
       " 'RywkkwO78m8',\n",
       " 'P4qWhSZ7_WA',\n",
       " 'UlUcwJc5nBs',\n",
       " 'qAW6CE7_bFM',\n",
       " 'tBEBc4KQVsU',\n",
       " 'q0OK-zHnvnA',\n",
       " 'bFZdU9dr4OM',\n",
       " 'nd-bwvNB7YA',\n",
       " '6_im_hGxGRk',\n",
       " 'b91vrgVY-ZQ',\n",
       " '52ubXjlVzUY',\n",
       " 'XHb7g6yuGgE',\n",
       " 'rH1D_3G56DY',\n",
       " '-0zoWMSEOGg',\n",
       " 'WRzIuC2MKOU',\n",
       " 'foLlul8Tl3E',\n",
       " '3iaDrpKdaIc',\n",
       " 'qrIh-ZHN4-E',\n",
       " 'mpZWt5pGKZ8',\n",
       " 'vbph9F_pRNI',\n",
       " 'XE9pUM9MEFA',\n",
       " 'wbzD04leeLI',\n",
       " 'MC5h-ShR-S8',\n",
       " 'dp8IaLrZpGs',\n",
       " '97Gh93Daio0',\n",
       " 't4OumncEiKo',\n",
       " 'Ejou8aa5eZk',\n",
       " 'ehEuczQUh8E',\n",
       " 'uBC7805Smsg',\n",
       " 'd8pJkuSp1iI',\n",
       " 'dFr5YQaQQdo',\n",
       " 'xBLxMfO3pDw',\n",
       " 'd7QmQtNwhcU',\n",
       " 'NZR4WEjpOQg',\n",
       " 'vETSAZgfDP4',\n",
       " 'zE3FLbpu9-Q',\n",
       " 'Izmibu7dxcs',\n",
       " '2Pvt8awds44',\n",
       " 'n9BbAfbsyj0',\n",
       " 'WZ2rYlVxt4g',\n",
       " 'CWK6an4mYL0',\n",
       " 'VwWV4JelEzY',\n",
       " 'koRKIlRQj4g',\n",
       " 'XKFKPQHdWRI',\n",
       " 'yuGEB4ZZdUQ',\n",
       " 'sg_XFT4K3N4',\n",
       " 'szt8xabJoSo',\n",
       " 'Fbl3E_XCQfA',\n",
       " 'Pe3pGsCeYXg',\n",
       " 'yzGmnjDFuZE',\n",
       " 'op0N7axawJA',\n",
       " 'l_huIWJBhJM',\n",
       " '7ALCsEyn3mg',\n",
       " 'CvMRiR4k49Y',\n",
       " 'g2rbhIB-ITM',\n",
       " 'nLpqZEAFnkE',\n",
       " 'sirrTXiPFmw',\n",
       " 'nRkwuTOESCc',\n",
       " 'AS6WMS_Bemg',\n",
       " 'wMn8d7IeCYM',\n",
       " 'BMZP4CtphaU',\n",
       " 'ln9aLVd__8w',\n",
       " '93s1JECSy60',\n",
       " 'YR6Wh2Zy9jE',\n",
       " '5PCxQSMOl3o',\n",
       " '5qzAVMe_SnM',\n",
       " 'P5h-SO_sByE',\n",
       " 'zAAXW7ySu1k',\n",
       " 'sx5k8xd_VoU',\n",
       " 'uotb9ZHnI2g',\n",
       " 'nPlqRbVFBHI',\n",
       " '_FX6rml2Yjs',\n",
       " 'kupaqq-xJ_8',\n",
       " 'Er6QUQZbv0w',\n",
       " '4KVmSG6KS2k',\n",
       " 'Lx9fRu5ehFo',\n",
       " 'KcsRxHwGz7A',\n",
       " 'ZJwX2jTXWwQ',\n",
       " 'N_GMakKf7G4',\n",
       " '63gyUQ_JeOE',\n",
       " 'IZVbzNRUlQI',\n",
       " '8D3vI1615K4',\n",
       " 'igVcy5dtN80',\n",
       " 'dEOlvTqYUNo',\n",
       " 'AS5CxLCWq-Q',\n",
       " 'jtOalDNVrKM',\n",
       " 'dDYP56hEYF0',\n",
       " 'pJSbLk-Iixc',\n",
       " 'iengNekeTNo',\n",
       " 'rqUvnLPvbrM',\n",
       " '9CVwXBYVqVk',\n",
       " 'i8pmk5xnO2s',\n",
       " 'xWcldHxHFpo',\n",
       " 'YH1-fDzHHpo',\n",
       " 'ntlG5XgYg4k',\n",
       " 'Qy17S3g8ZuY',\n",
       " 'PJyWmlWNor8',\n",
       " 'KzwTYZ2W3ZA',\n",
       " '9fa_JYTPZ2Y',\n",
       " 't1BWMa8btIw',\n",
       " '2O8wta4FsD4',\n",
       " 'dSDBr0WjrwQ',\n",
       " 'DbC9CauTXoM',\n",
       " 'yhNcDBnQsEY',\n",
       " 'Wyyqz3OxB5c',\n",
       " 'KO8B2kw_Jxs',\n",
       " 'NEDPgQYhbqs',\n",
       " 'DpIvW6av0pI',\n",
       " 'RPcXg2-0ejw',\n",
       " 'jhYG5BStQSk',\n",
       " 'wTIPpjUgAFE',\n",
       " 'Fzh65vCyHWQ',\n",
       " 'vBp0bzVr09s',\n",
       " 'AXjdI_LHWJU',\n",
       " 'dJCsc_Cq9i4',\n",
       " 'bqpKlkPpT10',\n",
       " 'TIIU1ivhLKs',\n",
       " 'G4qOiwIE_o0',\n",
       " 'yozl6enFC-w',\n",
       " 'LP_mGU3CgXk',\n",
       " 'DoIQMkoYSzw',\n",
       " 'e-If_d_bzfI',\n",
       " '5J6-5g2alp8',\n",
       " 'qjGNBluF6_I',\n",
       " 'TLoDwqQF5ug',\n",
       " 'uAFGIQPWL54',\n",
       " 'SaDDjW9Rw-M',\n",
       " 'CHdy9wND1jo',\n",
       " '9LiS_3HEErU',\n",
       " 'hRj5qNfkdO0',\n",
       " 'ocruJKe2tFk',\n",
       " 'MgRMNzKknto',\n",
       " 'tqO3_AKC5Ks',\n",
       " 'XW1TsAVdXsw',\n",
       " 'Qhdj_Umh1IE',\n",
       " 'fN_RQFqaGHI',\n",
       " 'hC3xW8xeCDs',\n",
       " 'xGJEPTCw9GU',\n",
       " 'FmjsePPBbdU',\n",
       " 'lMLEcUXz6T8',\n",
       " 'BKJy7BFP3Is',\n",
       " '1gfgZhW3YgU',\n",
       " 'VXmKt_1T0QM',\n",
       " '6XCUHLhdnEY',\n",
       " 'ttWTSskmxTA',\n",
       " '5bCyFf8lSfk',\n",
       " 'ngVEpJs5A5s',\n",
       " 'zjC48c3ptt0',\n",
       " 'rS2sntC-lJI',\n",
       " 'fG1N5kzeAhM',\n",
       " 'vT_gRRMjDi0',\n",
       " 'dfcPUqiivDY',\n",
       " 'zCR6DJX7Kak',\n",
       " '4cX-w-ia0RU',\n",
       " '2nVjy-zd65Q',\n",
       " 'xlzpD4GeBW0',\n",
       " '8ZTy3K2QgOY',\n",
       " 'k9zko79_3_I',\n",
       " 'fYnPyLfxSJg',\n",
       " 'pBH_QL4JGcI',\n",
       " '1wtFD9zSQO8',\n",
       " 'VqhjiwmGNKA',\n",
       " 'EhZ9gHZOZT8',\n",
       " 'LHtkve6-O0g',\n",
       " 'm3Ol8zn7brk',\n",
       " 'qBiZA4QDsj0',\n",
       " 'NeOrh4GnPZ4',\n",
       " 'fWhfOAuOqjY',\n",
       " '9Ax56oRhcZc',\n",
       " '-cWVrFABWHw',\n",
       " 'z7qtJAAV5d0',\n",
       " '9pk-neTrDoM',\n",
       " 'JQscW6DfNZY',\n",
       " '9smE_EiKJ8Q',\n",
       " 'hfaPkoXeYfU',\n",
       " 'u0hHxeWkB_o',\n",
       " '64WGWubQO3I',\n",
       " 'QJUs6CSRCFU',\n",
       " 'Om4c4ilT_6g',\n",
       " 'GbOfxRfHdeg',\n",
       " 'yzxYCRDcGDs',\n",
       " 'PCakYf_PnT0',\n",
       " '8nv_ltg4RAg',\n",
       " 'VvphlSvCyj8',\n",
       " 'JP3v6UxI124',\n",
       " 'jRURlbRAUhI',\n",
       " 'I_3R9YGFlHE',\n",
       " 'xjJJ_wDlc1E',\n",
       " 'cqirhwhq_qM',\n",
       " '3IQdDBwc42o',\n",
       " '_jmooGKD-KM',\n",
       " '4YHnf3YepwU',\n",
       " 'uxzBq4Y_fNw',\n",
       " 'HIhUkvAG0o4',\n",
       " 'cpI5lCaqZcQ',\n",
       " '6zQhLOw1nw8',\n",
       " 'mfvi_jgdVqE',\n",
       " 'zExxMxcoJ6A',\n",
       " 'hD_Af6W2qug',\n",
       " 'XOtTKQujlkI',\n",
       " 'dRqthQ2Mc_0',\n",
       " '8TFq_vvO_Wg',\n",
       " 'oo8ve4Ldpck',\n",
       " 'sKn8Tbp2a-4',\n",
       " 'g0IrVKXIbmE',\n",
       " '2Om2M4_Kyd0',\n",
       " 'KaaEivIqX6M',\n",
       " 'W4gBpws7Ug8',\n",
       " 'NT3EkjxO8hs',\n",
       " 'syMozMiJneM',\n",
       " 'Wt6cMjn3YLg',\n",
       " 'OEuS7fjMlMc',\n",
       " '1Pr-R2nKTY4',\n",
       " 'QqdUhn99E-s',\n",
       " '1UygJmcHUdQ',\n",
       " 'g4DAFnZcCcQ',\n",
       " 'LTr8cXAxy1I',\n",
       " 'Ow3xqv7ahXo',\n",
       " 'TRiF8PdrIP8',\n",
       " 'NFZ_MtTvwm0',\n",
       " 'Pgxi8dsUW-o',\n",
       " 'YY2-jJojnOA',\n",
       " '7Pogam71094',\n",
       " 'DL0OPJ2hahc',\n",
       " 'WwE0tR08OTU',\n",
       " '2LIJtcI4dbg',\n",
       " 'rXnaD7PU9kY',\n",
       " 'Ng_qwlvhrJo',\n",
       " 'bzIPun3cVsw',\n",
       " 'miKQkeq5sbU',\n",
       " 'Lwt_VThQIdM',\n",
       " 'P2oPACr4uuU',\n",
       " 'h-D6ukDcS9o',\n",
       " 'mY77HA20MzA',\n",
       " '4krBgDFycgY',\n",
       " 'dpUxRIqbNlc',\n",
       " 'Cp431S5z8PE',\n",
       " 'ttLYXcza4j4',\n",
       " '3-f9DEFsh4w',\n",
       " 'vuOTP206zWM',\n",
       " 'J590MYm0SY8',\n",
       " 'vGB2d5cQJpY',\n",
       " 'M94G0iKYiSM',\n",
       " 'pGYyUssWLTA',\n",
       " 'j7kM8G_AjuY',\n",
       " 'deK-My3Of0o',\n",
       " 'oB8kFFvJdhE',\n",
       " 'X9eXa-Uzuj0',\n",
       " 'GxTVDClFXuc',\n",
       " 'kGaq-Qi9hoE',\n",
       " '9zFfp3gzZ88',\n",
       " 'mM2KwBYa-u4',\n",
       " 'WAcmsAISniQ',\n",
       " 'kqUT-s3a6tU',\n",
       " 'NUVglXbGBfs',\n",
       " 'T-v4b3WtPAg',\n",
       " 'm8qGlpcfAIw',\n",
       " 'afL8tYlnrj4',\n",
       " 'uZPkMnv8b-o',\n",
       " 'qVLr6SMxvJw',\n",
       " '4AigP5OY8JE',\n",
       " 'RMoFUeBVefA',\n",
       " 'ep7S1XnuQLU',\n",
       " 'p6bzNpgbX8Y',\n",
       " '6T17licWsQ4',\n",
       " '1s6UOlWdpw4',\n",
       " '3LuchpUc7PU',\n",
       " '_f6xCA0-gAo',\n",
       " 'lfD7kMZKuNg',\n",
       " 'ejlkNGm82w4',\n",
       " 'Jtj9rUqlB1Y',\n",
       " 'ZqzFRGH_tMQ',\n",
       " '94A-bsumX9A',\n",
       " 'gYaxI_allkQ',\n",
       " 'AjXbO2XfBkE',\n",
       " 'ZQZzR0DUujc',\n",
       " '-V3-fhJQZkk',\n",
       " 'QX0wvWGW2qg',\n",
       " 'oODUkNQAzXU',\n",
       " '2jWZtKTN6jU',\n",
       " 'zsADECFHY8w',\n",
       " 'Feh8o-HmthM',\n",
       " '6Xv-LVYZQxk',\n",
       " '8-0ZHJHp9g4',\n",
       " 'QqIG0R-KpGk',\n",
       " 'qENpZBzgaUM',\n",
       " '4DYBVA4884Y',\n",
       " 'skEf9R0TXkM',\n",
       " 'CnMv_zTXZ38',\n",
       " 'bEIK5ni_Pzs',\n",
       " '_oZyp4mTzSQ',\n",
       " 'is1LSWbssuA',\n",
       " 'XR_q9_LEKuc',\n",
       " 'X9UiBpDHW3w',\n",
       " 'PRU47AuQF2M',\n",
       " 'Y3Rxgf5_R_I',\n",
       " 'R6zuvKbvKyU',\n",
       " 'yCKe65Nvp0Q',\n",
       " 'XBe57FyB2xU',\n",
       " 'zpCwHwWgbsI',\n",
       " 'lh61MVUxJt0',\n",
       " 'yWnmEPgLroQ',\n",
       " 'eBklqeeIu10',\n",
       " 'SgMydsOucFg',\n",
       " 'jPm3hRiMKuU',\n",
       " 'OweuuinkVZI',\n",
       " '7Pr0HP-Trgk',\n",
       " 'UEK0fYAqMss',\n",
       " 'lRznKN2oPUc',\n",
       " 'IDrS_TrjuK4',\n",
       " 'J1lhxfZtR3M',\n",
       " 'b_o8cz0ZNdk',\n",
       " 'i5dhcAxO25Q',\n",
       " '-o_8CDbFMJ0',\n",
       " 'v5J1Cycn3s8',\n",
       " 'YJiqYG-Mylk',\n",
       " 'jGE1sUTeR5g',\n",
       " '0tZCQ25fsoI',\n",
       " 'N9jTogPwqVY',\n",
       " 'yyJ7xEcENNI',\n",
       " '3rJgCGMPEqA',\n",
       " '7isfkomGg7o',\n",
       " 'UCYefSGBP00',\n",
       " 'dvdGkRK5a_0',\n",
       " 'X7doE4h6W64',\n",
       " 'GhppzOzN3MM',\n",
       " 'QkXDatNdL4U',\n",
       " 'hyt2t4r8lQ4',\n",
       " '-mlok5iT3GE',\n",
       " 'STvOHHgJ1sQ',\n",
       " '2-ErX5oDzwM',\n",
       " '7ytYV-tVIvg',\n",
       " 'ELIoOUKSOJQ',\n",
       " 'uAoayezOaug',\n",
       " 'Vr2337tCLCI',\n",
       " 'NV7qmqbS8tM',\n",
       " 'U9c-ycvw02A',\n",
       " 'GfgcVOuHLAo',\n",
       " 'zi7tZ-2PhLk',\n",
       " 'TacjQmKCiZg',\n",
       " 'AIytwdufwW8',\n",
       " 'KLAI0c0Spog',\n",
       " 'UVin8WtE5eU',\n",
       " 'wNuxirsrwBk',\n",
       " '6bxZpS0cm5o',\n",
       " 'ajJbMGq9AS4',\n",
       " 'UXw9jqgJNNc',\n",
       " 'E3CqKvlzl-I',\n",
       " 'zfDr05ax0gM',\n",
       " '56OkH6ocYZU',\n",
       " 'w40Z8aT5fpQ',\n",
       " 'zgDezsMQyyU',\n",
       " 'UEwnitHoSDw',\n",
       " '__SaaKSW9iE',\n",
       " 'qWnyJ55KBKo',\n",
       " '52awie9G00A',\n",
       " 'bB99NdUoxEQ',\n",
       " '7GjSaNi8Epg',\n",
       " 'h5uE4ERMiTk',\n",
       " 'umRLkCrmwcs',\n",
       " 'rHoLyltYDtQ',\n",
       " 'yeHjsYQ076A',\n",
       " 'pqrdPu2ESFo',\n",
       " 'ywZy_Fo2ydo',\n",
       " 'qr4v9pdfVlU',\n",
       " 'hgiPX33AHas',\n",
       " 'oZ-Mn5p1xMw',\n",
       " '5UPa_hu5opg',\n",
       " 'zv_oq5UNDAo',\n",
       " 'NiqkH7qVW0U',\n",
       " 'boBokLXe5o8',\n",
       " '7YOzgk-U4EU',\n",
       " 'prdSftLj9-g',\n",
       " 'pzlPJmNyepA',\n",
       " 'QNoqAnJOSqU',\n",
       " 'kzIA4vKyhRQ',\n",
       " 'DfonKqMENrg',\n",
       " 'MUQCwdkEbq0',\n",
       " 'JlUzoQN9FWw',\n",
       " '0VjLq-go1fg',\n",
       " 'uCIpW9zOmgI',\n",
       " 'Z0Poefgrs4w',\n",
       " 'MLN6TRB9Jxw',\n",
       " 'vZrL_FFITgs',\n",
       " 'L7lGD_anC00',\n",
       " 'xu1nhAfnMGA',\n",
       " 'D1livXdFGkQ',\n",
       " 'bwp_3qLgWpQ',\n",
       " 'tZpnfF0-7Ls',\n",
       " 'BwAMltY3-c0',\n",
       " '7HBR3Ea72CY',\n",
       " 'Ds9H2UnUHL0',\n",
       " 'iqUFeWAVp-0',\n",
       " 'W2skFWRk6qo',\n",
       " 'X_qd-1xSTFA',\n",
       " 'VWa0ImMY2bQ',\n",
       " 'fEcASr38n2E',\n",
       " 'udmf5MQLNGA',\n",
       " '0dg2eR2NSQ0',\n",
       " '6BNOWeYFyP8',\n",
       " 'LDegY-H60_U',\n",
       " 'D51HaR-XvgM',\n",
       " 'Rio7r_vLUEo',\n",
       " '8E5Ygl02wtM',\n",
       " 'moMJjt5KECc',\n",
       " 'OffgqPzDi7Q',\n",
       " 'B_7uD3B62MM',\n",
       " 'bA20RJcegOI',\n",
       " 'NbHwVDt9Rjk',\n",
       " 'VzsE09KjpKA',\n",
       " 'HduubRTdko4',\n",
       " 'qFOGv5zuTdw',\n",
       " 'u6t4jrhs56Q',\n",
       " '460GXJiGCEs',\n",
       " 'ZiuoOcj2eLY',\n",
       " 'LYK6SPMtJ_Y',\n",
       " '2ljWxaMvE_0',\n",
       " 'rSuuQ_s8gOw',\n",
       " 'vKKhX-Uyggw',\n",
       " 'EAwXH82m-6A',\n",
       " 'U_07AG_CR5A',\n",
       " 'Xe0AGtF5aNU',\n",
       " 'NCv0drAPm_M',\n",
       " 'HuLAAXZXIy0',\n",
       " 'pV7UcYW1OwA',\n",
       " 'x4IXCimma-s',\n",
       " 'anZbhN0Wh_4',\n",
       " '3Q3pQmzWyZM',\n",
       " 'BqS4iVHa-LU',\n",
       " 'zX04jQFKCpo',\n",
       " 'G7Y9ban7b0U',\n",
       " 'EMVvA5Cr0fY',\n",
       " 'e14MroQ5k_s',\n",
       " 'CuzdxsOXEZ8',\n",
       " '67Wj-0OyKOM',\n",
       " 'LWstCINhd8g',\n",
       " 'dg6iqLCPizs',\n",
       " 'cRPldarzw-M',\n",
       " '-rdYtmUejSE',\n",
       " 'tusuuI7MEJU',\n",
       " 'XDe5f8BEvwY',\n",
       " 'BtCGABBPH9s',\n",
       " 'KJ_C_NSl0P8',\n",
       " 'LI8nWXeYtOs',\n",
       " 'LMe7k8I082w',\n",
       " 'h77pHTSPSiw',\n",
       " 'JUiijjJOInw',\n",
       " 'gpbY6zCEBv4',\n",
       " 'Kgu2ApayYvI',\n",
       " 'S9PIukDRcvk',\n",
       " 'lrw3zkGS9Vc',\n",
       " 'IQYW_lVBYGo',\n",
       " 'iOjxpow6jow',\n",
       " 'GdD2pqAdjXY',\n",
       " 'nmHCmLVLxcU',\n",
       " 'TZPlDuYrcDQ',\n",
       " 'Oub4nMrNTqQ',\n",
       " 'h5Z36IuyrKc',\n",
       " '2IGxSOfsBok',\n",
       " 'ZxkLCq49Tvk',\n",
       " 'smDPnIdlkhM',\n",
       " 'DjMYkWCEan8',\n",
       " '3nn_skHgkqI',\n",
       " 'A8IkOqb_7Yg',\n",
       " 'hHl_YMivv3c',\n",
       " '7mLSbgyjM0g',\n",
       " 'TGKkMl17Htg',\n",
       " 'Qw3eFnsSdlQ',\n",
       " 'KcNCJ1mgt14',\n",
       " 'A4lp4FRCo6o',\n",
       " 'WYKZz3Zygdc',\n",
       " '5U2fmvh9_Is',\n",
       " 'xvIpibLjs5k',\n",
       " 'jlpAON0ePME',\n",
       " 'sfp0a6zDoNQ',\n",
       " 'RaDRWNz3Al4',\n",
       " 'Ms9MGkEm4mg',\n",
       " '90wWStXJX5c',\n",
       " 'ruSVy-u2DzM',\n",
       " 'pP1KMQb51GA',\n",
       " 'dPxAFqs2eYE',\n",
       " 'p-KVD5rA_Cw',\n",
       " 'JdCgkcb1iwQ',\n",
       " '7anhkLPRk-A',\n",
       " 'XVMY7B3AzWM',\n",
       " 'QXag-irFHxE',\n",
       " 'vBEGODNmdas',\n",
       " 'v3tbnlc5cfo',\n",
       " 'ObYLL97-SBA',\n",
       " 'IaR7P4-wFK8',\n",
       " 'v1ELS84GQu8',\n",
       " 'ctJORnOjbrQ',\n",
       " '-hrPQFaDVKQ',\n",
       " 'bIZ5_L1ru2w',\n",
       " 'yyssjJEJMt4',\n",
       " '2bwPntvb90U',\n",
       " 'Wz1VHTZq16c',\n",
       " 'Cs-kyTJso-A',\n",
       " 'jkqd-oc0F00',\n",
       " 'mVkT6Cd9SoI',\n",
       " 'rffyxTTNkyk',\n",
       " 'OOesLeO6-pc',\n",
       " 'Q5lcjP6XlHw',\n",
       " 'sE3ZZmYotSs',\n",
       " 'pUwUAtmBKxw',\n",
       " 'p5rGgPZtjDw',\n",
       " 'bWDmDsdvoBs',\n",
       " 'OJA1QK-j-Oo',\n",
       " 'KL1X8NsVGd0',\n",
       " 'q2HoSwCMcZw',\n",
       " 'RRknlgRqOds',\n",
       " 'j93M46a-W3U',\n",
       " 'uqjfMNEWNIg',\n",
       " 'X-g9aT2wFjM',\n",
       " 'pHKlrJeKmjA',\n",
       " 'C82suucz4i4',\n",
       " 'H_DYlka7QAQ',\n",
       " 'ov0KQthQ50U',\n",
       " 'MC-7ziNt_U4',\n",
       " 'PNsF1Uh5yP8',\n",
       " '9Y2sAtN5yRs',\n",
       " '-z349CGAOXs',\n",
       " 'pl4xmh3RWfE',\n",
       " '6z5RwrvnH28',\n",
       " 'ivdQqobHDPc',\n",
       " 'uUIlb2rpIuY',\n",
       " 'Ros1PpcO5Js',\n",
       " 'KYv1nqutbK0',\n",
       " '7Yi-ctyTNU4',\n",
       " 'VN2-3OfUzd8',\n",
       " '-2IFrMOM36w',\n",
       " '7dIFHQkrASM',\n",
       " 'QicO1Gd0kvU',\n",
       " 'yFfcsmK2TOA',\n",
       " 'Jl0-6tbNGBo',\n",
       " 'IAbX0FwX-GY',\n",
       " 'XKSJRulqDNA',\n",
       " 'jysfHFHNjYQ',\n",
       " 'Yox25V8Qsm4',\n",
       " 'clcN3OA8SNw',\n",
       " 'm3lTwO0aNyw',\n",
       " 'gchqnwXlxJw',\n",
       " 'atCPtw4dg7g',\n",
       " 't8aM4HuVLrQ',\n",
       " 'M82VAcabSiA',\n",
       " '7qj3nuF9Dzw',\n",
       " 'Y74b7WlcEpk',\n",
       " 'Z8nEEdXTaX0',\n",
       " 'jP82d277Cc8',\n",
       " '2XVcLrB7B3Y']"
      ]
     },
     "execution_count": 838,
     "metadata": {},
     "output_type": "execute_result"
    }
   ],
   "source": [
    "get_video_ids(youtube, 'UUX6OQ3DkcsbYNE6H8uQQuVA')\n"
   ]
  },
  {
   "cell_type": "code",
   "execution_count": 839,
   "id": "0c82597b",
   "metadata": {},
   "outputs": [],
   "source": [
    "def get_video_details(youtube,video_ids):\n",
    "    video_details = []\n",
    "    for i in range(0, len(video_ids), 50):\n",
    "        request = youtube.videos().list(\n",
    "                 part=\"snippet,contentDetails,statistics\",\n",
    "                 id=','.join(video_ids[i:i+50])\n",
    "        )\n",
    "        response = request.execute()\n",
    "        for item in response['items']:\n",
    "            \n",
    "            data = {\n",
    "                'Title':item['snippet']['title'],\n",
    "                'Video Id':item['id'],\n",
    "                'Published At':item['snippet']['publishedAt'],\n",
    "                'Description':item['snippet']['description'],\n",
    "                'Duration':item['contentDetails']['duration'],\n",
    "                'Views':item['statistics']['viewCount'],\n",
    "                #'Comments':item['statistics']['commentCount']\n",
    "            }\n",
    "            if 'likeCount' in item['statistics']:\n",
    "                data['Likes'] = item['statistics']['likeCount']\n",
    "            else:\n",
    "                data['Likes'] = 0  \n",
    "            if 'commentCount' in item['statistics']:\n",
    "                data['Comments'] = item['statistics']['commentCount']\n",
    "            else:\n",
    "                data['Comments'] = 0  \n",
    "            video_details.append(data)\n",
    "            vdDetails = pd.DataFrame(video_details)\n",
    "    return vdDetails"
   ]
  },
  {
   "cell_type": "code",
   "execution_count": 840,
   "id": "39c5247e",
   "metadata": {},
   "outputs": [],
   "source": [
    "df = get_video_details(youtube,video_ids)"
   ]
  },
  {
   "cell_type": "code",
   "execution_count": 841,
   "id": "437b8422",
   "metadata": {},
   "outputs": [
    {
     "data": {
      "text/html": [
       "<div>\n",
       "<style scoped>\n",
       "    .dataframe tbody tr th:only-of-type {\n",
       "        vertical-align: middle;\n",
       "    }\n",
       "\n",
       "    .dataframe tbody tr th {\n",
       "        vertical-align: top;\n",
       "    }\n",
       "\n",
       "    .dataframe thead th {\n",
       "        text-align: right;\n",
       "    }\n",
       "</style>\n",
       "<table border=\"1\" class=\"dataframe\">\n",
       "  <thead>\n",
       "    <tr style=\"text-align: right;\">\n",
       "      <th></th>\n",
       "      <th>Title</th>\n",
       "      <th>Video Id</th>\n",
       "      <th>Published At</th>\n",
       "      <th>Description</th>\n",
       "      <th>Duration</th>\n",
       "      <th>Views</th>\n",
       "      <th>Likes</th>\n",
       "      <th>Comments</th>\n",
       "    </tr>\n",
       "  </thead>\n",
       "  <tbody>\n",
       "    <tr>\n",
       "      <th>0</th>\n",
       "      <td>World’s Deadliest Laser Maze!</td>\n",
       "      <td>QjvpjXdgugA</td>\n",
       "      <td>2023-10-28T15:59:59Z</td>\n",
       "      <td>I can’t believe what happened at the end…\\nDri...</td>\n",
       "      <td>PT26M36S</td>\n",
       "      <td>58167606</td>\n",
       "      <td>2734717</td>\n",
       "      <td>69953</td>\n",
       "    </tr>\n",
       "    <tr>\n",
       "      <th>1</th>\n",
       "      <td>World’s Most Expensive Coffee</td>\n",
       "      <td>jGAJCAuV3pQ</td>\n",
       "      <td>2023-10-19T17:00:03Z</td>\n",
       "      <td></td>\n",
       "      <td>PT33S</td>\n",
       "      <td>47820996</td>\n",
       "      <td>3181846</td>\n",
       "      <td>14381</td>\n",
       "    </tr>\n",
       "    <tr>\n",
       "      <th>2</th>\n",
       "      <td>$100,000,000 Bathroom</td>\n",
       "      <td>c0v8OPItCOg</td>\n",
       "      <td>2023-10-17T17:00:00Z</td>\n",
       "      <td></td>\n",
       "      <td>PT50S</td>\n",
       "      <td>61729449</td>\n",
       "      <td>3763144</td>\n",
       "      <td>9968</td>\n",
       "    </tr>\n",
       "    <tr>\n",
       "      <th>3</th>\n",
       "      <td>$1 vs $100,000,000 House!</td>\n",
       "      <td>3ryID_SwU5E</td>\n",
       "      <td>2023-10-14T16:00:00Z</td>\n",
       "      <td>I can’t believe how expensive the last house i...</td>\n",
       "      <td>PT17M36S</td>\n",
       "      <td>122748023</td>\n",
       "      <td>4372148</td>\n",
       "      <td>128920</td>\n",
       "    </tr>\n",
       "    <tr>\n",
       "      <th>4</th>\n",
       "      <td>I Tipped A Pizza Delivery Driver A Car</td>\n",
       "      <td>IemzxkkzI5s</td>\n",
       "      <td>2023-10-12T17:30:03Z</td>\n",
       "      <td></td>\n",
       "      <td>PT52S</td>\n",
       "      <td>113062681</td>\n",
       "      <td>7683173</td>\n",
       "      <td>14547</td>\n",
       "    </tr>\n",
       "    <tr>\n",
       "      <th>...</th>\n",
       "      <td>...</td>\n",
       "      <td>...</td>\n",
       "      <td>...</td>\n",
       "      <td>...</td>\n",
       "      <td>...</td>\n",
       "      <td>...</td>\n",
       "      <td>...</td>\n",
       "      <td>...</td>\n",
       "    </tr>\n",
       "    <tr>\n",
       "      <th>757</th>\n",
       "      <td>Most Epic minecraft skin EVER  (Psy)</td>\n",
       "      <td>7qj3nuF9Dzw</td>\n",
       "      <td>2013-01-13T01:59:21Z</td>\n",
       "      <td>Psy in minecraft!!!   drop a like for psy's mo...</td>\n",
       "      <td>PT31S</td>\n",
       "      <td>821682</td>\n",
       "      <td>32423</td>\n",
       "      <td>3098</td>\n",
       "    </tr>\n",
       "    <tr>\n",
       "      <th>758</th>\n",
       "      <td>More birds IN MINECRAFT!!</td>\n",
       "      <td>Y74b7WlcEpk</td>\n",
       "      <td>2013-01-12T23:35:45Z</td>\n",
       "      <td>Basically what this mod does is adds more bird...</td>\n",
       "      <td>PT2M6S</td>\n",
       "      <td>952911</td>\n",
       "      <td>37779</td>\n",
       "      <td>3389</td>\n",
       "    </tr>\n",
       "    <tr>\n",
       "      <th>759</th>\n",
       "      <td>Boxy item mod Minecraft.  EPIC</td>\n",
       "      <td>Z8nEEdXTaX0</td>\n",
       "      <td>2013-01-12T22:34:11Z</td>\n",
       "      <td>At the begining i said i was mrbeast6000.... i...</td>\n",
       "      <td>PT1M30S</td>\n",
       "      <td>1130858</td>\n",
       "      <td>44676</td>\n",
       "      <td>4053</td>\n",
       "    </tr>\n",
       "    <tr>\n",
       "      <th>760</th>\n",
       "      <td>Harry Potter Mod In Minecraft! EPIC MUST SEE M...</td>\n",
       "      <td>jP82d277Cc8</td>\n",
       "      <td>2012-03-09T23:29:03Z</td>\n",
       "      <td>One of the coolest mods i have ever seen\\n\\nMo...</td>\n",
       "      <td>PT3M59S</td>\n",
       "      <td>4032686</td>\n",
       "      <td>0</td>\n",
       "      <td>8042</td>\n",
       "    </tr>\n",
       "    <tr>\n",
       "      <th>761</th>\n",
       "      <td>Worst Minecraft Saw Trap Ever???</td>\n",
       "      <td>2XVcLrB7B3Y</td>\n",
       "      <td>2012-02-20T22:42:32Z</td>\n",
       "      <td>This is the worst saw trap ever done in minecr...</td>\n",
       "      <td>PT2M37S</td>\n",
       "      <td>19724605</td>\n",
       "      <td>932941</td>\n",
       "      <td>112761</td>\n",
       "    </tr>\n",
       "  </tbody>\n",
       "</table>\n",
       "<p>762 rows × 8 columns</p>\n",
       "</div>"
      ],
      "text/plain": [
       "                                                 Title     Video Id  \\\n",
       "0                        World’s Deadliest Laser Maze!  QjvpjXdgugA   \n",
       "1                        World’s Most Expensive Coffee  jGAJCAuV3pQ   \n",
       "2                                $100,000,000 Bathroom  c0v8OPItCOg   \n",
       "3                            $1 vs $100,000,000 House!  3ryID_SwU5E   \n",
       "4               I Tipped A Pizza Delivery Driver A Car  IemzxkkzI5s   \n",
       "..                                                 ...          ...   \n",
       "757               Most Epic minecraft skin EVER  (Psy)  7qj3nuF9Dzw   \n",
       "758                          More birds IN MINECRAFT!!  Y74b7WlcEpk   \n",
       "759                     Boxy item mod Minecraft.  EPIC  Z8nEEdXTaX0   \n",
       "760  Harry Potter Mod In Minecraft! EPIC MUST SEE M...  jP82d277Cc8   \n",
       "761                   Worst Minecraft Saw Trap Ever???  2XVcLrB7B3Y   \n",
       "\n",
       "             Published At                                        Description  \\\n",
       "0    2023-10-28T15:59:59Z  I can’t believe what happened at the end…\\nDri...   \n",
       "1    2023-10-19T17:00:03Z                                                      \n",
       "2    2023-10-17T17:00:00Z                                                      \n",
       "3    2023-10-14T16:00:00Z  I can’t believe how expensive the last house i...   \n",
       "4    2023-10-12T17:30:03Z                                                      \n",
       "..                    ...                                                ...   \n",
       "757  2013-01-13T01:59:21Z  Psy in minecraft!!!   drop a like for psy's mo...   \n",
       "758  2013-01-12T23:35:45Z  Basically what this mod does is adds more bird...   \n",
       "759  2013-01-12T22:34:11Z  At the begining i said i was mrbeast6000.... i...   \n",
       "760  2012-03-09T23:29:03Z  One of the coolest mods i have ever seen\\n\\nMo...   \n",
       "761  2012-02-20T22:42:32Z  This is the worst saw trap ever done in minecr...   \n",
       "\n",
       "     Duration      Views    Likes Comments  \n",
       "0    PT26M36S   58167606  2734717    69953  \n",
       "1       PT33S   47820996  3181846    14381  \n",
       "2       PT50S   61729449  3763144     9968  \n",
       "3    PT17M36S  122748023  4372148   128920  \n",
       "4       PT52S  113062681  7683173    14547  \n",
       "..        ...        ...      ...      ...  \n",
       "757     PT31S     821682    32423     3098  \n",
       "758    PT2M6S     952911    37779     3389  \n",
       "759   PT1M30S    1130858    44676     4053  \n",
       "760   PT3M59S    4032686        0     8042  \n",
       "761   PT2M37S   19724605   932941   112761  \n",
       "\n",
       "[762 rows x 8 columns]"
      ]
     },
     "execution_count": 841,
     "metadata": {},
     "output_type": "execute_result"
    }
   ],
   "source": [
    "df"
   ]
  },
  {
   "cell_type": "code",
   "execution_count": 842,
   "id": "2ca99278",
   "metadata": {},
   "outputs": [
    {
     "data": {
      "text/plain": [
       "Title           False\n",
       "Video Id        False\n",
       "Published At    False\n",
       "Description     False\n",
       "Duration        False\n",
       "Views           False\n",
       "Likes           False\n",
       "Comments        False\n",
       "dtype: bool"
      ]
     },
     "execution_count": 842,
     "metadata": {},
     "output_type": "execute_result"
    }
   ],
   "source": [
    "df.isnull().any()"
   ]
  },
  {
   "cell_type": "code",
   "execution_count": 843,
   "id": "ba6bd696",
   "metadata": {},
   "outputs": [
    {
     "data": {
      "text/plain": [
       "Title           object\n",
       "Video Id        object\n",
       "Published At    object\n",
       "Description     object\n",
       "Duration        object\n",
       "Views           object\n",
       "Likes           object\n",
       "Comments        object\n",
       "dtype: object"
      ]
     },
     "execution_count": 843,
     "metadata": {},
     "output_type": "execute_result"
    }
   ],
   "source": [
    "df.dtypes"
   ]
  },
  {
   "cell_type": "code",
   "execution_count": 844,
   "id": "f661ce20",
   "metadata": {},
   "outputs": [],
   "source": [
    "numeric_cols = ['Views', 'Likes',  'Comments']\n",
    "df[numeric_cols] = df[numeric_cols].apply(pd.to_numeric,errors= 'coerce')"
   ]
  },
  {
   "cell_type": "code",
   "execution_count": 845,
   "id": "5504ee32",
   "metadata": {},
   "outputs": [
    {
     "data": {
      "text/plain": [
       "Title           object\n",
       "Video Id        object\n",
       "Published At    object\n",
       "Description     object\n",
       "Duration        object\n",
       "Views            int64\n",
       "Likes            int64\n",
       "Comments         int64\n",
       "dtype: object"
      ]
     },
     "execution_count": 845,
     "metadata": {},
     "output_type": "execute_result"
    }
   ],
   "source": [
    "df.dtypes"
   ]
  },
  {
   "cell_type": "code",
   "execution_count": 846,
   "id": "3b2f9b7e",
   "metadata": {},
   "outputs": [],
   "source": [
    "from dateutil import parser\n",
    "df['publishedAt'] = df['Published At'].apply(lambda x: parser.parse(x))\n",
    "df['publishDayName'] = df['publishedAt'].apply(lambda x: x.strftime(\"%A\"))\n",
    "df['publishTime'] = df['publishedAt'].apply(lambda x: x.strftime(\"%H\"))\n",
    "df['publishYear'] = df['publishedAt'].apply(lambda x: x.strftime(\"%Y\"))"
   ]
  },
  {
   "cell_type": "code",
   "execution_count": 847,
   "id": "7ebf415b",
   "metadata": {},
   "outputs": [],
   "source": [
    "import isodate\n",
    "df['Durations'] = df['Duration'].apply(lambda x:isodate.parse_duration(x).total_seconds()/60)\n"
   ]
  },
  {
   "cell_type": "code",
   "execution_count": 848,
   "id": "f1994644",
   "metadata": {},
   "outputs": [
    {
     "data": {
      "text/html": [
       "<div>\n",
       "<style scoped>\n",
       "    .dataframe tbody tr th:only-of-type {\n",
       "        vertical-align: middle;\n",
       "    }\n",
       "\n",
       "    .dataframe tbody tr th {\n",
       "        vertical-align: top;\n",
       "    }\n",
       "\n",
       "    .dataframe thead th {\n",
       "        text-align: right;\n",
       "    }\n",
       "</style>\n",
       "<table border=\"1\" class=\"dataframe\">\n",
       "  <thead>\n",
       "    <tr style=\"text-align: right;\">\n",
       "      <th></th>\n",
       "      <th>Title</th>\n",
       "      <th>Video Id</th>\n",
       "      <th>Published At</th>\n",
       "      <th>Description</th>\n",
       "      <th>Duration</th>\n",
       "      <th>Views</th>\n",
       "      <th>Likes</th>\n",
       "      <th>Comments</th>\n",
       "      <th>publishedAt</th>\n",
       "      <th>publishDayName</th>\n",
       "      <th>publishTime</th>\n",
       "      <th>publishYear</th>\n",
       "      <th>Durations</th>\n",
       "    </tr>\n",
       "  </thead>\n",
       "  <tbody>\n",
       "    <tr>\n",
       "      <th>0</th>\n",
       "      <td>World’s Deadliest Laser Maze!</td>\n",
       "      <td>QjvpjXdgugA</td>\n",
       "      <td>2023-10-28T15:59:59Z</td>\n",
       "      <td>I can’t believe what happened at the end…\\nDri...</td>\n",
       "      <td>PT26M36S</td>\n",
       "      <td>58167606</td>\n",
       "      <td>2734717</td>\n",
       "      <td>69953</td>\n",
       "      <td>2023-10-28 15:59:59+00:00</td>\n",
       "      <td>Saturday</td>\n",
       "      <td>15</td>\n",
       "      <td>2023</td>\n",
       "      <td>26.600000</td>\n",
       "    </tr>\n",
       "    <tr>\n",
       "      <th>1</th>\n",
       "      <td>World’s Most Expensive Coffee</td>\n",
       "      <td>jGAJCAuV3pQ</td>\n",
       "      <td>2023-10-19T17:00:03Z</td>\n",
       "      <td></td>\n",
       "      <td>PT33S</td>\n",
       "      <td>47820996</td>\n",
       "      <td>3181846</td>\n",
       "      <td>14381</td>\n",
       "      <td>2023-10-19 17:00:03+00:00</td>\n",
       "      <td>Thursday</td>\n",
       "      <td>17</td>\n",
       "      <td>2023</td>\n",
       "      <td>0.550000</td>\n",
       "    </tr>\n",
       "    <tr>\n",
       "      <th>2</th>\n",
       "      <td>$100,000,000 Bathroom</td>\n",
       "      <td>c0v8OPItCOg</td>\n",
       "      <td>2023-10-17T17:00:00Z</td>\n",
       "      <td></td>\n",
       "      <td>PT50S</td>\n",
       "      <td>61729449</td>\n",
       "      <td>3763144</td>\n",
       "      <td>9968</td>\n",
       "      <td>2023-10-17 17:00:00+00:00</td>\n",
       "      <td>Tuesday</td>\n",
       "      <td>17</td>\n",
       "      <td>2023</td>\n",
       "      <td>0.833333</td>\n",
       "    </tr>\n",
       "    <tr>\n",
       "      <th>3</th>\n",
       "      <td>$1 vs $100,000,000 House!</td>\n",
       "      <td>3ryID_SwU5E</td>\n",
       "      <td>2023-10-14T16:00:00Z</td>\n",
       "      <td>I can’t believe how expensive the last house i...</td>\n",
       "      <td>PT17M36S</td>\n",
       "      <td>122748023</td>\n",
       "      <td>4372148</td>\n",
       "      <td>128920</td>\n",
       "      <td>2023-10-14 16:00:00+00:00</td>\n",
       "      <td>Saturday</td>\n",
       "      <td>16</td>\n",
       "      <td>2023</td>\n",
       "      <td>17.600000</td>\n",
       "    </tr>\n",
       "    <tr>\n",
       "      <th>4</th>\n",
       "      <td>I Tipped A Pizza Delivery Driver A Car</td>\n",
       "      <td>IemzxkkzI5s</td>\n",
       "      <td>2023-10-12T17:30:03Z</td>\n",
       "      <td></td>\n",
       "      <td>PT52S</td>\n",
       "      <td>113062681</td>\n",
       "      <td>7683173</td>\n",
       "      <td>14547</td>\n",
       "      <td>2023-10-12 17:30:03+00:00</td>\n",
       "      <td>Thursday</td>\n",
       "      <td>17</td>\n",
       "      <td>2023</td>\n",
       "      <td>0.866667</td>\n",
       "    </tr>\n",
       "    <tr>\n",
       "      <th>...</th>\n",
       "      <td>...</td>\n",
       "      <td>...</td>\n",
       "      <td>...</td>\n",
       "      <td>...</td>\n",
       "      <td>...</td>\n",
       "      <td>...</td>\n",
       "      <td>...</td>\n",
       "      <td>...</td>\n",
       "      <td>...</td>\n",
       "      <td>...</td>\n",
       "      <td>...</td>\n",
       "      <td>...</td>\n",
       "      <td>...</td>\n",
       "    </tr>\n",
       "    <tr>\n",
       "      <th>757</th>\n",
       "      <td>Most Epic minecraft skin EVER  (Psy)</td>\n",
       "      <td>7qj3nuF9Dzw</td>\n",
       "      <td>2013-01-13T01:59:21Z</td>\n",
       "      <td>Psy in minecraft!!!   drop a like for psy's mo...</td>\n",
       "      <td>PT31S</td>\n",
       "      <td>821682</td>\n",
       "      <td>32423</td>\n",
       "      <td>3098</td>\n",
       "      <td>2013-01-13 01:59:21+00:00</td>\n",
       "      <td>Sunday</td>\n",
       "      <td>01</td>\n",
       "      <td>2013</td>\n",
       "      <td>0.516667</td>\n",
       "    </tr>\n",
       "    <tr>\n",
       "      <th>758</th>\n",
       "      <td>More birds IN MINECRAFT!!</td>\n",
       "      <td>Y74b7WlcEpk</td>\n",
       "      <td>2013-01-12T23:35:45Z</td>\n",
       "      <td>Basically what this mod does is adds more bird...</td>\n",
       "      <td>PT2M6S</td>\n",
       "      <td>952911</td>\n",
       "      <td>37779</td>\n",
       "      <td>3389</td>\n",
       "      <td>2013-01-12 23:35:45+00:00</td>\n",
       "      <td>Saturday</td>\n",
       "      <td>23</td>\n",
       "      <td>2013</td>\n",
       "      <td>2.100000</td>\n",
       "    </tr>\n",
       "    <tr>\n",
       "      <th>759</th>\n",
       "      <td>Boxy item mod Minecraft.  EPIC</td>\n",
       "      <td>Z8nEEdXTaX0</td>\n",
       "      <td>2013-01-12T22:34:11Z</td>\n",
       "      <td>At the begining i said i was mrbeast6000.... i...</td>\n",
       "      <td>PT1M30S</td>\n",
       "      <td>1130858</td>\n",
       "      <td>44676</td>\n",
       "      <td>4053</td>\n",
       "      <td>2013-01-12 22:34:11+00:00</td>\n",
       "      <td>Saturday</td>\n",
       "      <td>22</td>\n",
       "      <td>2013</td>\n",
       "      <td>1.500000</td>\n",
       "    </tr>\n",
       "    <tr>\n",
       "      <th>760</th>\n",
       "      <td>Harry Potter Mod In Minecraft! EPIC MUST SEE M...</td>\n",
       "      <td>jP82d277Cc8</td>\n",
       "      <td>2012-03-09T23:29:03Z</td>\n",
       "      <td>One of the coolest mods i have ever seen\\n\\nMo...</td>\n",
       "      <td>PT3M59S</td>\n",
       "      <td>4032686</td>\n",
       "      <td>0</td>\n",
       "      <td>8042</td>\n",
       "      <td>2012-03-09 23:29:03+00:00</td>\n",
       "      <td>Friday</td>\n",
       "      <td>23</td>\n",
       "      <td>2012</td>\n",
       "      <td>3.983333</td>\n",
       "    </tr>\n",
       "    <tr>\n",
       "      <th>761</th>\n",
       "      <td>Worst Minecraft Saw Trap Ever???</td>\n",
       "      <td>2XVcLrB7B3Y</td>\n",
       "      <td>2012-02-20T22:42:32Z</td>\n",
       "      <td>This is the worst saw trap ever done in minecr...</td>\n",
       "      <td>PT2M37S</td>\n",
       "      <td>19724605</td>\n",
       "      <td>932941</td>\n",
       "      <td>112761</td>\n",
       "      <td>2012-02-20 22:42:32+00:00</td>\n",
       "      <td>Monday</td>\n",
       "      <td>22</td>\n",
       "      <td>2012</td>\n",
       "      <td>2.616667</td>\n",
       "    </tr>\n",
       "  </tbody>\n",
       "</table>\n",
       "<p>762 rows × 13 columns</p>\n",
       "</div>"
      ],
      "text/plain": [
       "                                                 Title     Video Id  \\\n",
       "0                        World’s Deadliest Laser Maze!  QjvpjXdgugA   \n",
       "1                        World’s Most Expensive Coffee  jGAJCAuV3pQ   \n",
       "2                                $100,000,000 Bathroom  c0v8OPItCOg   \n",
       "3                            $1 vs $100,000,000 House!  3ryID_SwU5E   \n",
       "4               I Tipped A Pizza Delivery Driver A Car  IemzxkkzI5s   \n",
       "..                                                 ...          ...   \n",
       "757               Most Epic minecraft skin EVER  (Psy)  7qj3nuF9Dzw   \n",
       "758                          More birds IN MINECRAFT!!  Y74b7WlcEpk   \n",
       "759                     Boxy item mod Minecraft.  EPIC  Z8nEEdXTaX0   \n",
       "760  Harry Potter Mod In Minecraft! EPIC MUST SEE M...  jP82d277Cc8   \n",
       "761                   Worst Minecraft Saw Trap Ever???  2XVcLrB7B3Y   \n",
       "\n",
       "             Published At                                        Description  \\\n",
       "0    2023-10-28T15:59:59Z  I can’t believe what happened at the end…\\nDri...   \n",
       "1    2023-10-19T17:00:03Z                                                      \n",
       "2    2023-10-17T17:00:00Z                                                      \n",
       "3    2023-10-14T16:00:00Z  I can’t believe how expensive the last house i...   \n",
       "4    2023-10-12T17:30:03Z                                                      \n",
       "..                    ...                                                ...   \n",
       "757  2013-01-13T01:59:21Z  Psy in minecraft!!!   drop a like for psy's mo...   \n",
       "758  2013-01-12T23:35:45Z  Basically what this mod does is adds more bird...   \n",
       "759  2013-01-12T22:34:11Z  At the begining i said i was mrbeast6000.... i...   \n",
       "760  2012-03-09T23:29:03Z  One of the coolest mods i have ever seen\\n\\nMo...   \n",
       "761  2012-02-20T22:42:32Z  This is the worst saw trap ever done in minecr...   \n",
       "\n",
       "     Duration      Views    Likes  Comments               publishedAt  \\\n",
       "0    PT26M36S   58167606  2734717     69953 2023-10-28 15:59:59+00:00   \n",
       "1       PT33S   47820996  3181846     14381 2023-10-19 17:00:03+00:00   \n",
       "2       PT50S   61729449  3763144      9968 2023-10-17 17:00:00+00:00   \n",
       "3    PT17M36S  122748023  4372148    128920 2023-10-14 16:00:00+00:00   \n",
       "4       PT52S  113062681  7683173     14547 2023-10-12 17:30:03+00:00   \n",
       "..        ...        ...      ...       ...                       ...   \n",
       "757     PT31S     821682    32423      3098 2013-01-13 01:59:21+00:00   \n",
       "758    PT2M6S     952911    37779      3389 2013-01-12 23:35:45+00:00   \n",
       "759   PT1M30S    1130858    44676      4053 2013-01-12 22:34:11+00:00   \n",
       "760   PT3M59S    4032686        0      8042 2012-03-09 23:29:03+00:00   \n",
       "761   PT2M37S   19724605   932941    112761 2012-02-20 22:42:32+00:00   \n",
       "\n",
       "    publishDayName publishTime publishYear  Durations  \n",
       "0         Saturday          15        2023  26.600000  \n",
       "1         Thursday          17        2023   0.550000  \n",
       "2          Tuesday          17        2023   0.833333  \n",
       "3         Saturday          16        2023  17.600000  \n",
       "4         Thursday          17        2023   0.866667  \n",
       "..             ...         ...         ...        ...  \n",
       "757         Sunday          01        2013   0.516667  \n",
       "758       Saturday          23        2013   2.100000  \n",
       "759       Saturday          22        2013   1.500000  \n",
       "760         Friday          23        2012   3.983333  \n",
       "761         Monday          22        2012   2.616667  \n",
       "\n",
       "[762 rows x 13 columns]"
      ]
     },
     "execution_count": 848,
     "metadata": {},
     "output_type": "execute_result"
    }
   ],
   "source": [
    "df"
   ]
  },
  {
   "cell_type": "code",
   "execution_count": 849,
   "id": "2e0a1977",
   "metadata": {},
   "outputs": [
    {
     "name": "stderr",
     "output_type": "stream",
     "text": [
      "C:\\Users\\Admin\\AppData\\Local\\Temp\\ipykernel_5304\\87539948.py:2: FutureWarning:\n",
      "\n",
      "The default value of numeric_only in DataFrame.corr is deprecated. In a future version, it will default to False. Select only valid columns or specify the value of numeric_only to silence this warning.\n",
      "\n"
     ]
    },
    {
     "data": {
      "text/plain": [
       "<Axes: >"
      ]
     },
     "execution_count": 849,
     "metadata": {},
     "output_type": "execute_result"
    },
    {
     "data": {
      "image/png": "[encoded data removed]",
      "text/plain": [
       "<Figure size 640x480 with 2 Axes>"
      ]
     },
     "metadata": {},
     "output_type": "display_data"
    }
   ],
   "source": [
    "import seaborn as sns\n",
    "sns.heatmap(df.corr(),annot= True)"
   ]
  },
  {
   "cell_type": "code",
   "execution_count": 850,
   "id": "868cb573",
   "metadata": {},
   "outputs": [],
   "source": [
    "import plotly.express as px"
   ]
  },
  {
   "cell_type": "code",
   "execution_count": 851,
   "id": "bf3e290e",
   "metadata": {},
   "outputs": [
    {
     "data": {
      "application/vnd.plotly.v1+json": {
       "config": {
        "plotlyServerURL": "https://plot.ly"
       },
       "data": [
        {
         "hovertemplate": "Durations=%{x}<br>Views=%{y}<extra></extra>",
         "legendgroup": "",
         "marker": {
          "color": "#636efa",
          "symbol": "circle"
         },
         "mode": "markers",
         "name": "",
         "orientation": "v",
         "showlegend": false,
         "type": "scatter",
         "x": [
          26.6,
          0.55,
          0.8333333333333334,
          17.6,
          0.8666666666666667,
          19.8,
          0.36666666666666664,
          0.75,
          0.5833333333333334,
          0.6166666666666667,
          0.48333333333333334,
          16.466666666666665,
          0.95,
          0.6833333333333333,
          0.75,
          14.983333333333333,
          0.8666666666666667,
          0.4666666666666667,
          18.816666666666666,
          0.8666666666666667,
          16.116666666666667,
          0.5333333333333333,
          18.083333333333332,
          0.7833333333333333,
          10.6,
          0.8833333333333333,
          14.783333333333333,
          0.55,
          25.6,
          6.233333333333333,
          0.65,
          0.6333333333333333,
          0.85,
          12.333333333333334,
          0.45,
          12.283333333333333,
          0.7833333333333333,
          8.016666666666667,
          12.166666666666666,
          10.416666666666666,
          0.8,
          15.383333333333333,
          0.6666666666666666,
          15.616666666666667,
          0.6666666666666666,
          15.683333333333334,
          0.9166666666666666,
          17.166666666666668,
          12.05,
          8.233333333333333,
          15.516666666666667,
          16.883333333333333,
          13.066666666666666,
          17.016666666666666,
          13.983333333333333,
          9.016666666666667,
          8.016666666666667,
          12.15,
          12.083333333333334,
          11.033333333333333,
          25.7,
          4.916666666666667,
          15.133333333333333,
          8.033333333333333,
          12.55,
          17.733333333333334,
          15.85,
          10.75,
          10.2,
          12.566666666666666,
          14.333333333333334,
          16.133333333333333,
          13.466666666666667,
          16.9,
          14.116666666666667,
          10.833333333333334,
          12.666666666666666,
          10.45,
          9.333333333333334,
          10.9,
          13.283333333333333,
          14.233333333333333,
          6.516666666666667,
          11.366666666666667,
          9.533333333333333,
          14.3,
          14.05,
          15.183333333333334,
          11.566666666666666,
          14.183333333333334,
          9.416666666666666,
          2.1333333333333333,
          12.4,
          17.183333333333334,
          6.366666666666666,
          14.083333333333334,
          18.433333333333334,
          21.25,
          11.616666666666667,
          10.216666666666667,
          8.05,
          16.066666666666666,
          11.15,
          14.033333333333333,
          18.35,
          13.933333333333334,
          15.866666666666667,
          17.35,
          15.316666666666666,
          13.533333333333333,
          11.983333333333333,
          12.483333333333333,
          13.816666666666666,
          17.35,
          20,
          12.933333333333334,
          14.8,
          16.8,
          13.633333333333333,
          17.983333333333334,
          6.566666666666666,
          2.5833333333333335,
          13.8,
          15.166666666666666,
          15.416666666666666,
          11.75,
          15.766666666666667,
          13.033333333333333,
          13.05,
          13.8,
          10.866666666666667,
          12.933333333333334,
          16.95,
          11.683333333333334,
          15.166666666666666,
          7.383333333333334,
          16.8,
          17.15,
          15.633333333333333,
          14.766666666666667,
          13.15,
          14.533333333333333,
          13.983333333333333,
          13.133333333333333,
          16.65,
          16.65,
          13.866666666666667,
          15.283333333333333,
          13.366666666666667,
          14.883333333333333,
          15.316666666666666,
          9.483333333333333,
          11.283333333333333,
          13.733333333333333,
          12.116666666666667,
          14.85,
          15.4,
          14.3,
          14.966666666666667,
          14.766666666666667,
          15.116666666666667,
          16.933333333333334,
          15.7,
          14.483333333333333,
          15.983333333333333,
          7.633333333333334,
          15.15,
          14.333333333333334,
          15.533333333333333,
          14.233333333333333,
          18.483333333333334,
          14.616666666666667,
          14.066666666666666,
          13.6,
          9.816666666666666,
          13.433333333333334,
          18.266666666666666,
          15.716666666666667,
          15.933333333333334,
          12.75,
          17.766666666666666,
          15.316666666666666,
          15.283333333333333,
          13.183333333333334,
          12.05,
          16.5,
          17.5,
          13.833333333333334,
          15.233333333333333,
          14.733333333333333,
          14.866666666666667,
          15.25,
          24.65,
          14.683333333333334,
          14.416666666666666,
          13.816666666666666,
          18.133333333333333,
          708.6666666666666,
          14.633333333333333,
          14.75,
          14.05,
          18.316666666666666,
          13.116666666666667,
          19.783333333333335,
          17.583333333333332,
          15.516666666666667,
          11.75,
          16.9,
          16.6,
          14.633333333333333,
          15.383333333333333,
          17.533333333333335,
          11.866666666666667,
          14.1,
          18.866666666666667,
          17.616666666666667,
          16.366666666666667,
          10.216666666666667,
          12.916666666666666,
          16.183333333333334,
          15.183333333333334,
          19.783333333333335,
          23.033333333333335,
          13.766666666666667,
          10.5,
          18.55,
          12.383333333333333,
          22.033333333333335,
          10.066666666666666,
          11.866666666666667,
          5.85,
          15.766666666666667,
          12.4,
          11.65,
          15.433333333333334,
          11.516666666666667,
          10.566666666666666,
          12.233333333333333,
          10.266666666666667,
          13.6,
          15.05,
          11.8,
          13.7,
          15.15,
          10.383333333333333,
          10.25,
          11.3,
          24.716666666666665,
          15.2,
          10.066666666666666,
          13.083333333333334,
          10.683333333333334,
          12.4,
          10.2,
          7.166666666666667,
          9.2,
          15.166666666666666,
          11.75,
          16.1,
          13.166666666666666,
          10.166666666666666,
          11.283333333333333,
          10.933333333333334,
          10.483333333333333,
          10.733333333333333,
          10.05,
          18.433333333333334,
          12.133333333333333,
          10.35,
          19.35,
          8.35,
          600.0333333333333,
          10.066666666666666,
          12.65,
          12.416666666666666,
          10.266666666666667,
          3.45,
          1.8333333333333333,
          3.783333333333333,
          12.616666666666667,
          5.7,
          12.816666666666666,
          6.1,
          1026.1166666666666,
          16.2,
          3.95,
          8.783333333333333,
          2.6166666666666667,
          1428.1,
          600.1833333333333,
          10.033333333333333,
          4.716666666666667,
          114.81666666666666,
          7.116666666666666,
          3.1333333333333333,
          5.383333333333334,
          600.0166666666667,
          4.75,
          5.15,
          2.0166666666666666,
          25.95,
          33.483333333333334,
          1414.6333333333334,
          6.05,
          1428.1166666666666,
          3.683333333333333,
          14.333333333333334,
          8.85,
          10.2,
          10.066666666666666,
          3.8833333333333333,
          5.683333333333334,
          5.433333333333334,
          90.98333333333333,
          5.3,
          5.266666666666667,
          3.55,
          6.35,
          4.6,
          5.55,
          4.716666666666667,
          1.9833333333333334,
          5,
          1440.0333333333333,
          5.216666666666667,
          7.933333333333334,
          4.266666666666667,
          8.05,
          4.316666666666666,
          3.4166666666666665,
          4.133333333333334,
          2.933333333333333,
          5.583333333333333,
          3.45,
          4.433333333333334,
          4.833333333333333,
          2.7333333333333334,
          4.266666666666667,
          3.066666666666667,
          9.083333333333334,
          3.066666666666667,
          4.25,
          3.5833333333333335,
          3.7,
          4.083333333333333,
          5.133333333333334,
          2.9833333333333334,
          12.616666666666667,
          2.466666666666667,
          4.466666666666667,
          4.016666666666667,
          5.65,
          2.7,
          3.8,
          3.2333333333333334,
          3.683333333333333,
          2.9833333333333334,
          2.4833333333333334,
          3.1666666666666665,
          5.4,
          3.216666666666667,
          2.4166666666666665,
          4.85,
          2.1666666666666665,
          0.7166666666666667,
          3.433333333333333,
          3.466666666666667,
          3.75,
          4.566666666666666,
          5.416666666666667,
          3.9,
          4.266666666666667,
          4.5,
          2.9166666666666665,
          4.75,
          2.566666666666667,
          1.7,
          4.65,
          4.466666666666667,
          2.95,
          209.68333333333334,
          2.433333333333333,
          5.4,
          5.35,
          2.9833333333333334,
          2.9,
          1.7666666666666666,
          3.6666666666666665,
          3.5166666666666666,
          3.183333333333333,
          4.4,
          5.75,
          3.2333333333333334,
          2.2666666666666666,
          4.05,
          3.066666666666667,
          6.216666666666667,
          1.8666666666666667,
          2.65,
          9.916666666666666,
          6.516666666666667,
          3.0166666666666666,
          4.233333333333333,
          1.35,
          4.366666666666666,
          3.55,
          3.5,
          3.783333333333333,
          3.75,
          2.55,
          2.9833333333333334,
          3,
          2.3833333333333333,
          3.1166666666666667,
          0.9833333333333333,
          4.9,
          1.5333333333333334,
          2.75,
          7.833333333333333,
          5.566666666666666,
          3.9166666666666665,
          4.733333333333333,
          5.433333333333334,
          3.783333333333333,
          3.566666666666667,
          2.7666666666666666,
          2.15,
          3.6166666666666667,
          4.583333333333333,
          4.066666666666666,
          1.9166666666666667,
          2.9833333333333334,
          5.35,
          3.45,
          6.1,
          3.8666666666666667,
          1.8,
          6.15,
          5.25,
          1.9833333333333334,
          1.4666666666666666,
          3.716666666666667,
          4.1,
          2.6333333333333333,
          3.6166666666666667,
          4.383333333333334,
          4.966666666666667,
          4.316666666666666,
          1.0833333333333333,
          2.183333333333333,
          4.166666666666667,
          4.633333333333334,
          6.016666666666667,
          3.2333333333333334,
          3.5,
          3.15,
          2.4833333333333334,
          3.4833333333333334,
          4.483333333333333,
          3.9,
          5.533333333333333,
          4.466666666666667,
          4.266666666666667,
          4.533333333333333,
          2.3833333333333333,
          3.683333333333333,
          1.2666666666666666,
          3.683333333333333,
          4.133333333333334,
          3.15,
          2.933333333333333,
          3.216666666666667,
          2.35,
          4.066666666666666,
          3.0833333333333335,
          4.35,
          7.183333333333334,
          3.4833333333333334,
          2.95,
          3.933333333333333,
          3.316666666666667,
          3.433333333333333,
          2.816666666666667,
          2.683333333333333,
          2.466666666666667,
          2.3,
          1.2,
          2.5166666666666666,
          3.55,
          3.65,
          2.0166666666666666,
          4.233333333333333,
          5.233333333333333,
          3.433333333333333,
          2.5166666666666666,
          2.6166666666666667,
          3.4833333333333334,
          2.8833333333333333,
          3.1166666666666667,
          3.6666666666666665,
          2.45,
          3.933333333333333,
          5.033333333333333,
          1.4666666666666666,
          4.916666666666667,
          2.85,
          4.733333333333333,
          3.05,
          4.75,
          1,
          1.9166666666666667,
          5.183333333333334,
          2.1,
          7.533333333333333,
          3.15,
          3.4833333333333334,
          3.716666666666667,
          3.3833333333333333,
          7.033333333333333,
          3.1166666666666667,
          5,
          4.15,
          3.7333333333333334,
          4.316666666666666,
          1.7666666666666666,
          7.316666666666666,
          2.7,
          3.183333333333333,
          14.116666666666667,
          3.1333333333333333,
          2.7333333333333334,
          3.8833333333333333,
          2.3666666666666667,
          9.216666666666667,
          4.55,
          1.35,
          2.2333333333333334,
          1.6333333333333333,
          2.0833333333333335,
          2.533333333333333,
          2.5,
          3.05,
          15.766666666666667,
          3.6,
          4.083333333333333,
          2.05,
          2.2333333333333334,
          4.2,
          3.8666666666666667,
          3.283333333333333,
          5.066666666666666,
          1.2166666666666666,
          4.866666666666666,
          10.666666666666666,
          2.433333333333333,
          3.5,
          4.933333333333334,
          4.65,
          5.466666666666667,
          6.566666666666666,
          1.5333333333333334,
          1.8166666666666667,
          3.4,
          10.383333333333333,
          3.816666666666667,
          2.65,
          1.9833333333333334,
          1.2833333333333334,
          3.2666666666666666,
          2.6666666666666665,
          3.6166666666666667,
          4.116666666666666,
          2.8,
          3.6,
          2.9166666666666665,
          2.816666666666667,
          3.566666666666667,
          2.216666666666667,
          2.4166666666666665,
          4.766666666666667,
          4.083333333333333,
          4.283333333333333,
          3.1666666666666665,
          3.4166666666666665,
          3.933333333333333,
          7.05,
          3.8666666666666667,
          3.216666666666667,
          3.2666666666666666,
          1.5833333333333333,
          3.6166666666666667,
          3.95,
          3.9166666666666665,
          2.783333333333333,
          3.6,
          4.133333333333334,
          2.9,
          3.4,
          3.25,
          3.8833333333333333,
          4.8,
          1.9,
          3.0166666666666666,
          3.7666666666666666,
          2.566666666666667,
          2.5833333333333335,
          2.4833333333333334,
          4.35,
          3,
          2.4,
          3.5833333333333335,
          8.783333333333333,
          3.3333333333333335,
          4.45,
          6.733333333333333,
          4.033333333333333,
          4.033333333333333,
          3.75,
          0.4666666666666667,
          2.3833333333333333,
          3.7666666666666666,
          3.45,
          3.3333333333333335,
          3.3,
          6.083333333333333,
          4.516666666666667,
          8.816666666666666,
          3.3333333333333335,
          0.6,
          2.6166666666666667,
          3.5833333333333335,
          3,
          3.6666666666666665,
          3.816666666666667,
          3.55,
          1.2833333333333334,
          3.4166666666666665,
          4.4,
          3.433333333333333,
          0.8666666666666667,
          2.9166666666666665,
          3.05,
          2.3666666666666667,
          3.3666666666666667,
          3.0166666666666666,
          23.883333333333333,
          0.6333333333333333,
          3.8833333333333333,
          2.9,
          3.25,
          7.166666666666667,
          3.5,
          4.766666666666667,
          4.516666666666667,
          3.4833333333333334,
          2.783333333333333,
          4.6,
          2.0166666666666666,
          4.683333333333334,
          2.95,
          4.166666666666667,
          4.35,
          3,
          2.9,
          3.8833333333333333,
          1.4166666666666667,
          2.5166666666666666,
          5.033333333333333,
          3.4,
          3.1166666666666667,
          2.1,
          4.25,
          4.733333333333333,
          25.316666666666666,
          2.7333333333333334,
          4.166666666666667,
          2.933333333333333,
          2.8666666666666667,
          2.216666666666667,
          1.6166666666666667,
          3.1,
          1.3,
          1.6,
          0.9666666666666667,
          0.95,
          0.7833333333333333,
          1.4,
          2.6666666666666665,
          1.2,
          1.2666666666666666,
          1.1,
          2.7333333333333334,
          1.6666666666666667,
          3,
          4.483333333333333,
          2.716666666666667,
          5.533333333333333,
          2.6666666666666665,
          0.25,
          3.5833333333333335,
          0.6166666666666667,
          1.7166666666666666,
          0.7666666666666667,
          0.8666666666666667,
          2.7,
          2.4833333333333334,
          1.05,
          1.3666666666666667,
          14.966666666666667,
          1.75,
          6.816666666666666,
          3.3333333333333335,
          3.9166666666666665,
          5.3,
          4.433333333333334,
          3.8333333333333335,
          5.983333333333333,
          5.633333333333334,
          0.43333333333333335,
          2.9166666666666665,
          4.316666666666666,
          3.8833333333333333,
          2.45,
          3.4,
          18.45,
          0.8,
          6.033333333333333,
          4.35,
          15.75,
          24.566666666666666,
          14.333333333333334,
          19.9,
          2.6333333333333333,
          1.4666666666666666,
          0.9666666666666667,
          1.0666666666666667,
          3.216666666666667,
          2.566666666666667,
          5.316666666666666,
          5.45,
          4.35,
          3.5833333333333335,
          4.466666666666667,
          9.4,
          4.65,
          3.4166666666666665,
          2.816666666666667,
          6.05,
          4.55,
          0.8833333333333333,
          2.5833333333333335,
          3.7,
          2.2333333333333334,
          0.7166666666666667,
          0.8166666666666667,
          0.8666666666666667,
          0.48333333333333334,
          0.5166666666666667,
          2.1,
          1.5,
          3.9833333333333334,
          2.6166666666666667
         ],
         "xaxis": "x",
         "y": [
          58167606,
          47820996,
          61729449,
          122748023,
          113062681,
          142683250,
          190401610,
          207460032,
          220091483,
          116929470,
          248853062,
          160491271,
          116233316,
          322776504,
          167011465,
          129022733,
          53953740,
          179708951,
          137836623,
          167527818,
          182855279,
          238963428,
          180008578,
          241517564,
          165854902,
          151683893,
          253586222,
          168884882,
          261563296,
          126227655,
          341056528,
          242668561,
          260103494,
          270452274,
          335972510,
          216680578,
          249833260,
          162674297,
          159496546,
          205131767,
          966777663,
          208645147,
          342050891,
          146278275,
          928757624,
          308780500,
          418407547,
          256860010,
          132197981,
          157597043,
          186208465,
          177349555,
          97784453,
          254455865,
          191587458,
          167126939,
          242421163,
          97262713,
          82173280,
          189235301,
          525444290,
          112366579,
          160048014,
          161536842,
          155293334,
          363227550,
          187164514,
          171942157,
          151590798,
          215915206,
          163802504,
          194546915,
          182497910,
          194172168,
          273698837,
          219623991,
          306325683,
          121375361,
          145867116,
          54708420,
          238226078,
          160922825,
          69815938,
          100613540,
          171359810,
          187392622,
          198555654,
          279511911,
          147719311,
          119081631,
          200966337,
          115410829,
          149306446,
          159040093,
          54913837,
          75890194,
          186416294,
          235768057,
          154990716,
          124807538,
          232457786,
          223467945,
          202572355,
          149505594,
          187924856,
          158032687,
          303621555,
          197316607,
          44997472,
          144670586,
          189950579,
          56395136,
          147757671,
          130702750,
          266799232,
          236779658,
          128410818,
          171575481,
          114656498,
          146737551,
          18975030,
          36491203,
          62858957,
          173323545,
          131998696,
          61494711,
          91953032,
          132651836,
          120034533,
          148647160,
          108995383,
          108488030,
          148438575,
          214985808,
          50176716,
          98381672,
          120452362,
          172036520,
          252362818,
          59977444,
          124001160,
          69192924,
          69562661,
          93934302,
          134269846,
          162704350,
          178630636,
          144623101,
          163778238,
          105484680,
          154082469,
          117677808,
          77363250,
          148172421,
          68336592,
          85132287,
          176764290,
          146514906,
          110179354,
          40200880,
          122840447,
          147143299,
          192766113,
          155723376,
          76535499,
          94084625,
          87702061,
          156803781,
          37579462,
          32035932,
          107488927,
          92127192,
          140624652,
          48113712,
          59633266,
          79172097,
          104556896,
          103949796,
          111230985,
          44101641,
          189920504,
          41163885,
          94479433,
          142737740,
          33681951,
          141943237,
          84441679,
          74586377,
          14424533,
          31180807,
          112032117,
          46907874,
          97047831,
          149074545,
          100189245,
          64159409,
          128950194,
          25710373,
          43075818,
          190657581,
          44141395,
          28750924,
          18386010,
          88586120,
          36046620,
          38581665,
          43410968,
          31051583,
          90462658,
          41908933,
          72391828,
          17091072,
          28144035,
          139863281,
          35512818,
          63737926,
          43059751,
          69345813,
          28475543,
          111149880,
          134738665,
          56324620,
          51972598,
          44975781,
          36623302,
          17614249,
          28601611,
          96512271,
          29885501,
          90198668,
          28750688,
          21599009,
          74304757,
          126806135,
          53032951,
          11229191,
          17224492,
          15704870,
          37021854,
          24551822,
          15020170,
          40949139,
          14672551,
          23666633,
          26767840,
          31246500,
          32474632,
          24303610,
          38689344,
          19300037,
          20003579,
          13179838,
          14709630,
          32745344,
          25560755,
          53793115,
          17692113,
          7737378,
          11312858,
          18282078,
          8710682,
          36646712,
          47375285,
          37232389,
          26973267,
          9110444,
          32689793,
          26366820,
          44425034,
          27565714,
          30782304,
          2218593,
          7333264,
          25887461,
          31072992,
          42187263,
          5775195,
          13549590,
          3791164,
          4599523,
          6031166,
          22108486,
          2724261,
          23027154,
          10781084,
          31926517,
          6478960,
          25777111,
          873951,
          27979745,
          10782114,
          19713706,
          34942323,
          42330064,
          2027840,
          26220736,
          52604927,
          1850181,
          4100356,
          7260443,
          524737,
          7641430,
          3804954,
          3314194,
          29304499,
          1959624,
          4880127,
          22902633,
          8705399,
          11350700,
          1793853,
          16221108,
          2502157,
          10875836,
          3724765,
          3845039,
          13383856,
          1565443,
          9852775,
          291331,
          1205614,
          1499563,
          380363,
          712047,
          317015,
          3023768,
          1451782,
          3240209,
          1646381,
          3090993,
          809255,
          1645940,
          3565337,
          2220232,
          1305913,
          1177844,
          158973,
          704788,
          834330,
          1313125,
          172526,
          648482,
          402785,
          408657,
          3658854,
          27771869,
          127747,
          364104,
          166491,
          334608,
          623420,
          126308,
          104873,
          97485,
          109535,
          151997,
          39691,
          272080,
          124402,
          121354,
          683062,
          2126239,
          54509,
          114006,
          138741,
          163100,
          43267,
          42471,
          2063540,
          2017144,
          63201,
          145779,
          106833,
          556450,
          132647,
          50956,
          87716,
          89659,
          152172,
          76253,
          65723798,
          130169,
          216519,
          59374,
          79566,
          116206,
          65867,
          122348,
          155396,
          42280,
          365790,
          79682,
          59346,
          149184,
          57423,
          211468,
          103052,
          183761,
          631498,
          922162,
          92549,
          74559,
          186184,
          68361,
          285175,
          263323,
          59493,
          43356,
          385433,
          471505,
          7537628,
          117137,
          100933,
          13744089,
          60794,
          137630,
          242479,
          46339,
          126554,
          62706,
          278476,
          54714,
          46564,
          588591,
          79243,
          43824,
          470784,
          39666,
          89107,
          94510,
          1566351,
          69757,
          79492,
          309994,
          82091,
          39660,
          39664,
          1360150,
          76239,
          44783,
          230609,
          52766,
          44636,
          40681,
          105527,
          778499,
          64535,
          43746,
          39878,
          8341765,
          39874,
          45921,
          217881,
          265445,
          39784,
          39795,
          116572,
          40269,
          39758,
          43591,
          732708,
          39711,
          161006,
          678290,
          65170,
          39905,
          69333,
          774473,
          39985,
          131969,
          50235,
          62575,
          65542,
          63595,
          119869,
          214013,
          43467,
          140697,
          44015,
          39708,
          39768,
          39811,
          89847,
          156142,
          373960,
          681576,
          78035,
          39759,
          80749,
          39715,
          127871,
          39867,
          80714,
          76527,
          64876,
          39923,
          71223,
          223449,
          39776,
          39659,
          75397,
          1764583,
          39878,
          42819,
          39862,
          49491,
          92115,
          40858,
          49226,
          102294,
          50779,
          41737,
          210145,
          206900,
          39681,
          45436,
          40161,
          115843,
          40582,
          40090,
          128814,
          39940,
          105323,
          76276,
          40543,
          40772,
          62786,
          565930,
          39658,
          142015,
          235085,
          164089,
          39912,
          40145,
          39750,
          52400,
          39859,
          39896,
          40228,
          40337,
          39945,
          39906,
          39915,
          88782,
          165253,
          146467,
          39641,
          48852,
          39705,
          39894,
          40108,
          39917,
          39673,
          68179,
          39738,
          55741,
          119699,
          65176,
          39679,
          39774,
          39791,
          39659,
          39681,
          39721,
          108355,
          39919,
          53219,
          49204,
          111089,
          40063,
          40005,
          56281,
          40034,
          39944,
          61839,
          39670,
          40308,
          60317,
          228880,
          67238,
          39929,
          436987,
          149637,
          44610,
          62722,
          449951,
          156158,
          113602,
          44407,
          41144,
          42266,
          94939,
          63642,
          54886,
          179923,
          41507,
          40044,
          57337,
          131876,
          39674,
          88179,
          301024,
          51822,
          106356,
          94882,
          59351,
          116634,
          66228,
          52226,
          75402,
          305798,
          39681,
          229569,
          123309,
          111754,
          48002,
          193240,
          39825,
          60525,
          218155,
          39822,
          199960,
          39671,
          39875,
          39724,
          58653,
          46867,
          80020,
          39780,
          40169,
          57372,
          39859,
          39959,
          39723,
          58095,
          62051,
          76927,
          178999,
          285095,
          39661,
          76339,
          446169,
          47855,
          54810,
          177498,
          52162,
          360608,
          60582,
          63039,
          17192658,
          197639,
          616907,
          67078,
          308185,
          128998,
          55436,
          62349,
          52066,
          42549,
          46952,
          125192,
          49978,
          85724,
          81885,
          338024,
          89761,
          62963,
          579447,
          95753,
          95931,
          2855540,
          319684,
          316347,
          92280,
          67997,
          1279471,
          52642,
          47050,
          40099,
          40096,
          40142,
          41776,
          55589,
          47657,
          47620,
          48174,
          50748,
          49622,
          53623,
          78359,
          52055,
          57581,
          78662,
          309417,
          59688,
          102452,
          627364,
          82070,
          79155,
          77361,
          136950,
          208096,
          12403115,
          118607,
          119624,
          88282,
          141546,
          92555,
          143456,
          481889,
          65672,
          72408,
          65710,
          66143,
          117570,
          79309,
          170511,
          84532,
          107429,
          116291,
          157663,
          99213,
          120994,
          139580,
          560113,
          199183,
          184172,
          258463,
          96962,
          96047,
          96231,
          160699,
          144707,
          143207,
          287237,
          425191,
          412047,
          256324,
          127287,
          120600,
          162789,
          134725,
          129161,
          138322,
          160276,
          138972,
          203815,
          615752,
          319627,
          378901,
          542843,
          284016,
          426451,
          405093,
          390475,
          613396,
          753263,
          821682,
          952911,
          1130858,
          4032686,
          19724605
         ],
         "yaxis": "y"
        }
       ],
       "layout": {
        "legend": {
         "tracegroupgap": 0
        },
        "margin": {
         "t": 60
        },
        "template": {
         "data": {
          "bar": [
           {
            "error_x": {
             "color": "#2a3f5f"
            },
            "error_y": {
             "color": "#2a3f5f"
            },
            "marker": {
             "line": {
              "color": "#E5ECF6",
              "width": 0.5
             },
             "pattern": {
              "fillmode": "overlay",
              "size": 10,
              "solidity": 0.2
             }
            },
            "type": "bar"
           }
          ],
          "barpolar": [
           {
            "marker": {
             "line": {
              "color": "#E5ECF6",
              "width": 0.5
             },
             "pattern": {
              "fillmode": "overlay",
              "size": 10,
              "solidity": 0.2
             }
            },
            "type": "barpolar"
           }
          ],
          "carpet": [
           {
            "aaxis": {
             "endlinecolor": "#2a3f5f",
             "gridcolor": "white",
             "linecolor": "white",
             "minorgridcolor": "white",
             "startlinecolor": "#2a3f5f"
            },
            "baxis": {
             "endlinecolor": "#2a3f5f",
             "gridcolor": "white",
             "linecolor": "white",
             "minorgridcolor": "white",
             "startlinecolor": "#2a3f5f"
            },
            "type": "carpet"
           }
          ],
          "choropleth": [
           {
            "colorbar": {
             "outlinewidth": 0,
             "ticks": ""
            },
            "type": "choropleth"
           }
          ],
          "contour": [
           {
            "colorbar": {
             "outlinewidth": 0,
             "ticks": ""
            },
            "colorscale": [
             [
              0,
              "#0d0887"
             ],
             [
              0.1111111111111111,
              "#46039f"
             ],
             [
              0.2222222222222222,
              "#7201a8"
             ],
             [
              0.3333333333333333,
              "#9c179e"
             ],
             [
              0.4444444444444444,
              "#bd3786"
             ],
             [
              0.5555555555555556,
              "#d8576b"
             ],
             [
              0.6666666666666666,
              "#ed7953"
             ],
             [
              0.7777777777777778,
              "#fb9f3a"
             ],
             [
              0.8888888888888888,
              "#fdca26"
             ],
             [
              1,
              "#f0f921"
             ]
            ],
            "type": "contour"
           }
          ],
          "contourcarpet": [
           {
            "colorbar": {
             "outlinewidth": 0,
             "ticks": ""
            },
            "type": "contourcarpet"
           }
          ],
          "heatmap": [
           {
            "colorbar": {
             "outlinewidth": 0,
             "ticks": ""
            },
            "colorscale": [
             [
              0,
              "#0d0887"
             ],
             [
              0.1111111111111111,
              "#46039f"
             ],
             [
              0.2222222222222222,
              "#7201a8"
             ],
             [
              0.3333333333333333,
              "#9c179e"
             ],
             [
              0.4444444444444444,
              "#bd3786"
             ],
             [
              0.5555555555555556,
              "#d8576b"
             ],
             [
              0.6666666666666666,
              "#ed7953"
             ],
             [
              0.7777777777777778,
              "#fb9f3a"
             ],
             [
              0.8888888888888888,
              "#fdca26"
             ],
             [
              1,
              "#f0f921"
             ]
            ],
            "type": "heatmap"
           }
          ],
          "heatmapgl": [
           {
            "colorbar": {
             "outlinewidth": 0,
             "ticks": ""
            },
            "colorscale": [
             [
              0,
              "#0d0887"
             ],
             [
              0.1111111111111111,
              "#46039f"
             ],
             [
              0.2222222222222222,
              "#7201a8"
             ],
             [
              0.3333333333333333,
              "#9c179e"
             ],
             [
              0.4444444444444444,
              "#bd3786"
             ],
             [
              0.5555555555555556,
              "#d8576b"
             ],
             [
              0.6666666666666666,
              "#ed7953"
             ],
             [
              0.7777777777777778,
              "#fb9f3a"
             ],
             [
              0.8888888888888888,
              "#fdca26"
             ],
             [
              1,
              "#f0f921"
             ]
            ],
            "type": "heatmapgl"
           }
          ],
          "histogram": [
           {
            "marker": {
             "pattern": {
              "fillmode": "overlay",
              "size": 10,
              "solidity": 0.2
             }
            },
            "type": "histogram"
           }
          ],
          "histogram2d": [
           {
            "colorbar": {
             "outlinewidth": 0,
             "ticks": ""
            },
            "colorscale": [
             [
              0,
              "#0d0887"
             ],
             [
              0.1111111111111111,
              "#46039f"
             ],
             [
              0.2222222222222222,
              "#7201a8"
             ],
             [
              0.3333333333333333,
              "#9c179e"
             ],
             [
              0.4444444444444444,
              "#bd3786"
             ],
             [
              0.5555555555555556,
              "#d8576b"
             ],
             [
              0.6666666666666666,
              "#ed7953"
             ],
             [
              0.7777777777777778,
              "#fb9f3a"
             ],
             [
              0.8888888888888888,
              "#fdca26"
             ],
             [
              1,
              "#f0f921"
             ]
            ],
            "type": "histogram2d"
           }
          ],
          "histogram2dcontour": [
           {
            "colorbar": {
             "outlinewidth": 0,
             "ticks": ""
            },
            "colorscale": [
             [
              0,
              "#0d0887"
             ],
             [
              0.1111111111111111,
              "#46039f"
             ],
             [
              0.2222222222222222,
              "#7201a8"
             ],
             [
              0.3333333333333333,
              "#9c179e"
             ],
             [
              0.4444444444444444,
              "#bd3786"
             ],
             [
              0.5555555555555556,
              "#d8576b"
             ],
             [
              0.6666666666666666,
              "#ed7953"
             ],
             [
              0.7777777777777778,
              "#fb9f3a"
             ],
             [
              0.8888888888888888,
              "#fdca26"
             ],
             [
              1,
              "#f0f921"
             ]
            ],
            "type": "histogram2dcontour"
           }
          ],
          "mesh3d": [
           {
            "colorbar": {
             "outlinewidth": 0,
             "ticks": ""
            },
            "type": "mesh3d"
           }
          ],
          "parcoords": [
           {
            "line": {
             "colorbar": {
              "outlinewidth": 0,
              "ticks": ""
             }
            },
            "type": "parcoords"
           }
          ],
          "pie": [
           {
            "automargin": true,
            "type": "pie"
           }
          ],
          "scatter": [
           {
            "fillpattern": {
             "fillmode": "overlay",
             "size": 10,
             "solidity": 0.2
            },
            "type": "scatter"
           }
          ],
          "scatter3d": [
           {
            "line": {
             "colorbar": {
              "outlinewidth": 0,
              "ticks": ""
             }
            },
            "marker": {
             "colorbar": {
              "outlinewidth": 0,
              "ticks": ""
             }
            },
            "type": "scatter3d"
           }
          ],
          "scattercarpet": [
           {
            "marker": {
             "colorbar": {
              "outlinewidth": 0,
              "ticks": ""
             }
            },
            "type": "scattercarpet"
           }
          ],
          "scattergeo": [
           {
            "marker": {
             "colorbar": {
              "outlinewidth": 0,
              "ticks": ""
             }
            },
            "type": "scattergeo"
           }
          ],
          "scattergl": [
           {
            "marker": {
             "colorbar": {
              "outlinewidth": 0,
              "ticks": ""
             }
            },
            "type": "scattergl"
           }
          ],
          "scattermapbox": [
           {
            "marker": {
             "colorbar": {
              "outlinewidth": 0,
              "ticks": ""
             }
            },
            "type": "scattermapbox"
           }
          ],
          "scatterpolar": [
           {
            "marker": {
             "colorbar": {
              "outlinewidth": 0,
              "ticks": ""
             }
            },
            "type": "scatterpolar"
           }
          ],
          "scatterpolargl": [
           {
            "marker": {
             "colorbar": {
              "outlinewidth": 0,
              "ticks": ""
             }
            },
            "type": "scatterpolargl"
           }
          ],
          "scatterternary": [
           {
            "marker": {
             "colorbar": {
              "outlinewidth": 0,
              "ticks": ""
             }
            },
            "type": "scatterternary"
           }
          ],
          "surface": [
           {
            "colorbar": {
             "outlinewidth": 0,
             "ticks": ""
            },
            "colorscale": [
             [
              0,
              "#0d0887"
             ],
             [
              0.1111111111111111,
              "#46039f"
             ],
             [
              0.2222222222222222,
              "#7201a8"
             ],
             [
              0.3333333333333333,
              "#9c179e"
             ],
             [
              0.4444444444444444,
              "#bd3786"
             ],
             [
              0.5555555555555556,
              "#d8576b"
             ],
             [
              0.6666666666666666,
              "#ed7953"
             ],
             [
              0.7777777777777778,
              "#fb9f3a"
             ],
             [
              0.8888888888888888,
              "#fdca26"
             ],
             [
              1,
              "#f0f921"
             ]
            ],
            "type": "surface"
           }
          ],
          "table": [
           {
            "cells": {
             "fill": {
              "color": "#EBF0F8"
             },
             "line": {
              "color": "white"
             }
            },
            "header": {
             "fill": {
              "color": "#C8D4E3"
             },
             "line": {
              "color": "white"
             }
            },
            "type": "table"
           }
          ]
         },
         "layout": {
          "annotationdefaults": {
           "arrowcolor": "#2a3f5f",
           "arrowhead": 0,
           "arrowwidth": 1
          },
          "autotypenumbers": "strict",
          "coloraxis": {
           "colorbar": {
            "outlinewidth": 0,
            "ticks": ""
           }
          },
          "colorscale": {
           "diverging": [
            [
             0,
             "#8e0152"
            ],
            [
             0.1,
             "#c51b7d"
            ],
            [
             0.2,
             "#de77ae"
            ],
            [
             0.3,
             "#f1b6da"
            ],
            [
             0.4,
             "#fde0ef"
            ],
            [
             0.5,
             "#f7f7f7"
            ],
            [
             0.6,
             "#e6f5d0"
            ],
            [
             0.7,
             "#b8e186"
            ],
            [
             0.8,
             "#7fbc41"
            ],
            [
             0.9,
             "#4d9221"
            ],
            [
             1,
             "#276419"
            ]
           ],
           "sequential": [
            [
             0,
             "#0d0887"
            ],
            [
             0.1111111111111111,
             "#46039f"
            ],
            [
             0.2222222222222222,
             "#7201a8"
            ],
            [
             0.3333333333333333,
             "#9c179e"
            ],
            [
             0.4444444444444444,
             "#bd3786"
            ],
            [
             0.5555555555555556,
             "#d8576b"
            ],
            [
             0.6666666666666666,
             "#ed7953"
            ],
            [
             0.7777777777777778,
             "#fb9f3a"
            ],
            [
             0.8888888888888888,
             "#fdca26"
            ],
            [
             1,
             "#f0f921"
            ]
           ],
           "sequentialminus": [
            [
             0,
             "#0d0887"
            ],
            [
             0.1111111111111111,
             "#46039f"
            ],
            [
             0.2222222222222222,
             "#7201a8"
            ],
            [
             0.3333333333333333,
             "#9c179e"
            ],
            [
             0.4444444444444444,
             "#bd3786"
            ],
            [
             0.5555555555555556,
             "#d8576b"
            ],
            [
             0.6666666666666666,
             "#ed7953"
            ],
            [
             0.7777777777777778,
             "#fb9f3a"
            ],
            [
             0.8888888888888888,
             "#fdca26"
            ],
            [
             1,
             "#f0f921"
            ]
           ]
          },
          "colorway": [
           "#636efa",
           "#EF553B",
           "#00cc96",
           "#ab63fa",
           "#FFA15A",
           "#19d3f3",
           "#FF6692",
           "#B6E880",
           "#FF97FF",
           "#FECB52"
          ],
          "font": {
           "color": "#2a3f5f"
          },
          "geo": {
           "bgcolor": "white",
           "lakecolor": "white",
           "landcolor": "#E5ECF6",
           "showlakes": true,
           "showland": true,
           "subunitcolor": "white"
          },
          "hoverlabel": {
           "align": "left"
          },
          "hovermode": "closest",
          "mapbox": {
           "style": "light"
          },
          "paper_bgcolor": "white",
          "plot_bgcolor": "#E5ECF6",
          "polar": {
           "angularaxis": {
            "gridcolor": "white",
            "linecolor": "white",
            "ticks": ""
           },
           "bgcolor": "#E5ECF6",
           "radialaxis": {
            "gridcolor": "white",
            "linecolor": "white",
            "ticks": ""
           }
          },
          "scene": {
           "xaxis": {
            "backgroundcolor": "#E5ECF6",
            "gridcolor": "white",
            "gridwidth": 2,
            "linecolor": "white",
            "showbackground": true,
            "ticks": "",
            "zerolinecolor": "white"
           },
           "yaxis": {
            "backgroundcolor": "#E5ECF6",
            "gridcolor": "white",
            "gridwidth": 2,
            "linecolor": "white",
            "showbackground": true,
            "ticks": "",
            "zerolinecolor": "white"
           },
           "zaxis": {
            "backgroundcolor": "#E5ECF6",
            "gridcolor": "white",
            "gridwidth": 2,
            "linecolor": "white",
            "showbackground": true,
            "ticks": "",
            "zerolinecolor": "white"
           }
          },
          "shapedefaults": {
           "line": {
            "color": "#2a3f5f"
           }
          },
          "ternary": {
           "aaxis": {
            "gridcolor": "white",
            "linecolor": "white",
            "ticks": ""
           },
           "baxis": {
            "gridcolor": "white",
            "linecolor": "white",
            "ticks": ""
           },
           "bgcolor": "#E5ECF6",
           "caxis": {
            "gridcolor": "white",
            "linecolor": "white",
            "ticks": ""
           }
          },
          "title": {
           "x": 0.05
          },
          "xaxis": {
           "automargin": true,
           "gridcolor": "white",
           "linecolor": "white",
           "ticks": "",
           "title": {
            "standoff": 15
           },
           "zerolinecolor": "white",
           "zerolinewidth": 2
          },
          "yaxis": {
           "automargin": true,
           "gridcolor": "white",
           "linecolor": "white",
           "ticks": "",
           "title": {
            "standoff": 15
           },
           "zerolinecolor": "white",
           "zerolinewidth": 2
          }
         }
        },
        "xaxis": {
         "anchor": "y",
         "domain": [
          0,
          1
         ],
         "title": {
          "text": "Durations"
         }
        },
        "yaxis": {
         "anchor": "x",
         "domain": [
          0,
          1
         ],
         "title": {
          "text": "Views"
         }
        }
       }
      },
      "text/html": [
       "<div>                            <div id=\"c49f1428-23a7-4650-861b-793532c78a6f\" class=\"plotly-graph-div\" style=\"height:525px; width:100%;\"></div>            <script type=\"text/javascript\">                require([\"plotly\"], function(Plotly) {                    window.PLOTLYENV=window.PLOTLYENV || {};                                    if (document.getElementById(\"c49f1428-23a7-4650-861b-793532c78a6f\")) {                    Plotly.newPlot(                        \"c49f1428-23a7-4650-861b-793532c78a6f\",                        [{\"hovertemplate\":\"Durations=%{x}<br>Views=%{y}<extra></extra>\",\"legendgroup\":\"\",\"marker\":{\"color\":\"#636efa\",\"symbol\":\"circle\"},\"mode\":\"markers\",\"name\":\"\",\"orientation\":\"v\",\"showlegend\":false,\"x\":[26.6,0.55,0.8333333333333334,17.6,0.8666666666666667,19.8,0.36666666666666664,0.75,0.5833333333333334,0.6166666666666667,0.48333333333333334,16.466666666666665,0.95,0.6833333333333333,0.75,14.983333333333333,0.8666666666666667,0.4666666666666667,18.816666666666666,0.8666666666666667,16.116666666666667,0.5333333333333333,18.083333333333332,0.7833333333333333,10.6,0.8833333333333333,14.783333333333333,0.55,25.6,6.233333333333333,0.65,0.6333333333333333,0.85,12.333333333333334,0.45,12.283333333333333,0.7833333333333333,8.016666666666667,12.166666666666666,10.416666666666666,0.8,15.383333333333333,0.6666666666666666,15.616666666666667,0.6666666666666666,15.683333333333334,0.9166666666666666,17.166666666666668,12.05,8.233333333333333,15.516666666666667,16.883333333333333,13.066666666666666,17.016666666666666,13.983333333333333,9.016666666666667,8.016666666666667,12.15,12.083333333333334,11.033333333333333,25.7,4.916666666666667,15.133333333333333,8.033333333333333,12.55,17.733333333333334,15.85,10.75,10.2,12.566666666666666,14.333333333333334,16.133333333333333,13.466666666666667,16.9,14.116666666666667,10.833333333333334,12.666666666666666,10.45,9.333333333333334,10.9,13.283333333333333,14.233333333333333,6.516666666666667,11.366666666666667,9.533333333333333,14.3,14.05,15.183333333333334,11.566666666666666,14.183333333333334,9.416666666666666,2.1333333333333333,12.4,17.183333333333334,6.366666666666666,14.083333333333334,18.433333333333334,21.25,11.616666666666667,10.216666666666667,8.05,16.066666666666666,11.15,14.033333333333333,18.35,13.933333333333334,15.866666666666667,17.35,15.316666666666666,13.533333333333333,11.983333333333333,12.483333333333333,13.816666666666666,17.35,20.0,12.933333333333334,14.8,16.8,13.633333333333333,17.983333333333334,6.566666666666666,2.5833333333333335,13.8,15.166666666666666,15.416666666666666,11.75,15.766666666666667,13.033333333333333,13.05,13.8,10.866666666666667,12.933333333333334,16.95,11.683333333333334,15.166666666666666,7.383333333333334,16.8,17.15,15.633333333333333,14.766666666666667,13.15,14.533333333333333,13.983333333333333,13.133333333333333,16.65,16.65,13.866666666666667,15.283333333333333,13.366666666666667,14.883333333333333,15.316666666666666,9.483333333333333,11.283333333333333,13.733333333333333,12.116666666666667,14.85,15.4,14.3,14.966666666666667,14.766666666666667,15.116666666666667,16.933333333333334,15.7,14.483333333333333,15.983333333333333,7.633333333333334,15.15,14.333333333333334,15.533333333333333,14.233333333333333,18.483333333333334,14.616666666666667,14.066666666666666,13.6,9.816666666666666,13.433333333333334,18.266666666666666,15.716666666666667,15.933333333333334,12.75,17.766666666666666,15.316666666666666,15.283333333333333,13.183333333333334,12.05,16.5,17.5,13.833333333333334,15.233333333333333,14.733333333333333,14.866666666666667,15.25,24.65,14.683333333333334,14.416666666666666,13.816666666666666,18.133333333333333,708.6666666666666,14.633333333333333,14.75,14.05,18.316666666666666,13.116666666666667,19.783333333333335,17.583333333333332,15.516666666666667,11.75,16.9,16.6,14.633333333333333,15.383333333333333,17.533333333333335,11.866666666666667,14.1,18.866666666666667,17.616666666666667,16.366666666666667,10.216666666666667,12.916666666666666,16.183333333333334,15.183333333333334,19.783333333333335,23.033333333333335,13.766666666666667,10.5,18.55,12.383333333333333,22.033333333333335,10.066666666666666,11.866666666666667,5.85,15.766666666666667,12.4,11.65,15.433333333333334,11.516666666666667,10.566666666666666,12.233333333333333,10.266666666666667,13.6,15.05,11.8,13.7,15.15,10.383333333333333,10.25,11.3,24.716666666666665,15.2,10.066666666666666,13.083333333333334,10.683333333333334,12.4,10.2,7.166666666666667,9.2,15.166666666666666,11.75,16.1,13.166666666666666,10.166666666666666,11.283333333333333,10.933333333333334,10.483333333333333,10.733333333333333,10.05,18.433333333333334,12.133333333333333,10.35,19.35,8.35,600.0333333333333,10.066666666666666,12.65,12.416666666666666,10.266666666666667,3.45,1.8333333333333333,3.783333333333333,12.616666666666667,5.7,12.816666666666666,6.1,1026.1166666666666,16.2,3.95,8.783333333333333,2.6166666666666667,1428.1,600.1833333333333,10.033333333333333,4.716666666666667,114.81666666666666,7.116666666666666,3.1333333333333333,5.383333333333334,600.0166666666667,4.75,5.15,2.0166666666666666,25.95,33.483333333333334,1414.6333333333334,6.05,1428.1166666666666,3.683333333333333,14.333333333333334,8.85,10.2,10.066666666666666,3.8833333333333333,5.683333333333334,5.433333333333334,90.98333333333333,5.3,5.266666666666667,3.55,6.35,4.6,5.55,4.716666666666667,1.9833333333333334,5.0,1440.0333333333333,5.216666666666667,7.933333333333334,4.266666666666667,8.05,4.316666666666666,3.4166666666666665,4.133333333333334,2.933333333333333,5.583333333333333,3.45,4.433333333333334,4.833333333333333,2.7333333333333334,4.266666666666667,3.066666666666667,9.083333333333334,3.066666666666667,4.25,3.5833333333333335,3.7,4.083333333333333,5.133333333333334,2.9833333333333334,12.616666666666667,2.466666666666667,4.466666666666667,4.016666666666667,5.65,2.7,3.8,3.2333333333333334,3.683333333333333,2.9833333333333334,2.4833333333333334,3.1666666666666665,5.4,3.216666666666667,2.4166666666666665,4.85,2.1666666666666665,0.7166666666666667,3.433333333333333,3.466666666666667,3.75,4.566666666666666,5.416666666666667,3.9,4.266666666666667,4.5,2.9166666666666665,4.75,2.566666666666667,1.7,4.65,4.466666666666667,2.95,209.68333333333334,2.433333333333333,5.4,5.35,2.9833333333333334,2.9,1.7666666666666666,3.6666666666666665,3.5166666666666666,3.183333333333333,4.4,5.75,3.2333333333333334,2.2666666666666666,4.05,3.066666666666667,6.216666666666667,1.8666666666666667,2.65,9.916666666666666,6.516666666666667,3.0166666666666666,4.233333333333333,1.35,4.366666666666666,3.55,3.5,3.783333333333333,3.75,2.55,2.9833333333333334,3.0,2.3833333333333333,3.1166666666666667,0.9833333333333333,4.9,1.5333333333333334,2.75,7.833333333333333,5.566666666666666,3.9166666666666665,4.733333333333333,5.433333333333334,3.783333333333333,3.566666666666667,2.7666666666666666,2.15,3.6166666666666667,4.583333333333333,4.066666666666666,1.9166666666666667,2.9833333333333334,5.35,3.45,6.1,3.8666666666666667,1.8,6.15,5.25,1.9833333333333334,1.4666666666666666,3.716666666666667,4.1,2.6333333333333333,3.6166666666666667,4.383333333333334,4.966666666666667,4.316666666666666,1.0833333333333333,2.183333333333333,4.166666666666667,4.633333333333334,6.016666666666667,3.2333333333333334,3.5,3.15,2.4833333333333334,3.4833333333333334,4.483333333333333,3.9,5.533333333333333,4.466666666666667,4.266666666666667,4.533333333333333,2.3833333333333333,3.683333333333333,1.2666666666666666,3.683333333333333,4.133333333333334,3.15,2.933333333333333,3.216666666666667,2.35,4.066666666666666,3.0833333333333335,4.35,7.183333333333334,3.4833333333333334,2.95,3.933333333333333,3.316666666666667,3.433333333333333,2.816666666666667,2.683333333333333,2.466666666666667,2.3,1.2,2.5166666666666666,3.55,3.65,2.0166666666666666,4.233333333333333,5.233333333333333,3.433333333333333,2.5166666666666666,2.6166666666666667,3.4833333333333334,2.8833333333333333,3.1166666666666667,3.6666666666666665,2.45,3.933333333333333,5.033333333333333,1.4666666666666666,4.916666666666667,2.85,4.733333333333333,3.05,4.75,1.0,1.9166666666666667,5.183333333333334,2.1,7.533333333333333,3.15,3.4833333333333334,3.716666666666667,3.3833333333333333,7.033333333333333,3.1166666666666667,5.0,4.15,3.7333333333333334,4.316666666666666,1.7666666666666666,7.316666666666666,2.7,3.183333333333333,14.116666666666667,3.1333333333333333,2.7333333333333334,3.8833333333333333,2.3666666666666667,9.216666666666667,4.55,1.35,2.2333333333333334,1.6333333333333333,2.0833333333333335,2.533333333333333,2.5,3.05,15.766666666666667,3.6,4.083333333333333,2.05,2.2333333333333334,4.2,3.8666666666666667,3.283333333333333,5.066666666666666,1.2166666666666666,4.866666666666666,10.666666666666666,2.433333333333333,3.5,4.933333333333334,4.65,5.466666666666667,6.566666666666666,1.5333333333333334,1.8166666666666667,3.4,10.383333333333333,3.816666666666667,2.65,1.9833333333333334,1.2833333333333334,3.2666666666666666,2.6666666666666665,3.6166666666666667,4.116666666666666,2.8,3.6,2.9166666666666665,2.816666666666667,3.566666666666667,2.216666666666667,2.4166666666666665,4.766666666666667,4.083333333333333,4.283333333333333,3.1666666666666665,3.4166666666666665,3.933333333333333,7.05,3.8666666666666667,3.216666666666667,3.2666666666666666,1.5833333333333333,3.6166666666666667,3.95,3.9166666666666665,2.783333333333333,3.6,4.133333333333334,2.9,3.4,3.25,3.8833333333333333,4.8,1.9,3.0166666666666666,3.7666666666666666,2.566666666666667,2.5833333333333335,2.4833333333333334,4.35,3.0,2.4,3.5833333333333335,8.783333333333333,3.3333333333333335,4.45,6.733333333333333,4.033333333333333,4.033333333333333,3.75,0.4666666666666667,2.3833333333333333,3.7666666666666666,3.45,3.3333333333333335,3.3,6.083333333333333,4.516666666666667,8.816666666666666,3.3333333333333335,0.6,2.6166666666666667,3.5833333333333335,3.0,3.6666666666666665,3.816666666666667,3.55,1.2833333333333334,3.4166666666666665,4.4,3.433333333333333,0.8666666666666667,2.9166666666666665,3.05,2.3666666666666667,3.3666666666666667,3.0166666666666666,23.883333333333333,0.6333333333333333,3.8833333333333333,2.9,3.25,7.166666666666667,3.5,4.766666666666667,4.516666666666667,3.4833333333333334,2.783333333333333,4.6,2.0166666666666666,4.683333333333334,2.95,4.166666666666667,4.35,3.0,2.9,3.8833333333333333,1.4166666666666667,2.5166666666666666,5.033333333333333,3.4,3.1166666666666667,2.1,4.25,4.733333333333333,25.316666666666666,2.7333333333333334,4.166666666666667,2.933333333333333,2.8666666666666667,2.216666666666667,1.6166666666666667,3.1,1.3,1.6,0.9666666666666667,0.95,0.7833333333333333,1.4,2.6666666666666665,1.2,1.2666666666666666,1.1,2.7333333333333334,1.6666666666666667,3.0,4.483333333333333,2.716666666666667,5.533333333333333,2.6666666666666665,0.25,3.5833333333333335,0.6166666666666667,1.7166666666666666,0.7666666666666667,0.8666666666666667,2.7,2.4833333333333334,1.05,1.3666666666666667,14.966666666666667,1.75,6.816666666666666,3.3333333333333335,3.9166666666666665,5.3,4.433333333333334,3.8333333333333335,5.983333333333333,5.633333333333334,0.43333333333333335,2.9166666666666665,4.316666666666666,3.8833333333333333,2.45,3.4,18.45,0.8,6.033333333333333,4.35,15.75,24.566666666666666,14.333333333333334,19.9,2.6333333333333333,1.4666666666666666,0.9666666666666667,1.0666666666666667,3.216666666666667,2.566666666666667,5.316666666666666,5.45,4.35,3.5833333333333335,4.466666666666667,9.4,4.65,3.4166666666666665,2.816666666666667,6.05,4.55,0.8833333333333333,2.5833333333333335,3.7,2.2333333333333334,0.7166666666666667,0.8166666666666667,0.8666666666666667,0.48333333333333334,0.5166666666666667,2.1,1.5,3.9833333333333334,2.6166666666666667],\"xaxis\":\"x\",\"y\":[58167606,47820996,61729449,122748023,113062681,142683250,190401610,207460032,220091483,116929470,248853062,160491271,116233316,322776504,167011465,129022733,53953740,179708951,137836623,167527818,182855279,238963428,180008578,241517564,165854902,151683893,253586222,168884882,261563296,126227655,341056528,242668561,260103494,270452274,335972510,216680578,249833260,162674297,159496546,205131767,966777663,208645147,342050891,146278275,928757624,308780500,418407547,256860010,132197981,157597043,186208465,177349555,97784453,254455865,191587458,167126939,242421163,97262713,82173280,189235301,525444290,112366579,160048014,161536842,155293334,363227550,187164514,171942157,151590798,215915206,163802504,194546915,182497910,194172168,273698837,219623991,306325683,121375361,145867116,54708420,238226078,160922825,69815938,100613540,171359810,187392622,198555654,279511911,147719311,119081631,200966337,115410829,149306446,159040093,54913837,75890194,186416294,235768057,154990716,124807538,232457786,223467945,202572355,149505594,187924856,158032687,303621555,197316607,44997472,144670586,189950579,56395136,147757671,130702750,266799232,236779658,128410818,171575481,114656498,146737551,18975030,36491203,62858957,173323545,131998696,61494711,91953032,132651836,120034533,148647160,108995383,108488030,148438575,214985808,50176716,98381672,120452362,172036520,252362818,59977444,124001160,69192924,69562661,93934302,134269846,162704350,178630636,144623101,163778238,105484680,154082469,117677808,77363250,148172421,68336592,85132287,176764290,146514906,110179354,40200880,122840447,147143299,192766113,155723376,76535499,94084625,87702061,156803781,37579462,32035932,107488927,92127192,140624652,48113712,59633266,79172097,104556896,103949796,111230985,44101641,189920504,41163885,94479433,142737740,33681951,141943237,84441679,74586377,14424533,31180807,112032117,46907874,97047831,149074545,100189245,64159409,128950194,25710373,43075818,190657581,44141395,28750924,18386010,88586120,36046620,38581665,43410968,31051583,90462658,41908933,72391828,17091072,28144035,139863281,35512818,63737926,43059751,69345813,28475543,111149880,134738665,56324620,51972598,44975781,36623302,17614249,28601611,96512271,29885501,90198668,28750688,21599009,74304757,126806135,53032951,11229191,17224492,15704870,37021854,24551822,15020170,40949139,14672551,23666633,26767840,31246500,32474632,24303610,38689344,19300037,20003579,13179838,14709630,32745344,25560755,53793115,17692113,7737378,11312858,18282078,8710682,36646712,47375285,37232389,26973267,9110444,32689793,26366820,44425034,27565714,30782304,2218593,7333264,25887461,31072992,42187263,5775195,13549590,3791164,4599523,6031166,22108486,2724261,23027154,10781084,31926517,6478960,25777111,873951,27979745,10782114,19713706,34942323,42330064,2027840,26220736,52604927,1850181,4100356,7260443,524737,7641430,3804954,3314194,29304499,1959624,4880127,22902633,8705399,11350700,1793853,16221108,2502157,10875836,3724765,3845039,13383856,1565443,9852775,291331,1205614,1499563,380363,712047,317015,3023768,1451782,3240209,1646381,3090993,809255,1645940,3565337,2220232,1305913,1177844,158973,704788,834330,1313125,172526,648482,402785,408657,3658854,27771869,127747,364104,166491,334608,623420,126308,104873,97485,109535,151997,39691,272080,124402,121354,683062,2126239,54509,114006,138741,163100,43267,42471,2063540,2017144,63201,145779,106833,556450,132647,50956,87716,89659,152172,76253,65723798,130169,216519,59374,79566,116206,65867,122348,155396,42280,365790,79682,59346,149184,57423,211468,103052,183761,631498,922162,92549,74559,186184,68361,285175,263323,59493,43356,385433,471505,7537628,117137,100933,13744089,60794,137630,242479,46339,126554,62706,278476,54714,46564,588591,79243,43824,470784,39666,89107,94510,1566351,69757,79492,309994,82091,39660,39664,1360150,76239,44783,230609,52766,44636,40681,105527,778499,64535,43746,39878,8341765,39874,45921,217881,265445,39784,39795,116572,40269,39758,43591,732708,39711,161006,678290,65170,39905,69333,774473,39985,131969,50235,62575,65542,63595,119869,214013,43467,140697,44015,39708,39768,39811,89847,156142,373960,681576,78035,39759,80749,39715,127871,39867,80714,76527,64876,39923,71223,223449,39776,39659,75397,1764583,39878,42819,39862,49491,92115,40858,49226,102294,50779,41737,210145,206900,39681,45436,40161,115843,40582,40090,128814,39940,105323,76276,40543,40772,62786,565930,39658,142015,235085,164089,39912,40145,39750,52400,39859,39896,40228,40337,39945,39906,39915,88782,165253,146467,39641,48852,39705,39894,40108,39917,39673,68179,39738,55741,119699,65176,39679,39774,39791,39659,39681,39721,108355,39919,53219,49204,111089,40063,40005,56281,40034,39944,61839,39670,40308,60317,228880,67238,39929,436987,149637,44610,62722,449951,156158,113602,44407,41144,42266,94939,63642,54886,179923,41507,40044,57337,131876,39674,88179,301024,51822,106356,94882,59351,116634,66228,52226,75402,305798,39681,229569,123309,111754,48002,193240,39825,60525,218155,39822,199960,39671,39875,39724,58653,46867,80020,39780,40169,57372,39859,39959,39723,58095,62051,76927,178999,285095,39661,76339,446169,47855,54810,177498,52162,360608,60582,63039,17192658,197639,616907,67078,308185,128998,55436,62349,52066,42549,46952,125192,49978,85724,81885,338024,89761,62963,579447,95753,95931,2855540,319684,316347,92280,67997,1279471,52642,47050,40099,40096,40142,41776,55589,47657,47620,48174,50748,49622,53623,78359,52055,57581,78662,309417,59688,102452,627364,82070,79155,77361,136950,208096,12403115,118607,119624,88282,141546,92555,143456,481889,65672,72408,65710,66143,117570,79309,170511,84532,107429,116291,157663,99213,120994,139580,560113,199183,184172,258463,96962,96047,96231,160699,144707,143207,287237,425191,412047,256324,127287,120600,162789,134725,129161,138322,160276,138972,203815,615752,319627,378901,542843,284016,426451,405093,390475,613396,753263,821682,952911,1130858,4032686,19724605],\"yaxis\":\"y\",\"type\":\"scatter\"}],                        {\"template\":{\"data\":{\"histogram2dcontour\":[{\"type\":\"histogram2dcontour\",\"colorbar\":{\"outlinewidth\":0,\"ticks\":\"\"},\"colorscale\":[[0.0,\"#0d0887\"],[0.1111111111111111,\"#46039f\"],[0.2222222222222222,\"#7201a8\"],[0.3333333333333333,\"#9c179e\"],[0.4444444444444444,\"#bd3786\"],[0.5555555555555556,\"#d8576b\"],[0.6666666666666666,\"#ed7953\"],[0.7777777777777778,\"#fb9f3a\"],[0.8888888888888888,\"#fdca26\"],[1.0,\"#f0f921\"]]}],\"choropleth\":[{\"type\":\"choropleth\",\"colorbar\":{\"outlinewidth\":0,\"ticks\":\"\"}}],\"histogram2d\":[{\"type\":\"histogram2d\",\"colorbar\":{\"outlinewidth\":0,\"ticks\":\"\"},\"colorscale\":[[0.0,\"#0d0887\"],[0.1111111111111111,\"#46039f\"],[0.2222222222222222,\"#7201a8\"],[0.3333333333333333,\"#9c179e\"],[0.4444444444444444,\"#bd3786\"],[0.5555555555555556,\"#d8576b\"],[0.6666666666666666,\"#ed7953\"],[0.7777777777777778,\"#fb9f3a\"],[0.8888888888888888,\"#fdca26\"],[1.0,\"#f0f921\"]]}],\"heatmap\":[{\"type\":\"heatmap\",\"colorbar\":{\"outlinewidth\":0,\"ticks\":\"\"},\"colorscale\":[[0.0,\"#0d0887\"],[0.1111111111111111,\"#46039f\"],[0.2222222222222222,\"#7201a8\"],[0.3333333333333333,\"#9c179e\"],[0.4444444444444444,\"#bd3786\"],[0.5555555555555556,\"#d8576b\"],[0.6666666666666666,\"#ed7953\"],[0.7777777777777778,\"#fb9f3a\"],[0.8888888888888888,\"#fdca26\"],[1.0,\"#f0f921\"]]}],\"heatmapgl\":[{\"type\":\"heatmapgl\",\"colorbar\":{\"outlinewidth\":0,\"ticks\":\"\"},\"colorscale\":[[0.0,\"#0d0887\"],[0.1111111111111111,\"#46039f\"],[0.2222222222222222,\"#7201a8\"],[0.3333333333333333,\"#9c179e\"],[0.4444444444444444,\"#bd3786\"],[0.5555555555555556,\"#d8576b\"],[0.6666666666666666,\"#ed7953\"],[0.7777777777777778,\"#fb9f3a\"],[0.8888888888888888,\"#fdca26\"],[1.0,\"#f0f921\"]]}],\"contourcarpet\":[{\"type\":\"contourcarpet\",\"colorbar\":{\"outlinewidth\":0,\"ticks\":\"\"}}],\"contour\":[{\"type\":\"contour\",\"colorbar\":{\"outlinewidth\":0,\"ticks\":\"\"},\"colorscale\":[[0.0,\"#0d0887\"],[0.1111111111111111,\"#46039f\"],[0.2222222222222222,\"#7201a8\"],[0.3333333333333333,\"#9c179e\"],[0.4444444444444444,\"#bd3786\"],[0.5555555555555556,\"#d8576b\"],[0.6666666666666666,\"#ed7953\"],[0.7777777777777778,\"#fb9f3a\"],[0.8888888888888888,\"#fdca26\"],[1.0,\"#f0f921\"]]}],\"surface\":[{\"type\":\"surface\",\"colorbar\":{\"outlinewidth\":0,\"ticks\":\"\"},\"colorscale\":[[0.0,\"#0d0887\"],[0.1111111111111111,\"#46039f\"],[0.2222222222222222,\"#7201a8\"],[0.3333333333333333,\"#9c179e\"],[0.4444444444444444,\"#bd3786\"],[0.5555555555555556,\"#d8576b\"],[0.6666666666666666,\"#ed7953\"],[0.7777777777777778,\"#fb9f3a\"],[0.8888888888888888,\"#fdca26\"],[1.0,\"#f0f921\"]]}],\"mesh3d\":[{\"type\":\"mesh3d\",\"colorbar\":{\"outlinewidth\":0,\"ticks\":\"\"}}],\"scatter\":[{\"fillpattern\":{\"fillmode\":\"overlay\",\"size\":10,\"solidity\":0.2},\"type\":\"scatter\"}],\"parcoords\":[{\"type\":\"parcoords\",\"line\":{\"colorbar\":{\"outlinewidth\":0,\"ticks\":\"\"}}}],\"scatterpolargl\":[{\"type\":\"scatterpolargl\",\"marker\":{\"colorbar\":{\"outlinewidth\":0,\"ticks\":\"\"}}}],\"bar\":[{\"error_x\":{\"color\":\"#2a3f5f\"},\"error_y\":{\"color\":\"#2a3f5f\"},\"marker\":{\"line\":{\"color\":\"#E5ECF6\",\"width\":0.5},\"pattern\":{\"fillmode\":\"overlay\",\"size\":10,\"solidity\":0.2}},\"type\":\"bar\"}],\"scattergeo\":[{\"type\":\"scattergeo\",\"marker\":{\"colorbar\":{\"outlinewidth\":0,\"ticks\":\"\"}}}],\"scatterpolar\":[{\"type\":\"scatterpolar\",\"marker\":{\"colorbar\":{\"outlinewidth\":0,\"ticks\":\"\"}}}],\"histogram\":[{\"marker\":{\"pattern\":{\"fillmode\":\"overlay\",\"size\":10,\"solidity\":0.2}},\"type\":\"histogram\"}],\"scattergl\":[{\"type\":\"scattergl\",\"marker\":{\"colorbar\":{\"outlinewidth\":0,\"ticks\":\"\"}}}],\"scatter3d\":[{\"type\":\"scatter3d\",\"line\":{\"colorbar\":{\"outlinewidth\":0,\"ticks\":\"\"}},\"marker\":{\"colorbar\":{\"outlinewidth\":0,\"ticks\":\"\"}}}],\"scattermapbox\":[{\"type\":\"scattermapbox\",\"marker\":{\"colorbar\":{\"outlinewidth\":0,\"ticks\":\"\"}}}],\"scatterternary\":[{\"type\":\"scatterternary\",\"marker\":{\"colorbar\":{\"outlinewidth\":0,\"ticks\":\"\"}}}],\"scattercarpet\":[{\"type\":\"scattercarpet\",\"marker\":{\"colorbar\":{\"outlinewidth\":0,\"ticks\":\"\"}}}],\"carpet\":[{\"aaxis\":{\"endlinecolor\":\"#2a3f5f\",\"gridcolor\":\"white\",\"linecolor\":\"white\",\"minorgridcolor\":\"white\",\"startlinecolor\":\"#2a3f5f\"},\"baxis\":{\"endlinecolor\":\"#2a3f5f\",\"gridcolor\":\"white\",\"linecolor\":\"white\",\"minorgridcolor\":\"white\",\"startlinecolor\":\"#2a3f5f\"},\"type\":\"carpet\"}],\"table\":[{\"cells\":{\"fill\":{\"color\":\"#EBF0F8\"},\"line\":{\"color\":\"white\"}},\"header\":{\"fill\":{\"color\":\"#C8D4E3\"},\"line\":{\"color\":\"white\"}},\"type\":\"table\"}],\"barpolar\":[{\"marker\":{\"line\":{\"color\":\"#E5ECF6\",\"width\":0.5},\"pattern\":{\"fillmode\":\"overlay\",\"size\":10,\"solidity\":0.2}},\"type\":\"barpolar\"}],\"pie\":[{\"automargin\":true,\"type\":\"pie\"}]},\"layout\":{\"autotypenumbers\":\"strict\",\"colorway\":[\"#636efa\",\"#EF553B\",\"#00cc96\",\"#ab63fa\",\"#FFA15A\",\"#19d3f3\",\"#FF6692\",\"#B6E880\",\"#FF97FF\",\"#FECB52\"],\"font\":{\"color\":\"#2a3f5f\"},\"hovermode\":\"closest\",\"hoverlabel\":{\"align\":\"left\"},\"paper_bgcolor\":\"white\",\"plot_bgcolor\":\"#E5ECF6\",\"polar\":{\"bgcolor\":\"#E5ECF6\",\"angularaxis\":{\"gridcolor\":\"white\",\"linecolor\":\"white\",\"ticks\":\"\"},\"radialaxis\":{\"gridcolor\":\"white\",\"linecolor\":\"white\",\"ticks\":\"\"}},\"ternary\":{\"bgcolor\":\"#E5ECF6\",\"aaxis\":{\"gridcolor\":\"white\",\"linecolor\":\"white\",\"ticks\":\"\"},\"baxis\":{\"gridcolor\":\"white\",\"linecolor\":\"white\",\"ticks\":\"\"},\"caxis\":{\"gridcolor\":\"white\",\"linecolor\":\"white\",\"ticks\":\"\"}},\"coloraxis\":{\"colorbar\":{\"outlinewidth\":0,\"ticks\":\"\"}},\"colorscale\":{\"sequential\":[[0.0,\"#0d0887\"],[0.1111111111111111,\"#46039f\"],[0.2222222222222222,\"#7201a8\"],[0.3333333333333333,\"#9c179e\"],[0.4444444444444444,\"#bd3786\"],[0.5555555555555556,\"#d8576b\"],[0.6666666666666666,\"#ed7953\"],[0.7777777777777778,\"#fb9f3a\"],[0.8888888888888888,\"#fdca26\"],[1.0,\"#f0f921\"]],\"sequentialminus\":[[0.0,\"#0d0887\"],[0.1111111111111111,\"#46039f\"],[0.2222222222222222,\"#7201a8\"],[0.3333333333333333,\"#9c179e\"],[0.4444444444444444,\"#bd3786\"],[0.5555555555555556,\"#d8576b\"],[0.6666666666666666,\"#ed7953\"],[0.7777777777777778,\"#fb9f3a\"],[0.8888888888888888,\"#fdca26\"],[1.0,\"#f0f921\"]],\"diverging\":[[0,\"#8e0152\"],[0.1,\"#c51b7d\"],[0.2,\"#de77ae\"],[0.3,\"#f1b6da\"],[0.4,\"#fde0ef\"],[0.5,\"#f7f7f7\"],[0.6,\"#e6f5d0\"],[0.7,\"#b8e186\"],[0.8,\"#7fbc41\"],[0.9,\"#4d9221\"],[1,\"#276419\"]]},\"xaxis\":{\"gridcolor\":\"white\",\"linecolor\":\"white\",\"ticks\":\"\",\"title\":{\"standoff\":15},\"zerolinecolor\":\"white\",\"automargin\":true,\"zerolinewidth\":2},\"yaxis\":{\"gridcolor\":\"white\",\"linecolor\":\"white\",\"ticks\":\"\",\"title\":{\"standoff\":15},\"zerolinecolor\":\"white\",\"automargin\":true,\"zerolinewidth\":2},\"scene\":{\"xaxis\":{\"backgroundcolor\":\"#E5ECF6\",\"gridcolor\":\"white\",\"linecolor\":\"white\",\"showbackground\":true,\"ticks\":\"\",\"zerolinecolor\":\"white\",\"gridwidth\":2},\"yaxis\":{\"backgroundcolor\":\"#E5ECF6\",\"gridcolor\":\"white\",\"linecolor\":\"white\",\"showbackground\":true,\"ticks\":\"\",\"zerolinecolor\":\"white\",\"gridwidth\":2},\"zaxis\":{\"backgroundcolor\":\"#E5ECF6\",\"gridcolor\":\"white\",\"linecolor\":\"white\",\"showbackground\":true,\"ticks\":\"\",\"zerolinecolor\":\"white\",\"gridwidth\":2}},\"shapedefaults\":{\"line\":{\"color\":\"#2a3f5f\"}},\"annotationdefaults\":{\"arrowcolor\":\"#2a3f5f\",\"arrowhead\":0,\"arrowwidth\":1},\"geo\":{\"bgcolor\":\"white\",\"landcolor\":\"#E5ECF6\",\"subunitcolor\":\"white\",\"showland\":true,\"showlakes\":true,\"lakecolor\":\"white\"},\"title\":{\"x\":0.05},\"mapbox\":{\"style\":\"light\"}}},\"xaxis\":{\"anchor\":\"y\",\"domain\":[0.0,1.0],\"title\":{\"text\":\"Durations\"}},\"yaxis\":{\"anchor\":\"x\",\"domain\":[0.0,1.0],\"title\":{\"text\":\"Views\"}},\"legend\":{\"tracegroupgap\":0},\"margin\":{\"t\":60}},                        {\"responsive\": true}                    ).then(function(){\n",
       "                            \n",
       "var gd = document.getElementById('c49f1428-23a7-4650-861b-793532c78a6f');\n",
       "var x = new MutationObserver(function (mutations, observer) {{\n",
       "        var display = window.getComputedStyle(gd).display;\n",
       "        if (!display || display === 'none') {{\n",
       "            console.log([gd, 'removed!']);\n",
       "            Plotly.purge(gd);\n",
       "            observer.disconnect();\n",
       "        }}\n",
       "}});\n",
       "\n",
       "// Listen for the removal of the full notebook cells\n",
       "var notebookContainer = gd.closest('#notebook-container');\n",
       "if (notebookContainer) {{\n",
       "    x.observe(notebookContainer, {childList: true});\n",
       "}}\n",
       "\n",
       "// Listen for the clearing of the current output cell\n",
       "var outputEl = gd.closest('.output');\n",
       "if (outputEl) {{\n",
       "    x.observe(outputEl, {childList: true});\n",
       "}}\n",
       "\n",
       "                        })                };                });            </script>        </div>"
      ]
     },
     "metadata": {},
     "output_type": "display_data"
    }
   ],
   "source": [
    "fig = px.scatter(df,x='Durations',y='Views')\n",
    "fig.show()"
   ]
  },
  {
   "cell_type": "code",
   "execution_count": 852,
   "id": "55856980",
   "metadata": {},
   "outputs": [
    {
     "name": "stderr",
     "output_type": "stream",
     "text": [
      "C:\\Users\\Admin\\AppData\\Local\\Temp\\ipykernel_5304\\3277481525.py:3: FutureWarning:\n",
      "\n",
      "Indexing with multiple keys (implicitly converted to a tuple of keys) will be deprecated, use a list instead.\n",
      "\n"
     ]
    },
    {
     "data": {
      "text/html": [
       "<div>\n",
       "<style scoped>\n",
       "    .dataframe tbody tr th:only-of-type {\n",
       "        vertical-align: middle;\n",
       "    }\n",
       "\n",
       "    .dataframe tbody tr th {\n",
       "        vertical-align: top;\n",
       "    }\n",
       "\n",
       "    .dataframe thead th {\n",
       "        text-align: right;\n",
       "    }\n",
       "</style>\n",
       "<table border=\"1\" class=\"dataframe\">\n",
       "  <thead>\n",
       "    <tr style=\"text-align: right;\">\n",
       "      <th></th>\n",
       "      <th>Views</th>\n",
       "      <th>Likes</th>\n",
       "    </tr>\n",
       "    <tr>\n",
       "      <th>publishDayName</th>\n",
       "      <th></th>\n",
       "      <th></th>\n",
       "    </tr>\n",
       "  </thead>\n",
       "  <tbody>\n",
       "    <tr>\n",
       "      <th>Friday</th>\n",
       "      <td>418407547</td>\n",
       "      <td>25620716</td>\n",
       "    </tr>\n",
       "    <tr>\n",
       "      <th>Monday</th>\n",
       "      <td>341056528</td>\n",
       "      <td>15676704</td>\n",
       "    </tr>\n",
       "    <tr>\n",
       "      <th>Saturday</th>\n",
       "      <td>650831391</td>\n",
       "      <td>24330233</td>\n",
       "    </tr>\n",
       "    <tr>\n",
       "      <th>Thursday</th>\n",
       "      <td>1625526677</td>\n",
       "      <td>77118528</td>\n",
       "    </tr>\n",
       "    <tr>\n",
       "      <th>Tuesday</th>\n",
       "      <td>363227550</td>\n",
       "      <td>6551587</td>\n",
       "    </tr>\n",
       "    <tr>\n",
       "      <th>Wednesday</th>\n",
       "      <td>1454201914</td>\n",
       "      <td>47222134</td>\n",
       "    </tr>\n",
       "  </tbody>\n",
       "</table>\n",
       "</div>"
      ],
      "text/plain": [
       "                     Views     Likes\n",
       "publishDayName                      \n",
       "Friday           418407547  25620716\n",
       "Monday           341056528  15676704\n",
       "Saturday         650831391  24330233\n",
       "Thursday        1625526677  77118528\n",
       "Tuesday          363227550   6551587\n",
       "Wednesday       1454201914  47222134"
      ]
     },
     "execution_count": 852,
     "metadata": {},
     "output_type": "execute_result"
    }
   ],
   "source": [
    "top10 =  df.sort_values(by='Views', ascending=False)\n",
    "top10 = top10.head(10)\n",
    "top10.groupby('publishDayName')['Views','Likes'].sum()"
   ]
  },
  {
   "cell_type": "code",
   "execution_count": 853,
   "id": "90aced02",
   "metadata": {},
   "outputs": [
    {
     "data": {
      "application/vnd.plotly.v1+json": {
       "config": {
        "plotlyServerURL": "https://plot.ly"
       },
       "data": [
        {
         "alignmentgroup": "True",
         "hovertemplate": "Title=%{x}<br>Views=%{y}<extra></extra>",
         "legendgroup": "",
         "marker": {
          "color": "#636efa",
          "pattern": {
           "shape": ""
          }
         },
         "name": "",
         "offsetgroup": "",
         "orientation": "v",
         "showlegend": false,
         "textposition": "auto",
         "type": "bar",
         "x": [
          "Would You Fly To Paris For A Baguette?",
          "Giving iPhones Instead Of Candy on Halloween",
          "$456,000 Squid Game In Real Life!",
          "The Rock Vs MrBeast For $100,000",
          "Last To Leave Circle Wins $500,000",
          "Gordon Ramsay Tries Most Expensive Chocolate Bar!",
          "Would You Pet a Cheetah in Africa?",
          "I Sent a Subscriber to Disneyland",
          "Katana Vs Bullet",
          "$1 vs $1,000,000 Hotel Room!"
         ],
         "xaxis": "x",
         "y": [
          966777663,
          928757624,
          525444290,
          418407547,
          363227550,
          342050891,
          341056528,
          335972510,
          322776504,
          308780500
         ],
         "yaxis": "y"
        }
       ],
       "layout": {
        "barmode": "relative",
        "legend": {
         "tracegroupgap": 0
        },
        "template": {
         "data": {
          "bar": [
           {
            "error_x": {
             "color": "#2a3f5f"
            },
            "error_y": {
             "color": "#2a3f5f"
            },
            "marker": {
             "line": {
              "color": "#E5ECF6",
              "width": 0.5
             },
             "pattern": {
              "fillmode": "overlay",
              "size": 10,
              "solidity": 0.2
             }
            },
            "type": "bar"
           }
          ],
          "barpolar": [
           {
            "marker": {
             "line": {
              "color": "#E5ECF6",
              "width": 0.5
             },
             "pattern": {
              "fillmode": "overlay",
              "size": 10,
              "solidity": 0.2
             }
            },
            "type": "barpolar"
           }
          ],
          "carpet": [
           {
            "aaxis": {
             "endlinecolor": "#2a3f5f",
             "gridcolor": "white",
             "linecolor": "white",
             "minorgridcolor": "white",
             "startlinecolor": "#2a3f5f"
            },
            "baxis": {
             "endlinecolor": "#2a3f5f",
             "gridcolor": "white",
             "linecolor": "white",
             "minorgridcolor": "white",
             "startlinecolor": "#2a3f5f"
            },
            "type": "carpet"
           }
          ],
          "choropleth": [
           {
            "colorbar": {
             "outlinewidth": 0,
             "ticks": ""
            },
            "type": "choropleth"
           }
          ],
          "contour": [
           {
            "colorbar": {
             "outlinewidth": 0,
             "ticks": ""
            },
            "colorscale": [
             [
              0,
              "#0d0887"
             ],
             [
              0.1111111111111111,
              "#46039f"
             ],
             [
              0.2222222222222222,
              "#7201a8"
             ],
             [
              0.3333333333333333,
              "#9c179e"
             ],
             [
              0.4444444444444444,
              "#bd3786"
             ],
             [
              0.5555555555555556,
              "#d8576b"
             ],
             [
              0.6666666666666666,
              "#ed7953"
             ],
             [
              0.7777777777777778,
              "#fb9f3a"
             ],
             [
              0.8888888888888888,
              "#fdca26"
             ],
             [
              1,
              "#f0f921"
             ]
            ],
            "type": "contour"
           }
          ],
          "contourcarpet": [
           {
            "colorbar": {
             "outlinewidth": 0,
             "ticks": ""
            },
            "type": "contourcarpet"
           }
          ],
          "heatmap": [
           {
            "colorbar": {
             "outlinewidth": 0,
             "ticks": ""
            },
            "colorscale": [
             [
              0,
              "#0d0887"
             ],
             [
              0.1111111111111111,
              "#46039f"
             ],
             [
              0.2222222222222222,
              "#7201a8"
             ],
             [
              0.3333333333333333,
              "#9c179e"
             ],
             [
              0.4444444444444444,
              "#bd3786"
             ],
             [
              0.5555555555555556,
              "#d8576b"
             ],
             [
              0.6666666666666666,
              "#ed7953"
             ],
             [
              0.7777777777777778,
              "#fb9f3a"
             ],
             [
              0.8888888888888888,
              "#fdca26"
             ],
             [
              1,
              "#f0f921"
             ]
            ],
            "type": "heatmap"
           }
          ],
          "heatmapgl": [
           {
            "colorbar": {
             "outlinewidth": 0,
             "ticks": ""
            },
            "colorscale": [
             [
              0,
              "#0d0887"
             ],
             [
              0.1111111111111111,
              "#46039f"
             ],
             [
              0.2222222222222222,
              "#7201a8"
             ],
             [
              0.3333333333333333,
              "#9c179e"
             ],
             [
              0.4444444444444444,
              "#bd3786"
             ],
             [
              0.5555555555555556,
              "#d8576b"
             ],
             [
              0.6666666666666666,
              "#ed7953"
             ],
             [
              0.7777777777777778,
              "#fb9f3a"
             ],
             [
              0.8888888888888888,
              "#fdca26"
             ],
             [
              1,
              "#f0f921"
             ]
            ],
            "type": "heatmapgl"
           }
          ],
          "histogram": [
           {
            "marker": {
             "pattern": {
              "fillmode": "overlay",
              "size": 10,
              "solidity": 0.2
             }
            },
            "type": "histogram"
           }
          ],
          "histogram2d": [
           {
            "colorbar": {
             "outlinewidth": 0,
             "ticks": ""
            },
            "colorscale": [
             [
              0,
              "#0d0887"
             ],
             [
              0.1111111111111111,
              "#46039f"
             ],
             [
              0.2222222222222222,
              "#7201a8"
             ],
             [
              0.3333333333333333,
              "#9c179e"
             ],
             [
              0.4444444444444444,
              "#bd3786"
             ],
             [
              0.5555555555555556,
              "#d8576b"
             ],
             [
              0.6666666666666666,
              "#ed7953"
             ],
             [
              0.7777777777777778,
              "#fb9f3a"
             ],
             [
              0.8888888888888888,
              "#fdca26"
             ],
             [
              1,
              "#f0f921"
             ]
            ],
            "type": "histogram2d"
           }
          ],
          "histogram2dcontour": [
           {
            "colorbar": {
             "outlinewidth": 0,
             "ticks": ""
            },
            "colorscale": [
             [
              0,
              "#0d0887"
             ],
             [
              0.1111111111111111,
              "#46039f"
             ],
             [
              0.2222222222222222,
              "#7201a8"
             ],
             [
              0.3333333333333333,
              "#9c179e"
             ],
             [
              0.4444444444444444,
              "#bd3786"
             ],
             [
              0.5555555555555556,
              "#d8576b"
             ],
             [
              0.6666666666666666,
              "#ed7953"
             ],
             [
              0.7777777777777778,
              "#fb9f3a"
             ],
             [
              0.8888888888888888,
              "#fdca26"
             ],
             [
              1,
              "#f0f921"
             ]
            ],
            "type": "histogram2dcontour"
           }
          ],
          "mesh3d": [
           {
            "colorbar": {
             "outlinewidth": 0,
             "ticks": ""
            },
            "type": "mesh3d"
           }
          ],
          "parcoords": [
           {
            "line": {
             "colorbar": {
              "outlinewidth": 0,
              "ticks": ""
             }
            },
            "type": "parcoords"
           }
          ],
          "pie": [
           {
            "automargin": true,
            "type": "pie"
           }
          ],
          "scatter": [
           {
            "fillpattern": {
             "fillmode": "overlay",
             "size": 10,
             "solidity": 0.2
            },
            "type": "scatter"
           }
          ],
          "scatter3d": [
           {
            "line": {
             "colorbar": {
              "outlinewidth": 0,
              "ticks": ""
             }
            },
            "marker": {
             "colorbar": {
              "outlinewidth": 0,
              "ticks": ""
             }
            },
            "type": "scatter3d"
           }
          ],
          "scattercarpet": [
           {
            "marker": {
             "colorbar": {
              "outlinewidth": 0,
              "ticks": ""
             }
            },
            "type": "scattercarpet"
           }
          ],
          "scattergeo": [
           {
            "marker": {
             "colorbar": {
              "outlinewidth": 0,
              "ticks": ""
             }
            },
            "type": "scattergeo"
           }
          ],
          "scattergl": [
           {
            "marker": {
             "colorbar": {
              "outlinewidth": 0,
              "ticks": ""
             }
            },
            "type": "scattergl"
           }
          ],
          "scattermapbox": [
           {
            "marker": {
             "colorbar": {
              "outlinewidth": 0,
              "ticks": ""
             }
            },
            "type": "scattermapbox"
           }
          ],
          "scatterpolar": [
           {
            "marker": {
             "colorbar": {
              "outlinewidth": 0,
              "ticks": ""
             }
            },
            "type": "scatterpolar"
           }
          ],
          "scatterpolargl": [
           {
            "marker": {
             "colorbar": {
              "outlinewidth": 0,
              "ticks": ""
             }
            },
            "type": "scatterpolargl"
           }
          ],
          "scatterternary": [
           {
            "marker": {
             "colorbar": {
              "outlinewidth": 0,
              "ticks": ""
             }
            },
            "type": "scatterternary"
           }
          ],
          "surface": [
           {
            "colorbar": {
             "outlinewidth": 0,
             "ticks": ""
            },
            "colorscale": [
             [
              0,
              "#0d0887"
             ],
             [
              0.1111111111111111,
              "#46039f"
             ],
             [
              0.2222222222222222,
              "#7201a8"
             ],
             [
              0.3333333333333333,
              "#9c179e"
             ],
             [
              0.4444444444444444,
              "#bd3786"
             ],
             [
              0.5555555555555556,
              "#d8576b"
             ],
             [
              0.6666666666666666,
              "#ed7953"
             ],
             [
              0.7777777777777778,
              "#fb9f3a"
             ],
             [
              0.8888888888888888,
              "#fdca26"
             ],
             [
              1,
              "#f0f921"
             ]
            ],
            "type": "surface"
           }
          ],
          "table": [
           {
            "cells": {
             "fill": {
              "color": "#EBF0F8"
             },
             "line": {
              "color": "white"
             }
            },
            "header": {
             "fill": {
              "color": "#C8D4E3"
             },
             "line": {
              "color": "white"
             }
            },
            "type": "table"
           }
          ]
         },
         "layout": {
          "annotationdefaults": {
           "arrowcolor": "#2a3f5f",
           "arrowhead": 0,
           "arrowwidth": 1
          },
          "autotypenumbers": "strict",
          "coloraxis": {
           "colorbar": {
            "outlinewidth": 0,
            "ticks": ""
           }
          },
          "colorscale": {
           "diverging": [
            [
             0,
             "#8e0152"
            ],
            [
             0.1,
             "#c51b7d"
            ],
            [
             0.2,
             "#de77ae"
            ],
            [
             0.3,
             "#f1b6da"
            ],
            [
             0.4,
             "#fde0ef"
            ],
            [
             0.5,
             "#f7f7f7"
            ],
            [
             0.6,
             "#e6f5d0"
            ],
            [
             0.7,
             "#b8e186"
            ],
            [
             0.8,
             "#7fbc41"
            ],
            [
             0.9,
             "#4d9221"
            ],
            [
             1,
             "#276419"
            ]
           ],
           "sequential": [
            [
             0,
             "#0d0887"
            ],
            [
             0.1111111111111111,
             "#46039f"
            ],
            [
             0.2222222222222222,
             "#7201a8"
            ],
            [
             0.3333333333333333,
             "#9c179e"
            ],
            [
             0.4444444444444444,
             "#bd3786"
            ],
            [
             0.5555555555555556,
             "#d8576b"
            ],
            [
             0.6666666666666666,
             "#ed7953"
            ],
            [
             0.7777777777777778,
             "#fb9f3a"
            ],
            [
             0.8888888888888888,
             "#fdca26"
            ],
            [
             1,
             "#f0f921"
            ]
           ],
           "sequentialminus": [
            [
             0,
             "#0d0887"
            ],
            [
             0.1111111111111111,
             "#46039f"
            ],
            [
             0.2222222222222222,
             "#7201a8"
            ],
            [
             0.3333333333333333,
             "#9c179e"
            ],
            [
             0.4444444444444444,
             "#bd3786"
            ],
            [
             0.5555555555555556,
             "#d8576b"
            ],
            [
             0.6666666666666666,
             "#ed7953"
            ],
            [
             0.7777777777777778,
             "#fb9f3a"
            ],
            [
             0.8888888888888888,
             "#fdca26"
            ],
            [
             1,
             "#f0f921"
            ]
           ]
          },
          "colorway": [
           "#636efa",
           "#EF553B",
           "#00cc96",
           "#ab63fa",
           "#FFA15A",
           "#19d3f3",
           "#FF6692",
           "#B6E880",
           "#FF97FF",
           "#FECB52"
          ],
          "font": {
           "color": "#2a3f5f"
          },
          "geo": {
           "bgcolor": "white",
           "lakecolor": "white",
           "landcolor": "#E5ECF6",
           "showlakes": true,
           "showland": true,
           "subunitcolor": "white"
          },
          "hoverlabel": {
           "align": "left"
          },
          "hovermode": "closest",
          "mapbox": {
           "style": "light"
          },
          "paper_bgcolor": "white",
          "plot_bgcolor": "#E5ECF6",
          "polar": {
           "angularaxis": {
            "gridcolor": "white",
            "linecolor": "white",
            "ticks": ""
           },
           "bgcolor": "#E5ECF6",
           "radialaxis": {
            "gridcolor": "white",
            "linecolor": "white",
            "ticks": ""
           }
          },
          "scene": {
           "xaxis": {
            "backgroundcolor": "#E5ECF6",
            "gridcolor": "white",
            "gridwidth": 2,
            "linecolor": "white",
            "showbackground": true,
            "ticks": "",
            "zerolinecolor": "white"
           },
           "yaxis": {
            "backgroundcolor": "#E5ECF6",
            "gridcolor": "white",
            "gridwidth": 2,
            "linecolor": "white",
            "showbackground": true,
            "ticks": "",
            "zerolinecolor": "white"
           },
           "zaxis": {
            "backgroundcolor": "#E5ECF6",
            "gridcolor": "white",
            "gridwidth": 2,
            "linecolor": "white",
            "showbackground": true,
            "ticks": "",
            "zerolinecolor": "white"
           }
          },
          "shapedefaults": {
           "line": {
            "color": "#2a3f5f"
           }
          },
          "ternary": {
           "aaxis": {
            "gridcolor": "white",
            "linecolor": "white",
            "ticks": ""
           },
           "baxis": {
            "gridcolor": "white",
            "linecolor": "white",
            "ticks": ""
           },
           "bgcolor": "#E5ECF6",
           "caxis": {
            "gridcolor": "white",
            "linecolor": "white",
            "ticks": ""
           }
          },
          "title": {
           "x": 0.05
          },
          "xaxis": {
           "automargin": true,
           "gridcolor": "white",
           "linecolor": "white",
           "ticks": "",
           "title": {
            "standoff": 15
           },
           "zerolinecolor": "white",
           "zerolinewidth": 2
          },
          "yaxis": {
           "automargin": true,
           "gridcolor": "white",
           "linecolor": "white",
           "ticks": "",
           "title": {
            "standoff": 15
           },
           "zerolinecolor": "white",
           "zerolinewidth": 2
          }
         }
        },
        "title": {
         "text": "Top 10 Most Viewed"
        },
        "xaxis": {
         "anchor": "y",
         "domain": [
          0,
          1
         ],
         "title": {
          "text": "Title"
         }
        },
        "yaxis": {
         "anchor": "x",
         "domain": [
          0,
          1
         ],
         "title": {
          "text": "Views"
         }
        }
       }
      },
      "text/html": [
       "<div>                            <div id=\"b0e69b4e-cdb9-45ae-afa5-a5943efc2f67\" class=\"plotly-graph-div\" style=\"height:525px; width:100%;\"></div>            <script type=\"text/javascript\">                require([\"plotly\"], function(Plotly) {                    window.PLOTLYENV=window.PLOTLYENV || {};                                    if (document.getElementById(\"b0e69b4e-cdb9-45ae-afa5-a5943efc2f67\")) {                    Plotly.newPlot(                        \"b0e69b4e-cdb9-45ae-afa5-a5943efc2f67\",                        [{\"alignmentgroup\":\"True\",\"hovertemplate\":\"Title=%{x}<br>Views=%{y}<extra></extra>\",\"legendgroup\":\"\",\"marker\":{\"color\":\"#636efa\",\"pattern\":{\"shape\":\"\"}},\"name\":\"\",\"offsetgroup\":\"\",\"orientation\":\"v\",\"showlegend\":false,\"textposition\":\"auto\",\"x\":[\"Would You Fly To Paris For A Baguette?\",\"Giving iPhones Instead Of Candy on Halloween\",\"$456,000 Squid Game In Real Life!\",\"The Rock Vs MrBeast For $100,000\",\"Last To Leave Circle Wins $500,000\",\"Gordon Ramsay Tries Most Expensive Chocolate Bar!\",\"Would You Pet a Cheetah in Africa?\",\"I Sent a Subscriber to Disneyland\",\"Katana Vs Bullet\",\"$1 vs $1,000,000 Hotel Room!\"],\"xaxis\":\"x\",\"y\":[966777663,928757624,525444290,418407547,363227550,342050891,341056528,335972510,322776504,308780500],\"yaxis\":\"y\",\"type\":\"bar\"}],                        {\"template\":{\"data\":{\"histogram2dcontour\":[{\"type\":\"histogram2dcontour\",\"colorbar\":{\"outlinewidth\":0,\"ticks\":\"\"},\"colorscale\":[[0.0,\"#0d0887\"],[0.1111111111111111,\"#46039f\"],[0.2222222222222222,\"#7201a8\"],[0.3333333333333333,\"#9c179e\"],[0.4444444444444444,\"#bd3786\"],[0.5555555555555556,\"#d8576b\"],[0.6666666666666666,\"#ed7953\"],[0.7777777777777778,\"#fb9f3a\"],[0.8888888888888888,\"#fdca26\"],[1.0,\"#f0f921\"]]}],\"choropleth\":[{\"type\":\"choropleth\",\"colorbar\":{\"outlinewidth\":0,\"ticks\":\"\"}}],\"histogram2d\":[{\"type\":\"histogram2d\",\"colorbar\":{\"outlinewidth\":0,\"ticks\":\"\"},\"colorscale\":[[0.0,\"#0d0887\"],[0.1111111111111111,\"#46039f\"],[0.2222222222222222,\"#7201a8\"],[0.3333333333333333,\"#9c179e\"],[0.4444444444444444,\"#bd3786\"],[0.5555555555555556,\"#d8576b\"],[0.6666666666666666,\"#ed7953\"],[0.7777777777777778,\"#fb9f3a\"],[0.8888888888888888,\"#fdca26\"],[1.0,\"#f0f921\"]]}],\"heatmap\":[{\"type\":\"heatmap\",\"colorbar\":{\"outlinewidth\":0,\"ticks\":\"\"},\"colorscale\":[[0.0,\"#0d0887\"],[0.1111111111111111,\"#46039f\"],[0.2222222222222222,\"#7201a8\"],[0.3333333333333333,\"#9c179e\"],[0.4444444444444444,\"#bd3786\"],[0.5555555555555556,\"#d8576b\"],[0.6666666666666666,\"#ed7953\"],[0.7777777777777778,\"#fb9f3a\"],[0.8888888888888888,\"#fdca26\"],[1.0,\"#f0f921\"]]}],\"heatmapgl\":[{\"type\":\"heatmapgl\",\"colorbar\":{\"outlinewidth\":0,\"ticks\":\"\"},\"colorscale\":[[0.0,\"#0d0887\"],[0.1111111111111111,\"#46039f\"],[0.2222222222222222,\"#7201a8\"],[0.3333333333333333,\"#9c179e\"],[0.4444444444444444,\"#bd3786\"],[0.5555555555555556,\"#d8576b\"],[0.6666666666666666,\"#ed7953\"],[0.7777777777777778,\"#fb9f3a\"],[0.8888888888888888,\"#fdca26\"],[1.0,\"#f0f921\"]]}],\"contourcarpet\":[{\"type\":\"contourcarpet\",\"colorbar\":{\"outlinewidth\":0,\"ticks\":\"\"}}],\"contour\":[{\"type\":\"contour\",\"colorbar\":{\"outlinewidth\":0,\"ticks\":\"\"},\"colorscale\":[[0.0,\"#0d0887\"],[0.1111111111111111,\"#46039f\"],[0.2222222222222222,\"#7201a8\"],[0.3333333333333333,\"#9c179e\"],[0.4444444444444444,\"#bd3786\"],[0.5555555555555556,\"#d8576b\"],[0.6666666666666666,\"#ed7953\"],[0.7777777777777778,\"#fb9f3a\"],[0.8888888888888888,\"#fdca26\"],[1.0,\"#f0f921\"]]}],\"surface\":[{\"type\":\"surface\",\"colorbar\":{\"outlinewidth\":0,\"ticks\":\"\"},\"colorscale\":[[0.0,\"#0d0887\"],[0.1111111111111111,\"#46039f\"],[0.2222222222222222,\"#7201a8\"],[0.3333333333333333,\"#9c179e\"],[0.4444444444444444,\"#bd3786\"],[0.5555555555555556,\"#d8576b\"],[0.6666666666666666,\"#ed7953\"],[0.7777777777777778,\"#fb9f3a\"],[0.8888888888888888,\"#fdca26\"],[1.0,\"#f0f921\"]]}],\"mesh3d\":[{\"type\":\"mesh3d\",\"colorbar\":{\"outlinewidth\":0,\"ticks\":\"\"}}],\"scatter\":[{\"fillpattern\":{\"fillmode\":\"overlay\",\"size\":10,\"solidity\":0.2},\"type\":\"scatter\"}],\"parcoords\":[{\"type\":\"parcoords\",\"line\":{\"colorbar\":{\"outlinewidth\":0,\"ticks\":\"\"}}}],\"scatterpolargl\":[{\"type\":\"scatterpolargl\",\"marker\":{\"colorbar\":{\"outlinewidth\":0,\"ticks\":\"\"}}}],\"bar\":[{\"error_x\":{\"color\":\"#2a3f5f\"},\"error_y\":{\"color\":\"#2a3f5f\"},\"marker\":{\"line\":{\"color\":\"#E5ECF6\",\"width\":0.5},\"pattern\":{\"fillmode\":\"overlay\",\"size\":10,\"solidity\":0.2}},\"type\":\"bar\"}],\"scattergeo\":[{\"type\":\"scattergeo\",\"marker\":{\"colorbar\":{\"outlinewidth\":0,\"ticks\":\"\"}}}],\"scatterpolar\":[{\"type\":\"scatterpolar\",\"marker\":{\"colorbar\":{\"outlinewidth\":0,\"ticks\":\"\"}}}],\"histogram\":[{\"marker\":{\"pattern\":{\"fillmode\":\"overlay\",\"size\":10,\"solidity\":0.2}},\"type\":\"histogram\"}],\"scattergl\":[{\"type\":\"scattergl\",\"marker\":{\"colorbar\":{\"outlinewidth\":0,\"ticks\":\"\"}}}],\"scatter3d\":[{\"type\":\"scatter3d\",\"line\":{\"colorbar\":{\"outlinewidth\":0,\"ticks\":\"\"}},\"marker\":{\"colorbar\":{\"outlinewidth\":0,\"ticks\":\"\"}}}],\"scattermapbox\":[{\"type\":\"scattermapbox\",\"marker\":{\"colorbar\":{\"outlinewidth\":0,\"ticks\":\"\"}}}],\"scatterternary\":[{\"type\":\"scatterternary\",\"marker\":{\"colorbar\":{\"outlinewidth\":0,\"ticks\":\"\"}}}],\"scattercarpet\":[{\"type\":\"scattercarpet\",\"marker\":{\"colorbar\":{\"outlinewidth\":0,\"ticks\":\"\"}}}],\"carpet\":[{\"aaxis\":{\"endlinecolor\":\"#2a3f5f\",\"gridcolor\":\"white\",\"linecolor\":\"white\",\"minorgridcolor\":\"white\",\"startlinecolor\":\"#2a3f5f\"},\"baxis\":{\"endlinecolor\":\"#2a3f5f\",\"gridcolor\":\"white\",\"linecolor\":\"white\",\"minorgridcolor\":\"white\",\"startlinecolor\":\"#2a3f5f\"},\"type\":\"carpet\"}],\"table\":[{\"cells\":{\"fill\":{\"color\":\"#EBF0F8\"},\"line\":{\"color\":\"white\"}},\"header\":{\"fill\":{\"color\":\"#C8D4E3\"},\"line\":{\"color\":\"white\"}},\"type\":\"table\"}],\"barpolar\":[{\"marker\":{\"line\":{\"color\":\"#E5ECF6\",\"width\":0.5},\"pattern\":{\"fillmode\":\"overlay\",\"size\":10,\"solidity\":0.2}},\"type\":\"barpolar\"}],\"pie\":[{\"automargin\":true,\"type\":\"pie\"}]},\"layout\":{\"autotypenumbers\":\"strict\",\"colorway\":[\"#636efa\",\"#EF553B\",\"#00cc96\",\"#ab63fa\",\"#FFA15A\",\"#19d3f3\",\"#FF6692\",\"#B6E880\",\"#FF97FF\",\"#FECB52\"],\"font\":{\"color\":\"#2a3f5f\"},\"hovermode\":\"closest\",\"hoverlabel\":{\"align\":\"left\"},\"paper_bgcolor\":\"white\",\"plot_bgcolor\":\"#E5ECF6\",\"polar\":{\"bgcolor\":\"#E5ECF6\",\"angularaxis\":{\"gridcolor\":\"white\",\"linecolor\":\"white\",\"ticks\":\"\"},\"radialaxis\":{\"gridcolor\":\"white\",\"linecolor\":\"white\",\"ticks\":\"\"}},\"ternary\":{\"bgcolor\":\"#E5ECF6\",\"aaxis\":{\"gridcolor\":\"white\",\"linecolor\":\"white\",\"ticks\":\"\"},\"baxis\":{\"gridcolor\":\"white\",\"linecolor\":\"white\",\"ticks\":\"\"},\"caxis\":{\"gridcolor\":\"white\",\"linecolor\":\"white\",\"ticks\":\"\"}},\"coloraxis\":{\"colorbar\":{\"outlinewidth\":0,\"ticks\":\"\"}},\"colorscale\":{\"sequential\":[[0.0,\"#0d0887\"],[0.1111111111111111,\"#46039f\"],[0.2222222222222222,\"#7201a8\"],[0.3333333333333333,\"#9c179e\"],[0.4444444444444444,\"#bd3786\"],[0.5555555555555556,\"#d8576b\"],[0.6666666666666666,\"#ed7953\"],[0.7777777777777778,\"#fb9f3a\"],[0.8888888888888888,\"#fdca26\"],[1.0,\"#f0f921\"]],\"sequentialminus\":[[0.0,\"#0d0887\"],[0.1111111111111111,\"#46039f\"],[0.2222222222222222,\"#7201a8\"],[0.3333333333333333,\"#9c179e\"],[0.4444444444444444,\"#bd3786\"],[0.5555555555555556,\"#d8576b\"],[0.6666666666666666,\"#ed7953\"],[0.7777777777777778,\"#fb9f3a\"],[0.8888888888888888,\"#fdca26\"],[1.0,\"#f0f921\"]],\"diverging\":[[0,\"#8e0152\"],[0.1,\"#c51b7d\"],[0.2,\"#de77ae\"],[0.3,\"#f1b6da\"],[0.4,\"#fde0ef\"],[0.5,\"#f7f7f7\"],[0.6,\"#e6f5d0\"],[0.7,\"#b8e186\"],[0.8,\"#7fbc41\"],[0.9,\"#4d9221\"],[1,\"#276419\"]]},\"xaxis\":{\"gridcolor\":\"white\",\"linecolor\":\"white\",\"ticks\":\"\",\"title\":{\"standoff\":15},\"zerolinecolor\":\"white\",\"automargin\":true,\"zerolinewidth\":2},\"yaxis\":{\"gridcolor\":\"white\",\"linecolor\":\"white\",\"ticks\":\"\",\"title\":{\"standoff\":15},\"zerolinecolor\":\"white\",\"automargin\":true,\"zerolinewidth\":2},\"scene\":{\"xaxis\":{\"backgroundcolor\":\"#E5ECF6\",\"gridcolor\":\"white\",\"linecolor\":\"white\",\"showbackground\":true,\"ticks\":\"\",\"zerolinecolor\":\"white\",\"gridwidth\":2},\"yaxis\":{\"backgroundcolor\":\"#E5ECF6\",\"gridcolor\":\"white\",\"linecolor\":\"white\",\"showbackground\":true,\"ticks\":\"\",\"zerolinecolor\":\"white\",\"gridwidth\":2},\"zaxis\":{\"backgroundcolor\":\"#E5ECF6\",\"gridcolor\":\"white\",\"linecolor\":\"white\",\"showbackground\":true,\"ticks\":\"\",\"zerolinecolor\":\"white\",\"gridwidth\":2}},\"shapedefaults\":{\"line\":{\"color\":\"#2a3f5f\"}},\"annotationdefaults\":{\"arrowcolor\":\"#2a3f5f\",\"arrowhead\":0,\"arrowwidth\":1},\"geo\":{\"bgcolor\":\"white\",\"landcolor\":\"#E5ECF6\",\"subunitcolor\":\"white\",\"showland\":true,\"showlakes\":true,\"lakecolor\":\"white\"},\"title\":{\"x\":0.05},\"mapbox\":{\"style\":\"light\"}}},\"xaxis\":{\"anchor\":\"y\",\"domain\":[0.0,1.0],\"title\":{\"text\":\"Title\"}},\"yaxis\":{\"anchor\":\"x\",\"domain\":[0.0,1.0],\"title\":{\"text\":\"Views\"}},\"legend\":{\"tracegroupgap\":0},\"title\":{\"text\":\"Top 10 Most Viewed\"},\"barmode\":\"relative\"},                        {\"responsive\": true}                    ).then(function(){\n",
       "                            \n",
       "var gd = document.getElementById('b0e69b4e-cdb9-45ae-afa5-a5943efc2f67');\n",
       "var x = new MutationObserver(function (mutations, observer) {{\n",
       "        var display = window.getComputedStyle(gd).display;\n",
       "        if (!display || display === 'none') {{\n",
       "            console.log([gd, 'removed!']);\n",
       "            Plotly.purge(gd);\n",
       "            observer.disconnect();\n",
       "        }}\n",
       "}});\n",
       "\n",
       "// Listen for the removal of the full notebook cells\n",
       "var notebookContainer = gd.closest('#notebook-container');\n",
       "if (notebookContainer) {{\n",
       "    x.observe(notebookContainer, {childList: true});\n",
       "}}\n",
       "\n",
       "// Listen for the clearing of the current output cell\n",
       "var outputEl = gd.closest('.output');\n",
       "if (outputEl) {{\n",
       "    x.observe(outputEl, {childList: true});\n",
       "}}\n",
       "\n",
       "                        })                };                });            </script>        </div>"
      ]
     },
     "metadata": {},
     "output_type": "display_data"
    }
   ],
   "source": [
    "px.bar(top10,y='Views',x='Title',title = 'Top 10 Most Viewed')"
   ]
  },
  {
   "cell_type": "code",
   "execution_count": 854,
   "id": "f2839ab5",
   "metadata": {},
   "outputs": [
    {
     "data": {
      "application/vnd.plotly.v1+json": {
       "config": {
        "plotlyServerURL": "https://plot.ly"
       },
       "data": [
        {
         "alignmentgroup": "True",
         "hovertemplate": "Title=%{x}<br>Comments=%{y}<extra></extra>",
         "legendgroup": "",
         "marker": {
          "color": "#636efa",
          "pattern": {
           "shape": ""
          }
         },
         "name": "",
         "offsetgroup": "",
         "orientation": "v",
         "showlegend": false,
         "textposition": "auto",
         "type": "bar",
         "x": [
          "I Opened A Restaurant That Pays You To Eat At It",
          "$456,000 Squid Game In Real Life!",
          "1,000 Blind People See For The First Time",
          "Every Country On Earth Fights For $250,000!",
          "Make This Video The Most Liked Video On Youtube",
          "Last To Take Hand Off $1,000,000 Keeps It",
          "Youtube Rewind 2020, Thank God It's Over",
          "I Spent 50 Hours Buried Alive",
          "Hi Me In 5 Years",
          "I Gave My 100,000,000th Subscriber An Island"
         ],
         "xaxis": "x",
         "y": [
          744469,
          620208,
          400991,
          352496,
          307696,
          302207,
          287054,
          253679,
          240960,
          236331
         ],
         "yaxis": "y"
        }
       ],
       "layout": {
        "barmode": "relative",
        "legend": {
         "tracegroupgap": 0
        },
        "template": {
         "data": {
          "bar": [
           {
            "error_x": {
             "color": "#2a3f5f"
            },
            "error_y": {
             "color": "#2a3f5f"
            },
            "marker": {
             "line": {
              "color": "#E5ECF6",
              "width": 0.5
             },
             "pattern": {
              "fillmode": "overlay",
              "size": 10,
              "solidity": 0.2
             }
            },
            "type": "bar"
           }
          ],
          "barpolar": [
           {
            "marker": {
             "line": {
              "color": "#E5ECF6",
              "width": 0.5
             },
             "pattern": {
              "fillmode": "overlay",
              "size": 10,
              "solidity": 0.2
             }
            },
            "type": "barpolar"
           }
          ],
          "carpet": [
           {
            "aaxis": {
             "endlinecolor": "#2a3f5f",
             "gridcolor": "white",
             "linecolor": "white",
             "minorgridcolor": "white",
             "startlinecolor": "#2a3f5f"
            },
            "baxis": {
             "endlinecolor": "#2a3f5f",
             "gridcolor": "white",
             "linecolor": "white",
             "minorgridcolor": "white",
             "startlinecolor": "#2a3f5f"
            },
            "type": "carpet"
           }
          ],
          "choropleth": [
           {
            "colorbar": {
             "outlinewidth": 0,
             "ticks": ""
            },
            "type": "choropleth"
           }
          ],
          "contour": [
           {
            "colorbar": {
             "outlinewidth": 0,
             "ticks": ""
            },
            "colorscale": [
             [
              0,
              "#0d0887"
             ],
             [
              0.1111111111111111,
              "#46039f"
             ],
             [
              0.2222222222222222,
              "#7201a8"
             ],
             [
              0.3333333333333333,
              "#9c179e"
             ],
             [
              0.4444444444444444,
              "#bd3786"
             ],
             [
              0.5555555555555556,
              "#d8576b"
             ],
             [
              0.6666666666666666,
              "#ed7953"
             ],
             [
              0.7777777777777778,
              "#fb9f3a"
             ],
             [
              0.8888888888888888,
              "#fdca26"
             ],
             [
              1,
              "#f0f921"
             ]
            ],
            "type": "contour"
           }
          ],
          "contourcarpet": [
           {
            "colorbar": {
             "outlinewidth": 0,
             "ticks": ""
            },
            "type": "contourcarpet"
           }
          ],
          "heatmap": [
           {
            "colorbar": {
             "outlinewidth": 0,
             "ticks": ""
            },
            "colorscale": [
             [
              0,
              "#0d0887"
             ],
             [
              0.1111111111111111,
              "#46039f"
             ],
             [
              0.2222222222222222,
              "#7201a8"
             ],
             [
              0.3333333333333333,
              "#9c179e"
             ],
             [
              0.4444444444444444,
              "#bd3786"
             ],
             [
              0.5555555555555556,
              "#d8576b"
             ],
             [
              0.6666666666666666,
              "#ed7953"
             ],
             [
              0.7777777777777778,
              "#fb9f3a"
             ],
             [
              0.8888888888888888,
              "#fdca26"
             ],
             [
              1,
              "#f0f921"
             ]
            ],
            "type": "heatmap"
           }
          ],
          "heatmapgl": [
           {
            "colorbar": {
             "outlinewidth": 0,
             "ticks": ""
            },
            "colorscale": [
             [
              0,
              "#0d0887"
             ],
             [
              0.1111111111111111,
              "#46039f"
             ],
             [
              0.2222222222222222,
              "#7201a8"
             ],
             [
              0.3333333333333333,
              "#9c179e"
             ],
             [
              0.4444444444444444,
              "#bd3786"
             ],
             [
              0.5555555555555556,
              "#d8576b"
             ],
             [
              0.6666666666666666,
              "#ed7953"
             ],
             [
              0.7777777777777778,
              "#fb9f3a"
             ],
             [
              0.8888888888888888,
              "#fdca26"
             ],
             [
              1,
              "#f0f921"
             ]
            ],
            "type": "heatmapgl"
           }
          ],
          "histogram": [
           {
            "marker": {
             "pattern": {
              "fillmode": "overlay",
              "size": 10,
              "solidity": 0.2
             }
            },
            "type": "histogram"
           }
          ],
          "histogram2d": [
           {
            "colorbar": {
             "outlinewidth": 0,
             "ticks": ""
            },
            "colorscale": [
             [
              0,
              "#0d0887"
             ],
             [
              0.1111111111111111,
              "#46039f"
             ],
             [
              0.2222222222222222,
              "#7201a8"
             ],
             [
              0.3333333333333333,
              "#9c179e"
             ],
             [
              0.4444444444444444,
              "#bd3786"
             ],
             [
              0.5555555555555556,
              "#d8576b"
             ],
             [
              0.6666666666666666,
              "#ed7953"
             ],
             [
              0.7777777777777778,
              "#fb9f3a"
             ],
             [
              0.8888888888888888,
              "#fdca26"
             ],
             [
              1,
              "#f0f921"
             ]
            ],
            "type": "histogram2d"
           }
          ],
          "histogram2dcontour": [
           {
            "colorbar": {
             "outlinewidth": 0,
             "ticks": ""
            },
            "colorscale": [
             [
              0,
              "#0d0887"
             ],
             [
              0.1111111111111111,
              "#46039f"
             ],
             [
              0.2222222222222222,
              "#7201a8"
             ],
             [
              0.3333333333333333,
              "#9c179e"
             ],
             [
              0.4444444444444444,
              "#bd3786"
             ],
             [
              0.5555555555555556,
              "#d8576b"
             ],
             [
              0.6666666666666666,
              "#ed7953"
             ],
             [
              0.7777777777777778,
              "#fb9f3a"
             ],
             [
              0.8888888888888888,
              "#fdca26"
             ],
             [
              1,
              "#f0f921"
             ]
            ],
            "type": "histogram2dcontour"
           }
          ],
          "mesh3d": [
           {
            "colorbar": {
             "outlinewidth": 0,
             "ticks": ""
            },
            "type": "mesh3d"
           }
          ],
          "parcoords": [
           {
            "line": {
             "colorbar": {
              "outlinewidth": 0,
              "ticks": ""
             }
            },
            "type": "parcoords"
           }
          ],
          "pie": [
           {
            "automargin": true,
            "type": "pie"
           }
          ],
          "scatter": [
           {
            "fillpattern": {
             "fillmode": "overlay",
             "size": 10,
             "solidity": 0.2
            },
            "type": "scatter"
           }
          ],
          "scatter3d": [
           {
            "line": {
             "colorbar": {
              "outlinewidth": 0,
              "ticks": ""
             }
            },
            "marker": {
             "colorbar": {
              "outlinewidth": 0,
              "ticks": ""
             }
            },
            "type": "scatter3d"
           }
          ],
          "scattercarpet": [
           {
            "marker": {
             "colorbar": {
              "outlinewidth": 0,
              "ticks": ""
             }
            },
            "type": "scattercarpet"
           }
          ],
          "scattergeo": [
           {
            "marker": {
             "colorbar": {
              "outlinewidth": 0,
              "ticks": ""
             }
            },
            "type": "scattergeo"
           }
          ],
          "scattergl": [
           {
            "marker": {
             "colorbar": {
              "outlinewidth": 0,
              "ticks": ""
             }
            },
            "type": "scattergl"
           }
          ],
          "scattermapbox": [
           {
            "marker": {
             "colorbar": {
              "outlinewidth": 0,
              "ticks": ""
             }
            },
            "type": "scattermapbox"
           }
          ],
          "scatterpolar": [
           {
            "marker": {
             "colorbar": {
              "outlinewidth": 0,
              "ticks": ""
             }
            },
            "type": "scatterpolar"
           }
          ],
          "scatterpolargl": [
           {
            "marker": {
             "colorbar": {
              "outlinewidth": 0,
              "ticks": ""
             }
            },
            "type": "scatterpolargl"
           }
          ],
          "scatterternary": [
           {
            "marker": {
             "colorbar": {
              "outlinewidth": 0,
              "ticks": ""
             }
            },
            "type": "scatterternary"
           }
          ],
          "surface": [
           {
            "colorbar": {
             "outlinewidth": 0,
             "ticks": ""
            },
            "colorscale": [
             [
              0,
              "#0d0887"
             ],
             [
              0.1111111111111111,
              "#46039f"
             ],
             [
              0.2222222222222222,
              "#7201a8"
             ],
             [
              0.3333333333333333,
              "#9c179e"
             ],
             [
              0.4444444444444444,
              "#bd3786"
             ],
             [
              0.5555555555555556,
              "#d8576b"
             ],
             [
              0.6666666666666666,
              "#ed7953"
             ],
             [
              0.7777777777777778,
              "#fb9f3a"
             ],
             [
              0.8888888888888888,
              "#fdca26"
             ],
             [
              1,
              "#f0f921"
             ]
            ],
            "type": "surface"
           }
          ],
          "table": [
           {
            "cells": {
             "fill": {
              "color": "#EBF0F8"
             },
             "line": {
              "color": "white"
             }
            },
            "header": {
             "fill": {
              "color": "#C8D4E3"
             },
             "line": {
              "color": "white"
             }
            },
            "type": "table"
           }
          ]
         },
         "layout": {
          "annotationdefaults": {
           "arrowcolor": "#2a3f5f",
           "arrowhead": 0,
           "arrowwidth": 1
          },
          "autotypenumbers": "strict",
          "coloraxis": {
           "colorbar": {
            "outlinewidth": 0,
            "ticks": ""
           }
          },
          "colorscale": {
           "diverging": [
            [
             0,
             "#8e0152"
            ],
            [
             0.1,
             "#c51b7d"
            ],
            [
             0.2,
             "#de77ae"
            ],
            [
             0.3,
             "#f1b6da"
            ],
            [
             0.4,
             "#fde0ef"
            ],
            [
             0.5,
             "#f7f7f7"
            ],
            [
             0.6,
             "#e6f5d0"
            ],
            [
             0.7,
             "#b8e186"
            ],
            [
             0.8,
             "#7fbc41"
            ],
            [
             0.9,
             "#4d9221"
            ],
            [
             1,
             "#276419"
            ]
           ],
           "sequential": [
            [
             0,
             "#0d0887"
            ],
            [
             0.1111111111111111,
             "#46039f"
            ],
            [
             0.2222222222222222,
             "#7201a8"
            ],
            [
             0.3333333333333333,
             "#9c179e"
            ],
            [
             0.4444444444444444,
             "#bd3786"
            ],
            [
             0.5555555555555556,
             "#d8576b"
            ],
            [
             0.6666666666666666,
             "#ed7953"
            ],
            [
             0.7777777777777778,
             "#fb9f3a"
            ],
            [
             0.8888888888888888,
             "#fdca26"
            ],
            [
             1,
             "#f0f921"
            ]
           ],
           "sequentialminus": [
            [
             0,
             "#0d0887"
            ],
            [
             0.1111111111111111,
             "#46039f"
            ],
            [
             0.2222222222222222,
             "#7201a8"
            ],
            [
             0.3333333333333333,
             "#9c179e"
            ],
            [
             0.4444444444444444,
             "#bd3786"
            ],
            [
             0.5555555555555556,
             "#d8576b"
            ],
            [
             0.6666666666666666,
             "#ed7953"
            ],
            [
             0.7777777777777778,
             "#fb9f3a"
            ],
            [
             0.8888888888888888,
             "#fdca26"
            ],
            [
             1,
             "#f0f921"
            ]
           ]
          },
          "colorway": [
           "#636efa",
           "#EF553B",
           "#00cc96",
           "#ab63fa",
           "#FFA15A",
           "#19d3f3",
           "#FF6692",
           "#B6E880",
           "#FF97FF",
           "#FECB52"
          ],
          "font": {
           "color": "#2a3f5f"
          },
          "geo": {
           "bgcolor": "white",
           "lakecolor": "white",
           "landcolor": "#E5ECF6",
           "showlakes": true,
           "showland": true,
           "subunitcolor": "white"
          },
          "hoverlabel": {
           "align": "left"
          },
          "hovermode": "closest",
          "mapbox": {
           "style": "light"
          },
          "paper_bgcolor": "white",
          "plot_bgcolor": "#E5ECF6",
          "polar": {
           "angularaxis": {
            "gridcolor": "white",
            "linecolor": "white",
            "ticks": ""
           },
           "bgcolor": "#E5ECF6",
           "radialaxis": {
            "gridcolor": "white",
            "linecolor": "white",
            "ticks": ""
           }
          },
          "scene": {
           "xaxis": {
            "backgroundcolor": "#E5ECF6",
            "gridcolor": "white",
            "gridwidth": 2,
            "linecolor": "white",
            "showbackground": true,
            "ticks": "",
            "zerolinecolor": "white"
           },
           "yaxis": {
            "backgroundcolor": "#E5ECF6",
            "gridcolor": "white",
            "gridwidth": 2,
            "linecolor": "white",
            "showbackground": true,
            "ticks": "",
            "zerolinecolor": "white"
           },
           "zaxis": {
            "backgroundcolor": "#E5ECF6",
            "gridcolor": "white",
            "gridwidth": 2,
            "linecolor": "white",
            "showbackground": true,
            "ticks": "",
            "zerolinecolor": "white"
           }
          },
          "shapedefaults": {
           "line": {
            "color": "#2a3f5f"
           }
          },
          "ternary": {
           "aaxis": {
            "gridcolor": "white",
            "linecolor": "white",
            "ticks": ""
           },
           "baxis": {
            "gridcolor": "white",
            "linecolor": "white",
            "ticks": ""
           },
           "bgcolor": "#E5ECF6",
           "caxis": {
            "gridcolor": "white",
            "linecolor": "white",
            "ticks": ""
           }
          },
          "title": {
           "x": 0.05
          },
          "xaxis": {
           "automargin": true,
           "gridcolor": "white",
           "linecolor": "white",
           "ticks": "",
           "title": {
            "standoff": 15
           },
           "zerolinecolor": "white",
           "zerolinewidth": 2
          },
          "yaxis": {
           "automargin": true,
           "gridcolor": "white",
           "linecolor": "white",
           "ticks": "",
           "title": {
            "standoff": 15
           },
           "zerolinecolor": "white",
           "zerolinewidth": 2
          }
         }
        },
        "title": {
         "text": "Top 10 Commented"
        },
        "xaxis": {
         "anchor": "y",
         "domain": [
          0,
          1
         ],
         "title": {
          "text": "Title"
         }
        },
        "yaxis": {
         "anchor": "x",
         "domain": [
          0,
          1
         ],
         "title": {
          "text": "Comments"
         }
        }
       }
      },
      "text/html": [
       "<div>                            <div id=\"1091c94e-eeb7-4bb2-bb9c-8de273eb3064\" class=\"plotly-graph-div\" style=\"height:525px; width:100%;\"></div>            <script type=\"text/javascript\">                require([\"plotly\"], function(Plotly) {                    window.PLOTLYENV=window.PLOTLYENV || {};                                    if (document.getElementById(\"1091c94e-eeb7-4bb2-bb9c-8de273eb3064\")) {                    Plotly.newPlot(                        \"1091c94e-eeb7-4bb2-bb9c-8de273eb3064\",                        [{\"alignmentgroup\":\"True\",\"hovertemplate\":\"Title=%{x}<br>Comments=%{y}<extra></extra>\",\"legendgroup\":\"\",\"marker\":{\"color\":\"#636efa\",\"pattern\":{\"shape\":\"\"}},\"name\":\"\",\"offsetgroup\":\"\",\"orientation\":\"v\",\"showlegend\":false,\"textposition\":\"auto\",\"x\":[\"I Opened A Restaurant That Pays You To Eat At It\",\"$456,000 Squid Game In Real Life!\",\"1,000 Blind People See For The First Time\",\"Every Country On Earth Fights For $250,000!\",\"Make This Video The Most Liked Video On Youtube\",\"Last To Take Hand Off $1,000,000 Keeps It\",\"Youtube Rewind 2020, Thank God It's Over\",\"I Spent 50 Hours Buried Alive\",\"Hi Me In 5 Years\",\"I Gave My 100,000,000th Subscriber An Island\"],\"xaxis\":\"x\",\"y\":[744469,620208,400991,352496,307696,302207,287054,253679,240960,236331],\"yaxis\":\"y\",\"type\":\"bar\"}],                        {\"template\":{\"data\":{\"histogram2dcontour\":[{\"type\":\"histogram2dcontour\",\"colorbar\":{\"outlinewidth\":0,\"ticks\":\"\"},\"colorscale\":[[0.0,\"#0d0887\"],[0.1111111111111111,\"#46039f\"],[0.2222222222222222,\"#7201a8\"],[0.3333333333333333,\"#9c179e\"],[0.4444444444444444,\"#bd3786\"],[0.5555555555555556,\"#d8576b\"],[0.6666666666666666,\"#ed7953\"],[0.7777777777777778,\"#fb9f3a\"],[0.8888888888888888,\"#fdca26\"],[1.0,\"#f0f921\"]]}],\"choropleth\":[{\"type\":\"choropleth\",\"colorbar\":{\"outlinewidth\":0,\"ticks\":\"\"}}],\"histogram2d\":[{\"type\":\"histogram2d\",\"colorbar\":{\"outlinewidth\":0,\"ticks\":\"\"},\"colorscale\":[[0.0,\"#0d0887\"],[0.1111111111111111,\"#46039f\"],[0.2222222222222222,\"#7201a8\"],[0.3333333333333333,\"#9c179e\"],[0.4444444444444444,\"#bd3786\"],[0.5555555555555556,\"#d8576b\"],[0.6666666666666666,\"#ed7953\"],[0.7777777777777778,\"#fb9f3a\"],[0.8888888888888888,\"#fdca26\"],[1.0,\"#f0f921\"]]}],\"heatmap\":[{\"type\":\"heatmap\",\"colorbar\":{\"outlinewidth\":0,\"ticks\":\"\"},\"colorscale\":[[0.0,\"#0d0887\"],[0.1111111111111111,\"#46039f\"],[0.2222222222222222,\"#7201a8\"],[0.3333333333333333,\"#9c179e\"],[0.4444444444444444,\"#bd3786\"],[0.5555555555555556,\"#d8576b\"],[0.6666666666666666,\"#ed7953\"],[0.7777777777777778,\"#fb9f3a\"],[0.8888888888888888,\"#fdca26\"],[1.0,\"#f0f921\"]]}],\"heatmapgl\":[{\"type\":\"heatmapgl\",\"colorbar\":{\"outlinewidth\":0,\"ticks\":\"\"},\"colorscale\":[[0.0,\"#0d0887\"],[0.1111111111111111,\"#46039f\"],[0.2222222222222222,\"#7201a8\"],[0.3333333333333333,\"#9c179e\"],[0.4444444444444444,\"#bd3786\"],[0.5555555555555556,\"#d8576b\"],[0.6666666666666666,\"#ed7953\"],[0.7777777777777778,\"#fb9f3a\"],[0.8888888888888888,\"#fdca26\"],[1.0,\"#f0f921\"]]}],\"contourcarpet\":[{\"type\":\"contourcarpet\",\"colorbar\":{\"outlinewidth\":0,\"ticks\":\"\"}}],\"contour\":[{\"type\":\"contour\",\"colorbar\":{\"outlinewidth\":0,\"ticks\":\"\"},\"colorscale\":[[0.0,\"#0d0887\"],[0.1111111111111111,\"#46039f\"],[0.2222222222222222,\"#7201a8\"],[0.3333333333333333,\"#9c179e\"],[0.4444444444444444,\"#bd3786\"],[0.5555555555555556,\"#d8576b\"],[0.6666666666666666,\"#ed7953\"],[0.7777777777777778,\"#fb9f3a\"],[0.8888888888888888,\"#fdca26\"],[1.0,\"#f0f921\"]]}],\"surface\":[{\"type\":\"surface\",\"colorbar\":{\"outlinewidth\":0,\"ticks\":\"\"},\"colorscale\":[[0.0,\"#0d0887\"],[0.1111111111111111,\"#46039f\"],[0.2222222222222222,\"#7201a8\"],[0.3333333333333333,\"#9c179e\"],[0.4444444444444444,\"#bd3786\"],[0.5555555555555556,\"#d8576b\"],[0.6666666666666666,\"#ed7953\"],[0.7777777777777778,\"#fb9f3a\"],[0.8888888888888888,\"#fdca26\"],[1.0,\"#f0f921\"]]}],\"mesh3d\":[{\"type\":\"mesh3d\",\"colorbar\":{\"outlinewidth\":0,\"ticks\":\"\"}}],\"scatter\":[{\"fillpattern\":{\"fillmode\":\"overlay\",\"size\":10,\"solidity\":0.2},\"type\":\"scatter\"}],\"parcoords\":[{\"type\":\"parcoords\",\"line\":{\"colorbar\":{\"outlinewidth\":0,\"ticks\":\"\"}}}],\"scatterpolargl\":[{\"type\":\"scatterpolargl\",\"marker\":{\"colorbar\":{\"outlinewidth\":0,\"ticks\":\"\"}}}],\"bar\":[{\"error_x\":{\"color\":\"#2a3f5f\"},\"error_y\":{\"color\":\"#2a3f5f\"},\"marker\":{\"line\":{\"color\":\"#E5ECF6\",\"width\":0.5},\"pattern\":{\"fillmode\":\"overlay\",\"size\":10,\"solidity\":0.2}},\"type\":\"bar\"}],\"scattergeo\":[{\"type\":\"scattergeo\",\"marker\":{\"colorbar\":{\"outlinewidth\":0,\"ticks\":\"\"}}}],\"scatterpolar\":[{\"type\":\"scatterpolar\",\"marker\":{\"colorbar\":{\"outlinewidth\":0,\"ticks\":\"\"}}}],\"histogram\":[{\"marker\":{\"pattern\":{\"fillmode\":\"overlay\",\"size\":10,\"solidity\":0.2}},\"type\":\"histogram\"}],\"scattergl\":[{\"type\":\"scattergl\",\"marker\":{\"colorbar\":{\"outlinewidth\":0,\"ticks\":\"\"}}}],\"scatter3d\":[{\"type\":\"scatter3d\",\"line\":{\"colorbar\":{\"outlinewidth\":0,\"ticks\":\"\"}},\"marker\":{\"colorbar\":{\"outlinewidth\":0,\"ticks\":\"\"}}}],\"scattermapbox\":[{\"type\":\"scattermapbox\",\"marker\":{\"colorbar\":{\"outlinewidth\":0,\"ticks\":\"\"}}}],\"scatterternary\":[{\"type\":\"scatterternary\",\"marker\":{\"colorbar\":{\"outlinewidth\":0,\"ticks\":\"\"}}}],\"scattercarpet\":[{\"type\":\"scattercarpet\",\"marker\":{\"colorbar\":{\"outlinewidth\":0,\"ticks\":\"\"}}}],\"carpet\":[{\"aaxis\":{\"endlinecolor\":\"#2a3f5f\",\"gridcolor\":\"white\",\"linecolor\":\"white\",\"minorgridcolor\":\"white\",\"startlinecolor\":\"#2a3f5f\"},\"baxis\":{\"endlinecolor\":\"#2a3f5f\",\"gridcolor\":\"white\",\"linecolor\":\"white\",\"minorgridcolor\":\"white\",\"startlinecolor\":\"#2a3f5f\"},\"type\":\"carpet\"}],\"table\":[{\"cells\":{\"fill\":{\"color\":\"#EBF0F8\"},\"line\":{\"color\":\"white\"}},\"header\":{\"fill\":{\"color\":\"#C8D4E3\"},\"line\":{\"color\":\"white\"}},\"type\":\"table\"}],\"barpolar\":[{\"marker\":{\"line\":{\"color\":\"#E5ECF6\",\"width\":0.5},\"pattern\":{\"fillmode\":\"overlay\",\"size\":10,\"solidity\":0.2}},\"type\":\"barpolar\"}],\"pie\":[{\"automargin\":true,\"type\":\"pie\"}]},\"layout\":{\"autotypenumbers\":\"strict\",\"colorway\":[\"#636efa\",\"#EF553B\",\"#00cc96\",\"#ab63fa\",\"#FFA15A\",\"#19d3f3\",\"#FF6692\",\"#B6E880\",\"#FF97FF\",\"#FECB52\"],\"font\":{\"color\":\"#2a3f5f\"},\"hovermode\":\"closest\",\"hoverlabel\":{\"align\":\"left\"},\"paper_bgcolor\":\"white\",\"plot_bgcolor\":\"#E5ECF6\",\"polar\":{\"bgcolor\":\"#E5ECF6\",\"angularaxis\":{\"gridcolor\":\"white\",\"linecolor\":\"white\",\"ticks\":\"\"},\"radialaxis\":{\"gridcolor\":\"white\",\"linecolor\":\"white\",\"ticks\":\"\"}},\"ternary\":{\"bgcolor\":\"#E5ECF6\",\"aaxis\":{\"gridcolor\":\"white\",\"linecolor\":\"white\",\"ticks\":\"\"},\"baxis\":{\"gridcolor\":\"white\",\"linecolor\":\"white\",\"ticks\":\"\"},\"caxis\":{\"gridcolor\":\"white\",\"linecolor\":\"white\",\"ticks\":\"\"}},\"coloraxis\":{\"colorbar\":{\"outlinewidth\":0,\"ticks\":\"\"}},\"colorscale\":{\"sequential\":[[0.0,\"#0d0887\"],[0.1111111111111111,\"#46039f\"],[0.2222222222222222,\"#7201a8\"],[0.3333333333333333,\"#9c179e\"],[0.4444444444444444,\"#bd3786\"],[0.5555555555555556,\"#d8576b\"],[0.6666666666666666,\"#ed7953\"],[0.7777777777777778,\"#fb9f3a\"],[0.8888888888888888,\"#fdca26\"],[1.0,\"#f0f921\"]],\"sequentialminus\":[[0.0,\"#0d0887\"],[0.1111111111111111,\"#46039f\"],[0.2222222222222222,\"#7201a8\"],[0.3333333333333333,\"#9c179e\"],[0.4444444444444444,\"#bd3786\"],[0.5555555555555556,\"#d8576b\"],[0.6666666666666666,\"#ed7953\"],[0.7777777777777778,\"#fb9f3a\"],[0.8888888888888888,\"#fdca26\"],[1.0,\"#f0f921\"]],\"diverging\":[[0,\"#8e0152\"],[0.1,\"#c51b7d\"],[0.2,\"#de77ae\"],[0.3,\"#f1b6da\"],[0.4,\"#fde0ef\"],[0.5,\"#f7f7f7\"],[0.6,\"#e6f5d0\"],[0.7,\"#b8e186\"],[0.8,\"#7fbc41\"],[0.9,\"#4d9221\"],[1,\"#276419\"]]},\"xaxis\":{\"gridcolor\":\"white\",\"linecolor\":\"white\",\"ticks\":\"\",\"title\":{\"standoff\":15},\"zerolinecolor\":\"white\",\"automargin\":true,\"zerolinewidth\":2},\"yaxis\":{\"gridcolor\":\"white\",\"linecolor\":\"white\",\"ticks\":\"\",\"title\":{\"standoff\":15},\"zerolinecolor\":\"white\",\"automargin\":true,\"zerolinewidth\":2},\"scene\":{\"xaxis\":{\"backgroundcolor\":\"#E5ECF6\",\"gridcolor\":\"white\",\"linecolor\":\"white\",\"showbackground\":true,\"ticks\":\"\",\"zerolinecolor\":\"white\",\"gridwidth\":2},\"yaxis\":{\"backgroundcolor\":\"#E5ECF6\",\"gridcolor\":\"white\",\"linecolor\":\"white\",\"showbackground\":true,\"ticks\":\"\",\"zerolinecolor\":\"white\",\"gridwidth\":2},\"zaxis\":{\"backgroundcolor\":\"#E5ECF6\",\"gridcolor\":\"white\",\"linecolor\":\"white\",\"showbackground\":true,\"ticks\":\"\",\"zerolinecolor\":\"white\",\"gridwidth\":2}},\"shapedefaults\":{\"line\":{\"color\":\"#2a3f5f\"}},\"annotationdefaults\":{\"arrowcolor\":\"#2a3f5f\",\"arrowhead\":0,\"arrowwidth\":1},\"geo\":{\"bgcolor\":\"white\",\"landcolor\":\"#E5ECF6\",\"subunitcolor\":\"white\",\"showland\":true,\"showlakes\":true,\"lakecolor\":\"white\"},\"title\":{\"x\":0.05},\"mapbox\":{\"style\":\"light\"}}},\"xaxis\":{\"anchor\":\"y\",\"domain\":[0.0,1.0],\"title\":{\"text\":\"Title\"}},\"yaxis\":{\"anchor\":\"x\",\"domain\":[0.0,1.0],\"title\":{\"text\":\"Comments\"}},\"legend\":{\"tracegroupgap\":0},\"title\":{\"text\":\"Top 10 Commented\"},\"barmode\":\"relative\"},                        {\"responsive\": true}                    ).then(function(){\n",
       "                            \n",
       "var gd = document.getElementById('1091c94e-eeb7-4bb2-bb9c-8de273eb3064');\n",
       "var x = new MutationObserver(function (mutations, observer) {{\n",
       "        var display = window.getComputedStyle(gd).display;\n",
       "        if (!display || display === 'none') {{\n",
       "            console.log([gd, 'removed!']);\n",
       "            Plotly.purge(gd);\n",
       "            observer.disconnect();\n",
       "        }}\n",
       "}});\n",
       "\n",
       "// Listen for the removal of the full notebook cells\n",
       "var notebookContainer = gd.closest('#notebook-container');\n",
       "if (notebookContainer) {{\n",
       "    x.observe(notebookContainer, {childList: true});\n",
       "}}\n",
       "\n",
       "// Listen for the clearing of the current output cell\n",
       "var outputEl = gd.closest('.output');\n",
       "if (outputEl) {{\n",
       "    x.observe(outputEl, {childList: true});\n",
       "}}\n",
       "\n",
       "                        })                };                });            </script>        </div>"
      ]
     },
     "metadata": {},
     "output_type": "display_data"
    }
   ],
   "source": [
    "top10commented = df.sort_values(by='Comments',ascending = False)\n",
    "top10commented= top10commented.head(10)\n",
    "px.bar(top10commented, x= 'Title',y='Comments',title = 'Top 10 Commented')"
   ]
  },
  {
   "cell_type": "code",
   "execution_count": 855,
   "id": "b03b8a67",
   "metadata": {},
   "outputs": [
    {
     "data": {
      "application/vnd.plotly.v1+json": {
       "config": {
        "plotlyServerURL": "https://plot.ly"
       },
       "data": [
        {
         "alignmentgroup": "True",
         "hovertemplate": "Title=%{x}<br>Likes=%{y}<extra></extra>",
         "legendgroup": "",
         "marker": {
          "color": "#636efa",
          "pattern": {
           "shape": ""
          }
         },
         "name": "",
         "offsetgroup": "",
         "orientation": "v",
         "showlegend": false,
         "textposition": "auto",
         "type": "bar",
         "x": [
          "Would You Fly To Paris For A Baguette?",
          "Giving iPhones Instead Of Candy on Halloween",
          "Make This Video The Most Liked Video On Youtube",
          "The Rock Vs MrBeast For $100,000",
          "I Sent a Subscriber to Disneyland",
          "Gordon Ramsay Tries Most Expensive Chocolate Bar!",
          "$456,000 Squid Game In Real Life!",
          "Katana Vs Bullet",
          "I NEED 1 MORE SUBSCRIBER",
          "Would You Pet a Cheetah in Africa?"
         ],
         "xaxis": "x",
         "y": [
          41064093,
          30037941,
          28736423,
          25620716,
          18950832,
          17646537,
          17184193,
          17103603,
          15838629,
          15676704
         ],
         "yaxis": "y"
        }
       ],
       "layout": {
        "barmode": "relative",
        "legend": {
         "tracegroupgap": 0
        },
        "margin": {
         "t": 60
        },
        "template": {
         "data": {
          "bar": [
           {
            "error_x": {
             "color": "#2a3f5f"
            },
            "error_y": {
             "color": "#2a3f5f"
            },
            "marker": {
             "line": {
              "color": "#E5ECF6",
              "width": 0.5
             },
             "pattern": {
              "fillmode": "overlay",
              "size": 10,
              "solidity": 0.2
             }
            },
            "type": "bar"
           }
          ],
          "barpolar": [
           {
            "marker": {
             "line": {
              "color": "#E5ECF6",
              "width": 0.5
             },
             "pattern": {
              "fillmode": "overlay",
              "size": 10,
              "solidity": 0.2
             }
            },
            "type": "barpolar"
           }
          ],
          "carpet": [
           {
            "aaxis": {
             "endlinecolor": "#2a3f5f",
             "gridcolor": "white",
             "linecolor": "white",
             "minorgridcolor": "white",
             "startlinecolor": "#2a3f5f"
            },
            "baxis": {
             "endlinecolor": "#2a3f5f",
             "gridcolor": "white",
             "linecolor": "white",
             "minorgridcolor": "white",
             "startlinecolor": "#2a3f5f"
            },
            "type": "carpet"
           }
          ],
          "choropleth": [
           {
            "colorbar": {
             "outlinewidth": 0,
             "ticks": ""
            },
            "type": "choropleth"
           }
          ],
          "contour": [
           {
            "colorbar": {
             "outlinewidth": 0,
             "ticks": ""
            },
            "colorscale": [
             [
              0,
              "#0d0887"
             ],
             [
              0.1111111111111111,
              "#46039f"
             ],
             [
              0.2222222222222222,
              "#7201a8"
             ],
             [
              0.3333333333333333,
              "#9c179e"
             ],
             [
              0.4444444444444444,
              "#bd3786"
             ],
             [
              0.5555555555555556,
              "#d8576b"
             ],
             [
              0.6666666666666666,
              "#ed7953"
             ],
             [
              0.7777777777777778,
              "#fb9f3a"
             ],
             [
              0.8888888888888888,
              "#fdca26"
             ],
             [
              1,
              "#f0f921"
             ]
            ],
            "type": "contour"
           }
          ],
          "contourcarpet": [
           {
            "colorbar": {
             "outlinewidth": 0,
             "ticks": ""
            },
            "type": "contourcarpet"
           }
          ],
          "heatmap": [
           {
            "colorbar": {
             "outlinewidth": 0,
             "ticks": ""
            },
            "colorscale": [
             [
              0,
              "#0d0887"
             ],
             [
              0.1111111111111111,
              "#46039f"
             ],
             [
              0.2222222222222222,
              "#7201a8"
             ],
             [
              0.3333333333333333,
              "#9c179e"
             ],
             [
              0.4444444444444444,
              "#bd3786"
             ],
             [
              0.5555555555555556,
              "#d8576b"
             ],
             [
              0.6666666666666666,
              "#ed7953"
             ],
             [
              0.7777777777777778,
              "#fb9f3a"
             ],
             [
              0.8888888888888888,
              "#fdca26"
             ],
             [
              1,
              "#f0f921"
             ]
            ],
            "type": "heatmap"
           }
          ],
          "heatmapgl": [
           {
            "colorbar": {
             "outlinewidth": 0,
             "ticks": ""
            },
            "colorscale": [
             [
              0,
              "#0d0887"
             ],
             [
              0.1111111111111111,
              "#46039f"
             ],
             [
              0.2222222222222222,
              "#7201a8"
             ],
             [
              0.3333333333333333,
              "#9c179e"
             ],
             [
              0.4444444444444444,
              "#bd3786"
             ],
             [
              0.5555555555555556,
              "#d8576b"
             ],
             [
              0.6666666666666666,
              "#ed7953"
             ],
             [
              0.7777777777777778,
              "#fb9f3a"
             ],
             [
              0.8888888888888888,
              "#fdca26"
             ],
             [
              1,
              "#f0f921"
             ]
            ],
            "type": "heatmapgl"
           }
          ],
          "histogram": [
           {
            "marker": {
             "pattern": {
              "fillmode": "overlay",
              "size": 10,
              "solidity": 0.2
             }
            },
            "type": "histogram"
           }
          ],
          "histogram2d": [
           {
            "colorbar": {
             "outlinewidth": 0,
             "ticks": ""
            },
            "colorscale": [
             [
              0,
              "#0d0887"
             ],
             [
              0.1111111111111111,
              "#46039f"
             ],
             [
              0.2222222222222222,
              "#7201a8"
             ],
             [
              0.3333333333333333,
              "#9c179e"
             ],
             [
              0.4444444444444444,
              "#bd3786"
             ],
             [
              0.5555555555555556,
              "#d8576b"
             ],
             [
              0.6666666666666666,
              "#ed7953"
             ],
             [
              0.7777777777777778,
              "#fb9f3a"
             ],
             [
              0.8888888888888888,
              "#fdca26"
             ],
             [
              1,
              "#f0f921"
             ]
            ],
            "type": "histogram2d"
           }
          ],
          "histogram2dcontour": [
           {
            "colorbar": {
             "outlinewidth": 0,
             "ticks": ""
            },
            "colorscale": [
             [
              0,
              "#0d0887"
             ],
             [
              0.1111111111111111,
              "#46039f"
             ],
             [
              0.2222222222222222,
              "#7201a8"
             ],
             [
              0.3333333333333333,
              "#9c179e"
             ],
             [
              0.4444444444444444,
              "#bd3786"
             ],
             [
              0.5555555555555556,
              "#d8576b"
             ],
             [
              0.6666666666666666,
              "#ed7953"
             ],
             [
              0.7777777777777778,
              "#fb9f3a"
             ],
             [
              0.8888888888888888,
              "#fdca26"
             ],
             [
              1,
              "#f0f921"
             ]
            ],
            "type": "histogram2dcontour"
           }
          ],
          "mesh3d": [
           {
            "colorbar": {
             "outlinewidth": 0,
             "ticks": ""
            },
            "type": "mesh3d"
           }
          ],
          "parcoords": [
           {
            "line": {
             "colorbar": {
              "outlinewidth": 0,
              "ticks": ""
             }
            },
            "type": "parcoords"
           }
          ],
          "pie": [
           {
            "automargin": true,
            "type": "pie"
           }
          ],
          "scatter": [
           {
            "fillpattern": {
             "fillmode": "overlay",
             "size": 10,
             "solidity": 0.2
            },
            "type": "scatter"
           }
          ],
          "scatter3d": [
           {
            "line": {
             "colorbar": {
              "outlinewidth": 0,
              "ticks": ""
             }
            },
            "marker": {
             "colorbar": {
              "outlinewidth": 0,
              "ticks": ""
             }
            },
            "type": "scatter3d"
           }
          ],
          "scattercarpet": [
           {
            "marker": {
             "colorbar": {
              "outlinewidth": 0,
              "ticks": ""
             }
            },
            "type": "scattercarpet"
           }
          ],
          "scattergeo": [
           {
            "marker": {
             "colorbar": {
              "outlinewidth": 0,
              "ticks": ""
             }
            },
            "type": "scattergeo"
           }
          ],
          "scattergl": [
           {
            "marker": {
             "colorbar": {
              "outlinewidth": 0,
              "ticks": ""
             }
            },
            "type": "scattergl"
           }
          ],
          "scattermapbox": [
           {
            "marker": {
             "colorbar": {
              "outlinewidth": 0,
              "ticks": ""
             }
            },
            "type": "scattermapbox"
           }
          ],
          "scatterpolar": [
           {
            "marker": {
             "colorbar": {
              "outlinewidth": 0,
              "ticks": ""
             }
            },
            "type": "scatterpolar"
           }
          ],
          "scatterpolargl": [
           {
            "marker": {
             "colorbar": {
              "outlinewidth": 0,
              "ticks": ""
             }
            },
            "type": "scatterpolargl"
           }
          ],
          "scatterternary": [
           {
            "marker": {
             "colorbar": {
              "outlinewidth": 0,
              "ticks": ""
             }
            },
            "type": "scatterternary"
           }
          ],
          "surface": [
           {
            "colorbar": {
             "outlinewidth": 0,
             "ticks": ""
            },
            "colorscale": [
             [
              0,
              "#0d0887"
             ],
             [
              0.1111111111111111,
              "#46039f"
             ],
             [
              0.2222222222222222,
              "#7201a8"
             ],
             [
              0.3333333333333333,
              "#9c179e"
             ],
             [
              0.4444444444444444,
              "#bd3786"
             ],
             [
              0.5555555555555556,
              "#d8576b"
             ],
             [
              0.6666666666666666,
              "#ed7953"
             ],
             [
              0.7777777777777778,
              "#fb9f3a"
             ],
             [
              0.8888888888888888,
              "#fdca26"
             ],
             [
              1,
              "#f0f921"
             ]
            ],
            "type": "surface"
           }
          ],
          "table": [
           {
            "cells": {
             "fill": {
              "color": "#EBF0F8"
             },
             "line": {
              "color": "white"
             }
            },
            "header": {
             "fill": {
              "color": "#C8D4E3"
             },
             "line": {
              "color": "white"
             }
            },
            "type": "table"
           }
          ]
         },
         "layout": {
          "annotationdefaults": {
           "arrowcolor": "#2a3f5f",
           "arrowhead": 0,
           "arrowwidth": 1
          },
          "autotypenumbers": "strict",
          "coloraxis": {
           "colorbar": {
            "outlinewidth": 0,
            "ticks": ""
           }
          },
          "colorscale": {
           "diverging": [
            [
             0,
             "#8e0152"
            ],
            [
             0.1,
             "#c51b7d"
            ],
            [
             0.2,
             "#de77ae"
            ],
            [
             0.3,
             "#f1b6da"
            ],
            [
             0.4,
             "#fde0ef"
            ],
            [
             0.5,
             "#f7f7f7"
            ],
            [
             0.6,
             "#e6f5d0"
            ],
            [
             0.7,
             "#b8e186"
            ],
            [
             0.8,
             "#7fbc41"
            ],
            [
             0.9,
             "#4d9221"
            ],
            [
             1,
             "#276419"
            ]
           ],
           "sequential": [
            [
             0,
             "#0d0887"
            ],
            [
             0.1111111111111111,
             "#46039f"
            ],
            [
             0.2222222222222222,
             "#7201a8"
            ],
            [
             0.3333333333333333,
             "#9c179e"
            ],
            [
             0.4444444444444444,
             "#bd3786"
            ],
            [
             0.5555555555555556,
             "#d8576b"
            ],
            [
             0.6666666666666666,
             "#ed7953"
            ],
            [
             0.7777777777777778,
             "#fb9f3a"
            ],
            [
             0.8888888888888888,
             "#fdca26"
            ],
            [
             1,
             "#f0f921"
            ]
           ],
           "sequentialminus": [
            [
             0,
             "#0d0887"
            ],
            [
             0.1111111111111111,
             "#46039f"
            ],
            [
             0.2222222222222222,
             "#7201a8"
            ],
            [
             0.3333333333333333,
             "#9c179e"
            ],
            [
             0.4444444444444444,
             "#bd3786"
            ],
            [
             0.5555555555555556,
             "#d8576b"
            ],
            [
             0.6666666666666666,
             "#ed7953"
            ],
            [
             0.7777777777777778,
             "#fb9f3a"
            ],
            [
             0.8888888888888888,
             "#fdca26"
            ],
            [
             1,
             "#f0f921"
            ]
           ]
          },
          "colorway": [
           "#636efa",
           "#EF553B",
           "#00cc96",
           "#ab63fa",
           "#FFA15A",
           "#19d3f3",
           "#FF6692",
           "#B6E880",
           "#FF97FF",
           "#FECB52"
          ],
          "font": {
           "color": "#2a3f5f"
          },
          "geo": {
           "bgcolor": "white",
           "lakecolor": "white",
           "landcolor": "#E5ECF6",
           "showlakes": true,
           "showland": true,
           "subunitcolor": "white"
          },
          "hoverlabel": {
           "align": "left"
          },
          "hovermode": "closest",
          "mapbox": {
           "style": "light"
          },
          "paper_bgcolor": "white",
          "plot_bgcolor": "#E5ECF6",
          "polar": {
           "angularaxis": {
            "gridcolor": "white",
            "linecolor": "white",
            "ticks": ""
           },
           "bgcolor": "#E5ECF6",
           "radialaxis": {
            "gridcolor": "white",
            "linecolor": "white",
            "ticks": ""
           }
          },
          "scene": {
           "xaxis": {
            "backgroundcolor": "#E5ECF6",
            "gridcolor": "white",
            "gridwidth": 2,
            "linecolor": "white",
            "showbackground": true,
            "ticks": "",
            "zerolinecolor": "white"
           },
           "yaxis": {
            "backgroundcolor": "#E5ECF6",
            "gridcolor": "white",
            "gridwidth": 2,
            "linecolor": "white",
            "showbackground": true,
            "ticks": "",
            "zerolinecolor": "white"
           },
           "zaxis": {
            "backgroundcolor": "#E5ECF6",
            "gridcolor": "white",
            "gridwidth": 2,
            "linecolor": "white",
            "showbackground": true,
            "ticks": "",
            "zerolinecolor": "white"
           }
          },
          "shapedefaults": {
           "line": {
            "color": "#2a3f5f"
           }
          },
          "ternary": {
           "aaxis": {
            "gridcolor": "white",
            "linecolor": "white",
            "ticks": ""
           },
           "baxis": {
            "gridcolor": "white",
            "linecolor": "white",
            "ticks": ""
           },
           "bgcolor": "#E5ECF6",
           "caxis": {
            "gridcolor": "white",
            "linecolor": "white",
            "ticks": ""
           }
          },
          "title": {
           "x": 0.05
          },
          "xaxis": {
           "automargin": true,
           "gridcolor": "white",
           "linecolor": "white",
           "ticks": "",
           "title": {
            "standoff": 15
           },
           "zerolinecolor": "white",
           "zerolinewidth": 2
          },
          "yaxis": {
           "automargin": true,
           "gridcolor": "white",
           "linecolor": "white",
           "ticks": "",
           "title": {
            "standoff": 15
           },
           "zerolinecolor": "white",
           "zerolinewidth": 2
          }
         }
        },
        "xaxis": {
         "anchor": "y",
         "domain": [
          0,
          1
         ],
         "title": {
          "text": "Title"
         }
        },
        "yaxis": {
         "anchor": "x",
         "domain": [
          0,
          1
         ],
         "title": {
          "text": "Likes"
         }
        }
       }
      },
      "text/html": [
       "<div>                            <div id=\"6a178310-90c9-43aa-af84-f8d85d7c36e4\" class=\"plotly-graph-div\" style=\"height:525px; width:100%;\"></div>            <script type=\"text/javascript\">                require([\"plotly\"], function(Plotly) {                    window.PLOTLYENV=window.PLOTLYENV || {};                                    if (document.getElementById(\"6a178310-90c9-43aa-af84-f8d85d7c36e4\")) {                    Plotly.newPlot(                        \"6a178310-90c9-43aa-af84-f8d85d7c36e4\",                        [{\"alignmentgroup\":\"True\",\"hovertemplate\":\"Title=%{x}<br>Likes=%{y}<extra></extra>\",\"legendgroup\":\"\",\"marker\":{\"color\":\"#636efa\",\"pattern\":{\"shape\":\"\"}},\"name\":\"\",\"offsetgroup\":\"\",\"orientation\":\"v\",\"showlegend\":false,\"textposition\":\"auto\",\"x\":[\"Would You Fly To Paris For A Baguette?\",\"Giving iPhones Instead Of Candy on Halloween\",\"Make This Video The Most Liked Video On Youtube\",\"The Rock Vs MrBeast For $100,000\",\"I Sent a Subscriber to Disneyland\",\"Gordon Ramsay Tries Most Expensive Chocolate Bar!\",\"$456,000 Squid Game In Real Life!\",\"Katana Vs Bullet\",\"I NEED 1 MORE SUBSCRIBER\",\"Would You Pet a Cheetah in Africa?\"],\"xaxis\":\"x\",\"y\":[41064093,30037941,28736423,25620716,18950832,17646537,17184193,17103603,15838629,15676704],\"yaxis\":\"y\",\"type\":\"bar\"}],                        {\"template\":{\"data\":{\"histogram2dcontour\":[{\"type\":\"histogram2dcontour\",\"colorbar\":{\"outlinewidth\":0,\"ticks\":\"\"},\"colorscale\":[[0.0,\"#0d0887\"],[0.1111111111111111,\"#46039f\"],[0.2222222222222222,\"#7201a8\"],[0.3333333333333333,\"#9c179e\"],[0.4444444444444444,\"#bd3786\"],[0.5555555555555556,\"#d8576b\"],[0.6666666666666666,\"#ed7953\"],[0.7777777777777778,\"#fb9f3a\"],[0.8888888888888888,\"#fdca26\"],[1.0,\"#f0f921\"]]}],\"choropleth\":[{\"type\":\"choropleth\",\"colorbar\":{\"outlinewidth\":0,\"ticks\":\"\"}}],\"histogram2d\":[{\"type\":\"histogram2d\",\"colorbar\":{\"outlinewidth\":0,\"ticks\":\"\"},\"colorscale\":[[0.0,\"#0d0887\"],[0.1111111111111111,\"#46039f\"],[0.2222222222222222,\"#7201a8\"],[0.3333333333333333,\"#9c179e\"],[0.4444444444444444,\"#bd3786\"],[0.5555555555555556,\"#d8576b\"],[0.6666666666666666,\"#ed7953\"],[0.7777777777777778,\"#fb9f3a\"],[0.8888888888888888,\"#fdca26\"],[1.0,\"#f0f921\"]]}],\"heatmap\":[{\"type\":\"heatmap\",\"colorbar\":{\"outlinewidth\":0,\"ticks\":\"\"},\"colorscale\":[[0.0,\"#0d0887\"],[0.1111111111111111,\"#46039f\"],[0.2222222222222222,\"#7201a8\"],[0.3333333333333333,\"#9c179e\"],[0.4444444444444444,\"#bd3786\"],[0.5555555555555556,\"#d8576b\"],[0.6666666666666666,\"#ed7953\"],[0.7777777777777778,\"#fb9f3a\"],[0.8888888888888888,\"#fdca26\"],[1.0,\"#f0f921\"]]}],\"heatmapgl\":[{\"type\":\"heatmapgl\",\"colorbar\":{\"outlinewidth\":0,\"ticks\":\"\"},\"colorscale\":[[0.0,\"#0d0887\"],[0.1111111111111111,\"#46039f\"],[0.2222222222222222,\"#7201a8\"],[0.3333333333333333,\"#9c179e\"],[0.4444444444444444,\"#bd3786\"],[0.5555555555555556,\"#d8576b\"],[0.6666666666666666,\"#ed7953\"],[0.7777777777777778,\"#fb9f3a\"],[0.8888888888888888,\"#fdca26\"],[1.0,\"#f0f921\"]]}],\"contourcarpet\":[{\"type\":\"contourcarpet\",\"colorbar\":{\"outlinewidth\":0,\"ticks\":\"\"}}],\"contour\":[{\"type\":\"contour\",\"colorbar\":{\"outlinewidth\":0,\"ticks\":\"\"},\"colorscale\":[[0.0,\"#0d0887\"],[0.1111111111111111,\"#46039f\"],[0.2222222222222222,\"#7201a8\"],[0.3333333333333333,\"#9c179e\"],[0.4444444444444444,\"#bd3786\"],[0.5555555555555556,\"#d8576b\"],[0.6666666666666666,\"#ed7953\"],[0.7777777777777778,\"#fb9f3a\"],[0.8888888888888888,\"#fdca26\"],[1.0,\"#f0f921\"]]}],\"surface\":[{\"type\":\"surface\",\"colorbar\":{\"outlinewidth\":0,\"ticks\":\"\"},\"colorscale\":[[0.0,\"#0d0887\"],[0.1111111111111111,\"#46039f\"],[0.2222222222222222,\"#7201a8\"],[0.3333333333333333,\"#9c179e\"],[0.4444444444444444,\"#bd3786\"],[0.5555555555555556,\"#d8576b\"],[0.6666666666666666,\"#ed7953\"],[0.7777777777777778,\"#fb9f3a\"],[0.8888888888888888,\"#fdca26\"],[1.0,\"#f0f921\"]]}],\"mesh3d\":[{\"type\":\"mesh3d\",\"colorbar\":{\"outlinewidth\":0,\"ticks\":\"\"}}],\"scatter\":[{\"fillpattern\":{\"fillmode\":\"overlay\",\"size\":10,\"solidity\":0.2},\"type\":\"scatter\"}],\"parcoords\":[{\"type\":\"parcoords\",\"line\":{\"colorbar\":{\"outlinewidth\":0,\"ticks\":\"\"}}}],\"scatterpolargl\":[{\"type\":\"scatterpolargl\",\"marker\":{\"colorbar\":{\"outlinewidth\":0,\"ticks\":\"\"}}}],\"bar\":[{\"error_x\":{\"color\":\"#2a3f5f\"},\"error_y\":{\"color\":\"#2a3f5f\"},\"marker\":{\"line\":{\"color\":\"#E5ECF6\",\"width\":0.5},\"pattern\":{\"fillmode\":\"overlay\",\"size\":10,\"solidity\":0.2}},\"type\":\"bar\"}],\"scattergeo\":[{\"type\":\"scattergeo\",\"marker\":{\"colorbar\":{\"outlinewidth\":0,\"ticks\":\"\"}}}],\"scatterpolar\":[{\"type\":\"scatterpolar\",\"marker\":{\"colorbar\":{\"outlinewidth\":0,\"ticks\":\"\"}}}],\"histogram\":[{\"marker\":{\"pattern\":{\"fillmode\":\"overlay\",\"size\":10,\"solidity\":0.2}},\"type\":\"histogram\"}],\"scattergl\":[{\"type\":\"scattergl\",\"marker\":{\"colorbar\":{\"outlinewidth\":0,\"ticks\":\"\"}}}],\"scatter3d\":[{\"type\":\"scatter3d\",\"line\":{\"colorbar\":{\"outlinewidth\":0,\"ticks\":\"\"}},\"marker\":{\"colorbar\":{\"outlinewidth\":0,\"ticks\":\"\"}}}],\"scattermapbox\":[{\"type\":\"scattermapbox\",\"marker\":{\"colorbar\":{\"outlinewidth\":0,\"ticks\":\"\"}}}],\"scatterternary\":[{\"type\":\"scatterternary\",\"marker\":{\"colorbar\":{\"outlinewidth\":0,\"ticks\":\"\"}}}],\"scattercarpet\":[{\"type\":\"scattercarpet\",\"marker\":{\"colorbar\":{\"outlinewidth\":0,\"ticks\":\"\"}}}],\"carpet\":[{\"aaxis\":{\"endlinecolor\":\"#2a3f5f\",\"gridcolor\":\"white\",\"linecolor\":\"white\",\"minorgridcolor\":\"white\",\"startlinecolor\":\"#2a3f5f\"},\"baxis\":{\"endlinecolor\":\"#2a3f5f\",\"gridcolor\":\"white\",\"linecolor\":\"white\",\"minorgridcolor\":\"white\",\"startlinecolor\":\"#2a3f5f\"},\"type\":\"carpet\"}],\"table\":[{\"cells\":{\"fill\":{\"color\":\"#EBF0F8\"},\"line\":{\"color\":\"white\"}},\"header\":{\"fill\":{\"color\":\"#C8D4E3\"},\"line\":{\"color\":\"white\"}},\"type\":\"table\"}],\"barpolar\":[{\"marker\":{\"line\":{\"color\":\"#E5ECF6\",\"width\":0.5},\"pattern\":{\"fillmode\":\"overlay\",\"size\":10,\"solidity\":0.2}},\"type\":\"barpolar\"}],\"pie\":[{\"automargin\":true,\"type\":\"pie\"}]},\"layout\":{\"autotypenumbers\":\"strict\",\"colorway\":[\"#636efa\",\"#EF553B\",\"#00cc96\",\"#ab63fa\",\"#FFA15A\",\"#19d3f3\",\"#FF6692\",\"#B6E880\",\"#FF97FF\",\"#FECB52\"],\"font\":{\"color\":\"#2a3f5f\"},\"hovermode\":\"closest\",\"hoverlabel\":{\"align\":\"left\"},\"paper_bgcolor\":\"white\",\"plot_bgcolor\":\"#E5ECF6\",\"polar\":{\"bgcolor\":\"#E5ECF6\",\"angularaxis\":{\"gridcolor\":\"white\",\"linecolor\":\"white\",\"ticks\":\"\"},\"radialaxis\":{\"gridcolor\":\"white\",\"linecolor\":\"white\",\"ticks\":\"\"}},\"ternary\":{\"bgcolor\":\"#E5ECF6\",\"aaxis\":{\"gridcolor\":\"white\",\"linecolor\":\"white\",\"ticks\":\"\"},\"baxis\":{\"gridcolor\":\"white\",\"linecolor\":\"white\",\"ticks\":\"\"},\"caxis\":{\"gridcolor\":\"white\",\"linecolor\":\"white\",\"ticks\":\"\"}},\"coloraxis\":{\"colorbar\":{\"outlinewidth\":0,\"ticks\":\"\"}},\"colorscale\":{\"sequential\":[[0.0,\"#0d0887\"],[0.1111111111111111,\"#46039f\"],[0.2222222222222222,\"#7201a8\"],[0.3333333333333333,\"#9c179e\"],[0.4444444444444444,\"#bd3786\"],[0.5555555555555556,\"#d8576b\"],[0.6666666666666666,\"#ed7953\"],[0.7777777777777778,\"#fb9f3a\"],[0.8888888888888888,\"#fdca26\"],[1.0,\"#f0f921\"]],\"sequentialminus\":[[0.0,\"#0d0887\"],[0.1111111111111111,\"#46039f\"],[0.2222222222222222,\"#7201a8\"],[0.3333333333333333,\"#9c179e\"],[0.4444444444444444,\"#bd3786\"],[0.5555555555555556,\"#d8576b\"],[0.6666666666666666,\"#ed7953\"],[0.7777777777777778,\"#fb9f3a\"],[0.8888888888888888,\"#fdca26\"],[1.0,\"#f0f921\"]],\"diverging\":[[0,\"#8e0152\"],[0.1,\"#c51b7d\"],[0.2,\"#de77ae\"],[0.3,\"#f1b6da\"],[0.4,\"#fde0ef\"],[0.5,\"#f7f7f7\"],[0.6,\"#e6f5d0\"],[0.7,\"#b8e186\"],[0.8,\"#7fbc41\"],[0.9,\"#4d9221\"],[1,\"#276419\"]]},\"xaxis\":{\"gridcolor\":\"white\",\"linecolor\":\"white\",\"ticks\":\"\",\"title\":{\"standoff\":15},\"zerolinecolor\":\"white\",\"automargin\":true,\"zerolinewidth\":2},\"yaxis\":{\"gridcolor\":\"white\",\"linecolor\":\"white\",\"ticks\":\"\",\"title\":{\"standoff\":15},\"zerolinecolor\":\"white\",\"automargin\":true,\"zerolinewidth\":2},\"scene\":{\"xaxis\":{\"backgroundcolor\":\"#E5ECF6\",\"gridcolor\":\"white\",\"linecolor\":\"white\",\"showbackground\":true,\"ticks\":\"\",\"zerolinecolor\":\"white\",\"gridwidth\":2},\"yaxis\":{\"backgroundcolor\":\"#E5ECF6\",\"gridcolor\":\"white\",\"linecolor\":\"white\",\"showbackground\":true,\"ticks\":\"\",\"zerolinecolor\":\"white\",\"gridwidth\":2},\"zaxis\":{\"backgroundcolor\":\"#E5ECF6\",\"gridcolor\":\"white\",\"linecolor\":\"white\",\"showbackground\":true,\"ticks\":\"\",\"zerolinecolor\":\"white\",\"gridwidth\":2}},\"shapedefaults\":{\"line\":{\"color\":\"#2a3f5f\"}},\"annotationdefaults\":{\"arrowcolor\":\"#2a3f5f\",\"arrowhead\":0,\"arrowwidth\":1},\"geo\":{\"bgcolor\":\"white\",\"landcolor\":\"#E5ECF6\",\"subunitcolor\":\"white\",\"showland\":true,\"showlakes\":true,\"lakecolor\":\"white\"},\"title\":{\"x\":0.05},\"mapbox\":{\"style\":\"light\"}}},\"xaxis\":{\"anchor\":\"y\",\"domain\":[0.0,1.0],\"title\":{\"text\":\"Title\"}},\"yaxis\":{\"anchor\":\"x\",\"domain\":[0.0,1.0],\"title\":{\"text\":\"Likes\"}},\"legend\":{\"tracegroupgap\":0},\"margin\":{\"t\":60},\"barmode\":\"relative\"},                        {\"responsive\": true}                    ).then(function(){\n",
       "                            \n",
       "var gd = document.getElementById('6a178310-90c9-43aa-af84-f8d85d7c36e4');\n",
       "var x = new MutationObserver(function (mutations, observer) {{\n",
       "        var display = window.getComputedStyle(gd).display;\n",
       "        if (!display || display === 'none') {{\n",
       "            console.log([gd, 'removed!']);\n",
       "            Plotly.purge(gd);\n",
       "            observer.disconnect();\n",
       "        }}\n",
       "}});\n",
       "\n",
       "// Listen for the removal of the full notebook cells\n",
       "var notebookContainer = gd.closest('#notebook-container');\n",
       "if (notebookContainer) {{\n",
       "    x.observe(notebookContainer, {childList: true});\n",
       "}}\n",
       "\n",
       "// Listen for the clearing of the current output cell\n",
       "var outputEl = gd.closest('.output');\n",
       "if (outputEl) {{\n",
       "    x.observe(outputEl, {childList: true});\n",
       "}}\n",
       "\n",
       "                        })                };                });            </script>        </div>"
      ]
     },
     "metadata": {},
     "output_type": "display_data"
    }
   ],
   "source": [
    "mostliked  = df.sort_values(by = 'Likes',ascending = False)\n",
    "mostliked = mostliked.head(10)\n",
    "px.bar(mostliked,x='Title',y='Likes')"
   ]
  },
  {
   "cell_type": "code",
   "execution_count": 856,
   "id": "091f4513",
   "metadata": {},
   "outputs": [
    {
     "data": {
      "text/html": [
       "<div>\n",
       "<style scoped>\n",
       "    .dataframe tbody tr th:only-of-type {\n",
       "        vertical-align: middle;\n",
       "    }\n",
       "\n",
       "    .dataframe tbody tr th {\n",
       "        vertical-align: top;\n",
       "    }\n",
       "\n",
       "    .dataframe thead th {\n",
       "        text-align: right;\n",
       "    }\n",
       "</style>\n",
       "<table border=\"1\" class=\"dataframe\">\n",
       "  <thead>\n",
       "    <tr style=\"text-align: right;\">\n",
       "      <th></th>\n",
       "      <th>publishDayName</th>\n",
       "    </tr>\n",
       "  </thead>\n",
       "  <tbody>\n",
       "    <tr>\n",
       "      <th>Monday</th>\n",
       "      <td>65</td>\n",
       "    </tr>\n",
       "    <tr>\n",
       "      <th>Tuesday</th>\n",
       "      <td>87</td>\n",
       "    </tr>\n",
       "    <tr>\n",
       "      <th>Wednesday</th>\n",
       "      <td>80</td>\n",
       "    </tr>\n",
       "    <tr>\n",
       "      <th>Thursday</th>\n",
       "      <td>110</td>\n",
       "    </tr>\n",
       "    <tr>\n",
       "      <th>Friday</th>\n",
       "      <td>108</td>\n",
       "    </tr>\n",
       "    <tr>\n",
       "      <th>Saturday</th>\n",
       "      <td>198</td>\n",
       "    </tr>\n",
       "    <tr>\n",
       "      <th>Sunday</th>\n",
       "      <td>114</td>\n",
       "    </tr>\n",
       "  </tbody>\n",
       "</table>\n",
       "</div>"
      ],
      "text/plain": [
       "           publishDayName\n",
       "Monday                 65\n",
       "Tuesday                87\n",
       "Wednesday              80\n",
       "Thursday              110\n",
       "Friday                108\n",
       "Saturday              198\n",
       "Sunday                114"
      ]
     },
     "execution_count": 856,
     "metadata": {},
     "output_type": "execute_result"
    }
   ],
   "source": [
    "day_df = pd.DataFrame(df['publishDayName'].value_counts())\n",
    "weekdays = [ 'Monday', 'Tuesday', 'Wednesday', 'Thursday', 'Friday', 'Saturday', 'Sunday']\n",
    "day_df = day_df.reindex(weekdays)\n",
    "day_df"
   ]
  },
  {
   "cell_type": "code",
   "execution_count": 857,
   "id": "f1451366",
   "metadata": {},
   "outputs": [
    {
     "data": {
      "application/vnd.plotly.v1+json": {
       "config": {
        "plotlyServerURL": "https://plot.ly"
       },
       "data": [
        {
         "alignmentgroup": "True",
         "hovertemplate": "index=%{x}<br>publishDayName=%{y}<extra></extra>",
         "legendgroup": "",
         "marker": {
          "color": "#636efa",
          "pattern": {
           "shape": ""
          }
         },
         "name": "",
         "offsetgroup": "",
         "orientation": "v",
         "showlegend": false,
         "textposition": "auto",
         "type": "bar",
         "x": [
          "Monday",
          "Tuesday",
          "Wednesday",
          "Thursday",
          "Friday",
          "Saturday",
          "Sunday"
         ],
         "xaxis": "x",
         "y": [
          65,
          87,
          80,
          110,
          108,
          198,
          114
         ],
         "yaxis": "y"
        }
       ],
       "layout": {
        "barmode": "relative",
        "legend": {
         "tracegroupgap": 0
        },
        "margin": {
         "t": 60
        },
        "template": {
         "data": {
          "bar": [
           {
            "error_x": {
             "color": "#2a3f5f"
            },
            "error_y": {
             "color": "#2a3f5f"
            },
            "marker": {
             "line": {
              "color": "#E5ECF6",
              "width": 0.5
             },
             "pattern": {
              "fillmode": "overlay",
              "size": 10,
              "solidity": 0.2
             }
            },
            "type": "bar"
           }
          ],
          "barpolar": [
           {
            "marker": {
             "line": {
              "color": "#E5ECF6",
              "width": 0.5
             },
             "pattern": {
              "fillmode": "overlay",
              "size": 10,
              "solidity": 0.2
             }
            },
            "type": "barpolar"
           }
          ],
          "carpet": [
           {
            "aaxis": {
             "endlinecolor": "#2a3f5f",
             "gridcolor": "white",
             "linecolor": "white",
             "minorgridcolor": "white",
             "startlinecolor": "#2a3f5f"
            },
            "baxis": {
             "endlinecolor": "#2a3f5f",
             "gridcolor": "white",
             "linecolor": "white",
             "minorgridcolor": "white",
             "startlinecolor": "#2a3f5f"
            },
            "type": "carpet"
           }
          ],
          "choropleth": [
           {
            "colorbar": {
             "outlinewidth": 0,
             "ticks": ""
            },
            "type": "choropleth"
           }
          ],
          "contour": [
           {
            "colorbar": {
             "outlinewidth": 0,
             "ticks": ""
            },
            "colorscale": [
             [
              0,
              "#0d0887"
             ],
             [
              0.1111111111111111,
              "#46039f"
             ],
             [
              0.2222222222222222,
              "#7201a8"
             ],
             [
              0.3333333333333333,
              "#9c179e"
             ],
             [
              0.4444444444444444,
              "#bd3786"
             ],
             [
              0.5555555555555556,
              "#d8576b"
             ],
             [
              0.6666666666666666,
              "#ed7953"
             ],
             [
              0.7777777777777778,
              "#fb9f3a"
             ],
             [
              0.8888888888888888,
              "#fdca26"
             ],
             [
              1,
              "#f0f921"
             ]
            ],
            "type": "contour"
           }
          ],
          "contourcarpet": [
           {
            "colorbar": {
             "outlinewidth": 0,
             "ticks": ""
            },
            "type": "contourcarpet"
           }
          ],
          "heatmap": [
           {
            "colorbar": {
             "outlinewidth": 0,
             "ticks": ""
            },
            "colorscale": [
             [
              0,
              "#0d0887"
             ],
             [
              0.1111111111111111,
              "#46039f"
             ],
             [
              0.2222222222222222,
              "#7201a8"
             ],
             [
              0.3333333333333333,
              "#9c179e"
             ],
             [
              0.4444444444444444,
              "#bd3786"
             ],
             [
              0.5555555555555556,
              "#d8576b"
             ],
             [
              0.6666666666666666,
              "#ed7953"
             ],
             [
              0.7777777777777778,
              "#fb9f3a"
             ],
             [
              0.8888888888888888,
              "#fdca26"
             ],
             [
              1,
              "#f0f921"
             ]
            ],
            "type": "heatmap"
           }
          ],
          "heatmapgl": [
           {
            "colorbar": {
             "outlinewidth": 0,
             "ticks": ""
            },
            "colorscale": [
             [
              0,
              "#0d0887"
             ],
             [
              0.1111111111111111,
              "#46039f"
             ],
             [
              0.2222222222222222,
              "#7201a8"
             ],
             [
              0.3333333333333333,
              "#9c179e"
             ],
             [
              0.4444444444444444,
              "#bd3786"
             ],
             [
              0.5555555555555556,
              "#d8576b"
             ],
             [
              0.6666666666666666,
              "#ed7953"
             ],
             [
              0.7777777777777778,
              "#fb9f3a"
             ],
             [
              0.8888888888888888,
              "#fdca26"
             ],
             [
              1,
              "#f0f921"
             ]
            ],
            "type": "heatmapgl"
           }
          ],
          "histogram": [
           {
            "marker": {
             "pattern": {
              "fillmode": "overlay",
              "size": 10,
              "solidity": 0.2
             }
            },
            "type": "histogram"
           }
          ],
          "histogram2d": [
           {
            "colorbar": {
             "outlinewidth": 0,
             "ticks": ""
            },
            "colorscale": [
             [
              0,
              "#0d0887"
             ],
             [
              0.1111111111111111,
              "#46039f"
             ],
             [
              0.2222222222222222,
              "#7201a8"
             ],
             [
              0.3333333333333333,
              "#9c179e"
             ],
             [
              0.4444444444444444,
              "#bd3786"
             ],
             [
              0.5555555555555556,
              "#d8576b"
             ],
             [
              0.6666666666666666,
              "#ed7953"
             ],
             [
              0.7777777777777778,
              "#fb9f3a"
             ],
             [
              0.8888888888888888,
              "#fdca26"
             ],
             [
              1,
              "#f0f921"
             ]
            ],
            "type": "histogram2d"
           }
          ],
          "histogram2dcontour": [
           {
            "colorbar": {
             "outlinewidth": 0,
             "ticks": ""
            },
            "colorscale": [
             [
              0,
              "#0d0887"
             ],
             [
              0.1111111111111111,
              "#46039f"
             ],
             [
              0.2222222222222222,
              "#7201a8"
             ],
             [
              0.3333333333333333,
              "#9c179e"
             ],
             [
              0.4444444444444444,
              "#bd3786"
             ],
             [
              0.5555555555555556,
              "#d8576b"
             ],
             [
              0.6666666666666666,
              "#ed7953"
             ],
             [
              0.7777777777777778,
              "#fb9f3a"
             ],
             [
              0.8888888888888888,
              "#fdca26"
             ],
             [
              1,
              "#f0f921"
             ]
            ],
            "type": "histogram2dcontour"
           }
          ],
          "mesh3d": [
           {
            "colorbar": {
             "outlinewidth": 0,
             "ticks": ""
            },
            "type": "mesh3d"
           }
          ],
          "parcoords": [
           {
            "line": {
             "colorbar": {
              "outlinewidth": 0,
              "ticks": ""
             }
            },
            "type": "parcoords"
           }
          ],
          "pie": [
           {
            "automargin": true,
            "type": "pie"
           }
          ],
          "scatter": [
           {
            "fillpattern": {
             "fillmode": "overlay",
             "size": 10,
             "solidity": 0.2
            },
            "type": "scatter"
           }
          ],
          "scatter3d": [
           {
            "line": {
             "colorbar": {
              "outlinewidth": 0,
              "ticks": ""
             }
            },
            "marker": {
             "colorbar": {
              "outlinewidth": 0,
              "ticks": ""
             }
            },
            "type": "scatter3d"
           }
          ],
          "scattercarpet": [
           {
            "marker": {
             "colorbar": {
              "outlinewidth": 0,
              "ticks": ""
             }
            },
            "type": "scattercarpet"
           }
          ],
          "scattergeo": [
           {
            "marker": {
             "colorbar": {
              "outlinewidth": 0,
              "ticks": ""
             }
            },
            "type": "scattergeo"
           }
          ],
          "scattergl": [
           {
            "marker": {
             "colorbar": {
              "outlinewidth": 0,
              "ticks": ""
             }
            },
            "type": "scattergl"
           }
          ],
          "scattermapbox": [
           {
            "marker": {
             "colorbar": {
              "outlinewidth": 0,
              "ticks": ""
             }
            },
            "type": "scattermapbox"
           }
          ],
          "scatterpolar": [
           {
            "marker": {
             "colorbar": {
              "outlinewidth": 0,
              "ticks": ""
             }
            },
            "type": "scatterpolar"
           }
          ],
          "scatterpolargl": [
           {
            "marker": {
             "colorbar": {
              "outlinewidth": 0,
              "ticks": ""
             }
            },
            "type": "scatterpolargl"
           }
          ],
          "scatterternary": [
           {
            "marker": {
             "colorbar": {
              "outlinewidth": 0,
              "ticks": ""
             }
            },
            "type": "scatterternary"
           }
          ],
          "surface": [
           {
            "colorbar": {
             "outlinewidth": 0,
             "ticks": ""
            },
            "colorscale": [
             [
              0,
              "#0d0887"
             ],
             [
              0.1111111111111111,
              "#46039f"
             ],
             [
              0.2222222222222222,
              "#7201a8"
             ],
             [
              0.3333333333333333,
              "#9c179e"
             ],
             [
              0.4444444444444444,
              "#bd3786"
             ],
             [
              0.5555555555555556,
              "#d8576b"
             ],
             [
              0.6666666666666666,
              "#ed7953"
             ],
             [
              0.7777777777777778,
              "#fb9f3a"
             ],
             [
              0.8888888888888888,
              "#fdca26"
             ],
             [
              1,
              "#f0f921"
             ]
            ],
            "type": "surface"
           }
          ],
          "table": [
           {
            "cells": {
             "fill": {
              "color": "#EBF0F8"
             },
             "line": {
              "color": "white"
             }
            },
            "header": {
             "fill": {
              "color": "#C8D4E3"
             },
             "line": {
              "color": "white"
             }
            },
            "type": "table"
           }
          ]
         },
         "layout": {
          "annotationdefaults": {
           "arrowcolor": "#2a3f5f",
           "arrowhead": 0,
           "arrowwidth": 1
          },
          "autotypenumbers": "strict",
          "coloraxis": {
           "colorbar": {
            "outlinewidth": 0,
            "ticks": ""
           }
          },
          "colorscale": {
           "diverging": [
            [
             0,
             "#8e0152"
            ],
            [
             0.1,
             "#c51b7d"
            ],
            [
             0.2,
             "#de77ae"
            ],
            [
             0.3,
             "#f1b6da"
            ],
            [
             0.4,
             "#fde0ef"
            ],
            [
             0.5,
             "#f7f7f7"
            ],
            [
             0.6,
             "#e6f5d0"
            ],
            [
             0.7,
             "#b8e186"
            ],
            [
             0.8,
             "#7fbc41"
            ],
            [
             0.9,
             "#4d9221"
            ],
            [
             1,
             "#276419"
            ]
           ],
           "sequential": [
            [
             0,
             "#0d0887"
            ],
            [
             0.1111111111111111,
             "#46039f"
            ],
            [
             0.2222222222222222,
             "#7201a8"
            ],
            [
             0.3333333333333333,
             "#9c179e"
            ],
            [
             0.4444444444444444,
             "#bd3786"
            ],
            [
             0.5555555555555556,
             "#d8576b"
            ],
            [
             0.6666666666666666,
             "#ed7953"
            ],
            [
             0.7777777777777778,
             "#fb9f3a"
            ],
            [
             0.8888888888888888,
             "#fdca26"
            ],
            [
             1,
             "#f0f921"
            ]
           ],
           "sequentialminus": [
            [
             0,
             "#0d0887"
            ],
            [
             0.1111111111111111,
             "#46039f"
            ],
            [
             0.2222222222222222,
             "#7201a8"
            ],
            [
             0.3333333333333333,
             "#9c179e"
            ],
            [
             0.4444444444444444,
             "#bd3786"
            ],
            [
             0.5555555555555556,
             "#d8576b"
            ],
            [
             0.6666666666666666,
             "#ed7953"
            ],
            [
             0.7777777777777778,
             "#fb9f3a"
            ],
            [
             0.8888888888888888,
             "#fdca26"
            ],
            [
             1,
             "#f0f921"
            ]
           ]
          },
          "colorway": [
           "#636efa",
           "#EF553B",
           "#00cc96",
           "#ab63fa",
           "#FFA15A",
           "#19d3f3",
           "#FF6692",
           "#B6E880",
           "#FF97FF",
           "#FECB52"
          ],
          "font": {
           "color": "#2a3f5f"
          },
          "geo": {
           "bgcolor": "white",
           "lakecolor": "white",
           "landcolor": "#E5ECF6",
           "showlakes": true,
           "showland": true,
           "subunitcolor": "white"
          },
          "hoverlabel": {
           "align": "left"
          },
          "hovermode": "closest",
          "mapbox": {
           "style": "light"
          },
          "paper_bgcolor": "white",
          "plot_bgcolor": "#E5ECF6",
          "polar": {
           "angularaxis": {
            "gridcolor": "white",
            "linecolor": "white",
            "ticks": ""
           },
           "bgcolor": "#E5ECF6",
           "radialaxis": {
            "gridcolor": "white",
            "linecolor": "white",
            "ticks": ""
           }
          },
          "scene": {
           "xaxis": {
            "backgroundcolor": "#E5ECF6",
            "gridcolor": "white",
            "gridwidth": 2,
            "linecolor": "white",
            "showbackground": true,
            "ticks": "",
            "zerolinecolor": "white"
           },
           "yaxis": {
            "backgroundcolor": "#E5ECF6",
            "gridcolor": "white",
            "gridwidth": 2,
            "linecolor": "white",
            "showbackground": true,
            "ticks": "",
            "zerolinecolor": "white"
           },
           "zaxis": {
            "backgroundcolor": "#E5ECF6",
            "gridcolor": "white",
            "gridwidth": 2,
            "linecolor": "white",
            "showbackground": true,
            "ticks": "",
            "zerolinecolor": "white"
           }
          },
          "shapedefaults": {
           "line": {
            "color": "#2a3f5f"
           }
          },
          "ternary": {
           "aaxis": {
            "gridcolor": "white",
            "linecolor": "white",
            "ticks": ""
           },
           "baxis": {
            "gridcolor": "white",
            "linecolor": "white",
            "ticks": ""
           },
           "bgcolor": "#E5ECF6",
           "caxis": {
            "gridcolor": "white",
            "linecolor": "white",
            "ticks": ""
           }
          },
          "title": {
           "x": 0.05
          },
          "xaxis": {
           "automargin": true,
           "gridcolor": "white",
           "linecolor": "white",
           "ticks": "",
           "title": {
            "standoff": 15
           },
           "zerolinecolor": "white",
           "zerolinewidth": 2
          },
          "yaxis": {
           "automargin": true,
           "gridcolor": "white",
           "linecolor": "white",
           "ticks": "",
           "title": {
            "standoff": 15
           },
           "zerolinecolor": "white",
           "zerolinewidth": 2
          }
         }
        },
        "xaxis": {
         "anchor": "y",
         "domain": [
          0,
          1
         ],
         "title": {
          "text": "index"
         }
        },
        "yaxis": {
         "anchor": "x",
         "domain": [
          0,
          1
         ],
         "title": {
          "text": "publishDayName"
         }
        }
       }
      },
      "text/html": [
       "<div>                            <div id=\"a2cee9a3-3f8e-4dcb-bb01-0b46e7417fe1\" class=\"plotly-graph-div\" style=\"height:525px; width:100%;\"></div>            <script type=\"text/javascript\">                require([\"plotly\"], function(Plotly) {                    window.PLOTLYENV=window.PLOTLYENV || {};                                    if (document.getElementById(\"a2cee9a3-3f8e-4dcb-bb01-0b46e7417fe1\")) {                    Plotly.newPlot(                        \"a2cee9a3-3f8e-4dcb-bb01-0b46e7417fe1\",                        [{\"alignmentgroup\":\"True\",\"hovertemplate\":\"index=%{x}<br>publishDayName=%{y}<extra></extra>\",\"legendgroup\":\"\",\"marker\":{\"color\":\"#636efa\",\"pattern\":{\"shape\":\"\"}},\"name\":\"\",\"offsetgroup\":\"\",\"orientation\":\"v\",\"showlegend\":false,\"textposition\":\"auto\",\"x\":[\"Monday\",\"Tuesday\",\"Wednesday\",\"Thursday\",\"Friday\",\"Saturday\",\"Sunday\"],\"xaxis\":\"x\",\"y\":[65,87,80,110,108,198,114],\"yaxis\":\"y\",\"type\":\"bar\"}],                        {\"template\":{\"data\":{\"histogram2dcontour\":[{\"type\":\"histogram2dcontour\",\"colorbar\":{\"outlinewidth\":0,\"ticks\":\"\"},\"colorscale\":[[0.0,\"#0d0887\"],[0.1111111111111111,\"#46039f\"],[0.2222222222222222,\"#7201a8\"],[0.3333333333333333,\"#9c179e\"],[0.4444444444444444,\"#bd3786\"],[0.5555555555555556,\"#d8576b\"],[0.6666666666666666,\"#ed7953\"],[0.7777777777777778,\"#fb9f3a\"],[0.8888888888888888,\"#fdca26\"],[1.0,\"#f0f921\"]]}],\"choropleth\":[{\"type\":\"choropleth\",\"colorbar\":{\"outlinewidth\":0,\"ticks\":\"\"}}],\"histogram2d\":[{\"type\":\"histogram2d\",\"colorbar\":{\"outlinewidth\":0,\"ticks\":\"\"},\"colorscale\":[[0.0,\"#0d0887\"],[0.1111111111111111,\"#46039f\"],[0.2222222222222222,\"#7201a8\"],[0.3333333333333333,\"#9c179e\"],[0.4444444444444444,\"#bd3786\"],[0.5555555555555556,\"#d8576b\"],[0.6666666666666666,\"#ed7953\"],[0.7777777777777778,\"#fb9f3a\"],[0.8888888888888888,\"#fdca26\"],[1.0,\"#f0f921\"]]}],\"heatmap\":[{\"type\":\"heatmap\",\"colorbar\":{\"outlinewidth\":0,\"ticks\":\"\"},\"colorscale\":[[0.0,\"#0d0887\"],[0.1111111111111111,\"#46039f\"],[0.2222222222222222,\"#7201a8\"],[0.3333333333333333,\"#9c179e\"],[0.4444444444444444,\"#bd3786\"],[0.5555555555555556,\"#d8576b\"],[0.6666666666666666,\"#ed7953\"],[0.7777777777777778,\"#fb9f3a\"],[0.8888888888888888,\"#fdca26\"],[1.0,\"#f0f921\"]]}],\"heatmapgl\":[{\"type\":\"heatmapgl\",\"colorbar\":{\"outlinewidth\":0,\"ticks\":\"\"},\"colorscale\":[[0.0,\"#0d0887\"],[0.1111111111111111,\"#46039f\"],[0.2222222222222222,\"#7201a8\"],[0.3333333333333333,\"#9c179e\"],[0.4444444444444444,\"#bd3786\"],[0.5555555555555556,\"#d8576b\"],[0.6666666666666666,\"#ed7953\"],[0.7777777777777778,\"#fb9f3a\"],[0.8888888888888888,\"#fdca26\"],[1.0,\"#f0f921\"]]}],\"contourcarpet\":[{\"type\":\"contourcarpet\",\"colorbar\":{\"outlinewidth\":0,\"ticks\":\"\"}}],\"contour\":[{\"type\":\"contour\",\"colorbar\":{\"outlinewidth\":0,\"ticks\":\"\"},\"colorscale\":[[0.0,\"#0d0887\"],[0.1111111111111111,\"#46039f\"],[0.2222222222222222,\"#7201a8\"],[0.3333333333333333,\"#9c179e\"],[0.4444444444444444,\"#bd3786\"],[0.5555555555555556,\"#d8576b\"],[0.6666666666666666,\"#ed7953\"],[0.7777777777777778,\"#fb9f3a\"],[0.8888888888888888,\"#fdca26\"],[1.0,\"#f0f921\"]]}],\"surface\":[{\"type\":\"surface\",\"colorbar\":{\"outlinewidth\":0,\"ticks\":\"\"},\"colorscale\":[[0.0,\"#0d0887\"],[0.1111111111111111,\"#46039f\"],[0.2222222222222222,\"#7201a8\"],[0.3333333333333333,\"#9c179e\"],[0.4444444444444444,\"#bd3786\"],[0.5555555555555556,\"#d8576b\"],[0.6666666666666666,\"#ed7953\"],[0.7777777777777778,\"#fb9f3a\"],[0.8888888888888888,\"#fdca26\"],[1.0,\"#f0f921\"]]}],\"mesh3d\":[{\"type\":\"mesh3d\",\"colorbar\":{\"outlinewidth\":0,\"ticks\":\"\"}}],\"scatter\":[{\"fillpattern\":{\"fillmode\":\"overlay\",\"size\":10,\"solidity\":0.2},\"type\":\"scatter\"}],\"parcoords\":[{\"type\":\"parcoords\",\"line\":{\"colorbar\":{\"outlinewidth\":0,\"ticks\":\"\"}}}],\"scatterpolargl\":[{\"type\":\"scatterpolargl\",\"marker\":{\"colorbar\":{\"outlinewidth\":0,\"ticks\":\"\"}}}],\"bar\":[{\"error_x\":{\"color\":\"#2a3f5f\"},\"error_y\":{\"color\":\"#2a3f5f\"},\"marker\":{\"line\":{\"color\":\"#E5ECF6\",\"width\":0.5},\"pattern\":{\"fillmode\":\"overlay\",\"size\":10,\"solidity\":0.2}},\"type\":\"bar\"}],\"scattergeo\":[{\"type\":\"scattergeo\",\"marker\":{\"colorbar\":{\"outlinewidth\":0,\"ticks\":\"\"}}}],\"scatterpolar\":[{\"type\":\"scatterpolar\",\"marker\":{\"colorbar\":{\"outlinewidth\":0,\"ticks\":\"\"}}}],\"histogram\":[{\"marker\":{\"pattern\":{\"fillmode\":\"overlay\",\"size\":10,\"solidity\":0.2}},\"type\":\"histogram\"}],\"scattergl\":[{\"type\":\"scattergl\",\"marker\":{\"colorbar\":{\"outlinewidth\":0,\"ticks\":\"\"}}}],\"scatter3d\":[{\"type\":\"scatter3d\",\"line\":{\"colorbar\":{\"outlinewidth\":0,\"ticks\":\"\"}},\"marker\":{\"colorbar\":{\"outlinewidth\":0,\"ticks\":\"\"}}}],\"scattermapbox\":[{\"type\":\"scattermapbox\",\"marker\":{\"colorbar\":{\"outlinewidth\":0,\"ticks\":\"\"}}}],\"scatterternary\":[{\"type\":\"scatterternary\",\"marker\":{\"colorbar\":{\"outlinewidth\":0,\"ticks\":\"\"}}}],\"scattercarpet\":[{\"type\":\"scattercarpet\",\"marker\":{\"colorbar\":{\"outlinewidth\":0,\"ticks\":\"\"}}}],\"carpet\":[{\"aaxis\":{\"endlinecolor\":\"#2a3f5f\",\"gridcolor\":\"white\",\"linecolor\":\"white\",\"minorgridcolor\":\"white\",\"startlinecolor\":\"#2a3f5f\"},\"baxis\":{\"endlinecolor\":\"#2a3f5f\",\"gridcolor\":\"white\",\"linecolor\":\"white\",\"minorgridcolor\":\"white\",\"startlinecolor\":\"#2a3f5f\"},\"type\":\"carpet\"}],\"table\":[{\"cells\":{\"fill\":{\"color\":\"#EBF0F8\"},\"line\":{\"color\":\"white\"}},\"header\":{\"fill\":{\"color\":\"#C8D4E3\"},\"line\":{\"color\":\"white\"}},\"type\":\"table\"}],\"barpolar\":[{\"marker\":{\"line\":{\"color\":\"#E5ECF6\",\"width\":0.5},\"pattern\":{\"fillmode\":\"overlay\",\"size\":10,\"solidity\":0.2}},\"type\":\"barpolar\"}],\"pie\":[{\"automargin\":true,\"type\":\"pie\"}]},\"layout\":{\"autotypenumbers\":\"strict\",\"colorway\":[\"#636efa\",\"#EF553B\",\"#00cc96\",\"#ab63fa\",\"#FFA15A\",\"#19d3f3\",\"#FF6692\",\"#B6E880\",\"#FF97FF\",\"#FECB52\"],\"font\":{\"color\":\"#2a3f5f\"},\"hovermode\":\"closest\",\"hoverlabel\":{\"align\":\"left\"},\"paper_bgcolor\":\"white\",\"plot_bgcolor\":\"#E5ECF6\",\"polar\":{\"bgcolor\":\"#E5ECF6\",\"angularaxis\":{\"gridcolor\":\"white\",\"linecolor\":\"white\",\"ticks\":\"\"},\"radialaxis\":{\"gridcolor\":\"white\",\"linecolor\":\"white\",\"ticks\":\"\"}},\"ternary\":{\"bgcolor\":\"#E5ECF6\",\"aaxis\":{\"gridcolor\":\"white\",\"linecolor\":\"white\",\"ticks\":\"\"},\"baxis\":{\"gridcolor\":\"white\",\"linecolor\":\"white\",\"ticks\":\"\"},\"caxis\":{\"gridcolor\":\"white\",\"linecolor\":\"white\",\"ticks\":\"\"}},\"coloraxis\":{\"colorbar\":{\"outlinewidth\":0,\"ticks\":\"\"}},\"colorscale\":{\"sequential\":[[0.0,\"#0d0887\"],[0.1111111111111111,\"#46039f\"],[0.2222222222222222,\"#7201a8\"],[0.3333333333333333,\"#9c179e\"],[0.4444444444444444,\"#bd3786\"],[0.5555555555555556,\"#d8576b\"],[0.6666666666666666,\"#ed7953\"],[0.7777777777777778,\"#fb9f3a\"],[0.8888888888888888,\"#fdca26\"],[1.0,\"#f0f921\"]],\"sequentialminus\":[[0.0,\"#0d0887\"],[0.1111111111111111,\"#46039f\"],[0.2222222222222222,\"#7201a8\"],[0.3333333333333333,\"#9c179e\"],[0.4444444444444444,\"#bd3786\"],[0.5555555555555556,\"#d8576b\"],[0.6666666666666666,\"#ed7953\"],[0.7777777777777778,\"#fb9f3a\"],[0.8888888888888888,\"#fdca26\"],[1.0,\"#f0f921\"]],\"diverging\":[[0,\"#8e0152\"],[0.1,\"#c51b7d\"],[0.2,\"#de77ae\"],[0.3,\"#f1b6da\"],[0.4,\"#fde0ef\"],[0.5,\"#f7f7f7\"],[0.6,\"#e6f5d0\"],[0.7,\"#b8e186\"],[0.8,\"#7fbc41\"],[0.9,\"#4d9221\"],[1,\"#276419\"]]},\"xaxis\":{\"gridcolor\":\"white\",\"linecolor\":\"white\",\"ticks\":\"\",\"title\":{\"standoff\":15},\"zerolinecolor\":\"white\",\"automargin\":true,\"zerolinewidth\":2},\"yaxis\":{\"gridcolor\":\"white\",\"linecolor\":\"white\",\"ticks\":\"\",\"title\":{\"standoff\":15},\"zerolinecolor\":\"white\",\"automargin\":true,\"zerolinewidth\":2},\"scene\":{\"xaxis\":{\"backgroundcolor\":\"#E5ECF6\",\"gridcolor\":\"white\",\"linecolor\":\"white\",\"showbackground\":true,\"ticks\":\"\",\"zerolinecolor\":\"white\",\"gridwidth\":2},\"yaxis\":{\"backgroundcolor\":\"#E5ECF6\",\"gridcolor\":\"white\",\"linecolor\":\"white\",\"showbackground\":true,\"ticks\":\"\",\"zerolinecolor\":\"white\",\"gridwidth\":2},\"zaxis\":{\"backgroundcolor\":\"#E5ECF6\",\"gridcolor\":\"white\",\"linecolor\":\"white\",\"showbackground\":true,\"ticks\":\"\",\"zerolinecolor\":\"white\",\"gridwidth\":2}},\"shapedefaults\":{\"line\":{\"color\":\"#2a3f5f\"}},\"annotationdefaults\":{\"arrowcolor\":\"#2a3f5f\",\"arrowhead\":0,\"arrowwidth\":1},\"geo\":{\"bgcolor\":\"white\",\"landcolor\":\"#E5ECF6\",\"subunitcolor\":\"white\",\"showland\":true,\"showlakes\":true,\"lakecolor\":\"white\"},\"title\":{\"x\":0.05},\"mapbox\":{\"style\":\"light\"}}},\"xaxis\":{\"anchor\":\"y\",\"domain\":[0.0,1.0],\"title\":{\"text\":\"index\"}},\"yaxis\":{\"anchor\":\"x\",\"domain\":[0.0,1.0],\"title\":{\"text\":\"publishDayName\"}},\"legend\":{\"tracegroupgap\":0},\"margin\":{\"t\":60},\"barmode\":\"relative\"},                        {\"responsive\": true}                    ).then(function(){\n",
       "                            \n",
       "var gd = document.getElementById('a2cee9a3-3f8e-4dcb-bb01-0b46e7417fe1');\n",
       "var x = new MutationObserver(function (mutations, observer) {{\n",
       "        var display = window.getComputedStyle(gd).display;\n",
       "        if (!display || display === 'none') {{\n",
       "            console.log([gd, 'removed!']);\n",
       "            Plotly.purge(gd);\n",
       "            observer.disconnect();\n",
       "        }}\n",
       "}});\n",
       "\n",
       "// Listen for the removal of the full notebook cells\n",
       "var notebookContainer = gd.closest('#notebook-container');\n",
       "if (notebookContainer) {{\n",
       "    x.observe(notebookContainer, {childList: true});\n",
       "}}\n",
       "\n",
       "// Listen for the clearing of the current output cell\n",
       "var outputEl = gd.closest('.output');\n",
       "if (outputEl) {{\n",
       "    x.observe(outputEl, {childList: true});\n",
       "}}\n",
       "\n",
       "                        })                };                });            </script>        </div>"
      ]
     },
     "metadata": {},
     "output_type": "display_data"
    }
   ],
   "source": [
    "px.bar(day_df,y='publishDayName')"
   ]
  },
  {
   "cell_type": "code",
   "execution_count": 858,
   "id": "3315f267",
   "metadata": {},
   "outputs": [],
   "source": [
    "d1 = df[['publishTime','Views']].sort_values(by='publishTime')"
   ]
  },
  {
   "cell_type": "code",
   "execution_count": 859,
   "id": "fc5b6f29",
   "metadata": {},
   "outputs": [],
   "source": [
    "MostCommented = df[['Comments','Title','Views','publishDayName']].sort_values(by = 'Comments',ascending = False)"
   ]
  },
  {
   "cell_type": "code",
   "execution_count": 860,
   "id": "2f19eb5b",
   "metadata": {},
   "outputs": [
    {
     "data": {
      "text/html": [
       "<div>\n",
       "<style scoped>\n",
       "    .dataframe tbody tr th:only-of-type {\n",
       "        vertical-align: middle;\n",
       "    }\n",
       "\n",
       "    .dataframe tbody tr th {\n",
       "        vertical-align: top;\n",
       "    }\n",
       "\n",
       "    .dataframe thead th {\n",
       "        text-align: right;\n",
       "    }\n",
       "</style>\n",
       "<table border=\"1\" class=\"dataframe\">\n",
       "  <thead>\n",
       "    <tr style=\"text-align: right;\">\n",
       "      <th></th>\n",
       "      <th>Comments</th>\n",
       "      <th>Title</th>\n",
       "      <th>Views</th>\n",
       "      <th>publishDayName</th>\n",
       "    </tr>\n",
       "  </thead>\n",
       "  <tbody>\n",
       "    <tr>\n",
       "      <th>84</th>\n",
       "      <td>744469</td>\n",
       "      <td>I Opened A Restaurant That Pays You To Eat At It</td>\n",
       "      <td>171359810</td>\n",
       "      <td>Saturday</td>\n",
       "    </tr>\n",
       "    <tr>\n",
       "      <th>60</th>\n",
       "      <td>620208</td>\n",
       "      <td>$456,000 Squid Game In Real Life!</td>\n",
       "      <td>525444290</td>\n",
       "      <td>Wednesday</td>\n",
       "    </tr>\n",
       "    <tr>\n",
       "      <th>37</th>\n",
       "      <td>400991</td>\n",
       "      <td>1,000 Blind People See For The First Time</td>\n",
       "      <td>162674297</td>\n",
       "      <td>Saturday</td>\n",
       "    </tr>\n",
       "    <tr>\n",
       "      <th>18</th>\n",
       "      <td>352496</td>\n",
       "      <td>Every Country On Earth Fights For $250,000!</td>\n",
       "      <td>137836623</td>\n",
       "      <td>Saturday</td>\n",
       "    </tr>\n",
       "    <tr>\n",
       "      <th>183</th>\n",
       "      <td>307696</td>\n",
       "      <td>Make This Video The Most Liked Video On Youtube</td>\n",
       "      <td>142737740</td>\n",
       "      <td>Wednesday</td>\n",
       "    </tr>\n",
       "    <tr>\n",
       "      <th>124</th>\n",
       "      <td>302207</td>\n",
       "      <td>Last To Take Hand Off $1,000,000 Keeps It</td>\n",
       "      <td>131998696</td>\n",
       "      <td>Thursday</td>\n",
       "    </tr>\n",
       "    <tr>\n",
       "      <th>82</th>\n",
       "      <td>287054</td>\n",
       "      <td>Youtube Rewind 2020, Thank God It's Over</td>\n",
       "      <td>69815938</td>\n",
       "      <td>Friday</td>\n",
       "    </tr>\n",
       "    <tr>\n",
       "      <th>76</th>\n",
       "      <td>253679</td>\n",
       "      <td>I Spent 50 Hours Buried Alive</td>\n",
       "      <td>306325683</td>\n",
       "      <td>Saturday</td>\n",
       "    </tr>\n",
       "    <tr>\n",
       "      <th>91</th>\n",
       "      <td>240960</td>\n",
       "      <td>Hi Me In 5 Years</td>\n",
       "      <td>115410829</td>\n",
       "      <td>Sunday</td>\n",
       "    </tr>\n",
       "    <tr>\n",
       "      <th>50</th>\n",
       "      <td>236331</td>\n",
       "      <td>I Gave My 100,000,000th Subscriber An Island</td>\n",
       "      <td>186208465</td>\n",
       "      <td>Thursday</td>\n",
       "    </tr>\n",
       "  </tbody>\n",
       "</table>\n",
       "</div>"
      ],
      "text/plain": [
       "     Comments                                             Title      Views  \\\n",
       "84     744469  I Opened A Restaurant That Pays You To Eat At It  171359810   \n",
       "60     620208                 $456,000 Squid Game In Real Life!  525444290   \n",
       "37     400991         1,000 Blind People See For The First Time  162674297   \n",
       "18     352496       Every Country On Earth Fights For $250,000!  137836623   \n",
       "183    307696   Make This Video The Most Liked Video On Youtube  142737740   \n",
       "124    302207         Last To Take Hand Off $1,000,000 Keeps It  131998696   \n",
       "82     287054          Youtube Rewind 2020, Thank God It's Over   69815938   \n",
       "76     253679                     I Spent 50 Hours Buried Alive  306325683   \n",
       "91     240960                                  Hi Me In 5 Years  115410829   \n",
       "50     236331      I Gave My 100,000,000th Subscriber An Island  186208465   \n",
       "\n",
       "    publishDayName  \n",
       "84        Saturday  \n",
       "60       Wednesday  \n",
       "37        Saturday  \n",
       "18        Saturday  \n",
       "183      Wednesday  \n",
       "124       Thursday  \n",
       "82          Friday  \n",
       "76        Saturday  \n",
       "91          Sunday  \n",
       "50        Thursday  "
      ]
     },
     "execution_count": 860,
     "metadata": {},
     "output_type": "execute_result"
    }
   ],
   "source": [
    "MostCommented.head(10)"
   ]
  },
  {
   "cell_type": "code",
   "execution_count": 861,
   "id": "056e1344",
   "metadata": {},
   "outputs": [
    {
     "data": {
      "application/vnd.plotly.v1+json": {
       "config": {
        "plotlyServerURL": "https://plot.ly"
       },
       "data": [
        {
         "hovertemplate": "Comments=%{x}<br>Views=%{y}<extra></extra>",
         "legendgroup": "",
         "marker": {
          "color": "#636efa",
          "symbol": "circle"
         },
         "mode": "markers",
         "name": "",
         "orientation": "v",
         "showlegend": false,
         "type": "scatter",
         "x": [
          69953,
          14381,
          9968,
          128920,
          14547,
          150379,
          52642,
          9342,
          12861,
          17339,
          15891,
          144367,
          25166,
          26632,
          19067,
          150529,
          7305,
          19798,
          352496,
          23651,
          107866,
          27299,
          118230,
          23936,
          137328,
          20915,
          149634,
          18281,
          116723,
          161035,
          43053,
          37020,
          19850,
          163711,
          53228,
          112556,
          23280,
          400991,
          151560,
          132880,
          85685,
          96271,
          34364,
          104396,
          111815,
          116806,
          64232,
          99574,
          67591,
          78092,
          236331,
          143128,
          110299,
          165039,
          134203,
          91867,
          137326,
          125703,
          88686,
          96536,
          620208,
          175512,
          130126,
          120562,
          100395,
          121535,
          96272,
          78600,
          84982,
          100946,
          83926,
          85755,
          126694,
          120259,
          142694,
          175976,
          253679,
          115736,
          117716,
          151203,
          176737,
          194195,
          287054,
          109073,
          744469,
          185637,
          96088,
          91988,
          196375,
          86000,
          119576,
          240960,
          73560,
          185638,
          98923,
          123305,
          152924,
          230100,
          131378,
          87325,
          137127,
          213507,
          182887,
          196413,
          119979,
          76878,
          117981,
          168214,
          66258,
          66678,
          81311,
          67915,
          72863,
          70154,
          115741,
          112939,
          56466,
          99190,
          46740,
          51109,
          41737,
          131114,
          174249,
          128126,
          302207,
          93717,
          50380,
          107349,
          82351,
          52043,
          96029,
          50313,
          56633,
          99536,
          30583,
          166866,
          58990,
          58582,
          133447,
          44340,
          73657,
          44699,
          33597,
          57740,
          139756,
          83108,
          79380,
          68099,
          69200,
          62863,
          100101,
          47336,
          57648,
          182235,
          86831,
          77609,
          114737,
          96059,
          67561,
          36067,
          138210,
          184392,
          86782,
          68063,
          51003,
          43407,
          92802,
          79127,
          35699,
          21091,
          45629,
          74240,
          94600,
          144058,
          57448,
          114127,
          37660,
          69519,
          135988,
          66517,
          141637,
          84825,
          63759,
          307696,
          24341,
          91826,
          44913,
          69509,
          34631,
          72190,
          76216,
          50810,
          97536,
          63786,
          63955,
          50251,
          73020,
          172494,
          69778,
          137522,
          55979,
          32799,
          25726,
          75146,
          36349,
          109833,
          47401,
          34242,
          60190,
          33932,
          47892,
          22670,
          139404,
          55973,
          19135,
          40443,
          19898,
          39018,
          16756,
          67026,
          107457,
          33189,
          51370,
          51182,
          17910,
          33167,
          37696,
          61307,
          44997,
          54615,
          44679,
          25300,
          102098,
          66001,
          97302,
          19532,
          37179,
          12495,
          46124,
          19333,
          31487,
          27495,
          21545,
          30924,
          25279,
          48736,
          45641,
          29784,
          36538,
          39615,
          22478,
          25619,
          20119,
          45621,
          24175,
          76775,
          42665,
          17585,
          16010,
          29485,
          22458,
          39558,
          74817,
          36417,
          26122,
          11355,
          56126,
          39584,
          72625,
          37220,
          24454,
          10063,
          11078,
          57440,
          44532,
          43612,
          10574,
          39760,
          6353,
          8452,
          11665,
          41029,
          8932,
          111662,
          18071,
          34807,
          19391,
          39027,
          4638,
          71440,
          34316,
          15691,
          59217,
          89702,
          5115,
          18545,
          0,
          9151,
          9457,
          21068,
          3683,
          25816,
          19486,
          6251,
          126043,
          8471,
          15422,
          34827,
          15917,
          42112,
          7796,
          17757,
          12882,
          12497,
          19085,
          5064,
          8211,
          2814,
          18548,
          1288,
          3152,
          4606,
          957,
          4668,
          1035,
          3483,
          3097,
          7286,
          3779,
          5635,
          6789,
          4280,
          7677,
          2757,
          7901,
          5188,
          1292,
          1529,
          1799,
          2805,
          1366,
          3659,
          2879,
          1814,
          7013,
          31039,
          494,
          2559,
          547,
          829,
          1375,
          576,
          1279,
          429,
          1017,
          549,
          361,
          548,
          621,
          451,
          1959,
          12524,
          246,
          464,
          479,
          676,
          286,
          231,
          3027,
          3823,
          1288,
          731,
          311,
          1152,
          330,
          154,
          263,
          341,
          1449,
          309,
          59948,
          429,
          289,
          292,
          180,
          754,
          249,
          270,
          1252,
          390,
          2174,
          711,
          411,
          621,
          509,
          468,
          512,
          1470,
          1492,
          2027,
          428,
          472,
          393,
          304,
          755,
          627,
          307,
          273,
          1619,
          1793,
          26067,
          508,
          290,
          36682,
          431,
          188,
          877,
          143,
          453,
          253,
          1736,
          201,
          195,
          1489,
          524,
          209,
          824,
          237,
          739,
          328,
          13277,
          260,
          599,
          492,
          463,
          244,
          266,
          4256,
          503,
          262,
          431,
          270,
          278,
          246,
          555,
          2352,
          352,
          791,
          225,
          19691,
          340,
          305,
          752,
          494,
          521,
          411,
          205,
          210,
          336,
          219,
          4214,
          407,
          693,
          2410,
          171,
          337,
          170,
          1423,
          275,
          212,
          158,
          349,
          268,
          184,
          536,
          571,
          193,
          639,
          454,
          210,
          173,
          506,
          243,
          530,
          615,
          545,
          299,
          369,
          211,
          435,
          270,
          177,
          421,
          240,
          371,
          362,
          171,
          554,
          205,
          193,
          364,
          2788,
          808,
          279,
          504,
          159,
          365,
          380,
          3352,
          281,
          201,
          227,
          560,
          275,
          434,
          288,
          445,
          621,
          351,
          205,
          1066,
          203,
          596,
          229,
          167,
          147,
          260,
          692,
          290,
          1236,
          1834,
          196,
          379,
          208,
          693,
          152,
          334,
          224,
          274,
          534,
          341,
          251,
          142,
          211,
          400,
          149,
          247,
          146,
          462,
          175,
          168,
          269,
          241,
          115,
          241,
          151,
          367,
          175,
          672,
          351,
          314,
          226,
          222,
          300,
          166,
          285,
          165,
          132,
          324,
          235,
          204,
          244,
          227,
          274,
          218,
          178,
          330,
          145,
          2496,
          215,
          163,
          2856,
          653,
          182,
          168,
          1228,
          550,
          568,
          196,
          170,
          149,
          331,
          308,
          235,
          367,
          527,
          209,
          233,
          379,
          274,
          248,
          621,
          150,
          623,
          214,
          197,
          390,
          259,
          249,
          226,
          1040,
          196,
          249,
          270,
          394,
          171,
          362,
          344,
          174,
          1453,
          154,
          204,
          194,
          261,
          300,
          546,
          196,
          197,
          346,
          294,
          154,
          367,
          332,
          333,
          210,
          197,
          298,
          814,
          364,
          283,
          376,
          400,
          225,
          294,
          787,
          242,
          370,
          342,
          261,
          92829,
          436,
          1550,
          177,
          842,
          311,
          352,
          282,
          219,
          403,
          216,
          631,
          334,
          1073,
          310,
          1417,
          419,
          330,
          2346,
          536,
          917,
          15401,
          705,
          1417,
          377,
          266,
          1824,
          309,
          320,
          683,
          442,
          612,
          418,
          340,
          355,
          352,
          322,
          292,
          286,
          332,
          348,
          416,
          433,
          317,
          711,
          574,
          408,
          1257,
          342,
          315,
          678,
          587,
          769,
          74582,
          407,
          417,
          499,
          635,
          448,
          814,
          1553,
          578,
          475,
          766,
          853,
          992,
          542,
          606,
          719,
          465,
          569,
          639,
          745,
          570,
          662,
          2433,
          810,
          762,
          882,
          871,
          1006,
          836,
          775,
          736,
          811,
          1154,
          1716,
          1502,
          965,
          739,
          1474,
          881,
          856,
          1089,
          953,
          1003,
          1327,
          1200,
          1681,
          1727,
          2017,
          2404,
          2064,
          1949,
          1596,
          2020,
          3840,
          2933,
          3098,
          3389,
          4053,
          8042,
          112761
         ],
         "xaxis": "x",
         "y": [
          58167606,
          47820996,
          61729449,
          122748023,
          113062681,
          142683250,
          190401610,
          207460032,
          220091483,
          116929470,
          248853062,
          160491271,
          116233316,
          322776504,
          167011465,
          129022733,
          53953740,
          179708951,
          137836623,
          167527818,
          182855279,
          238963428,
          180008578,
          241517564,
          165854902,
          151683893,
          253586222,
          168884882,
          261563296,
          126227655,
          341056528,
          242668561,
          260103494,
          270452274,
          335972510,
          216680578,
          249833260,
          162674297,
          159496546,
          205131767,
          966777663,
          208645147,
          342050891,
          146278275,
          928757624,
          308780500,
          418407547,
          256860010,
          132197981,
          157597043,
          186208465,
          177349555,
          97784453,
          254455865,
          191587458,
          167126939,
          242421163,
          97262713,
          82173280,
          189235301,
          525444290,
          112366579,
          160048014,
          161536842,
          155293334,
          363227550,
          187164514,
          171942157,
          151590798,
          215915206,
          163802504,
          194546915,
          182497910,
          194172168,
          273698837,
          219623991,
          306325683,
          121375361,
          145867116,
          54708420,
          238226078,
          160922825,
          69815938,
          100613540,
          171359810,
          187392622,
          198555654,
          279511911,
          147719311,
          119081631,
          200966337,
          115410829,
          149306446,
          159040093,
          54913837,
          75890194,
          186416294,
          235768057,
          154990716,
          124807538,
          232457786,
          223467945,
          202572355,
          149505594,
          187924856,
          158032687,
          303621555,
          197316607,
          44997472,
          144670586,
          189950579,
          56395136,
          147757671,
          130702750,
          266799232,
          236779658,
          128410818,
          171575481,
          114656498,
          146737551,
          18975030,
          36491203,
          62858957,
          173323545,
          131998696,
          61494711,
          91953032,
          132651836,
          120034533,
          148647160,
          108995383,
          108488030,
          148438575,
          214985808,
          50176716,
          98381672,
          120452362,
          172036520,
          252362818,
          59977444,
          124001160,
          69192924,
          69562661,
          93934302,
          134269846,
          162704350,
          178630636,
          144623101,
          163778238,
          105484680,
          154082469,
          117677808,
          77363250,
          148172421,
          68336592,
          85132287,
          176764290,
          146514906,
          110179354,
          40200880,
          122840447,
          147143299,
          192766113,
          155723376,
          76535499,
          94084625,
          87702061,
          156803781,
          37579462,
          32035932,
          107488927,
          92127192,
          140624652,
          48113712,
          59633266,
          79172097,
          104556896,
          103949796,
          111230985,
          44101641,
          189920504,
          41163885,
          94479433,
          142737740,
          33681951,
          141943237,
          84441679,
          74586377,
          14424533,
          31180807,
          112032117,
          46907874,
          97047831,
          149074545,
          100189245,
          64159409,
          128950194,
          25710373,
          43075818,
          190657581,
          44141395,
          28750924,
          18386010,
          88586120,
          36046620,
          38581665,
          43410968,
          31051583,
          90462658,
          41908933,
          72391828,
          17091072,
          28144035,
          139863281,
          35512818,
          63737926,
          43059751,
          69345813,
          28475543,
          111149880,
          134738665,
          56324620,
          51972598,
          44975781,
          36623302,
          17614249,
          28601611,
          96512271,
          29885501,
          90198668,
          28750688,
          21599009,
          74304757,
          126806135,
          53032951,
          11229191,
          17224492,
          15704870,
          37021854,
          24551822,
          15020170,
          40949139,
          14672551,
          23666633,
          26767840,
          31246500,
          32474632,
          24303610,
          38689344,
          19300037,
          20003579,
          13179838,
          14709630,
          32745344,
          25560755,
          53793115,
          17692113,
          7737378,
          11312858,
          18282078,
          8710682,
          36646712,
          47375285,
          37232389,
          26973267,
          9110444,
          32689793,
          26366820,
          44425034,
          27565714,
          30782304,
          2218593,
          7333264,
          25887461,
          31072992,
          42187263,
          5775195,
          13549590,
          3791164,
          4599523,
          6031166,
          22108486,
          2724261,
          23027154,
          10781084,
          31926517,
          6478960,
          25777111,
          873951,
          27979745,
          10782114,
          19713706,
          34942323,
          42330064,
          2027840,
          26220736,
          52604927,
          1850181,
          4100356,
          7260443,
          524737,
          7641430,
          3804954,
          3314194,
          29304499,
          1959624,
          4880127,
          22902633,
          8705399,
          11350700,
          1793853,
          16221108,
          2502157,
          10875836,
          3724765,
          3845039,
          13383856,
          1565443,
          9852775,
          291331,
          1205614,
          1499563,
          380363,
          712047,
          317015,
          3023768,
          1451782,
          3240209,
          1646381,
          3090993,
          809255,
          1645940,
          3565337,
          2220232,
          1305913,
          1177844,
          158973,
          704788,
          834330,
          1313125,
          172526,
          648482,
          402785,
          408657,
          3658854,
          27771869,
          127747,
          364104,
          166491,
          334608,
          623420,
          126308,
          104873,
          97485,
          109535,
          151997,
          39691,
          272080,
          124402,
          121354,
          683062,
          2126239,
          54509,
          114006,
          138741,
          163100,
          43267,
          42471,
          2063540,
          2017144,
          63201,
          145779,
          106833,
          556450,
          132647,
          50956,
          87716,
          89659,
          152172,
          76253,
          65723798,
          130169,
          216519,
          59374,
          79566,
          116206,
          65867,
          122348,
          155396,
          42280,
          365790,
          79682,
          59346,
          149184,
          57423,
          211468,
          103052,
          183761,
          631498,
          922162,
          92549,
          74559,
          186184,
          68361,
          285175,
          263323,
          59493,
          43356,
          385433,
          471505,
          7537628,
          117137,
          100933,
          13744089,
          60794,
          137630,
          242479,
          46339,
          126554,
          62706,
          278476,
          54714,
          46564,
          588591,
          79243,
          43824,
          470784,
          39666,
          89107,
          94510,
          1566351,
          69757,
          79492,
          309994,
          82091,
          39660,
          39664,
          1360150,
          76239,
          44783,
          230609,
          52766,
          44636,
          40681,
          105527,
          778499,
          64535,
          43746,
          39878,
          8341765,
          39874,
          45921,
          217881,
          265445,
          39784,
          39795,
          116572,
          40269,
          39758,
          43591,
          732708,
          39711,
          161006,
          678290,
          65170,
          39905,
          69333,
          774473,
          39985,
          131969,
          50235,
          62575,
          65542,
          63595,
          119869,
          214013,
          43467,
          140697,
          44015,
          39708,
          39768,
          39811,
          89847,
          156142,
          373960,
          681576,
          78035,
          39759,
          80749,
          39715,
          127871,
          39867,
          80714,
          76527,
          64876,
          39923,
          71223,
          223449,
          39776,
          39659,
          75397,
          1764583,
          39878,
          42819,
          39862,
          49491,
          92115,
          40858,
          49226,
          102294,
          50779,
          41737,
          210145,
          206900,
          39681,
          45436,
          40161,
          115843,
          40582,
          40090,
          128814,
          39940,
          105323,
          76276,
          40543,
          40772,
          62786,
          565930,
          39658,
          142015,
          235085,
          164089,
          39912,
          40145,
          39750,
          52400,
          39859,
          39896,
          40228,
          40337,
          39945,
          39906,
          39915,
          88782,
          165253,
          146467,
          39641,
          48852,
          39705,
          39894,
          40108,
          39917,
          39673,
          68179,
          39738,
          55741,
          119699,
          65176,
          39679,
          39774,
          39791,
          39659,
          39681,
          39721,
          108355,
          39919,
          53219,
          49204,
          111089,
          40063,
          40005,
          56281,
          40034,
          39944,
          61839,
          39670,
          40308,
          60317,
          228880,
          67238,
          39929,
          436987,
          149637,
          44610,
          62722,
          449951,
          156158,
          113602,
          44407,
          41144,
          42266,
          94939,
          63642,
          54886,
          179923,
          41507,
          40044,
          57337,
          131876,
          39674,
          88179,
          301024,
          51822,
          106356,
          94882,
          59351,
          116634,
          66228,
          52226,
          75402,
          305798,
          39681,
          229569,
          123309,
          111754,
          48002,
          193240,
          39825,
          60525,
          218155,
          39822,
          199960,
          39671,
          39875,
          39724,
          58653,
          46867,
          80020,
          39780,
          40169,
          57372,
          39859,
          39959,
          39723,
          58095,
          62051,
          76927,
          178999,
          285095,
          39661,
          76339,
          446169,
          47855,
          54810,
          177498,
          52162,
          360608,
          60582,
          63039,
          17192658,
          197639,
          616907,
          67078,
          308185,
          128998,
          55436,
          62349,
          52066,
          42549,
          46952,
          125192,
          49978,
          85724,
          81885,
          338024,
          89761,
          62963,
          579447,
          95753,
          95931,
          2855540,
          319684,
          316347,
          92280,
          67997,
          1279471,
          52642,
          47050,
          40099,
          40096,
          40142,
          41776,
          55589,
          47657,
          47620,
          48174,
          50748,
          49622,
          53623,
          78359,
          52055,
          57581,
          78662,
          309417,
          59688,
          102452,
          627364,
          82070,
          79155,
          77361,
          136950,
          208096,
          12403115,
          118607,
          119624,
          88282,
          141546,
          92555,
          143456,
          481889,
          65672,
          72408,
          65710,
          66143,
          117570,
          79309,
          170511,
          84532,
          107429,
          116291,
          157663,
          99213,
          120994,
          139580,
          560113,
          199183,
          184172,
          258463,
          96962,
          96047,
          96231,
          160699,
          144707,
          143207,
          287237,
          425191,
          412047,
          256324,
          127287,
          120600,
          162789,
          134725,
          129161,
          138322,
          160276,
          138972,
          203815,
          615752,
          319627,
          378901,
          542843,
          284016,
          426451,
          405093,
          390475,
          613396,
          753263,
          821682,
          952911,
          1130858,
          4032686,
          19724605
         ],
         "yaxis": "y"
        }
       ],
       "layout": {
        "legend": {
         "tracegroupgap": 0
        },
        "template": {
         "data": {
          "bar": [
           {
            "error_x": {
             "color": "#2a3f5f"
            },
            "error_y": {
             "color": "#2a3f5f"
            },
            "marker": {
             "line": {
              "color": "#E5ECF6",
              "width": 0.5
             },
             "pattern": {
              "fillmode": "overlay",
              "size": 10,
              "solidity": 0.2
             }
            },
            "type": "bar"
           }
          ],
          "barpolar": [
           {
            "marker": {
             "line": {
              "color": "#E5ECF6",
              "width": 0.5
             },
             "pattern": {
              "fillmode": "overlay",
              "size": 10,
              "solidity": 0.2
             }
            },
            "type": "barpolar"
           }
          ],
          "carpet": [
           {
            "aaxis": {
             "endlinecolor": "#2a3f5f",
             "gridcolor": "white",
             "linecolor": "white",
             "minorgridcolor": "white",
             "startlinecolor": "#2a3f5f"
            },
            "baxis": {
             "endlinecolor": "#2a3f5f",
             "gridcolor": "white",
             "linecolor": "white",
             "minorgridcolor": "white",
             "startlinecolor": "#2a3f5f"
            },
            "type": "carpet"
           }
          ],
          "choropleth": [
           {
            "colorbar": {
             "outlinewidth": 0,
             "ticks": ""
            },
            "type": "choropleth"
           }
          ],
          "contour": [
           {
            "colorbar": {
             "outlinewidth": 0,
             "ticks": ""
            },
            "colorscale": [
             [
              0,
              "#0d0887"
             ],
             [
              0.1111111111111111,
              "#46039f"
             ],
             [
              0.2222222222222222,
              "#7201a8"
             ],
             [
              0.3333333333333333,
              "#9c179e"
             ],
             [
              0.4444444444444444,
              "#bd3786"
             ],
             [
              0.5555555555555556,
              "#d8576b"
             ],
             [
              0.6666666666666666,
              "#ed7953"
             ],
             [
              0.7777777777777778,
              "#fb9f3a"
             ],
             [
              0.8888888888888888,
              "#fdca26"
             ],
             [
              1,
              "#f0f921"
             ]
            ],
            "type": "contour"
           }
          ],
          "contourcarpet": [
           {
            "colorbar": {
             "outlinewidth": 0,
             "ticks": ""
            },
            "type": "contourcarpet"
           }
          ],
          "heatmap": [
           {
            "colorbar": {
             "outlinewidth": 0,
             "ticks": ""
            },
            "colorscale": [
             [
              0,
              "#0d0887"
             ],
             [
              0.1111111111111111,
              "#46039f"
             ],
             [
              0.2222222222222222,
              "#7201a8"
             ],
             [
              0.3333333333333333,
              "#9c179e"
             ],
             [
              0.4444444444444444,
              "#bd3786"
             ],
             [
              0.5555555555555556,
              "#d8576b"
             ],
             [
              0.6666666666666666,
              "#ed7953"
             ],
             [
              0.7777777777777778,
              "#fb9f3a"
             ],
             [
              0.8888888888888888,
              "#fdca26"
             ],
             [
              1,
              "#f0f921"
             ]
            ],
            "type": "heatmap"
           }
          ],
          "heatmapgl": [
           {
            "colorbar": {
             "outlinewidth": 0,
             "ticks": ""
            },
            "colorscale": [
             [
              0,
              "#0d0887"
             ],
             [
              0.1111111111111111,
              "#46039f"
             ],
             [
              0.2222222222222222,
              "#7201a8"
             ],
             [
              0.3333333333333333,
              "#9c179e"
             ],
             [
              0.4444444444444444,
              "#bd3786"
             ],
             [
              0.5555555555555556,
              "#d8576b"
             ],
             [
              0.6666666666666666,
              "#ed7953"
             ],
             [
              0.7777777777777778,
              "#fb9f3a"
             ],
             [
              0.8888888888888888,
              "#fdca26"
             ],
             [
              1,
              "#f0f921"
             ]
            ],
            "type": "heatmapgl"
           }
          ],
          "histogram": [
           {
            "marker": {
             "pattern": {
              "fillmode": "overlay",
              "size": 10,
              "solidity": 0.2
             }
            },
            "type": "histogram"
           }
          ],
          "histogram2d": [
           {
            "colorbar": {
             "outlinewidth": 0,
             "ticks": ""
            },
            "colorscale": [
             [
              0,
              "#0d0887"
             ],
             [
              0.1111111111111111,
              "#46039f"
             ],
             [
              0.2222222222222222,
              "#7201a8"
             ],
             [
              0.3333333333333333,
              "#9c179e"
             ],
             [
              0.4444444444444444,
              "#bd3786"
             ],
             [
              0.5555555555555556,
              "#d8576b"
             ],
             [
              0.6666666666666666,
              "#ed7953"
             ],
             [
              0.7777777777777778,
              "#fb9f3a"
             ],
             [
              0.8888888888888888,
              "#fdca26"
             ],
             [
              1,
              "#f0f921"
             ]
            ],
            "type": "histogram2d"
           }
          ],
          "histogram2dcontour": [
           {
            "colorbar": {
             "outlinewidth": 0,
             "ticks": ""
            },
            "colorscale": [
             [
              0,
              "#0d0887"
             ],
             [
              0.1111111111111111,
              "#46039f"
             ],
             [
              0.2222222222222222,
              "#7201a8"
             ],
             [
              0.3333333333333333,
              "#9c179e"
             ],
             [
              0.4444444444444444,
              "#bd3786"
             ],
             [
              0.5555555555555556,
              "#d8576b"
             ],
             [
              0.6666666666666666,
              "#ed7953"
             ],
             [
              0.7777777777777778,
              "#fb9f3a"
             ],
             [
              0.8888888888888888,
              "#fdca26"
             ],
             [
              1,
              "#f0f921"
             ]
            ],
            "type": "histogram2dcontour"
           }
          ],
          "mesh3d": [
           {
            "colorbar": {
             "outlinewidth": 0,
             "ticks": ""
            },
            "type": "mesh3d"
           }
          ],
          "parcoords": [
           {
            "line": {
             "colorbar": {
              "outlinewidth": 0,
              "ticks": ""
             }
            },
            "type": "parcoords"
           }
          ],
          "pie": [
           {
            "automargin": true,
            "type": "pie"
           }
          ],
          "scatter": [
           {
            "fillpattern": {
             "fillmode": "overlay",
             "size": 10,
             "solidity": 0.2
            },
            "type": "scatter"
           }
          ],
          "scatter3d": [
           {
            "line": {
             "colorbar": {
              "outlinewidth": 0,
              "ticks": ""
             }
            },
            "marker": {
             "colorbar": {
              "outlinewidth": 0,
              "ticks": ""
             }
            },
            "type": "scatter3d"
           }
          ],
          "scattercarpet": [
           {
            "marker": {
             "colorbar": {
              "outlinewidth": 0,
              "ticks": ""
             }
            },
            "type": "scattercarpet"
           }
          ],
          "scattergeo": [
           {
            "marker": {
             "colorbar": {
              "outlinewidth": 0,
              "ticks": ""
             }
            },
            "type": "scattergeo"
           }
          ],
          "scattergl": [
           {
            "marker": {
             "colorbar": {
              "outlinewidth": 0,
              "ticks": ""
             }
            },
            "type": "scattergl"
           }
          ],
          "scattermapbox": [
           {
            "marker": {
             "colorbar": {
              "outlinewidth": 0,
              "ticks": ""
             }
            },
            "type": "scattermapbox"
           }
          ],
          "scatterpolar": [
           {
            "marker": {
             "colorbar": {
              "outlinewidth": 0,
              "ticks": ""
             }
            },
            "type": "scatterpolar"
           }
          ],
          "scatterpolargl": [
           {
            "marker": {
             "colorbar": {
              "outlinewidth": 0,
              "ticks": ""
             }
            },
            "type": "scatterpolargl"
           }
          ],
          "scatterternary": [
           {
            "marker": {
             "colorbar": {
              "outlinewidth": 0,
              "ticks": ""
             }
            },
            "type": "scatterternary"
           }
          ],
          "surface": [
           {
            "colorbar": {
             "outlinewidth": 0,
             "ticks": ""
            },
            "colorscale": [
             [
              0,
              "#0d0887"
             ],
             [
              0.1111111111111111,
              "#46039f"
             ],
             [
              0.2222222222222222,
              "#7201a8"
             ],
             [
              0.3333333333333333,
              "#9c179e"
             ],
             [
              0.4444444444444444,
              "#bd3786"
             ],
             [
              0.5555555555555556,
              "#d8576b"
             ],
             [
              0.6666666666666666,
              "#ed7953"
             ],
             [
              0.7777777777777778,
              "#fb9f3a"
             ],
             [
              0.8888888888888888,
              "#fdca26"
             ],
             [
              1,
              "#f0f921"
             ]
            ],
            "type": "surface"
           }
          ],
          "table": [
           {
            "cells": {
             "fill": {
              "color": "#EBF0F8"
             },
             "line": {
              "color": "white"
             }
            },
            "header": {
             "fill": {
              "color": "#C8D4E3"
             },
             "line": {
              "color": "white"
             }
            },
            "type": "table"
           }
          ]
         },
         "layout": {
          "annotationdefaults": {
           "arrowcolor": "#2a3f5f",
           "arrowhead": 0,
           "arrowwidth": 1
          },
          "autotypenumbers": "strict",
          "coloraxis": {
           "colorbar": {
            "outlinewidth": 0,
            "ticks": ""
           }
          },
          "colorscale": {
           "diverging": [
            [
             0,
             "#8e0152"
            ],
            [
             0.1,
             "#c51b7d"
            ],
            [
             0.2,
             "#de77ae"
            ],
            [
             0.3,
             "#f1b6da"
            ],
            [
             0.4,
             "#fde0ef"
            ],
            [
             0.5,
             "#f7f7f7"
            ],
            [
             0.6,
             "#e6f5d0"
            ],
            [
             0.7,
             "#b8e186"
            ],
            [
             0.8,
             "#7fbc41"
            ],
            [
             0.9,
             "#4d9221"
            ],
            [
             1,
             "#276419"
            ]
           ],
           "sequential": [
            [
             0,
             "#0d0887"
            ],
            [
             0.1111111111111111,
             "#46039f"
            ],
            [
             0.2222222222222222,
             "#7201a8"
            ],
            [
             0.3333333333333333,
             "#9c179e"
            ],
            [
             0.4444444444444444,
             "#bd3786"
            ],
            [
             0.5555555555555556,
             "#d8576b"
            ],
            [
             0.6666666666666666,
             "#ed7953"
            ],
            [
             0.7777777777777778,
             "#fb9f3a"
            ],
            [
             0.8888888888888888,
             "#fdca26"
            ],
            [
             1,
             "#f0f921"
            ]
           ],
           "sequentialminus": [
            [
             0,
             "#0d0887"
            ],
            [
             0.1111111111111111,
             "#46039f"
            ],
            [
             0.2222222222222222,
             "#7201a8"
            ],
            [
             0.3333333333333333,
             "#9c179e"
            ],
            [
             0.4444444444444444,
             "#bd3786"
            ],
            [
             0.5555555555555556,
             "#d8576b"
            ],
            [
             0.6666666666666666,
             "#ed7953"
            ],
            [
             0.7777777777777778,
             "#fb9f3a"
            ],
            [
             0.8888888888888888,
             "#fdca26"
            ],
            [
             1,
             "#f0f921"
            ]
           ]
          },
          "colorway": [
           "#636efa",
           "#EF553B",
           "#00cc96",
           "#ab63fa",
           "#FFA15A",
           "#19d3f3",
           "#FF6692",
           "#B6E880",
           "#FF97FF",
           "#FECB52"
          ],
          "font": {
           "color": "#2a3f5f"
          },
          "geo": {
           "bgcolor": "white",
           "lakecolor": "white",
           "landcolor": "#E5ECF6",
           "showlakes": true,
           "showland": true,
           "subunitcolor": "white"
          },
          "hoverlabel": {
           "align": "left"
          },
          "hovermode": "closest",
          "mapbox": {
           "style": "light"
          },
          "paper_bgcolor": "white",
          "plot_bgcolor": "#E5ECF6",
          "polar": {
           "angularaxis": {
            "gridcolor": "white",
            "linecolor": "white",
            "ticks": ""
           },
           "bgcolor": "#E5ECF6",
           "radialaxis": {
            "gridcolor": "white",
            "linecolor": "white",
            "ticks": ""
           }
          },
          "scene": {
           "xaxis": {
            "backgroundcolor": "#E5ECF6",
            "gridcolor": "white",
            "gridwidth": 2,
            "linecolor": "white",
            "showbackground": true,
            "ticks": "",
            "zerolinecolor": "white"
           },
           "yaxis": {
            "backgroundcolor": "#E5ECF6",
            "gridcolor": "white",
            "gridwidth": 2,
            "linecolor": "white",
            "showbackground": true,
            "ticks": "",
            "zerolinecolor": "white"
           },
           "zaxis": {
            "backgroundcolor": "#E5ECF6",
            "gridcolor": "white",
            "gridwidth": 2,
            "linecolor": "white",
            "showbackground": true,
            "ticks": "",
            "zerolinecolor": "white"
           }
          },
          "shapedefaults": {
           "line": {
            "color": "#2a3f5f"
           }
          },
          "ternary": {
           "aaxis": {
            "gridcolor": "white",
            "linecolor": "white",
            "ticks": ""
           },
           "baxis": {
            "gridcolor": "white",
            "linecolor": "white",
            "ticks": ""
           },
           "bgcolor": "#E5ECF6",
           "caxis": {
            "gridcolor": "white",
            "linecolor": "white",
            "ticks": ""
           }
          },
          "title": {
           "x": 0.05
          },
          "xaxis": {
           "automargin": true,
           "gridcolor": "white",
           "linecolor": "white",
           "ticks": "",
           "title": {
            "standoff": 15
           },
           "zerolinecolor": "white",
           "zerolinewidth": 2
          },
          "yaxis": {
           "automargin": true,
           "gridcolor": "white",
           "linecolor": "white",
           "ticks": "",
           "title": {
            "standoff": 15
           },
           "zerolinecolor": "white",
           "zerolinewidth": 2
          }
         }
        },
        "title": {
         "text": "Comments vs Views"
        },
        "xaxis": {
         "anchor": "y",
         "domain": [
          0,
          1
         ],
         "title": {
          "text": "Comments"
         }
        },
        "yaxis": {
         "anchor": "x",
         "domain": [
          0,
          1
         ],
         "title": {
          "text": "Views"
         }
        }
       }
      },
      "text/html": [
       "<div>                            <div id=\"2c76a24b-276e-44d1-81b8-52b0bf99cbc8\" class=\"plotly-graph-div\" style=\"height:525px; width:100%;\"></div>            <script type=\"text/javascript\">                require([\"plotly\"], function(Plotly) {                    window.PLOTLYENV=window.PLOTLYENV || {};                                    if (document.getElementById(\"2c76a24b-276e-44d1-81b8-52b0bf99cbc8\")) {                    Plotly.newPlot(                        \"2c76a24b-276e-44d1-81b8-52b0bf99cbc8\",                        [{\"hovertemplate\":\"Comments=%{x}<br>Views=%{y}<extra></extra>\",\"legendgroup\":\"\",\"marker\":{\"color\":\"#636efa\",\"symbol\":\"circle\"},\"mode\":\"markers\",\"name\":\"\",\"orientation\":\"v\",\"showlegend\":false,\"x\":[69953,14381,9968,128920,14547,150379,52642,9342,12861,17339,15891,144367,25166,26632,19067,150529,7305,19798,352496,23651,107866,27299,118230,23936,137328,20915,149634,18281,116723,161035,43053,37020,19850,163711,53228,112556,23280,400991,151560,132880,85685,96271,34364,104396,111815,116806,64232,99574,67591,78092,236331,143128,110299,165039,134203,91867,137326,125703,88686,96536,620208,175512,130126,120562,100395,121535,96272,78600,84982,100946,83926,85755,126694,120259,142694,175976,253679,115736,117716,151203,176737,194195,287054,109073,744469,185637,96088,91988,196375,86000,119576,240960,73560,185638,98923,123305,152924,230100,131378,87325,137127,213507,182887,196413,119979,76878,117981,168214,66258,66678,81311,67915,72863,70154,115741,112939,56466,99190,46740,51109,41737,131114,174249,128126,302207,93717,50380,107349,82351,52043,96029,50313,56633,99536,30583,166866,58990,58582,133447,44340,73657,44699,33597,57740,139756,83108,79380,68099,69200,62863,100101,47336,57648,182235,86831,77609,114737,96059,67561,36067,138210,184392,86782,68063,51003,43407,92802,79127,35699,21091,45629,74240,94600,144058,57448,114127,37660,69519,135988,66517,141637,84825,63759,307696,24341,91826,44913,69509,34631,72190,76216,50810,97536,63786,63955,50251,73020,172494,69778,137522,55979,32799,25726,75146,36349,109833,47401,34242,60190,33932,47892,22670,139404,55973,19135,40443,19898,39018,16756,67026,107457,33189,51370,51182,17910,33167,37696,61307,44997,54615,44679,25300,102098,66001,97302,19532,37179,12495,46124,19333,31487,27495,21545,30924,25279,48736,45641,29784,36538,39615,22478,25619,20119,45621,24175,76775,42665,17585,16010,29485,22458,39558,74817,36417,26122,11355,56126,39584,72625,37220,24454,10063,11078,57440,44532,43612,10574,39760,6353,8452,11665,41029,8932,111662,18071,34807,19391,39027,4638,71440,34316,15691,59217,89702,5115,18545,0,9151,9457,21068,3683,25816,19486,6251,126043,8471,15422,34827,15917,42112,7796,17757,12882,12497,19085,5064,8211,2814,18548,1288,3152,4606,957,4668,1035,3483,3097,7286,3779,5635,6789,4280,7677,2757,7901,5188,1292,1529,1799,2805,1366,3659,2879,1814,7013,31039,494,2559,547,829,1375,576,1279,429,1017,549,361,548,621,451,1959,12524,246,464,479,676,286,231,3027,3823,1288,731,311,1152,330,154,263,341,1449,309,59948,429,289,292,180,754,249,270,1252,390,2174,711,411,621,509,468,512,1470,1492,2027,428,472,393,304,755,627,307,273,1619,1793,26067,508,290,36682,431,188,877,143,453,253,1736,201,195,1489,524,209,824,237,739,328,13277,260,599,492,463,244,266,4256,503,262,431,270,278,246,555,2352,352,791,225,19691,340,305,752,494,521,411,205,210,336,219,4214,407,693,2410,171,337,170,1423,275,212,158,349,268,184,536,571,193,639,454,210,173,506,243,530,615,545,299,369,211,435,270,177,421,240,371,362,171,554,205,193,364,2788,808,279,504,159,365,380,3352,281,201,227,560,275,434,288,445,621,351,205,1066,203,596,229,167,147,260,692,290,1236,1834,196,379,208,693,152,334,224,274,534,341,251,142,211,400,149,247,146,462,175,168,269,241,115,241,151,367,175,672,351,314,226,222,300,166,285,165,132,324,235,204,244,227,274,218,178,330,145,2496,215,163,2856,653,182,168,1228,550,568,196,170,149,331,308,235,367,527,209,233,379,274,248,621,150,623,214,197,390,259,249,226,1040,196,249,270,394,171,362,344,174,1453,154,204,194,261,300,546,196,197,346,294,154,367,332,333,210,197,298,814,364,283,376,400,225,294,787,242,370,342,261,92829,436,1550,177,842,311,352,282,219,403,216,631,334,1073,310,1417,419,330,2346,536,917,15401,705,1417,377,266,1824,309,320,683,442,612,418,340,355,352,322,292,286,332,348,416,433,317,711,574,408,1257,342,315,678,587,769,74582,407,417,499,635,448,814,1553,578,475,766,853,992,542,606,719,465,569,639,745,570,662,2433,810,762,882,871,1006,836,775,736,811,1154,1716,1502,965,739,1474,881,856,1089,953,1003,1327,1200,1681,1727,2017,2404,2064,1949,1596,2020,3840,2933,3098,3389,4053,8042,112761],\"xaxis\":\"x\",\"y\":[58167606,47820996,61729449,122748023,113062681,142683250,190401610,207460032,220091483,116929470,248853062,160491271,116233316,322776504,167011465,129022733,53953740,179708951,137836623,167527818,182855279,238963428,180008578,241517564,165854902,151683893,253586222,168884882,261563296,126227655,341056528,242668561,260103494,270452274,335972510,216680578,249833260,162674297,159496546,205131767,966777663,208645147,342050891,146278275,928757624,308780500,418407547,256860010,132197981,157597043,186208465,177349555,97784453,254455865,191587458,167126939,242421163,97262713,82173280,189235301,525444290,112366579,160048014,161536842,155293334,363227550,187164514,171942157,151590798,215915206,163802504,194546915,182497910,194172168,273698837,219623991,306325683,121375361,145867116,54708420,238226078,160922825,69815938,100613540,171359810,187392622,198555654,279511911,147719311,119081631,200966337,115410829,149306446,159040093,54913837,75890194,186416294,235768057,154990716,124807538,232457786,223467945,202572355,149505594,187924856,158032687,303621555,197316607,44997472,144670586,189950579,56395136,147757671,130702750,266799232,236779658,128410818,171575481,114656498,146737551,18975030,36491203,62858957,173323545,131998696,61494711,91953032,132651836,120034533,148647160,108995383,108488030,148438575,214985808,50176716,98381672,120452362,172036520,252362818,59977444,124001160,69192924,69562661,93934302,134269846,162704350,178630636,144623101,163778238,105484680,154082469,117677808,77363250,148172421,68336592,85132287,176764290,146514906,110179354,40200880,122840447,147143299,192766113,155723376,76535499,94084625,87702061,156803781,37579462,32035932,107488927,92127192,140624652,48113712,59633266,79172097,104556896,103949796,111230985,44101641,189920504,41163885,94479433,142737740,33681951,141943237,84441679,74586377,14424533,31180807,112032117,46907874,97047831,149074545,100189245,64159409,128950194,25710373,43075818,190657581,44141395,28750924,18386010,88586120,36046620,38581665,43410968,31051583,90462658,41908933,72391828,17091072,28144035,139863281,35512818,63737926,43059751,69345813,28475543,111149880,134738665,56324620,51972598,44975781,36623302,17614249,28601611,96512271,29885501,90198668,28750688,21599009,74304757,126806135,53032951,11229191,17224492,15704870,37021854,24551822,15020170,40949139,14672551,23666633,26767840,31246500,32474632,24303610,38689344,19300037,20003579,13179838,14709630,32745344,25560755,53793115,17692113,7737378,11312858,18282078,8710682,36646712,47375285,37232389,26973267,9110444,32689793,26366820,44425034,27565714,30782304,2218593,7333264,25887461,31072992,42187263,5775195,13549590,3791164,4599523,6031166,22108486,2724261,23027154,10781084,31926517,6478960,25777111,873951,27979745,10782114,19713706,34942323,42330064,2027840,26220736,52604927,1850181,4100356,7260443,524737,7641430,3804954,3314194,29304499,1959624,4880127,22902633,8705399,11350700,1793853,16221108,2502157,10875836,3724765,3845039,13383856,1565443,9852775,291331,1205614,1499563,380363,712047,317015,3023768,1451782,3240209,1646381,3090993,809255,1645940,3565337,2220232,1305913,1177844,158973,704788,834330,1313125,172526,648482,402785,408657,3658854,27771869,127747,364104,166491,334608,623420,126308,104873,97485,109535,151997,39691,272080,124402,121354,683062,2126239,54509,114006,138741,163100,43267,42471,2063540,2017144,63201,145779,106833,556450,132647,50956,87716,89659,152172,76253,65723798,130169,216519,59374,79566,116206,65867,122348,155396,42280,365790,79682,59346,149184,57423,211468,103052,183761,631498,922162,92549,74559,186184,68361,285175,263323,59493,43356,385433,471505,7537628,117137,100933,13744089,60794,137630,242479,46339,126554,62706,278476,54714,46564,588591,79243,43824,470784,39666,89107,94510,1566351,69757,79492,309994,82091,39660,39664,1360150,76239,44783,230609,52766,44636,40681,105527,778499,64535,43746,39878,8341765,39874,45921,217881,265445,39784,39795,116572,40269,39758,43591,732708,39711,161006,678290,65170,39905,69333,774473,39985,131969,50235,62575,65542,63595,119869,214013,43467,140697,44015,39708,39768,39811,89847,156142,373960,681576,78035,39759,80749,39715,127871,39867,80714,76527,64876,39923,71223,223449,39776,39659,75397,1764583,39878,42819,39862,49491,92115,40858,49226,102294,50779,41737,210145,206900,39681,45436,40161,115843,40582,40090,128814,39940,105323,76276,40543,40772,62786,565930,39658,142015,235085,164089,39912,40145,39750,52400,39859,39896,40228,40337,39945,39906,39915,88782,165253,146467,39641,48852,39705,39894,40108,39917,39673,68179,39738,55741,119699,65176,39679,39774,39791,39659,39681,39721,108355,39919,53219,49204,111089,40063,40005,56281,40034,39944,61839,39670,40308,60317,228880,67238,39929,436987,149637,44610,62722,449951,156158,113602,44407,41144,42266,94939,63642,54886,179923,41507,40044,57337,131876,39674,88179,301024,51822,106356,94882,59351,116634,66228,52226,75402,305798,39681,229569,123309,111754,48002,193240,39825,60525,218155,39822,199960,39671,39875,39724,58653,46867,80020,39780,40169,57372,39859,39959,39723,58095,62051,76927,178999,285095,39661,76339,446169,47855,54810,177498,52162,360608,60582,63039,17192658,197639,616907,67078,308185,128998,55436,62349,52066,42549,46952,125192,49978,85724,81885,338024,89761,62963,579447,95753,95931,2855540,319684,316347,92280,67997,1279471,52642,47050,40099,40096,40142,41776,55589,47657,47620,48174,50748,49622,53623,78359,52055,57581,78662,309417,59688,102452,627364,82070,79155,77361,136950,208096,12403115,118607,119624,88282,141546,92555,143456,481889,65672,72408,65710,66143,117570,79309,170511,84532,107429,116291,157663,99213,120994,139580,560113,199183,184172,258463,96962,96047,96231,160699,144707,143207,287237,425191,412047,256324,127287,120600,162789,134725,129161,138322,160276,138972,203815,615752,319627,378901,542843,284016,426451,405093,390475,613396,753263,821682,952911,1130858,4032686,19724605],\"yaxis\":\"y\",\"type\":\"scatter\"}],                        {\"template\":{\"data\":{\"histogram2dcontour\":[{\"type\":\"histogram2dcontour\",\"colorbar\":{\"outlinewidth\":0,\"ticks\":\"\"},\"colorscale\":[[0.0,\"#0d0887\"],[0.1111111111111111,\"#46039f\"],[0.2222222222222222,\"#7201a8\"],[0.3333333333333333,\"#9c179e\"],[0.4444444444444444,\"#bd3786\"],[0.5555555555555556,\"#d8576b\"],[0.6666666666666666,\"#ed7953\"],[0.7777777777777778,\"#fb9f3a\"],[0.8888888888888888,\"#fdca26\"],[1.0,\"#f0f921\"]]}],\"choropleth\":[{\"type\":\"choropleth\",\"colorbar\":{\"outlinewidth\":0,\"ticks\":\"\"}}],\"histogram2d\":[{\"type\":\"histogram2d\",\"colorbar\":{\"outlinewidth\":0,\"ticks\":\"\"},\"colorscale\":[[0.0,\"#0d0887\"],[0.1111111111111111,\"#46039f\"],[0.2222222222222222,\"#7201a8\"],[0.3333333333333333,\"#9c179e\"],[0.4444444444444444,\"#bd3786\"],[0.5555555555555556,\"#d8576b\"],[0.6666666666666666,\"#ed7953\"],[0.7777777777777778,\"#fb9f3a\"],[0.8888888888888888,\"#fdca26\"],[1.0,\"#f0f921\"]]}],\"heatmap\":[{\"type\":\"heatmap\",\"colorbar\":{\"outlinewidth\":0,\"ticks\":\"\"},\"colorscale\":[[0.0,\"#0d0887\"],[0.1111111111111111,\"#46039f\"],[0.2222222222222222,\"#7201a8\"],[0.3333333333333333,\"#9c179e\"],[0.4444444444444444,\"#bd3786\"],[0.5555555555555556,\"#d8576b\"],[0.6666666666666666,\"#ed7953\"],[0.7777777777777778,\"#fb9f3a\"],[0.8888888888888888,\"#fdca26\"],[1.0,\"#f0f921\"]]}],\"heatmapgl\":[{\"type\":\"heatmapgl\",\"colorbar\":{\"outlinewidth\":0,\"ticks\":\"\"},\"colorscale\":[[0.0,\"#0d0887\"],[0.1111111111111111,\"#46039f\"],[0.2222222222222222,\"#7201a8\"],[0.3333333333333333,\"#9c179e\"],[0.4444444444444444,\"#bd3786\"],[0.5555555555555556,\"#d8576b\"],[0.6666666666666666,\"#ed7953\"],[0.7777777777777778,\"#fb9f3a\"],[0.8888888888888888,\"#fdca26\"],[1.0,\"#f0f921\"]]}],\"contourcarpet\":[{\"type\":\"contourcarpet\",\"colorbar\":{\"outlinewidth\":0,\"ticks\":\"\"}}],\"contour\":[{\"type\":\"contour\",\"colorbar\":{\"outlinewidth\":0,\"ticks\":\"\"},\"colorscale\":[[0.0,\"#0d0887\"],[0.1111111111111111,\"#46039f\"],[0.2222222222222222,\"#7201a8\"],[0.3333333333333333,\"#9c179e\"],[0.4444444444444444,\"#bd3786\"],[0.5555555555555556,\"#d8576b\"],[0.6666666666666666,\"#ed7953\"],[0.7777777777777778,\"#fb9f3a\"],[0.8888888888888888,\"#fdca26\"],[1.0,\"#f0f921\"]]}],\"surface\":[{\"type\":\"surface\",\"colorbar\":{\"outlinewidth\":0,\"ticks\":\"\"},\"colorscale\":[[0.0,\"#0d0887\"],[0.1111111111111111,\"#46039f\"],[0.2222222222222222,\"#7201a8\"],[0.3333333333333333,\"#9c179e\"],[0.4444444444444444,\"#bd3786\"],[0.5555555555555556,\"#d8576b\"],[0.6666666666666666,\"#ed7953\"],[0.7777777777777778,\"#fb9f3a\"],[0.8888888888888888,\"#fdca26\"],[1.0,\"#f0f921\"]]}],\"mesh3d\":[{\"type\":\"mesh3d\",\"colorbar\":{\"outlinewidth\":0,\"ticks\":\"\"}}],\"scatter\":[{\"fillpattern\":{\"fillmode\":\"overlay\",\"size\":10,\"solidity\":0.2},\"type\":\"scatter\"}],\"parcoords\":[{\"type\":\"parcoords\",\"line\":{\"colorbar\":{\"outlinewidth\":0,\"ticks\":\"\"}}}],\"scatterpolargl\":[{\"type\":\"scatterpolargl\",\"marker\":{\"colorbar\":{\"outlinewidth\":0,\"ticks\":\"\"}}}],\"bar\":[{\"error_x\":{\"color\":\"#2a3f5f\"},\"error_y\":{\"color\":\"#2a3f5f\"},\"marker\":{\"line\":{\"color\":\"#E5ECF6\",\"width\":0.5},\"pattern\":{\"fillmode\":\"overlay\",\"size\":10,\"solidity\":0.2}},\"type\":\"bar\"}],\"scattergeo\":[{\"type\":\"scattergeo\",\"marker\":{\"colorbar\":{\"outlinewidth\":0,\"ticks\":\"\"}}}],\"scatterpolar\":[{\"type\":\"scatterpolar\",\"marker\":{\"colorbar\":{\"outlinewidth\":0,\"ticks\":\"\"}}}],\"histogram\":[{\"marker\":{\"pattern\":{\"fillmode\":\"overlay\",\"size\":10,\"solidity\":0.2}},\"type\":\"histogram\"}],\"scattergl\":[{\"type\":\"scattergl\",\"marker\":{\"colorbar\":{\"outlinewidth\":0,\"ticks\":\"\"}}}],\"scatter3d\":[{\"type\":\"scatter3d\",\"line\":{\"colorbar\":{\"outlinewidth\":0,\"ticks\":\"\"}},\"marker\":{\"colorbar\":{\"outlinewidth\":0,\"ticks\":\"\"}}}],\"scattermapbox\":[{\"type\":\"scattermapbox\",\"marker\":{\"colorbar\":{\"outlinewidth\":0,\"ticks\":\"\"}}}],\"scatterternary\":[{\"type\":\"scatterternary\",\"marker\":{\"colorbar\":{\"outlinewidth\":0,\"ticks\":\"\"}}}],\"scattercarpet\":[{\"type\":\"scattercarpet\",\"marker\":{\"colorbar\":{\"outlinewidth\":0,\"ticks\":\"\"}}}],\"carpet\":[{\"aaxis\":{\"endlinecolor\":\"#2a3f5f\",\"gridcolor\":\"white\",\"linecolor\":\"white\",\"minorgridcolor\":\"white\",\"startlinecolor\":\"#2a3f5f\"},\"baxis\":{\"endlinecolor\":\"#2a3f5f\",\"gridcolor\":\"white\",\"linecolor\":\"white\",\"minorgridcolor\":\"white\",\"startlinecolor\":\"#2a3f5f\"},\"type\":\"carpet\"}],\"table\":[{\"cells\":{\"fill\":{\"color\":\"#EBF0F8\"},\"line\":{\"color\":\"white\"}},\"header\":{\"fill\":{\"color\":\"#C8D4E3\"},\"line\":{\"color\":\"white\"}},\"type\":\"table\"}],\"barpolar\":[{\"marker\":{\"line\":{\"color\":\"#E5ECF6\",\"width\":0.5},\"pattern\":{\"fillmode\":\"overlay\",\"size\":10,\"solidity\":0.2}},\"type\":\"barpolar\"}],\"pie\":[{\"automargin\":true,\"type\":\"pie\"}]},\"layout\":{\"autotypenumbers\":\"strict\",\"colorway\":[\"#636efa\",\"#EF553B\",\"#00cc96\",\"#ab63fa\",\"#FFA15A\",\"#19d3f3\",\"#FF6692\",\"#B6E880\",\"#FF97FF\",\"#FECB52\"],\"font\":{\"color\":\"#2a3f5f\"},\"hovermode\":\"closest\",\"hoverlabel\":{\"align\":\"left\"},\"paper_bgcolor\":\"white\",\"plot_bgcolor\":\"#E5ECF6\",\"polar\":{\"bgcolor\":\"#E5ECF6\",\"angularaxis\":{\"gridcolor\":\"white\",\"linecolor\":\"white\",\"ticks\":\"\"},\"radialaxis\":{\"gridcolor\":\"white\",\"linecolor\":\"white\",\"ticks\":\"\"}},\"ternary\":{\"bgcolor\":\"#E5ECF6\",\"aaxis\":{\"gridcolor\":\"white\",\"linecolor\":\"white\",\"ticks\":\"\"},\"baxis\":{\"gridcolor\":\"white\",\"linecolor\":\"white\",\"ticks\":\"\"},\"caxis\":{\"gridcolor\":\"white\",\"linecolor\":\"white\",\"ticks\":\"\"}},\"coloraxis\":{\"colorbar\":{\"outlinewidth\":0,\"ticks\":\"\"}},\"colorscale\":{\"sequential\":[[0.0,\"#0d0887\"],[0.1111111111111111,\"#46039f\"],[0.2222222222222222,\"#7201a8\"],[0.3333333333333333,\"#9c179e\"],[0.4444444444444444,\"#bd3786\"],[0.5555555555555556,\"#d8576b\"],[0.6666666666666666,\"#ed7953\"],[0.7777777777777778,\"#fb9f3a\"],[0.8888888888888888,\"#fdca26\"],[1.0,\"#f0f921\"]],\"sequentialminus\":[[0.0,\"#0d0887\"],[0.1111111111111111,\"#46039f\"],[0.2222222222222222,\"#7201a8\"],[0.3333333333333333,\"#9c179e\"],[0.4444444444444444,\"#bd3786\"],[0.5555555555555556,\"#d8576b\"],[0.6666666666666666,\"#ed7953\"],[0.7777777777777778,\"#fb9f3a\"],[0.8888888888888888,\"#fdca26\"],[1.0,\"#f0f921\"]],\"diverging\":[[0,\"#8e0152\"],[0.1,\"#c51b7d\"],[0.2,\"#de77ae\"],[0.3,\"#f1b6da\"],[0.4,\"#fde0ef\"],[0.5,\"#f7f7f7\"],[0.6,\"#e6f5d0\"],[0.7,\"#b8e186\"],[0.8,\"#7fbc41\"],[0.9,\"#4d9221\"],[1,\"#276419\"]]},\"xaxis\":{\"gridcolor\":\"white\",\"linecolor\":\"white\",\"ticks\":\"\",\"title\":{\"standoff\":15},\"zerolinecolor\":\"white\",\"automargin\":true,\"zerolinewidth\":2},\"yaxis\":{\"gridcolor\":\"white\",\"linecolor\":\"white\",\"ticks\":\"\",\"title\":{\"standoff\":15},\"zerolinecolor\":\"white\",\"automargin\":true,\"zerolinewidth\":2},\"scene\":{\"xaxis\":{\"backgroundcolor\":\"#E5ECF6\",\"gridcolor\":\"white\",\"linecolor\":\"white\",\"showbackground\":true,\"ticks\":\"\",\"zerolinecolor\":\"white\",\"gridwidth\":2},\"yaxis\":{\"backgroundcolor\":\"#E5ECF6\",\"gridcolor\":\"white\",\"linecolor\":\"white\",\"showbackground\":true,\"ticks\":\"\",\"zerolinecolor\":\"white\",\"gridwidth\":2},\"zaxis\":{\"backgroundcolor\":\"#E5ECF6\",\"gridcolor\":\"white\",\"linecolor\":\"white\",\"showbackground\":true,\"ticks\":\"\",\"zerolinecolor\":\"white\",\"gridwidth\":2}},\"shapedefaults\":{\"line\":{\"color\":\"#2a3f5f\"}},\"annotationdefaults\":{\"arrowcolor\":\"#2a3f5f\",\"arrowhead\":0,\"arrowwidth\":1},\"geo\":{\"bgcolor\":\"white\",\"landcolor\":\"#E5ECF6\",\"subunitcolor\":\"white\",\"showland\":true,\"showlakes\":true,\"lakecolor\":\"white\"},\"title\":{\"x\":0.05},\"mapbox\":{\"style\":\"light\"}}},\"xaxis\":{\"anchor\":\"y\",\"domain\":[0.0,1.0],\"title\":{\"text\":\"Comments\"}},\"yaxis\":{\"anchor\":\"x\",\"domain\":[0.0,1.0],\"title\":{\"text\":\"Views\"}},\"legend\":{\"tracegroupgap\":0},\"title\":{\"text\":\"Comments vs Views\"}},                        {\"responsive\": true}                    ).then(function(){\n",
       "                            \n",
       "var gd = document.getElementById('2c76a24b-276e-44d1-81b8-52b0bf99cbc8');\n",
       "var x = new MutationObserver(function (mutations, observer) {{\n",
       "        var display = window.getComputedStyle(gd).display;\n",
       "        if (!display || display === 'none') {{\n",
       "            console.log([gd, 'removed!']);\n",
       "            Plotly.purge(gd);\n",
       "            observer.disconnect();\n",
       "        }}\n",
       "}});\n",
       "\n",
       "// Listen for the removal of the full notebook cells\n",
       "var notebookContainer = gd.closest('#notebook-container');\n",
       "if (notebookContainer) {{\n",
       "    x.observe(notebookContainer, {childList: true});\n",
       "}}\n",
       "\n",
       "// Listen for the clearing of the current output cell\n",
       "var outputEl = gd.closest('.output');\n",
       "if (outputEl) {{\n",
       "    x.observe(outputEl, {childList: true});\n",
       "}}\n",
       "\n",
       "                        })                };                });            </script>        </div>"
      ]
     },
     "metadata": {},
     "output_type": "display_data"
    }
   ],
   "source": [
    "px.scatter(df,x='Comments',y='Views',title = 'Comments vs Views')"
   ]
  },
  {
   "cell_type": "code",
   "execution_count": 862,
   "id": "99a7155e",
   "metadata": {},
   "outputs": [
    {
     "data": {
      "application/vnd.plotly.v1+json": {
       "config": {
        "plotlyServerURL": "https://plot.ly"
       },
       "data": [
        {
         "hovertemplate": "Comments=%{x}<br>Likes=%{y}<extra></extra>",
         "legendgroup": "",
         "marker": {
          "color": "#636efa",
          "symbol": "circle"
         },
         "mode": "markers",
         "name": "",
         "orientation": "v",
         "showlegend": false,
         "type": "scatter",
         "x": [
          69953,
          14381,
          9968,
          128920,
          14547,
          150379,
          52642,
          9342,
          12861,
          17339,
          15891,
          144367,
          25166,
          26632,
          19067,
          150529,
          7305,
          19798,
          352496,
          23651,
          107866,
          27299,
          118230,
          23936,
          137328,
          20915,
          149634,
          18281,
          116723,
          161035,
          43053,
          37020,
          19850,
          163711,
          53228,
          112556,
          23280,
          400991,
          151560,
          132880,
          85685,
          96271,
          34364,
          104396,
          111815,
          116806,
          64232,
          99574,
          67591,
          78092,
          236331,
          143128,
          110299,
          165039,
          134203,
          91867,
          137326,
          125703,
          88686,
          96536,
          620208,
          175512,
          130126,
          120562,
          100395,
          121535,
          96272,
          78600,
          84982,
          100946,
          83926,
          85755,
          126694,
          120259,
          142694,
          175976,
          253679,
          115736,
          117716,
          151203,
          176737,
          194195,
          287054,
          109073,
          744469,
          185637,
          96088,
          91988,
          196375,
          86000,
          119576,
          240960,
          73560,
          185638,
          98923,
          123305,
          152924,
          230100,
          131378,
          87325,
          137127,
          213507,
          182887,
          196413,
          119979,
          76878,
          117981,
          168214,
          66258,
          66678,
          81311,
          67915,
          72863,
          70154,
          115741,
          112939,
          56466,
          99190,
          46740,
          51109,
          41737,
          131114,
          174249,
          128126,
          302207,
          93717,
          50380,
          107349,
          82351,
          52043,
          96029,
          50313,
          56633,
          99536,
          30583,
          166866,
          58990,
          58582,
          133447,
          44340,
          73657,
          44699,
          33597,
          57740,
          139756,
          83108,
          79380,
          68099,
          69200,
          62863,
          100101,
          47336,
          57648,
          182235,
          86831,
          77609,
          114737,
          96059,
          67561,
          36067,
          138210,
          184392,
          86782,
          68063,
          51003,
          43407,
          92802,
          79127,
          35699,
          21091,
          45629,
          74240,
          94600,
          144058,
          57448,
          114127,
          37660,
          69519,
          135988,
          66517,
          141637,
          84825,
          63759,
          307696,
          24341,
          91826,
          44913,
          69509,
          34631,
          72190,
          76216,
          50810,
          97536,
          63786,
          63955,
          50251,
          73020,
          172494,
          69778,
          137522,
          55979,
          32799,
          25726,
          75146,
          36349,
          109833,
          47401,
          34242,
          60190,
          33932,
          47892,
          22670,
          139404,
          55973,
          19135,
          40443,
          19898,
          39018,
          16756,
          67026,
          107457,
          33189,
          51370,
          51182,
          17910,
          33167,
          37696,
          61307,
          44997,
          54615,
          44679,
          25300,
          102098,
          66001,
          97302,
          19532,
          37179,
          12495,
          46124,
          19333,
          31487,
          27495,
          21545,
          30924,
          25279,
          48736,
          45641,
          29784,
          36538,
          39615,
          22478,
          25619,
          20119,
          45621,
          24175,
          76775,
          42665,
          17585,
          16010,
          29485,
          22458,
          39558,
          74817,
          36417,
          26122,
          11355,
          56126,
          39584,
          72625,
          37220,
          24454,
          10063,
          11078,
          57440,
          44532,
          43612,
          10574,
          39760,
          6353,
          8452,
          11665,
          41029,
          8932,
          111662,
          18071,
          34807,
          19391,
          39027,
          4638,
          71440,
          34316,
          15691,
          59217,
          89702,
          5115,
          18545,
          0,
          9151,
          9457,
          21068,
          3683,
          25816,
          19486,
          6251,
          126043,
          8471,
          15422,
          34827,
          15917,
          42112,
          7796,
          17757,
          12882,
          12497,
          19085,
          5064,
          8211,
          2814,
          18548,
          1288,
          3152,
          4606,
          957,
          4668,
          1035,
          3483,
          3097,
          7286,
          3779,
          5635,
          6789,
          4280,
          7677,
          2757,
          7901,
          5188,
          1292,
          1529,
          1799,
          2805,
          1366,
          3659,
          2879,
          1814,
          7013,
          31039,
          494,
          2559,
          547,
          829,
          1375,
          576,
          1279,
          429,
          1017,
          549,
          361,
          548,
          621,
          451,
          1959,
          12524,
          246,
          464,
          479,
          676,
          286,
          231,
          3027,
          3823,
          1288,
          731,
          311,
          1152,
          330,
          154,
          263,
          341,
          1449,
          309,
          59948,
          429,
          289,
          292,
          180,
          754,
          249,
          270,
          1252,
          390,
          2174,
          711,
          411,
          621,
          509,
          468,
          512,
          1470,
          1492,
          2027,
          428,
          472,
          393,
          304,
          755,
          627,
          307,
          273,
          1619,
          1793,
          26067,
          508,
          290,
          36682,
          431,
          188,
          877,
          143,
          453,
          253,
          1736,
          201,
          195,
          1489,
          524,
          209,
          824,
          237,
          739,
          328,
          13277,
          260,
          599,
          492,
          463,
          244,
          266,
          4256,
          503,
          262,
          431,
          270,
          278,
          246,
          555,
          2352,
          352,
          791,
          225,
          19691,
          340,
          305,
          752,
          494,
          521,
          411,
          205,
          210,
          336,
          219,
          4214,
          407,
          693,
          2410,
          171,
          337,
          170,
          1423,
          275,
          212,
          158,
          349,
          268,
          184,
          536,
          571,
          193,
          639,
          454,
          210,
          173,
          506,
          243,
          530,
          615,
          545,
          299,
          369,
          211,
          435,
          270,
          177,
          421,
          240,
          371,
          362,
          171,
          554,
          205,
          193,
          364,
          2788,
          808,
          279,
          504,
          159,
          365,
          380,
          3352,
          281,
          201,
          227,
          560,
          275,
          434,
          288,
          445,
          621,
          351,
          205,
          1066,
          203,
          596,
          229,
          167,
          147,
          260,
          692,
          290,
          1236,
          1834,
          196,
          379,
          208,
          693,
          152,
          334,
          224,
          274,
          534,
          341,
          251,
          142,
          211,
          400,
          149,
          247,
          146,
          462,
          175,
          168,
          269,
          241,
          115,
          241,
          151,
          367,
          175,
          672,
          351,
          314,
          226,
          222,
          300,
          166,
          285,
          165,
          132,
          324,
          235,
          204,
          244,
          227,
          274,
          218,
          178,
          330,
          145,
          2496,
          215,
          163,
          2856,
          653,
          182,
          168,
          1228,
          550,
          568,
          196,
          170,
          149,
          331,
          308,
          235,
          367,
          527,
          209,
          233,
          379,
          274,
          248,
          621,
          150,
          623,
          214,
          197,
          390,
          259,
          249,
          226,
          1040,
          196,
          249,
          270,
          394,
          171,
          362,
          344,
          174,
          1453,
          154,
          204,
          194,
          261,
          300,
          546,
          196,
          197,
          346,
          294,
          154,
          367,
          332,
          333,
          210,
          197,
          298,
          814,
          364,
          283,
          376,
          400,
          225,
          294,
          787,
          242,
          370,
          342,
          261,
          92829,
          436,
          1550,
          177,
          842,
          311,
          352,
          282,
          219,
          403,
          216,
          631,
          334,
          1073,
          310,
          1417,
          419,
          330,
          2346,
          536,
          917,
          15401,
          705,
          1417,
          377,
          266,
          1824,
          309,
          320,
          683,
          442,
          612,
          418,
          340,
          355,
          352,
          322,
          292,
          286,
          332,
          348,
          416,
          433,
          317,
          711,
          574,
          408,
          1257,
          342,
          315,
          678,
          587,
          769,
          74582,
          407,
          417,
          499,
          635,
          448,
          814,
          1553,
          578,
          475,
          766,
          853,
          992,
          542,
          606,
          719,
          465,
          569,
          639,
          745,
          570,
          662,
          2433,
          810,
          762,
          882,
          871,
          1006,
          836,
          775,
          736,
          811,
          1154,
          1716,
          1502,
          965,
          739,
          1474,
          881,
          856,
          1089,
          953,
          1003,
          1327,
          1200,
          1681,
          1727,
          2017,
          2404,
          2064,
          1949,
          1596,
          2020,
          3840,
          2933,
          3098,
          3389,
          4053,
          8042,
          112761
         ],
         "xaxis": "x",
         "y": [
          2734717,
          3181846,
          3763144,
          4372148,
          7683173,
          5255920,
          15838629,
          9445626,
          9826064,
          8397277,
          10676684,
          5390831,
          8447055,
          17103603,
          7490917,
          4781188,
          2742682,
          7160636,
          5397249,
          9353864,
          5339440,
          12458177,
          6087671,
          12667138,
          5763006,
          10856603,
          6179167,
          8820643,
          5688374,
          5024795,
          15676704,
          14287354,
          13971840,
          6593068,
          18950832,
          5473649,
          13113906,
          10007445,
          4910068,
          5475029,
          41064093,
          4123680,
          17646537,
          4004028,
          30037941,
          6683696,
          25620716,
          5326487,
          3347424,
          3731470,
          6335342,
          4359608,
          3750720,
          6218221,
          5065493,
          3951815,
          5355489,
          3566688,
          3070387,
          4352670,
          17184193,
          5434834,
          4470173,
          4092272,
          4337990,
          6551587,
          4275700,
          3505354,
          3367023,
          3855282,
          3484938,
          3235378,
          3996126,
          3613403,
          5178826,
          4951723,
          8199912,
          3149841,
          3744947,
          3036619,
          5603911,
          5303107,
          5045347,
          2788966,
          4934113,
          6379801,
          3522047,
          4297192,
          3898756,
          3786203,
          3719902,
          6489817,
          2744908,
          4290510,
          2739004,
          2507269,
          3691601,
          5282887,
          3763889,
          3183219,
          4213012,
          4820320,
          5066730,
          3412269,
          3541082,
          3250667,
          4878931,
          7054509,
          1407766,
          3804714,
          3117582,
          1889417,
          3345181,
          2605771,
          4963067,
          4212676,
          2595202,
          3856702,
          2200659,
          2701689,
          896671,
          2446119,
          2827541,
          4414503,
          3288910,
          1431808,
          1835900,
          4166202,
          2190029,
          2957913,
          2833912,
          2406329,
          2975196,
          4017461,
          1292649,
          4368531,
          2037721,
          2729296,
          4758002,
          1805081,
          2488194,
          1496447,
          1519125,
          2400419,
          3383101,
          3120643,
          3346734,
          2888734,
          2895765,
          2739321,
          3602896,
          2100990,
          1580879,
          3462868,
          1787912,
          2256664,
          3465906,
          3084035,
          2253992,
          1122764,
          2837941,
          4190651,
          3000713,
          2732578,
          1769421,
          1816431,
          1732752,
          3804170,
          1011278,
          881050,
          1921831,
          3200301,
          2851076,
          1656776,
          1780920,
          2140013,
          1866576,
          2248329,
          2217552,
          1260033,
          3212767,
          1150494,
          1567715,
          28736423,
          771741,
          2301433,
          1547235,
          1520948,
          492598,
          1030125,
          2057440,
          1741617,
          2092453,
          2502384,
          1881067,
          1046144,
          2217821,
          1685758,
          1132037,
          4665940,
          933373,
          795031,
          515700,
          1633828,
          982882,
          1331614,
          1157890,
          750614,
          1564493,
          921077,
          1517138,
          425819,
          800654,
          2180600,
          562041,
          1309255,
          725751,
          1151202,
          547252,
          2391814,
          3388136,
          1018629,
          1100328,
          1215533,
          617689,
          397508,
          626056,
          2142543,
          874712,
          1689552,
          802026,
          642230,
          1671455,
          1954352,
          1219539,
          294547,
          436173,
          315890,
          921259,
          549162,
          454524,
          767740,
          348533,
          507666,
          552065,
          789880,
          658189,
          631167,
          628289,
          499898,
          558114,
          344764,
          354266,
          895314,
          576888,
          1416396,
          443561,
          249618,
          274788,
          431360,
          234726,
          864454,
          1326560,
          1082428,
          770006,
          228724,
          1058228,
          722801,
          1127224,
          582374,
          1203473,
          81514,
          203404,
          486156,
          1517273,
          1097128,
          205504,
          604570,
          154056,
          127785,
          231028,
          695382,
          123892,
          925647,
          226696,
          840988,
          226174,
          662208,
          28390,
          825085,
          543360,
          506189,
          804264,
          1645602,
          70703,
          529660,
          2573315,
          94721,
          96679,
          322250,
          19079,
          325300,
          149811,
          97171,
          1403438,
          56445,
          88528,
          584938,
          725158,
          433843,
          93784,
          455510,
          186354,
          217278,
          330738,
          229527,
          358588,
          37518,
          587087,
          10370,
          55267,
          50086,
          14207,
          32395,
          10470,
          58980,
          51239,
          138268,
          126458,
          153326,
          41765,
          115568,
          122701,
          64201,
          75874,
          46290,
          6998,
          17140,
          33831,
          35816,
          5758,
          18394,
          17381,
          12690,
          164776,
          808846,
          5406,
          11700,
          7742,
          14057,
          12642,
          4632,
          11601,
          4140,
          4490,
          6374,
          1637,
          9918,
          6492,
          4580,
          21207,
          128486,
          1547,
          3672,
          3519,
          11541,
          1930,
          1969,
          89664,
          72930,
          2409,
          5012,
          3366,
          23489,
          3783,
          1673,
          3955,
          3452,
          7087,
          2190,
          712190,
          5290,
          4496,
          2617,
          3889,
          5348,
          2114,
          3297,
          8424,
          2412,
          23722,
          4006,
          1852,
          6513,
          2110,
          5673,
          6895,
          7335,
          21838,
          20178,
          3939,
          3511,
          4200,
          3690,
          9876,
          8559,
          2938,
          1187,
          13783,
          13061,
          352144,
          3240,
          2501,
          538766,
          2076,
          1148,
          10121,
          1584,
          5050,
          2990,
          12705,
          1516,
          2082,
          20050,
          3909,
          1613,
          15180,
          1457,
          3257,
          3114,
          125370,
          2286,
          3681,
          8346,
          2932,
          1389,
          1687,
          73134,
          3030,
          2127,
          7214,
          1925,
          1905,
          1306,
          4511,
          24035,
          2719,
          4202,
          1556,
          382101,
          1380,
          1899,
          6530,
          7877,
          1377,
          1560,
          2265,
          1196,
          1471,
          1596,
          48925,
          2181,
          9370,
          24341,
          1552,
          1282,
          2388,
          22553,
          1316,
          2636,
          1743,
          2758,
          1736,
          1310,
          2889,
          6069,
          1214,
          5698,
          1645,
          989,
          1070,
          1197,
          1628,
          3967,
          9188,
          10039,
          1726,
          1309,
          1778,
          1953,
          2583,
          1004,
          2632,
          1359,
          2043,
          1310,
          1769,
          3646,
          1189,
          1048,
          2435,
          17889,
          1636,
          1467,
          1735,
          1037,
          2826,
          1398,
          11352,
          3308,
          1312,
          959,
          6597,
          2008,
          1400,
          0,
          1667,
          3744,
          1530,
          977,
          4402,
          979,
          2641,
          2150,
          867,
          848,
          2413,
          13222,
          1133,
          3811,
          12240,
          2428,
          1572,
          1152,
          1527,
          1336,
          1584,
          1063,
          1172,
          1361,
          1271,
          1069,
          960,
          2287,
          5429,
          1826,
          1264,
          1093,
          1347,
          1283,
          967,
          1124,
          1126,
          1000,
          926,
          956,
          3653,
          1208,
          1751,
          1343,
          1457,
          914,
          1379,
          1244,
          2151,
          1160,
          1296,
          1373,
          3050,
          1137,
          1078,
          1716,
          1242,
          1224,
          1402,
          1089,
          1232,
          1402,
          10001,
          1739,
          911,
          8778,
          2844,
          815,
          1329,
          17293,
          4140,
          5650,
          1299,
          975,
          1116,
          1464,
          1422,
          1061,
          3331,
          1156,
          1094,
          851,
          2630,
          1020,
          1571,
          7312,
          1250,
          4047,
          1738,
          1246,
          3089,
          1606,
          1370,
          1558,
          16855,
          962,
          3611,
          2930,
          2430,
          940,
          3997,
          1151,
          1486,
          6969,
          711,
          2108,
          1068,
          1188,
          1443,
          1839,
          1367,
          2186,
          1241,
          1220,
          1146,
          1282,
          1233,
          1250,
          1623,
          1313,
          1847,
          4818,
          4659,
          1252,
          2750,
          4964,
          1083,
          1821,
          5811,
          1275,
          7762,
          2087,
          2398,
          1282110,
          3995,
          13589,
          1012,
          7509,
          2507,
          1247,
          1508,
          1450,
          1406,
          1324,
          4101,
          1455,
          2640,
          1633,
          6771,
          2556,
          1731,
          19055,
          2815,
          2267,
          225367,
          5748,
          11528,
          2814,
          1676,
          22491,
          1419,
          1357,
          1651,
          1335,
          1639,
          1450,
          1373,
          1430,
          1466,
          1425,
          1416,
          1454,
          1555,
          1832,
          1746,
          1736,
          2548,
          5707,
          2396,
          2700,
          12583,
          2884,
          2250,
          2945,
          5233,
          7688,
          1150782,
          3502,
          3557,
          2786,
          4890,
          3239,
          6085,
          16097,
          2703,
          2690,
          3013,
          3138,
          4780,
          3044,
          4887,
          3480,
          3312,
          4010,
          6106,
          3840,
          4229,
          5309,
          20777,
          7913,
          5352,
          9582,
          4361,
          4252,
          4422,
          6417,
          5836,
          5808,
          10386,
          14203,
          15944,
          8586,
          5824,
          6581,
          7901,
          5930,
          6712,
          6644,
          0,
          0,
          0,
          0,
          13782,
          16635,
          20119,
          14968,
          19136,
          0,
          19341,
          24782,
          28294,
          32423,
          37779,
          44676,
          0,
          932941
         ],
         "yaxis": "y"
        }
       ],
       "layout": {
        "legend": {
         "tracegroupgap": 0
        },
        "template": {
         "data": {
          "bar": [
           {
            "error_x": {
             "color": "#2a3f5f"
            },
            "error_y": {
             "color": "#2a3f5f"
            },
            "marker": {
             "line": {
              "color": "#E5ECF6",
              "width": 0.5
             },
             "pattern": {
              "fillmode": "overlay",
              "size": 10,
              "solidity": 0.2
             }
            },
            "type": "bar"
           }
          ],
          "barpolar": [
           {
            "marker": {
             "line": {
              "color": "#E5ECF6",
              "width": 0.5
             },
             "pattern": {
              "fillmode": "overlay",
              "size": 10,
              "solidity": 0.2
             }
            },
            "type": "barpolar"
           }
          ],
          "carpet": [
           {
            "aaxis": {
             "endlinecolor": "#2a3f5f",
             "gridcolor": "white",
             "linecolor": "white",
             "minorgridcolor": "white",
             "startlinecolor": "#2a3f5f"
            },
            "baxis": {
             "endlinecolor": "#2a3f5f",
             "gridcolor": "white",
             "linecolor": "white",
             "minorgridcolor": "white",
             "startlinecolor": "#2a3f5f"
            },
            "type": "carpet"
           }
          ],
          "choropleth": [
           {
            "colorbar": {
             "outlinewidth": 0,
             "ticks": ""
            },
            "type": "choropleth"
           }
          ],
          "contour": [
           {
            "colorbar": {
             "outlinewidth": 0,
             "ticks": ""
            },
            "colorscale": [
             [
              0,
              "#0d0887"
             ],
             [
              0.1111111111111111,
              "#46039f"
             ],
             [
              0.2222222222222222,
              "#7201a8"
             ],
             [
              0.3333333333333333,
              "#9c179e"
             ],
             [
              0.4444444444444444,
              "#bd3786"
             ],
             [
              0.5555555555555556,
              "#d8576b"
             ],
             [
              0.6666666666666666,
              "#ed7953"
             ],
             [
              0.7777777777777778,
              "#fb9f3a"
             ],
             [
              0.8888888888888888,
              "#fdca26"
             ],
             [
              1,
              "#f0f921"
             ]
            ],
            "type": "contour"
           }
          ],
          "contourcarpet": [
           {
            "colorbar": {
             "outlinewidth": 0,
             "ticks": ""
            },
            "type": "contourcarpet"
           }
          ],
          "heatmap": [
           {
            "colorbar": {
             "outlinewidth": 0,
             "ticks": ""
            },
            "colorscale": [
             [
              0,
              "#0d0887"
             ],
             [
              0.1111111111111111,
              "#46039f"
             ],
             [
              0.2222222222222222,
              "#7201a8"
             ],
             [
              0.3333333333333333,
              "#9c179e"
             ],
             [
              0.4444444444444444,
              "#bd3786"
             ],
             [
              0.5555555555555556,
              "#d8576b"
             ],
             [
              0.6666666666666666,
              "#ed7953"
             ],
             [
              0.7777777777777778,
              "#fb9f3a"
             ],
             [
              0.8888888888888888,
              "#fdca26"
             ],
             [
              1,
              "#f0f921"
             ]
            ],
            "type": "heatmap"
           }
          ],
          "heatmapgl": [
           {
            "colorbar": {
             "outlinewidth": 0,
             "ticks": ""
            },
            "colorscale": [
             [
              0,
              "#0d0887"
             ],
             [
              0.1111111111111111,
              "#46039f"
             ],
             [
              0.2222222222222222,
              "#7201a8"
             ],
             [
              0.3333333333333333,
              "#9c179e"
             ],
             [
              0.4444444444444444,
              "#bd3786"
             ],
             [
              0.5555555555555556,
              "#d8576b"
             ],
             [
              0.6666666666666666,
              "#ed7953"
             ],
             [
              0.7777777777777778,
              "#fb9f3a"
             ],
             [
              0.8888888888888888,
              "#fdca26"
             ],
             [
              1,
              "#f0f921"
             ]
            ],
            "type": "heatmapgl"
           }
          ],
          "histogram": [
           {
            "marker": {
             "pattern": {
              "fillmode": "overlay",
              "size": 10,
              "solidity": 0.2
             }
            },
            "type": "histogram"
           }
          ],
          "histogram2d": [
           {
            "colorbar": {
             "outlinewidth": 0,
             "ticks": ""
            },
            "colorscale": [
             [
              0,
              "#0d0887"
             ],
             [
              0.1111111111111111,
              "#46039f"
             ],
             [
              0.2222222222222222,
              "#7201a8"
             ],
             [
              0.3333333333333333,
              "#9c179e"
             ],
             [
              0.4444444444444444,
              "#bd3786"
             ],
             [
              0.5555555555555556,
              "#d8576b"
             ],
             [
              0.6666666666666666,
              "#ed7953"
             ],
             [
              0.7777777777777778,
              "#fb9f3a"
             ],
             [
              0.8888888888888888,
              "#fdca26"
             ],
             [
              1,
              "#f0f921"
             ]
            ],
            "type": "histogram2d"
           }
          ],
          "histogram2dcontour": [
           {
            "colorbar": {
             "outlinewidth": 0,
             "ticks": ""
            },
            "colorscale": [
             [
              0,
              "#0d0887"
             ],
             [
              0.1111111111111111,
              "#46039f"
             ],
             [
              0.2222222222222222,
              "#7201a8"
             ],
             [
              0.3333333333333333,
              "#9c179e"
             ],
             [
              0.4444444444444444,
              "#bd3786"
             ],
             [
              0.5555555555555556,
              "#d8576b"
             ],
             [
              0.6666666666666666,
              "#ed7953"
             ],
             [
              0.7777777777777778,
              "#fb9f3a"
             ],
             [
              0.8888888888888888,
              "#fdca26"
             ],
             [
              1,
              "#f0f921"
             ]
            ],
            "type": "histogram2dcontour"
           }
          ],
          "mesh3d": [
           {
            "colorbar": {
             "outlinewidth": 0,
             "ticks": ""
            },
            "type": "mesh3d"
           }
          ],
          "parcoords": [
           {
            "line": {
             "colorbar": {
              "outlinewidth": 0,
              "ticks": ""
             }
            },
            "type": "parcoords"
           }
          ],
          "pie": [
           {
            "automargin": true,
            "type": "pie"
           }
          ],
          "scatter": [
           {
            "fillpattern": {
             "fillmode": "overlay",
             "size": 10,
             "solidity": 0.2
            },
            "type": "scatter"
           }
          ],
          "scatter3d": [
           {
            "line": {
             "colorbar": {
              "outlinewidth": 0,
              "ticks": ""
             }
            },
            "marker": {
             "colorbar": {
              "outlinewidth": 0,
              "ticks": ""
             }
            },
            "type": "scatter3d"
           }
          ],
          "scattercarpet": [
           {
            "marker": {
             "colorbar": {
              "outlinewidth": 0,
              "ticks": ""
             }
            },
            "type": "scattercarpet"
           }
          ],
          "scattergeo": [
           {
            "marker": {
             "colorbar": {
              "outlinewidth": 0,
              "ticks": ""
             }
            },
            "type": "scattergeo"
           }
          ],
          "scattergl": [
           {
            "marker": {
             "colorbar": {
              "outlinewidth": 0,
              "ticks": ""
             }
            },
            "type": "scattergl"
           }
          ],
          "scattermapbox": [
           {
            "marker": {
             "colorbar": {
              "outlinewidth": 0,
              "ticks": ""
             }
            },
            "type": "scattermapbox"
           }
          ],
          "scatterpolar": [
           {
            "marker": {
             "colorbar": {
              "outlinewidth": 0,
              "ticks": ""
             }
            },
            "type": "scatterpolar"
           }
          ],
          "scatterpolargl": [
           {
            "marker": {
             "colorbar": {
              "outlinewidth": 0,
              "ticks": ""
             }
            },
            "type": "scatterpolargl"
           }
          ],
          "scatterternary": [
           {
            "marker": {
             "colorbar": {
              "outlinewidth": 0,
              "ticks": ""
             }
            },
            "type": "scatterternary"
           }
          ],
          "surface": [
           {
            "colorbar": {
             "outlinewidth": 0,
             "ticks": ""
            },
            "colorscale": [
             [
              0,
              "#0d0887"
             ],
             [
              0.1111111111111111,
              "#46039f"
             ],
             [
              0.2222222222222222,
              "#7201a8"
             ],
             [
              0.3333333333333333,
              "#9c179e"
             ],
             [
              0.4444444444444444,
              "#bd3786"
             ],
             [
              0.5555555555555556,
              "#d8576b"
             ],
             [
              0.6666666666666666,
              "#ed7953"
             ],
             [
              0.7777777777777778,
              "#fb9f3a"
             ],
             [
              0.8888888888888888,
              "#fdca26"
             ],
             [
              1,
              "#f0f921"
             ]
            ],
            "type": "surface"
           }
          ],
          "table": [
           {
            "cells": {
             "fill": {
              "color": "#EBF0F8"
             },
             "line": {
              "color": "white"
             }
            },
            "header": {
             "fill": {
              "color": "#C8D4E3"
             },
             "line": {
              "color": "white"
             }
            },
            "type": "table"
           }
          ]
         },
         "layout": {
          "annotationdefaults": {
           "arrowcolor": "#2a3f5f",
           "arrowhead": 0,
           "arrowwidth": 1
          },
          "autotypenumbers": "strict",
          "coloraxis": {
           "colorbar": {
            "outlinewidth": 0,
            "ticks": ""
           }
          },
          "colorscale": {
           "diverging": [
            [
             0,
             "#8e0152"
            ],
            [
             0.1,
             "#c51b7d"
            ],
            [
             0.2,
             "#de77ae"
            ],
            [
             0.3,
             "#f1b6da"
            ],
            [
             0.4,
             "#fde0ef"
            ],
            [
             0.5,
             "#f7f7f7"
            ],
            [
             0.6,
             "#e6f5d0"
            ],
            [
             0.7,
             "#b8e186"
            ],
            [
             0.8,
             "#7fbc41"
            ],
            [
             0.9,
             "#4d9221"
            ],
            [
             1,
             "#276419"
            ]
           ],
           "sequential": [
            [
             0,
             "#0d0887"
            ],
            [
             0.1111111111111111,
             "#46039f"
            ],
            [
             0.2222222222222222,
             "#7201a8"
            ],
            [
             0.3333333333333333,
             "#9c179e"
            ],
            [
             0.4444444444444444,
             "#bd3786"
            ],
            [
             0.5555555555555556,
             "#d8576b"
            ],
            [
             0.6666666666666666,
             "#ed7953"
            ],
            [
             0.7777777777777778,
             "#fb9f3a"
            ],
            [
             0.8888888888888888,
             "#fdca26"
            ],
            [
             1,
             "#f0f921"
            ]
           ],
           "sequentialminus": [
            [
             0,
             "#0d0887"
            ],
            [
             0.1111111111111111,
             "#46039f"
            ],
            [
             0.2222222222222222,
             "#7201a8"
            ],
            [
             0.3333333333333333,
             "#9c179e"
            ],
            [
             0.4444444444444444,
             "#bd3786"
            ],
            [
             0.5555555555555556,
             "#d8576b"
            ],
            [
             0.6666666666666666,
             "#ed7953"
            ],
            [
             0.7777777777777778,
             "#fb9f3a"
            ],
            [
             0.8888888888888888,
             "#fdca26"
            ],
            [
             1,
             "#f0f921"
            ]
           ]
          },
          "colorway": [
           "#636efa",
           "#EF553B",
           "#00cc96",
           "#ab63fa",
           "#FFA15A",
           "#19d3f3",
           "#FF6692",
           "#B6E880",
           "#FF97FF",
           "#FECB52"
          ],
          "font": {
           "color": "#2a3f5f"
          },
          "geo": {
           "bgcolor": "white",
           "lakecolor": "white",
           "landcolor": "#E5ECF6",
           "showlakes": true,
           "showland": true,
           "subunitcolor": "white"
          },
          "hoverlabel": {
           "align": "left"
          },
          "hovermode": "closest",
          "mapbox": {
           "style": "light"
          },
          "paper_bgcolor": "white",
          "plot_bgcolor": "#E5ECF6",
          "polar": {
           "angularaxis": {
            "gridcolor": "white",
            "linecolor": "white",
            "ticks": ""
           },
           "bgcolor": "#E5ECF6",
           "radialaxis": {
            "gridcolor": "white",
            "linecolor": "white",
            "ticks": ""
           }
          },
          "scene": {
           "xaxis": {
            "backgroundcolor": "#E5ECF6",
            "gridcolor": "white",
            "gridwidth": 2,
            "linecolor": "white",
            "showbackground": true,
            "ticks": "",
            "zerolinecolor": "white"
           },
           "yaxis": {
            "backgroundcolor": "#E5ECF6",
            "gridcolor": "white",
            "gridwidth": 2,
            "linecolor": "white",
            "showbackground": true,
            "ticks": "",
            "zerolinecolor": "white"
           },
           "zaxis": {
            "backgroundcolor": "#E5ECF6",
            "gridcolor": "white",
            "gridwidth": 2,
            "linecolor": "white",
            "showbackground": true,
            "ticks": "",
            "zerolinecolor": "white"
           }
          },
          "shapedefaults": {
           "line": {
            "color": "#2a3f5f"
           }
          },
          "ternary": {
           "aaxis": {
            "gridcolor": "white",
            "linecolor": "white",
            "ticks": ""
           },
           "baxis": {
            "gridcolor": "white",
            "linecolor": "white",
            "ticks": ""
           },
           "bgcolor": "#E5ECF6",
           "caxis": {
            "gridcolor": "white",
            "linecolor": "white",
            "ticks": ""
           }
          },
          "title": {
           "x": 0.05
          },
          "xaxis": {
           "automargin": true,
           "gridcolor": "white",
           "linecolor": "white",
           "ticks": "",
           "title": {
            "standoff": 15
           },
           "zerolinecolor": "white",
           "zerolinewidth": 2
          },
          "yaxis": {
           "automargin": true,
           "gridcolor": "white",
           "linecolor": "white",
           "ticks": "",
           "title": {
            "standoff": 15
           },
           "zerolinecolor": "white",
           "zerolinewidth": 2
          }
         }
        },
        "title": {
         "text": "Comments vs Likes"
        },
        "xaxis": {
         "anchor": "y",
         "domain": [
          0,
          1
         ],
         "title": {
          "text": "Comments"
         }
        },
        "yaxis": {
         "anchor": "x",
         "domain": [
          0,
          1
         ],
         "title": {
          "text": "Likes"
         }
        }
       }
      },
      "text/html": [
       "<div>                            <div id=\"ece0ef92-a0cc-4cc6-b779-566c79c529ed\" class=\"plotly-graph-div\" style=\"height:525px; width:100%;\"></div>            <script type=\"text/javascript\">                require([\"plotly\"], function(Plotly) {                    window.PLOTLYENV=window.PLOTLYENV || {};                                    if (document.getElementById(\"ece0ef92-a0cc-4cc6-b779-566c79c529ed\")) {                    Plotly.newPlot(                        \"ece0ef92-a0cc-4cc6-b779-566c79c529ed\",                        [{\"hovertemplate\":\"Comments=%{x}<br>Likes=%{y}<extra></extra>\",\"legendgroup\":\"\",\"marker\":{\"color\":\"#636efa\",\"symbol\":\"circle\"},\"mode\":\"markers\",\"name\":\"\",\"orientation\":\"v\",\"showlegend\":false,\"x\":[69953,14381,9968,128920,14547,150379,52642,9342,12861,17339,15891,144367,25166,26632,19067,150529,7305,19798,352496,23651,107866,27299,118230,23936,137328,20915,149634,18281,116723,161035,43053,37020,19850,163711,53228,112556,23280,400991,151560,132880,85685,96271,34364,104396,111815,116806,64232,99574,67591,78092,236331,143128,110299,165039,134203,91867,137326,125703,88686,96536,620208,175512,130126,120562,100395,121535,96272,78600,84982,100946,83926,85755,126694,120259,142694,175976,253679,115736,117716,151203,176737,194195,287054,109073,744469,185637,96088,91988,196375,86000,119576,240960,73560,185638,98923,123305,152924,230100,131378,87325,137127,213507,182887,196413,119979,76878,117981,168214,66258,66678,81311,67915,72863,70154,115741,112939,56466,99190,46740,51109,41737,131114,174249,128126,302207,93717,50380,107349,82351,52043,96029,50313,56633,99536,30583,166866,58990,58582,133447,44340,73657,44699,33597,57740,139756,83108,79380,68099,69200,62863,100101,47336,57648,182235,86831,77609,114737,96059,67561,36067,138210,184392,86782,68063,51003,43407,92802,79127,35699,21091,45629,74240,94600,144058,57448,114127,37660,69519,135988,66517,141637,84825,63759,307696,24341,91826,44913,69509,34631,72190,76216,50810,97536,63786,63955,50251,73020,172494,69778,137522,55979,32799,25726,75146,36349,109833,47401,34242,60190,33932,47892,22670,139404,55973,19135,40443,19898,39018,16756,67026,107457,33189,51370,51182,17910,33167,37696,61307,44997,54615,44679,25300,102098,66001,97302,19532,37179,12495,46124,19333,31487,27495,21545,30924,25279,48736,45641,29784,36538,39615,22478,25619,20119,45621,24175,76775,42665,17585,16010,29485,22458,39558,74817,36417,26122,11355,56126,39584,72625,37220,24454,10063,11078,57440,44532,43612,10574,39760,6353,8452,11665,41029,8932,111662,18071,34807,19391,39027,4638,71440,34316,15691,59217,89702,5115,18545,0,9151,9457,21068,3683,25816,19486,6251,126043,8471,15422,34827,15917,42112,7796,17757,12882,12497,19085,5064,8211,2814,18548,1288,3152,4606,957,4668,1035,3483,3097,7286,3779,5635,6789,4280,7677,2757,7901,5188,1292,1529,1799,2805,1366,3659,2879,1814,7013,31039,494,2559,547,829,1375,576,1279,429,1017,549,361,548,621,451,1959,12524,246,464,479,676,286,231,3027,3823,1288,731,311,1152,330,154,263,341,1449,309,59948,429,289,292,180,754,249,270,1252,390,2174,711,411,621,509,468,512,1470,1492,2027,428,472,393,304,755,627,307,273,1619,1793,26067,508,290,36682,431,188,877,143,453,253,1736,201,195,1489,524,209,824,237,739,328,13277,260,599,492,463,244,266,4256,503,262,431,270,278,246,555,2352,352,791,225,19691,340,305,752,494,521,411,205,210,336,219,4214,407,693,2410,171,337,170,1423,275,212,158,349,268,184,536,571,193,639,454,210,173,506,243,530,615,545,299,369,211,435,270,177,421,240,371,362,171,554,205,193,364,2788,808,279,504,159,365,380,3352,281,201,227,560,275,434,288,445,621,351,205,1066,203,596,229,167,147,260,692,290,1236,1834,196,379,208,693,152,334,224,274,534,341,251,142,211,400,149,247,146,462,175,168,269,241,115,241,151,367,175,672,351,314,226,222,300,166,285,165,132,324,235,204,244,227,274,218,178,330,145,2496,215,163,2856,653,182,168,1228,550,568,196,170,149,331,308,235,367,527,209,233,379,274,248,621,150,623,214,197,390,259,249,226,1040,196,249,270,394,171,362,344,174,1453,154,204,194,261,300,546,196,197,346,294,154,367,332,333,210,197,298,814,364,283,376,400,225,294,787,242,370,342,261,92829,436,1550,177,842,311,352,282,219,403,216,631,334,1073,310,1417,419,330,2346,536,917,15401,705,1417,377,266,1824,309,320,683,442,612,418,340,355,352,322,292,286,332,348,416,433,317,711,574,408,1257,342,315,678,587,769,74582,407,417,499,635,448,814,1553,578,475,766,853,992,542,606,719,465,569,639,745,570,662,2433,810,762,882,871,1006,836,775,736,811,1154,1716,1502,965,739,1474,881,856,1089,953,1003,1327,1200,1681,1727,2017,2404,2064,1949,1596,2020,3840,2933,3098,3389,4053,8042,112761],\"xaxis\":\"x\",\"y\":[2734717,3181846,3763144,4372148,7683173,5255920,15838629,9445626,9826064,8397277,10676684,5390831,8447055,17103603,7490917,4781188,2742682,7160636,5397249,9353864,5339440,12458177,6087671,12667138,5763006,10856603,6179167,8820643,5688374,5024795,15676704,14287354,13971840,6593068,18950832,5473649,13113906,10007445,4910068,5475029,41064093,4123680,17646537,4004028,30037941,6683696,25620716,5326487,3347424,3731470,6335342,4359608,3750720,6218221,5065493,3951815,5355489,3566688,3070387,4352670,17184193,5434834,4470173,4092272,4337990,6551587,4275700,3505354,3367023,3855282,3484938,3235378,3996126,3613403,5178826,4951723,8199912,3149841,3744947,3036619,5603911,5303107,5045347,2788966,4934113,6379801,3522047,4297192,3898756,3786203,3719902,6489817,2744908,4290510,2739004,2507269,3691601,5282887,3763889,3183219,4213012,4820320,5066730,3412269,3541082,3250667,4878931,7054509,1407766,3804714,3117582,1889417,3345181,2605771,4963067,4212676,2595202,3856702,2200659,2701689,896671,2446119,2827541,4414503,3288910,1431808,1835900,4166202,2190029,2957913,2833912,2406329,2975196,4017461,1292649,4368531,2037721,2729296,4758002,1805081,2488194,1496447,1519125,2400419,3383101,3120643,3346734,2888734,2895765,2739321,3602896,2100990,1580879,3462868,1787912,2256664,3465906,3084035,2253992,1122764,2837941,4190651,3000713,2732578,1769421,1816431,1732752,3804170,1011278,881050,1921831,3200301,2851076,1656776,1780920,2140013,1866576,2248329,2217552,1260033,3212767,1150494,1567715,28736423,771741,2301433,1547235,1520948,492598,1030125,2057440,1741617,2092453,2502384,1881067,1046144,2217821,1685758,1132037,4665940,933373,795031,515700,1633828,982882,1331614,1157890,750614,1564493,921077,1517138,425819,800654,2180600,562041,1309255,725751,1151202,547252,2391814,3388136,1018629,1100328,1215533,617689,397508,626056,2142543,874712,1689552,802026,642230,1671455,1954352,1219539,294547,436173,315890,921259,549162,454524,767740,348533,507666,552065,789880,658189,631167,628289,499898,558114,344764,354266,895314,576888,1416396,443561,249618,274788,431360,234726,864454,1326560,1082428,770006,228724,1058228,722801,1127224,582374,1203473,81514,203404,486156,1517273,1097128,205504,604570,154056,127785,231028,695382,123892,925647,226696,840988,226174,662208,28390,825085,543360,506189,804264,1645602,70703,529660,2573315,94721,96679,322250,19079,325300,149811,97171,1403438,56445,88528,584938,725158,433843,93784,455510,186354,217278,330738,229527,358588,37518,587087,10370,55267,50086,14207,32395,10470,58980,51239,138268,126458,153326,41765,115568,122701,64201,75874,46290,6998,17140,33831,35816,5758,18394,17381,12690,164776,808846,5406,11700,7742,14057,12642,4632,11601,4140,4490,6374,1637,9918,6492,4580,21207,128486,1547,3672,3519,11541,1930,1969,89664,72930,2409,5012,3366,23489,3783,1673,3955,3452,7087,2190,712190,5290,4496,2617,3889,5348,2114,3297,8424,2412,23722,4006,1852,6513,2110,5673,6895,7335,21838,20178,3939,3511,4200,3690,9876,8559,2938,1187,13783,13061,352144,3240,2501,538766,2076,1148,10121,1584,5050,2990,12705,1516,2082,20050,3909,1613,15180,1457,3257,3114,125370,2286,3681,8346,2932,1389,1687,73134,3030,2127,7214,1925,1905,1306,4511,24035,2719,4202,1556,382101,1380,1899,6530,7877,1377,1560,2265,1196,1471,1596,48925,2181,9370,24341,1552,1282,2388,22553,1316,2636,1743,2758,1736,1310,2889,6069,1214,5698,1645,989,1070,1197,1628,3967,9188,10039,1726,1309,1778,1953,2583,1004,2632,1359,2043,1310,1769,3646,1189,1048,2435,17889,1636,1467,1735,1037,2826,1398,11352,3308,1312,959,6597,2008,1400,0,1667,3744,1530,977,4402,979,2641,2150,867,848,2413,13222,1133,3811,12240,2428,1572,1152,1527,1336,1584,1063,1172,1361,1271,1069,960,2287,5429,1826,1264,1093,1347,1283,967,1124,1126,1000,926,956,3653,1208,1751,1343,1457,914,1379,1244,2151,1160,1296,1373,3050,1137,1078,1716,1242,1224,1402,1089,1232,1402,10001,1739,911,8778,2844,815,1329,17293,4140,5650,1299,975,1116,1464,1422,1061,3331,1156,1094,851,2630,1020,1571,7312,1250,4047,1738,1246,3089,1606,1370,1558,16855,962,3611,2930,2430,940,3997,1151,1486,6969,711,2108,1068,1188,1443,1839,1367,2186,1241,1220,1146,1282,1233,1250,1623,1313,1847,4818,4659,1252,2750,4964,1083,1821,5811,1275,7762,2087,2398,1282110,3995,13589,1012,7509,2507,1247,1508,1450,1406,1324,4101,1455,2640,1633,6771,2556,1731,19055,2815,2267,225367,5748,11528,2814,1676,22491,1419,1357,1651,1335,1639,1450,1373,1430,1466,1425,1416,1454,1555,1832,1746,1736,2548,5707,2396,2700,12583,2884,2250,2945,5233,7688,1150782,3502,3557,2786,4890,3239,6085,16097,2703,2690,3013,3138,4780,3044,4887,3480,3312,4010,6106,3840,4229,5309,20777,7913,5352,9582,4361,4252,4422,6417,5836,5808,10386,14203,15944,8586,5824,6581,7901,5930,6712,6644,0,0,0,0,13782,16635,20119,14968,19136,0,19341,24782,28294,32423,37779,44676,0,932941],\"yaxis\":\"y\",\"type\":\"scatter\"}],                        {\"template\":{\"data\":{\"histogram2dcontour\":[{\"type\":\"histogram2dcontour\",\"colorbar\":{\"outlinewidth\":0,\"ticks\":\"\"},\"colorscale\":[[0.0,\"#0d0887\"],[0.1111111111111111,\"#46039f\"],[0.2222222222222222,\"#7201a8\"],[0.3333333333333333,\"#9c179e\"],[0.4444444444444444,\"#bd3786\"],[0.5555555555555556,\"#d8576b\"],[0.6666666666666666,\"#ed7953\"],[0.7777777777777778,\"#fb9f3a\"],[0.8888888888888888,\"#fdca26\"],[1.0,\"#f0f921\"]]}],\"choropleth\":[{\"type\":\"choropleth\",\"colorbar\":{\"outlinewidth\":0,\"ticks\":\"\"}}],\"histogram2d\":[{\"type\":\"histogram2d\",\"colorbar\":{\"outlinewidth\":0,\"ticks\":\"\"},\"colorscale\":[[0.0,\"#0d0887\"],[0.1111111111111111,\"#46039f\"],[0.2222222222222222,\"#7201a8\"],[0.3333333333333333,\"#9c179e\"],[0.4444444444444444,\"#bd3786\"],[0.5555555555555556,\"#d8576b\"],[0.6666666666666666,\"#ed7953\"],[0.7777777777777778,\"#fb9f3a\"],[0.8888888888888888,\"#fdca26\"],[1.0,\"#f0f921\"]]}],\"heatmap\":[{\"type\":\"heatmap\",\"colorbar\":{\"outlinewidth\":0,\"ticks\":\"\"},\"colorscale\":[[0.0,\"#0d0887\"],[0.1111111111111111,\"#46039f\"],[0.2222222222222222,\"#7201a8\"],[0.3333333333333333,\"#9c179e\"],[0.4444444444444444,\"#bd3786\"],[0.5555555555555556,\"#d8576b\"],[0.6666666666666666,\"#ed7953\"],[0.7777777777777778,\"#fb9f3a\"],[0.8888888888888888,\"#fdca26\"],[1.0,\"#f0f921\"]]}],\"heatmapgl\":[{\"type\":\"heatmapgl\",\"colorbar\":{\"outlinewidth\":0,\"ticks\":\"\"},\"colorscale\":[[0.0,\"#0d0887\"],[0.1111111111111111,\"#46039f\"],[0.2222222222222222,\"#7201a8\"],[0.3333333333333333,\"#9c179e\"],[0.4444444444444444,\"#bd3786\"],[0.5555555555555556,\"#d8576b\"],[0.6666666666666666,\"#ed7953\"],[0.7777777777777778,\"#fb9f3a\"],[0.8888888888888888,\"#fdca26\"],[1.0,\"#f0f921\"]]}],\"contourcarpet\":[{\"type\":\"contourcarpet\",\"colorbar\":{\"outlinewidth\":0,\"ticks\":\"\"}}],\"contour\":[{\"type\":\"contour\",\"colorbar\":{\"outlinewidth\":0,\"ticks\":\"\"},\"colorscale\":[[0.0,\"#0d0887\"],[0.1111111111111111,\"#46039f\"],[0.2222222222222222,\"#7201a8\"],[0.3333333333333333,\"#9c179e\"],[0.4444444444444444,\"#bd3786\"],[0.5555555555555556,\"#d8576b\"],[0.6666666666666666,\"#ed7953\"],[0.7777777777777778,\"#fb9f3a\"],[0.8888888888888888,\"#fdca26\"],[1.0,\"#f0f921\"]]}],\"surface\":[{\"type\":\"surface\",\"colorbar\":{\"outlinewidth\":0,\"ticks\":\"\"},\"colorscale\":[[0.0,\"#0d0887\"],[0.1111111111111111,\"#46039f\"],[0.2222222222222222,\"#7201a8\"],[0.3333333333333333,\"#9c179e\"],[0.4444444444444444,\"#bd3786\"],[0.5555555555555556,\"#d8576b\"],[0.6666666666666666,\"#ed7953\"],[0.7777777777777778,\"#fb9f3a\"],[0.8888888888888888,\"#fdca26\"],[1.0,\"#f0f921\"]]}],\"mesh3d\":[{\"type\":\"mesh3d\",\"colorbar\":{\"outlinewidth\":0,\"ticks\":\"\"}}],\"scatter\":[{\"fillpattern\":{\"fillmode\":\"overlay\",\"size\":10,\"solidity\":0.2},\"type\":\"scatter\"}],\"parcoords\":[{\"type\":\"parcoords\",\"line\":{\"colorbar\":{\"outlinewidth\":0,\"ticks\":\"\"}}}],\"scatterpolargl\":[{\"type\":\"scatterpolargl\",\"marker\":{\"colorbar\":{\"outlinewidth\":0,\"ticks\":\"\"}}}],\"bar\":[{\"error_x\":{\"color\":\"#2a3f5f\"},\"error_y\":{\"color\":\"#2a3f5f\"},\"marker\":{\"line\":{\"color\":\"#E5ECF6\",\"width\":0.5},\"pattern\":{\"fillmode\":\"overlay\",\"size\":10,\"solidity\":0.2}},\"type\":\"bar\"}],\"scattergeo\":[{\"type\":\"scattergeo\",\"marker\":{\"colorbar\":{\"outlinewidth\":0,\"ticks\":\"\"}}}],\"scatterpolar\":[{\"type\":\"scatterpolar\",\"marker\":{\"colorbar\":{\"outlinewidth\":0,\"ticks\":\"\"}}}],\"histogram\":[{\"marker\":{\"pattern\":{\"fillmode\":\"overlay\",\"size\":10,\"solidity\":0.2}},\"type\":\"histogram\"}],\"scattergl\":[{\"type\":\"scattergl\",\"marker\":{\"colorbar\":{\"outlinewidth\":0,\"ticks\":\"\"}}}],\"scatter3d\":[{\"type\":\"scatter3d\",\"line\":{\"colorbar\":{\"outlinewidth\":0,\"ticks\":\"\"}},\"marker\":{\"colorbar\":{\"outlinewidth\":0,\"ticks\":\"\"}}}],\"scattermapbox\":[{\"type\":\"scattermapbox\",\"marker\":{\"colorbar\":{\"outlinewidth\":0,\"ticks\":\"\"}}}],\"scatterternary\":[{\"type\":\"scatterternary\",\"marker\":{\"colorbar\":{\"outlinewidth\":0,\"ticks\":\"\"}}}],\"scattercarpet\":[{\"type\":\"scattercarpet\",\"marker\":{\"colorbar\":{\"outlinewidth\":0,\"ticks\":\"\"}}}],\"carpet\":[{\"aaxis\":{\"endlinecolor\":\"#2a3f5f\",\"gridcolor\":\"white\",\"linecolor\":\"white\",\"minorgridcolor\":\"white\",\"startlinecolor\":\"#2a3f5f\"},\"baxis\":{\"endlinecolor\":\"#2a3f5f\",\"gridcolor\":\"white\",\"linecolor\":\"white\",\"minorgridcolor\":\"white\",\"startlinecolor\":\"#2a3f5f\"},\"type\":\"carpet\"}],\"table\":[{\"cells\":{\"fill\":{\"color\":\"#EBF0F8\"},\"line\":{\"color\":\"white\"}},\"header\":{\"fill\":{\"color\":\"#C8D4E3\"},\"line\":{\"color\":\"white\"}},\"type\":\"table\"}],\"barpolar\":[{\"marker\":{\"line\":{\"color\":\"#E5ECF6\",\"width\":0.5},\"pattern\":{\"fillmode\":\"overlay\",\"size\":10,\"solidity\":0.2}},\"type\":\"barpolar\"}],\"pie\":[{\"automargin\":true,\"type\":\"pie\"}]},\"layout\":{\"autotypenumbers\":\"strict\",\"colorway\":[\"#636efa\",\"#EF553B\",\"#00cc96\",\"#ab63fa\",\"#FFA15A\",\"#19d3f3\",\"#FF6692\",\"#B6E880\",\"#FF97FF\",\"#FECB52\"],\"font\":{\"color\":\"#2a3f5f\"},\"hovermode\":\"closest\",\"hoverlabel\":{\"align\":\"left\"},\"paper_bgcolor\":\"white\",\"plot_bgcolor\":\"#E5ECF6\",\"polar\":{\"bgcolor\":\"#E5ECF6\",\"angularaxis\":{\"gridcolor\":\"white\",\"linecolor\":\"white\",\"ticks\":\"\"},\"radialaxis\":{\"gridcolor\":\"white\",\"linecolor\":\"white\",\"ticks\":\"\"}},\"ternary\":{\"bgcolor\":\"#E5ECF6\",\"aaxis\":{\"gridcolor\":\"white\",\"linecolor\":\"white\",\"ticks\":\"\"},\"baxis\":{\"gridcolor\":\"white\",\"linecolor\":\"white\",\"ticks\":\"\"},\"caxis\":{\"gridcolor\":\"white\",\"linecolor\":\"white\",\"ticks\":\"\"}},\"coloraxis\":{\"colorbar\":{\"outlinewidth\":0,\"ticks\":\"\"}},\"colorscale\":{\"sequential\":[[0.0,\"#0d0887\"],[0.1111111111111111,\"#46039f\"],[0.2222222222222222,\"#7201a8\"],[0.3333333333333333,\"#9c179e\"],[0.4444444444444444,\"#bd3786\"],[0.5555555555555556,\"#d8576b\"],[0.6666666666666666,\"#ed7953\"],[0.7777777777777778,\"#fb9f3a\"],[0.8888888888888888,\"#fdca26\"],[1.0,\"#f0f921\"]],\"sequentialminus\":[[0.0,\"#0d0887\"],[0.1111111111111111,\"#46039f\"],[0.2222222222222222,\"#7201a8\"],[0.3333333333333333,\"#9c179e\"],[0.4444444444444444,\"#bd3786\"],[0.5555555555555556,\"#d8576b\"],[0.6666666666666666,\"#ed7953\"],[0.7777777777777778,\"#fb9f3a\"],[0.8888888888888888,\"#fdca26\"],[1.0,\"#f0f921\"]],\"diverging\":[[0,\"#8e0152\"],[0.1,\"#c51b7d\"],[0.2,\"#de77ae\"],[0.3,\"#f1b6da\"],[0.4,\"#fde0ef\"],[0.5,\"#f7f7f7\"],[0.6,\"#e6f5d0\"],[0.7,\"#b8e186\"],[0.8,\"#7fbc41\"],[0.9,\"#4d9221\"],[1,\"#276419\"]]},\"xaxis\":{\"gridcolor\":\"white\",\"linecolor\":\"white\",\"ticks\":\"\",\"title\":{\"standoff\":15},\"zerolinecolor\":\"white\",\"automargin\":true,\"zerolinewidth\":2},\"yaxis\":{\"gridcolor\":\"white\",\"linecolor\":\"white\",\"ticks\":\"\",\"title\":{\"standoff\":15},\"zerolinecolor\":\"white\",\"automargin\":true,\"zerolinewidth\":2},\"scene\":{\"xaxis\":{\"backgroundcolor\":\"#E5ECF6\",\"gridcolor\":\"white\",\"linecolor\":\"white\",\"showbackground\":true,\"ticks\":\"\",\"zerolinecolor\":\"white\",\"gridwidth\":2},\"yaxis\":{\"backgroundcolor\":\"#E5ECF6\",\"gridcolor\":\"white\",\"linecolor\":\"white\",\"showbackground\":true,\"ticks\":\"\",\"zerolinecolor\":\"white\",\"gridwidth\":2},\"zaxis\":{\"backgroundcolor\":\"#E5ECF6\",\"gridcolor\":\"white\",\"linecolor\":\"white\",\"showbackground\":true,\"ticks\":\"\",\"zerolinecolor\":\"white\",\"gridwidth\":2}},\"shapedefaults\":{\"line\":{\"color\":\"#2a3f5f\"}},\"annotationdefaults\":{\"arrowcolor\":\"#2a3f5f\",\"arrowhead\":0,\"arrowwidth\":1},\"geo\":{\"bgcolor\":\"white\",\"landcolor\":\"#E5ECF6\",\"subunitcolor\":\"white\",\"showland\":true,\"showlakes\":true,\"lakecolor\":\"white\"},\"title\":{\"x\":0.05},\"mapbox\":{\"style\":\"light\"}}},\"xaxis\":{\"anchor\":\"y\",\"domain\":[0.0,1.0],\"title\":{\"text\":\"Comments\"}},\"yaxis\":{\"anchor\":\"x\",\"domain\":[0.0,1.0],\"title\":{\"text\":\"Likes\"}},\"legend\":{\"tracegroupgap\":0},\"title\":{\"text\":\"Comments vs Likes\"}},                        {\"responsive\": true}                    ).then(function(){\n",
       "                            \n",
       "var gd = document.getElementById('ece0ef92-a0cc-4cc6-b779-566c79c529ed');\n",
       "var x = new MutationObserver(function (mutations, observer) {{\n",
       "        var display = window.getComputedStyle(gd).display;\n",
       "        if (!display || display === 'none') {{\n",
       "            console.log([gd, 'removed!']);\n",
       "            Plotly.purge(gd);\n",
       "            observer.disconnect();\n",
       "        }}\n",
       "}});\n",
       "\n",
       "// Listen for the removal of the full notebook cells\n",
       "var notebookContainer = gd.closest('#notebook-container');\n",
       "if (notebookContainer) {{\n",
       "    x.observe(notebookContainer, {childList: true});\n",
       "}}\n",
       "\n",
       "// Listen for the clearing of the current output cell\n",
       "var outputEl = gd.closest('.output');\n",
       "if (outputEl) {{\n",
       "    x.observe(outputEl, {childList: true});\n",
       "}}\n",
       "\n",
       "                        })                };                });            </script>        </div>"
      ]
     },
     "metadata": {},
     "output_type": "display_data"
    }
   ],
   "source": [
    "px.scatter(df,x='Comments',y='Likes',title = 'Comments vs Likes')"
   ]
  },
  {
   "cell_type": "code",
   "execution_count": 863,
   "id": "067708db",
   "metadata": {},
   "outputs": [
    {
     "data": {
      "application/vnd.plotly.v1+json": {
       "config": {
        "plotlyServerURL": "https://plot.ly"
       },
       "data": [
        {
         "hovertemplate": "Likes=%{x}<br>Views=%{y}<extra></extra>",
         "legendgroup": "",
         "marker": {
          "color": "#636efa",
          "symbol": "circle"
         },
         "mode": "markers",
         "name": "",
         "orientation": "v",
         "showlegend": false,
         "type": "scatter",
         "x": [
          2734717,
          3181846,
          3763144,
          4372148,
          7683173,
          5255920,
          15838629,
          9445626,
          9826064,
          8397277,
          10676684,
          5390831,
          8447055,
          17103603,
          7490917,
          4781188,
          2742682,
          7160636,
          5397249,
          9353864,
          5339440,
          12458177,
          6087671,
          12667138,
          5763006,
          10856603,
          6179167,
          8820643,
          5688374,
          5024795,
          15676704,
          14287354,
          13971840,
          6593068,
          18950832,
          5473649,
          13113906,
          10007445,
          4910068,
          5475029,
          41064093,
          4123680,
          17646537,
          4004028,
          30037941,
          6683696,
          25620716,
          5326487,
          3347424,
          3731470,
          6335342,
          4359608,
          3750720,
          6218221,
          5065493,
          3951815,
          5355489,
          3566688,
          3070387,
          4352670,
          17184193,
          5434834,
          4470173,
          4092272,
          4337990,
          6551587,
          4275700,
          3505354,
          3367023,
          3855282,
          3484938,
          3235378,
          3996126,
          3613403,
          5178826,
          4951723,
          8199912,
          3149841,
          3744947,
          3036619,
          5603911,
          5303107,
          5045347,
          2788966,
          4934113,
          6379801,
          3522047,
          4297192,
          3898756,
          3786203,
          3719902,
          6489817,
          2744908,
          4290510,
          2739004,
          2507269,
          3691601,
          5282887,
          3763889,
          3183219,
          4213012,
          4820320,
          5066730,
          3412269,
          3541082,
          3250667,
          4878931,
          7054509,
          1407766,
          3804714,
          3117582,
          1889417,
          3345181,
          2605771,
          4963067,
          4212676,
          2595202,
          3856702,
          2200659,
          2701689,
          896671,
          2446119,
          2827541,
          4414503,
          3288910,
          1431808,
          1835900,
          4166202,
          2190029,
          2957913,
          2833912,
          2406329,
          2975196,
          4017461,
          1292649,
          4368531,
          2037721,
          2729296,
          4758002,
          1805081,
          2488194,
          1496447,
          1519125,
          2400419,
          3383101,
          3120643,
          3346734,
          2888734,
          2895765,
          2739321,
          3602896,
          2100990,
          1580879,
          3462868,
          1787912,
          2256664,
          3465906,
          3084035,
          2253992,
          1122764,
          2837941,
          4190651,
          3000713,
          2732578,
          1769421,
          1816431,
          1732752,
          3804170,
          1011278,
          881050,
          1921831,
          3200301,
          2851076,
          1656776,
          1780920,
          2140013,
          1866576,
          2248329,
          2217552,
          1260033,
          3212767,
          1150494,
          1567715,
          28736423,
          771741,
          2301433,
          1547235,
          1520948,
          492598,
          1030125,
          2057440,
          1741617,
          2092453,
          2502384,
          1881067,
          1046144,
          2217821,
          1685758,
          1132037,
          4665940,
          933373,
          795031,
          515700,
          1633828,
          982882,
          1331614,
          1157890,
          750614,
          1564493,
          921077,
          1517138,
          425819,
          800654,
          2180600,
          562041,
          1309255,
          725751,
          1151202,
          547252,
          2391814,
          3388136,
          1018629,
          1100328,
          1215533,
          617689,
          397508,
          626056,
          2142543,
          874712,
          1689552,
          802026,
          642230,
          1671455,
          1954352,
          1219539,
          294547,
          436173,
          315890,
          921259,
          549162,
          454524,
          767740,
          348533,
          507666,
          552065,
          789880,
          658189,
          631167,
          628289,
          499898,
          558114,
          344764,
          354266,
          895314,
          576888,
          1416396,
          443561,
          249618,
          274788,
          431360,
          234726,
          864454,
          1326560,
          1082428,
          770006,
          228724,
          1058228,
          722801,
          1127224,
          582374,
          1203473,
          81514,
          203404,
          486156,
          1517273,
          1097128,
          205504,
          604570,
          154056,
          127785,
          231028,
          695382,
          123892,
          925647,
          226696,
          840988,
          226174,
          662208,
          28390,
          825085,
          543360,
          506189,
          804264,
          1645602,
          70703,
          529660,
          2573315,
          94721,
          96679,
          322250,
          19079,
          325300,
          149811,
          97171,
          1403438,
          56445,
          88528,
          584938,
          725158,
          433843,
          93784,
          455510,
          186354,
          217278,
          330738,
          229527,
          358588,
          37518,
          587087,
          10370,
          55267,
          50086,
          14207,
          32395,
          10470,
          58980,
          51239,
          138268,
          126458,
          153326,
          41765,
          115568,
          122701,
          64201,
          75874,
          46290,
          6998,
          17140,
          33831,
          35816,
          5758,
          18394,
          17381,
          12690,
          164776,
          808846,
          5406,
          11700,
          7742,
          14057,
          12642,
          4632,
          11601,
          4140,
          4490,
          6374,
          1637,
          9918,
          6492,
          4580,
          21207,
          128486,
          1547,
          3672,
          3519,
          11541,
          1930,
          1969,
          89664,
          72930,
          2409,
          5012,
          3366,
          23489,
          3783,
          1673,
          3955,
          3452,
          7087,
          2190,
          712190,
          5290,
          4496,
          2617,
          3889,
          5348,
          2114,
          3297,
          8424,
          2412,
          23722,
          4006,
          1852,
          6513,
          2110,
          5673,
          6895,
          7335,
          21838,
          20178,
          3939,
          3511,
          4200,
          3690,
          9876,
          8559,
          2938,
          1187,
          13783,
          13061,
          352144,
          3240,
          2501,
          538766,
          2076,
          1148,
          10121,
          1584,
          5050,
          2990,
          12705,
          1516,
          2082,
          20050,
          3909,
          1613,
          15180,
          1457,
          3257,
          3114,
          125370,
          2286,
          3681,
          8346,
          2932,
          1389,
          1687,
          73134,
          3030,
          2127,
          7214,
          1925,
          1905,
          1306,
          4511,
          24035,
          2719,
          4202,
          1556,
          382101,
          1380,
          1899,
          6530,
          7877,
          1377,
          1560,
          2265,
          1196,
          1471,
          1596,
          48925,
          2181,
          9370,
          24341,
          1552,
          1282,
          2388,
          22553,
          1316,
          2636,
          1743,
          2758,
          1736,
          1310,
          2889,
          6069,
          1214,
          5698,
          1645,
          989,
          1070,
          1197,
          1628,
          3967,
          9188,
          10039,
          1726,
          1309,
          1778,
          1953,
          2583,
          1004,
          2632,
          1359,
          2043,
          1310,
          1769,
          3646,
          1189,
          1048,
          2435,
          17889,
          1636,
          1467,
          1735,
          1037,
          2826,
          1398,
          11352,
          3308,
          1312,
          959,
          6597,
          2008,
          1400,
          0,
          1667,
          3744,
          1530,
          977,
          4402,
          979,
          2641,
          2150,
          867,
          848,
          2413,
          13222,
          1133,
          3811,
          12240,
          2428,
          1572,
          1152,
          1527,
          1336,
          1584,
          1063,
          1172,
          1361,
          1271,
          1069,
          960,
          2287,
          5429,
          1826,
          1264,
          1093,
          1347,
          1283,
          967,
          1124,
          1126,
          1000,
          926,
          956,
          3653,
          1208,
          1751,
          1343,
          1457,
          914,
          1379,
          1244,
          2151,
          1160,
          1296,
          1373,
          3050,
          1137,
          1078,
          1716,
          1242,
          1224,
          1402,
          1089,
          1232,
          1402,
          10001,
          1739,
          911,
          8778,
          2844,
          815,
          1329,
          17293,
          4140,
          5650,
          1299,
          975,
          1116,
          1464,
          1422,
          1061,
          3331,
          1156,
          1094,
          851,
          2630,
          1020,
          1571,
          7312,
          1250,
          4047,
          1738,
          1246,
          3089,
          1606,
          1370,
          1558,
          16855,
          962,
          3611,
          2930,
          2430,
          940,
          3997,
          1151,
          1486,
          6969,
          711,
          2108,
          1068,
          1188,
          1443,
          1839,
          1367,
          2186,
          1241,
          1220,
          1146,
          1282,
          1233,
          1250,
          1623,
          1313,
          1847,
          4818,
          4659,
          1252,
          2750,
          4964,
          1083,
          1821,
          5811,
          1275,
          7762,
          2087,
          2398,
          1282110,
          3995,
          13589,
          1012,
          7509,
          2507,
          1247,
          1508,
          1450,
          1406,
          1324,
          4101,
          1455,
          2640,
          1633,
          6771,
          2556,
          1731,
          19055,
          2815,
          2267,
          225367,
          5748,
          11528,
          2814,
          1676,
          22491,
          1419,
          1357,
          1651,
          1335,
          1639,
          1450,
          1373,
          1430,
          1466,
          1425,
          1416,
          1454,
          1555,
          1832,
          1746,
          1736,
          2548,
          5707,
          2396,
          2700,
          12583,
          2884,
          2250,
          2945,
          5233,
          7688,
          1150782,
          3502,
          3557,
          2786,
          4890,
          3239,
          6085,
          16097,
          2703,
          2690,
          3013,
          3138,
          4780,
          3044,
          4887,
          3480,
          3312,
          4010,
          6106,
          3840,
          4229,
          5309,
          20777,
          7913,
          5352,
          9582,
          4361,
          4252,
          4422,
          6417,
          5836,
          5808,
          10386,
          14203,
          15944,
          8586,
          5824,
          6581,
          7901,
          5930,
          6712,
          6644,
          0,
          0,
          0,
          0,
          13782,
          16635,
          20119,
          14968,
          19136,
          0,
          19341,
          24782,
          28294,
          32423,
          37779,
          44676,
          0,
          932941
         ],
         "xaxis": "x",
         "y": [
          58167606,
          47820996,
          61729449,
          122748023,
          113062681,
          142683250,
          190401610,
          207460032,
          220091483,
          116929470,
          248853062,
          160491271,
          116233316,
          322776504,
          167011465,
          129022733,
          53953740,
          179708951,
          137836623,
          167527818,
          182855279,
          238963428,
          180008578,
          241517564,
          165854902,
          151683893,
          253586222,
          168884882,
          261563296,
          126227655,
          341056528,
          242668561,
          260103494,
          270452274,
          335972510,
          216680578,
          249833260,
          162674297,
          159496546,
          205131767,
          966777663,
          208645147,
          342050891,
          146278275,
          928757624,
          308780500,
          418407547,
          256860010,
          132197981,
          157597043,
          186208465,
          177349555,
          97784453,
          254455865,
          191587458,
          167126939,
          242421163,
          97262713,
          82173280,
          189235301,
          525444290,
          112366579,
          160048014,
          161536842,
          155293334,
          363227550,
          187164514,
          171942157,
          151590798,
          215915206,
          163802504,
          194546915,
          182497910,
          194172168,
          273698837,
          219623991,
          306325683,
          121375361,
          145867116,
          54708420,
          238226078,
          160922825,
          69815938,
          100613540,
          171359810,
          187392622,
          198555654,
          279511911,
          147719311,
          119081631,
          200966337,
          115410829,
          149306446,
          159040093,
          54913837,
          75890194,
          186416294,
          235768057,
          154990716,
          124807538,
          232457786,
          223467945,
          202572355,
          149505594,
          187924856,
          158032687,
          303621555,
          197316607,
          44997472,
          144670586,
          189950579,
          56395136,
          147757671,
          130702750,
          266799232,
          236779658,
          128410818,
          171575481,
          114656498,
          146737551,
          18975030,
          36491203,
          62858957,
          173323545,
          131998696,
          61494711,
          91953032,
          132651836,
          120034533,
          148647160,
          108995383,
          108488030,
          148438575,
          214985808,
          50176716,
          98381672,
          120452362,
          172036520,
          252362818,
          59977444,
          124001160,
          69192924,
          69562661,
          93934302,
          134269846,
          162704350,
          178630636,
          144623101,
          163778238,
          105484680,
          154082469,
          117677808,
          77363250,
          148172421,
          68336592,
          85132287,
          176764290,
          146514906,
          110179354,
          40200880,
          122840447,
          147143299,
          192766113,
          155723376,
          76535499,
          94084625,
          87702061,
          156803781,
          37579462,
          32035932,
          107488927,
          92127192,
          140624652,
          48113712,
          59633266,
          79172097,
          104556896,
          103949796,
          111230985,
          44101641,
          189920504,
          41163885,
          94479433,
          142737740,
          33681951,
          141943237,
          84441679,
          74586377,
          14424533,
          31180807,
          112032117,
          46907874,
          97047831,
          149074545,
          100189245,
          64159409,
          128950194,
          25710373,
          43075818,
          190657581,
          44141395,
          28750924,
          18386010,
          88586120,
          36046620,
          38581665,
          43410968,
          31051583,
          90462658,
          41908933,
          72391828,
          17091072,
          28144035,
          139863281,
          35512818,
          63737926,
          43059751,
          69345813,
          28475543,
          111149880,
          134738665,
          56324620,
          51972598,
          44975781,
          36623302,
          17614249,
          28601611,
          96512271,
          29885501,
          90198668,
          28750688,
          21599009,
          74304757,
          126806135,
          53032951,
          11229191,
          17224492,
          15704870,
          37021854,
          24551822,
          15020170,
          40949139,
          14672551,
          23666633,
          26767840,
          31246500,
          32474632,
          24303610,
          38689344,
          19300037,
          20003579,
          13179838,
          14709630,
          32745344,
          25560755,
          53793115,
          17692113,
          7737378,
          11312858,
          18282078,
          8710682,
          36646712,
          47375285,
          37232389,
          26973267,
          9110444,
          32689793,
          26366820,
          44425034,
          27565714,
          30782304,
          2218593,
          7333264,
          25887461,
          31072992,
          42187263,
          5775195,
          13549590,
          3791164,
          4599523,
          6031166,
          22108486,
          2724261,
          23027154,
          10781084,
          31926517,
          6478960,
          25777111,
          873951,
          27979745,
          10782114,
          19713706,
          34942323,
          42330064,
          2027840,
          26220736,
          52604927,
          1850181,
          4100356,
          7260443,
          524737,
          7641430,
          3804954,
          3314194,
          29304499,
          1959624,
          4880127,
          22902633,
          8705399,
          11350700,
          1793853,
          16221108,
          2502157,
          10875836,
          3724765,
          3845039,
          13383856,
          1565443,
          9852775,
          291331,
          1205614,
          1499563,
          380363,
          712047,
          317015,
          3023768,
          1451782,
          3240209,
          1646381,
          3090993,
          809255,
          1645940,
          3565337,
          2220232,
          1305913,
          1177844,
          158973,
          704788,
          834330,
          1313125,
          172526,
          648482,
          402785,
          408657,
          3658854,
          27771869,
          127747,
          364104,
          166491,
          334608,
          623420,
          126308,
          104873,
          97485,
          109535,
          151997,
          39691,
          272080,
          124402,
          121354,
          683062,
          2126239,
          54509,
          114006,
          138741,
          163100,
          43267,
          42471,
          2063540,
          2017144,
          63201,
          145779,
          106833,
          556450,
          132647,
          50956,
          87716,
          89659,
          152172,
          76253,
          65723798,
          130169,
          216519,
          59374,
          79566,
          116206,
          65867,
          122348,
          155396,
          42280,
          365790,
          79682,
          59346,
          149184,
          57423,
          211468,
          103052,
          183761,
          631498,
          922162,
          92549,
          74559,
          186184,
          68361,
          285175,
          263323,
          59493,
          43356,
          385433,
          471505,
          7537628,
          117137,
          100933,
          13744089,
          60794,
          137630,
          242479,
          46339,
          126554,
          62706,
          278476,
          54714,
          46564,
          588591,
          79243,
          43824,
          470784,
          39666,
          89107,
          94510,
          1566351,
          69757,
          79492,
          309994,
          82091,
          39660,
          39664,
          1360150,
          76239,
          44783,
          230609,
          52766,
          44636,
          40681,
          105527,
          778499,
          64535,
          43746,
          39878,
          8341765,
          39874,
          45921,
          217881,
          265445,
          39784,
          39795,
          116572,
          40269,
          39758,
          43591,
          732708,
          39711,
          161006,
          678290,
          65170,
          39905,
          69333,
          774473,
          39985,
          131969,
          50235,
          62575,
          65542,
          63595,
          119869,
          214013,
          43467,
          140697,
          44015,
          39708,
          39768,
          39811,
          89847,
          156142,
          373960,
          681576,
          78035,
          39759,
          80749,
          39715,
          127871,
          39867,
          80714,
          76527,
          64876,
          39923,
          71223,
          223449,
          39776,
          39659,
          75397,
          1764583,
          39878,
          42819,
          39862,
          49491,
          92115,
          40858,
          49226,
          102294,
          50779,
          41737,
          210145,
          206900,
          39681,
          45436,
          40161,
          115843,
          40582,
          40090,
          128814,
          39940,
          105323,
          76276,
          40543,
          40772,
          62786,
          565930,
          39658,
          142015,
          235085,
          164089,
          39912,
          40145,
          39750,
          52400,
          39859,
          39896,
          40228,
          40337,
          39945,
          39906,
          39915,
          88782,
          165253,
          146467,
          39641,
          48852,
          39705,
          39894,
          40108,
          39917,
          39673,
          68179,
          39738,
          55741,
          119699,
          65176,
          39679,
          39774,
          39791,
          39659,
          39681,
          39721,
          108355,
          39919,
          53219,
          49204,
          111089,
          40063,
          40005,
          56281,
          40034,
          39944,
          61839,
          39670,
          40308,
          60317,
          228880,
          67238,
          39929,
          436987,
          149637,
          44610,
          62722,
          449951,
          156158,
          113602,
          44407,
          41144,
          42266,
          94939,
          63642,
          54886,
          179923,
          41507,
          40044,
          57337,
          131876,
          39674,
          88179,
          301024,
          51822,
          106356,
          94882,
          59351,
          116634,
          66228,
          52226,
          75402,
          305798,
          39681,
          229569,
          123309,
          111754,
          48002,
          193240,
          39825,
          60525,
          218155,
          39822,
          199960,
          39671,
          39875,
          39724,
          58653,
          46867,
          80020,
          39780,
          40169,
          57372,
          39859,
          39959,
          39723,
          58095,
          62051,
          76927,
          178999,
          285095,
          39661,
          76339,
          446169,
          47855,
          54810,
          177498,
          52162,
          360608,
          60582,
          63039,
          17192658,
          197639,
          616907,
          67078,
          308185,
          128998,
          55436,
          62349,
          52066,
          42549,
          46952,
          125192,
          49978,
          85724,
          81885,
          338024,
          89761,
          62963,
          579447,
          95753,
          95931,
          2855540,
          319684,
          316347,
          92280,
          67997,
          1279471,
          52642,
          47050,
          40099,
          40096,
          40142,
          41776,
          55589,
          47657,
          47620,
          48174,
          50748,
          49622,
          53623,
          78359,
          52055,
          57581,
          78662,
          309417,
          59688,
          102452,
          627364,
          82070,
          79155,
          77361,
          136950,
          208096,
          12403115,
          118607,
          119624,
          88282,
          141546,
          92555,
          143456,
          481889,
          65672,
          72408,
          65710,
          66143,
          117570,
          79309,
          170511,
          84532,
          107429,
          116291,
          157663,
          99213,
          120994,
          139580,
          560113,
          199183,
          184172,
          258463,
          96962,
          96047,
          96231,
          160699,
          144707,
          143207,
          287237,
          425191,
          412047,
          256324,
          127287,
          120600,
          162789,
          134725,
          129161,
          138322,
          160276,
          138972,
          203815,
          615752,
          319627,
          378901,
          542843,
          284016,
          426451,
          405093,
          390475,
          613396,
          753263,
          821682,
          952911,
          1130858,
          4032686,
          19724605
         ],
         "yaxis": "y"
        }
       ],
       "layout": {
        "legend": {
         "tracegroupgap": 0
        },
        "template": {
         "data": {
          "bar": [
           {
            "error_x": {
             "color": "#2a3f5f"
            },
            "error_y": {
             "color": "#2a3f5f"
            },
            "marker": {
             "line": {
              "color": "#E5ECF6",
              "width": 0.5
             },
             "pattern": {
              "fillmode": "overlay",
              "size": 10,
              "solidity": 0.2
             }
            },
            "type": "bar"
           }
          ],
          "barpolar": [
           {
            "marker": {
             "line": {
              "color": "#E5ECF6",
              "width": 0.5
             },
             "pattern": {
              "fillmode": "overlay",
              "size": 10,
              "solidity": 0.2
             }
            },
            "type": "barpolar"
           }
          ],
          "carpet": [
           {
            "aaxis": {
             "endlinecolor": "#2a3f5f",
             "gridcolor": "white",
             "linecolor": "white",
             "minorgridcolor": "white",
             "startlinecolor": "#2a3f5f"
            },
            "baxis": {
             "endlinecolor": "#2a3f5f",
             "gridcolor": "white",
             "linecolor": "white",
             "minorgridcolor": "white",
             "startlinecolor": "#2a3f5f"
            },
            "type": "carpet"
           }
          ],
          "choropleth": [
           {
            "colorbar": {
             "outlinewidth": 0,
             "ticks": ""
            },
            "type": "choropleth"
           }
          ],
          "contour": [
           {
            "colorbar": {
             "outlinewidth": 0,
             "ticks": ""
            },
            "colorscale": [
             [
              0,
              "#0d0887"
             ],
             [
              0.1111111111111111,
              "#46039f"
             ],
             [
              0.2222222222222222,
              "#7201a8"
             ],
             [
              0.3333333333333333,
              "#9c179e"
             ],
             [
              0.4444444444444444,
              "#bd3786"
             ],
             [
              0.5555555555555556,
              "#d8576b"
             ],
             [
              0.6666666666666666,
              "#ed7953"
             ],
             [
              0.7777777777777778,
              "#fb9f3a"
             ],
             [
              0.8888888888888888,
              "#fdca26"
             ],
             [
              1,
              "#f0f921"
             ]
            ],
            "type": "contour"
           }
          ],
          "contourcarpet": [
           {
            "colorbar": {
             "outlinewidth": 0,
             "ticks": ""
            },
            "type": "contourcarpet"
           }
          ],
          "heatmap": [
           {
            "colorbar": {
             "outlinewidth": 0,
             "ticks": ""
            },
            "colorscale": [
             [
              0,
              "#0d0887"
             ],
             [
              0.1111111111111111,
              "#46039f"
             ],
             [
              0.2222222222222222,
              "#7201a8"
             ],
             [
              0.3333333333333333,
              "#9c179e"
             ],
             [
              0.4444444444444444,
              "#bd3786"
             ],
             [
              0.5555555555555556,
              "#d8576b"
             ],
             [
              0.6666666666666666,
              "#ed7953"
             ],
             [
              0.7777777777777778,
              "#fb9f3a"
             ],
             [
              0.8888888888888888,
              "#fdca26"
             ],
             [
              1,
              "#f0f921"
             ]
            ],
            "type": "heatmap"
           }
          ],
          "heatmapgl": [
           {
            "colorbar": {
             "outlinewidth": 0,
             "ticks": ""
            },
            "colorscale": [
             [
              0,
              "#0d0887"
             ],
             [
              0.1111111111111111,
              "#46039f"
             ],
             [
              0.2222222222222222,
              "#7201a8"
             ],
             [
              0.3333333333333333,
              "#9c179e"
             ],
             [
              0.4444444444444444,
              "#bd3786"
             ],
             [
              0.5555555555555556,
              "#d8576b"
             ],
             [
              0.6666666666666666,
              "#ed7953"
             ],
             [
              0.7777777777777778,
              "#fb9f3a"
             ],
             [
              0.8888888888888888,
              "#fdca26"
             ],
             [
              1,
              "#f0f921"
             ]
            ],
            "type": "heatmapgl"
           }
          ],
          "histogram": [
           {
            "marker": {
             "pattern": {
              "fillmode": "overlay",
              "size": 10,
              "solidity": 0.2
             }
            },
            "type": "histogram"
           }
          ],
          "histogram2d": [
           {
            "colorbar": {
             "outlinewidth": 0,
             "ticks": ""
            },
            "colorscale": [
             [
              0,
              "#0d0887"
             ],
             [
              0.1111111111111111,
              "#46039f"
             ],
             [
              0.2222222222222222,
              "#7201a8"
             ],
             [
              0.3333333333333333,
              "#9c179e"
             ],
             [
              0.4444444444444444,
              "#bd3786"
             ],
             [
              0.5555555555555556,
              "#d8576b"
             ],
             [
              0.6666666666666666,
              "#ed7953"
             ],
             [
              0.7777777777777778,
              "#fb9f3a"
             ],
             [
              0.8888888888888888,
              "#fdca26"
             ],
             [
              1,
              "#f0f921"
             ]
            ],
            "type": "histogram2d"
           }
          ],
          "histogram2dcontour": [
           {
            "colorbar": {
             "outlinewidth": 0,
             "ticks": ""
            },
            "colorscale": [
             [
              0,
              "#0d0887"
             ],
             [
              0.1111111111111111,
              "#46039f"
             ],
             [
              0.2222222222222222,
              "#7201a8"
             ],
             [
              0.3333333333333333,
              "#9c179e"
             ],
             [
              0.4444444444444444,
              "#bd3786"
             ],
             [
              0.5555555555555556,
              "#d8576b"
             ],
             [
              0.6666666666666666,
              "#ed7953"
             ],
             [
              0.7777777777777778,
              "#fb9f3a"
             ],
             [
              0.8888888888888888,
              "#fdca26"
             ],
             [
              1,
              "#f0f921"
             ]
            ],
            "type": "histogram2dcontour"
           }
          ],
          "mesh3d": [
           {
            "colorbar": {
             "outlinewidth": 0,
             "ticks": ""
            },
            "type": "mesh3d"
           }
          ],
          "parcoords": [
           {
            "line": {
             "colorbar": {
              "outlinewidth": 0,
              "ticks": ""
             }
            },
            "type": "parcoords"
           }
          ],
          "pie": [
           {
            "automargin": true,
            "type": "pie"
           }
          ],
          "scatter": [
           {
            "fillpattern": {
             "fillmode": "overlay",
             "size": 10,
             "solidity": 0.2
            },
            "type": "scatter"
           }
          ],
          "scatter3d": [
           {
            "line": {
             "colorbar": {
              "outlinewidth": 0,
              "ticks": ""
             }
            },
            "marker": {
             "colorbar": {
              "outlinewidth": 0,
              "ticks": ""
             }
            },
            "type": "scatter3d"
           }
          ],
          "scattercarpet": [
           {
            "marker": {
             "colorbar": {
              "outlinewidth": 0,
              "ticks": ""
             }
            },
            "type": "scattercarpet"
           }
          ],
          "scattergeo": [
           {
            "marker": {
             "colorbar": {
              "outlinewidth": 0,
              "ticks": ""
             }
            },
            "type": "scattergeo"
           }
          ],
          "scattergl": [
           {
            "marker": {
             "colorbar": {
              "outlinewidth": 0,
              "ticks": ""
             }
            },
            "type": "scattergl"
           }
          ],
          "scattermapbox": [
           {
            "marker": {
             "colorbar": {
              "outlinewidth": 0,
              "ticks": ""
             }
            },
            "type": "scattermapbox"
           }
          ],
          "scatterpolar": [
           {
            "marker": {
             "colorbar": {
              "outlinewidth": 0,
              "ticks": ""
             }
            },
            "type": "scatterpolar"
           }
          ],
          "scatterpolargl": [
           {
            "marker": {
             "colorbar": {
              "outlinewidth": 0,
              "ticks": ""
             }
            },
            "type": "scatterpolargl"
           }
          ],
          "scatterternary": [
           {
            "marker": {
             "colorbar": {
              "outlinewidth": 0,
              "ticks": ""
             }
            },
            "type": "scatterternary"
           }
          ],
          "surface": [
           {
            "colorbar": {
             "outlinewidth": 0,
             "ticks": ""
            },
            "colorscale": [
             [
              0,
              "#0d0887"
             ],
             [
              0.1111111111111111,
              "#46039f"
             ],
             [
              0.2222222222222222,
              "#7201a8"
             ],
             [
              0.3333333333333333,
              "#9c179e"
             ],
             [
              0.4444444444444444,
              "#bd3786"
             ],
             [
              0.5555555555555556,
              "#d8576b"
             ],
             [
              0.6666666666666666,
              "#ed7953"
             ],
             [
              0.7777777777777778,
              "#fb9f3a"
             ],
             [
              0.8888888888888888,
              "#fdca26"
             ],
             [
              1,
              "#f0f921"
             ]
            ],
            "type": "surface"
           }
          ],
          "table": [
           {
            "cells": {
             "fill": {
              "color": "#EBF0F8"
             },
             "line": {
              "color": "white"
             }
            },
            "header": {
             "fill": {
              "color": "#C8D4E3"
             },
             "line": {
              "color": "white"
             }
            },
            "type": "table"
           }
          ]
         },
         "layout": {
          "annotationdefaults": {
           "arrowcolor": "#2a3f5f",
           "arrowhead": 0,
           "arrowwidth": 1
          },
          "autotypenumbers": "strict",
          "coloraxis": {
           "colorbar": {
            "outlinewidth": 0,
            "ticks": ""
           }
          },
          "colorscale": {
           "diverging": [
            [
             0,
             "#8e0152"
            ],
            [
             0.1,
             "#c51b7d"
            ],
            [
             0.2,
             "#de77ae"
            ],
            [
             0.3,
             "#f1b6da"
            ],
            [
             0.4,
             "#fde0ef"
            ],
            [
             0.5,
             "#f7f7f7"
            ],
            [
             0.6,
             "#e6f5d0"
            ],
            [
             0.7,
             "#b8e186"
            ],
            [
             0.8,
             "#7fbc41"
            ],
            [
             0.9,
             "#4d9221"
            ],
            [
             1,
             "#276419"
            ]
           ],
           "sequential": [
            [
             0,
             "#0d0887"
            ],
            [
             0.1111111111111111,
             "#46039f"
            ],
            [
             0.2222222222222222,
             "#7201a8"
            ],
            [
             0.3333333333333333,
             "#9c179e"
            ],
            [
             0.4444444444444444,
             "#bd3786"
            ],
            [
             0.5555555555555556,
             "#d8576b"
            ],
            [
             0.6666666666666666,
             "#ed7953"
            ],
            [
             0.7777777777777778,
             "#fb9f3a"
            ],
            [
             0.8888888888888888,
             "#fdca26"
            ],
            [
             1,
             "#f0f921"
            ]
           ],
           "sequentialminus": [
            [
             0,
             "#0d0887"
            ],
            [
             0.1111111111111111,
             "#46039f"
            ],
            [
             0.2222222222222222,
             "#7201a8"
            ],
            [
             0.3333333333333333,
             "#9c179e"
            ],
            [
             0.4444444444444444,
             "#bd3786"
            ],
            [
             0.5555555555555556,
             "#d8576b"
            ],
            [
             0.6666666666666666,
             "#ed7953"
            ],
            [
             0.7777777777777778,
             "#fb9f3a"
            ],
            [
             0.8888888888888888,
             "#fdca26"
            ],
            [
             1,
             "#f0f921"
            ]
           ]
          },
          "colorway": [
           "#636efa",
           "#EF553B",
           "#00cc96",
           "#ab63fa",
           "#FFA15A",
           "#19d3f3",
           "#FF6692",
           "#B6E880",
           "#FF97FF",
           "#FECB52"
          ],
          "font": {
           "color": "#2a3f5f"
          },
          "geo": {
           "bgcolor": "white",
           "lakecolor": "white",
           "landcolor": "#E5ECF6",
           "showlakes": true,
           "showland": true,
           "subunitcolor": "white"
          },
          "hoverlabel": {
           "align": "left"
          },
          "hovermode": "closest",
          "mapbox": {
           "style": "light"
          },
          "paper_bgcolor": "white",
          "plot_bgcolor": "#E5ECF6",
          "polar": {
           "angularaxis": {
            "gridcolor": "white",
            "linecolor": "white",
            "ticks": ""
           },
           "bgcolor": "#E5ECF6",
           "radialaxis": {
            "gridcolor": "white",
            "linecolor": "white",
            "ticks": ""
           }
          },
          "scene": {
           "xaxis": {
            "backgroundcolor": "#E5ECF6",
            "gridcolor": "white",
            "gridwidth": 2,
            "linecolor": "white",
            "showbackground": true,
            "ticks": "",
            "zerolinecolor": "white"
           },
           "yaxis": {
            "backgroundcolor": "#E5ECF6",
            "gridcolor": "white",
            "gridwidth": 2,
            "linecolor": "white",
            "showbackground": true,
            "ticks": "",
            "zerolinecolor": "white"
           },
           "zaxis": {
            "backgroundcolor": "#E5ECF6",
            "gridcolor": "white",
            "gridwidth": 2,
            "linecolor": "white",
            "showbackground": true,
            "ticks": "",
            "zerolinecolor": "white"
           }
          },
          "shapedefaults": {
           "line": {
            "color": "#2a3f5f"
           }
          },
          "ternary": {
           "aaxis": {
            "gridcolor": "white",
            "linecolor": "white",
            "ticks": ""
           },
           "baxis": {
            "gridcolor": "white",
            "linecolor": "white",
            "ticks": ""
           },
           "bgcolor": "#E5ECF6",
           "caxis": {
            "gridcolor": "white",
            "linecolor": "white",
            "ticks": ""
           }
          },
          "title": {
           "x": 0.05
          },
          "xaxis": {
           "automargin": true,
           "gridcolor": "white",
           "linecolor": "white",
           "ticks": "",
           "title": {
            "standoff": 15
           },
           "zerolinecolor": "white",
           "zerolinewidth": 2
          },
          "yaxis": {
           "automargin": true,
           "gridcolor": "white",
           "linecolor": "white",
           "ticks": "",
           "title": {
            "standoff": 15
           },
           "zerolinecolor": "white",
           "zerolinewidth": 2
          }
         }
        },
        "title": {
         "text": "Likes Vs Views"
        },
        "xaxis": {
         "anchor": "y",
         "domain": [
          0,
          1
         ],
         "title": {
          "text": "Likes"
         }
        },
        "yaxis": {
         "anchor": "x",
         "domain": [
          0,
          1
         ],
         "title": {
          "text": "Views"
         }
        }
       }
      },
      "text/html": [
       "<div>                            <div id=\"955fee43-82ff-4eaf-96a9-cb6fdbb869e9\" class=\"plotly-graph-div\" style=\"height:525px; width:100%;\"></div>            <script type=\"text/javascript\">                require([\"plotly\"], function(Plotly) {                    window.PLOTLYENV=window.PLOTLYENV || {};                                    if (document.getElementById(\"955fee43-82ff-4eaf-96a9-cb6fdbb869e9\")) {                    Plotly.newPlot(                        \"955fee43-82ff-4eaf-96a9-cb6fdbb869e9\",                        [{\"hovertemplate\":\"Likes=%{x}<br>Views=%{y}<extra></extra>\",\"legendgroup\":\"\",\"marker\":{\"color\":\"#636efa\",\"symbol\":\"circle\"},\"mode\":\"markers\",\"name\":\"\",\"orientation\":\"v\",\"showlegend\":false,\"x\":[2734717,3181846,3763144,4372148,7683173,5255920,15838629,9445626,9826064,8397277,10676684,5390831,8447055,17103603,7490917,4781188,2742682,7160636,5397249,9353864,5339440,12458177,6087671,12667138,5763006,10856603,6179167,8820643,5688374,5024795,15676704,14287354,13971840,6593068,18950832,5473649,13113906,10007445,4910068,5475029,41064093,4123680,17646537,4004028,30037941,6683696,25620716,5326487,3347424,3731470,6335342,4359608,3750720,6218221,5065493,3951815,5355489,3566688,3070387,4352670,17184193,5434834,4470173,4092272,4337990,6551587,4275700,3505354,3367023,3855282,3484938,3235378,3996126,3613403,5178826,4951723,8199912,3149841,3744947,3036619,5603911,5303107,5045347,2788966,4934113,6379801,3522047,4297192,3898756,3786203,3719902,6489817,2744908,4290510,2739004,2507269,3691601,5282887,3763889,3183219,4213012,4820320,5066730,3412269,3541082,3250667,4878931,7054509,1407766,3804714,3117582,1889417,3345181,2605771,4963067,4212676,2595202,3856702,2200659,2701689,896671,2446119,2827541,4414503,3288910,1431808,1835900,4166202,2190029,2957913,2833912,2406329,2975196,4017461,1292649,4368531,2037721,2729296,4758002,1805081,2488194,1496447,1519125,2400419,3383101,3120643,3346734,2888734,2895765,2739321,3602896,2100990,1580879,3462868,1787912,2256664,3465906,3084035,2253992,1122764,2837941,4190651,3000713,2732578,1769421,1816431,1732752,3804170,1011278,881050,1921831,3200301,2851076,1656776,1780920,2140013,1866576,2248329,2217552,1260033,3212767,1150494,1567715,28736423,771741,2301433,1547235,1520948,492598,1030125,2057440,1741617,2092453,2502384,1881067,1046144,2217821,1685758,1132037,4665940,933373,795031,515700,1633828,982882,1331614,1157890,750614,1564493,921077,1517138,425819,800654,2180600,562041,1309255,725751,1151202,547252,2391814,3388136,1018629,1100328,1215533,617689,397508,626056,2142543,874712,1689552,802026,642230,1671455,1954352,1219539,294547,436173,315890,921259,549162,454524,767740,348533,507666,552065,789880,658189,631167,628289,499898,558114,344764,354266,895314,576888,1416396,443561,249618,274788,431360,234726,864454,1326560,1082428,770006,228724,1058228,722801,1127224,582374,1203473,81514,203404,486156,1517273,1097128,205504,604570,154056,127785,231028,695382,123892,925647,226696,840988,226174,662208,28390,825085,543360,506189,804264,1645602,70703,529660,2573315,94721,96679,322250,19079,325300,149811,97171,1403438,56445,88528,584938,725158,433843,93784,455510,186354,217278,330738,229527,358588,37518,587087,10370,55267,50086,14207,32395,10470,58980,51239,138268,126458,153326,41765,115568,122701,64201,75874,46290,6998,17140,33831,35816,5758,18394,17381,12690,164776,808846,5406,11700,7742,14057,12642,4632,11601,4140,4490,6374,1637,9918,6492,4580,21207,128486,1547,3672,3519,11541,1930,1969,89664,72930,2409,5012,3366,23489,3783,1673,3955,3452,7087,2190,712190,5290,4496,2617,3889,5348,2114,3297,8424,2412,23722,4006,1852,6513,2110,5673,6895,7335,21838,20178,3939,3511,4200,3690,9876,8559,2938,1187,13783,13061,352144,3240,2501,538766,2076,1148,10121,1584,5050,2990,12705,1516,2082,20050,3909,1613,15180,1457,3257,3114,125370,2286,3681,8346,2932,1389,1687,73134,3030,2127,7214,1925,1905,1306,4511,24035,2719,4202,1556,382101,1380,1899,6530,7877,1377,1560,2265,1196,1471,1596,48925,2181,9370,24341,1552,1282,2388,22553,1316,2636,1743,2758,1736,1310,2889,6069,1214,5698,1645,989,1070,1197,1628,3967,9188,10039,1726,1309,1778,1953,2583,1004,2632,1359,2043,1310,1769,3646,1189,1048,2435,17889,1636,1467,1735,1037,2826,1398,11352,3308,1312,959,6597,2008,1400,0,1667,3744,1530,977,4402,979,2641,2150,867,848,2413,13222,1133,3811,12240,2428,1572,1152,1527,1336,1584,1063,1172,1361,1271,1069,960,2287,5429,1826,1264,1093,1347,1283,967,1124,1126,1000,926,956,3653,1208,1751,1343,1457,914,1379,1244,2151,1160,1296,1373,3050,1137,1078,1716,1242,1224,1402,1089,1232,1402,10001,1739,911,8778,2844,815,1329,17293,4140,5650,1299,975,1116,1464,1422,1061,3331,1156,1094,851,2630,1020,1571,7312,1250,4047,1738,1246,3089,1606,1370,1558,16855,962,3611,2930,2430,940,3997,1151,1486,6969,711,2108,1068,1188,1443,1839,1367,2186,1241,1220,1146,1282,1233,1250,1623,1313,1847,4818,4659,1252,2750,4964,1083,1821,5811,1275,7762,2087,2398,1282110,3995,13589,1012,7509,2507,1247,1508,1450,1406,1324,4101,1455,2640,1633,6771,2556,1731,19055,2815,2267,225367,5748,11528,2814,1676,22491,1419,1357,1651,1335,1639,1450,1373,1430,1466,1425,1416,1454,1555,1832,1746,1736,2548,5707,2396,2700,12583,2884,2250,2945,5233,7688,1150782,3502,3557,2786,4890,3239,6085,16097,2703,2690,3013,3138,4780,3044,4887,3480,3312,4010,6106,3840,4229,5309,20777,7913,5352,9582,4361,4252,4422,6417,5836,5808,10386,14203,15944,8586,5824,6581,7901,5930,6712,6644,0,0,0,0,13782,16635,20119,14968,19136,0,19341,24782,28294,32423,37779,44676,0,932941],\"xaxis\":\"x\",\"y\":[58167606,47820996,61729449,122748023,113062681,142683250,190401610,207460032,220091483,116929470,248853062,160491271,116233316,322776504,167011465,129022733,53953740,179708951,137836623,167527818,182855279,238963428,180008578,241517564,165854902,151683893,253586222,168884882,261563296,126227655,341056528,242668561,260103494,270452274,335972510,216680578,249833260,162674297,159496546,205131767,966777663,208645147,342050891,146278275,928757624,308780500,418407547,256860010,132197981,157597043,186208465,177349555,97784453,254455865,191587458,167126939,242421163,97262713,82173280,189235301,525444290,112366579,160048014,161536842,155293334,363227550,187164514,171942157,151590798,215915206,163802504,194546915,182497910,194172168,273698837,219623991,306325683,121375361,145867116,54708420,238226078,160922825,69815938,100613540,171359810,187392622,198555654,279511911,147719311,119081631,200966337,115410829,149306446,159040093,54913837,75890194,186416294,235768057,154990716,124807538,232457786,223467945,202572355,149505594,187924856,158032687,303621555,197316607,44997472,144670586,189950579,56395136,147757671,130702750,266799232,236779658,128410818,171575481,114656498,146737551,18975030,36491203,62858957,173323545,131998696,61494711,91953032,132651836,120034533,148647160,108995383,108488030,148438575,214985808,50176716,98381672,120452362,172036520,252362818,59977444,124001160,69192924,69562661,93934302,134269846,162704350,178630636,144623101,163778238,105484680,154082469,117677808,77363250,148172421,68336592,85132287,176764290,146514906,110179354,40200880,122840447,147143299,192766113,155723376,76535499,94084625,87702061,156803781,37579462,32035932,107488927,92127192,140624652,48113712,59633266,79172097,104556896,103949796,111230985,44101641,189920504,41163885,94479433,142737740,33681951,141943237,84441679,74586377,14424533,31180807,112032117,46907874,97047831,149074545,100189245,64159409,128950194,25710373,43075818,190657581,44141395,28750924,18386010,88586120,36046620,38581665,43410968,31051583,90462658,41908933,72391828,17091072,28144035,139863281,35512818,63737926,43059751,69345813,28475543,111149880,134738665,56324620,51972598,44975781,36623302,17614249,28601611,96512271,29885501,90198668,28750688,21599009,74304757,126806135,53032951,11229191,17224492,15704870,37021854,24551822,15020170,40949139,14672551,23666633,26767840,31246500,32474632,24303610,38689344,19300037,20003579,13179838,14709630,32745344,25560755,53793115,17692113,7737378,11312858,18282078,8710682,36646712,47375285,37232389,26973267,9110444,32689793,26366820,44425034,27565714,30782304,2218593,7333264,25887461,31072992,42187263,5775195,13549590,3791164,4599523,6031166,22108486,2724261,23027154,10781084,31926517,6478960,25777111,873951,27979745,10782114,19713706,34942323,42330064,2027840,26220736,52604927,1850181,4100356,7260443,524737,7641430,3804954,3314194,29304499,1959624,4880127,22902633,8705399,11350700,1793853,16221108,2502157,10875836,3724765,3845039,13383856,1565443,9852775,291331,1205614,1499563,380363,712047,317015,3023768,1451782,3240209,1646381,3090993,809255,1645940,3565337,2220232,1305913,1177844,158973,704788,834330,1313125,172526,648482,402785,408657,3658854,27771869,127747,364104,166491,334608,623420,126308,104873,97485,109535,151997,39691,272080,124402,121354,683062,2126239,54509,114006,138741,163100,43267,42471,2063540,2017144,63201,145779,106833,556450,132647,50956,87716,89659,152172,76253,65723798,130169,216519,59374,79566,116206,65867,122348,155396,42280,365790,79682,59346,149184,57423,211468,103052,183761,631498,922162,92549,74559,186184,68361,285175,263323,59493,43356,385433,471505,7537628,117137,100933,13744089,60794,137630,242479,46339,126554,62706,278476,54714,46564,588591,79243,43824,470784,39666,89107,94510,1566351,69757,79492,309994,82091,39660,39664,1360150,76239,44783,230609,52766,44636,40681,105527,778499,64535,43746,39878,8341765,39874,45921,217881,265445,39784,39795,116572,40269,39758,43591,732708,39711,161006,678290,65170,39905,69333,774473,39985,131969,50235,62575,65542,63595,119869,214013,43467,140697,44015,39708,39768,39811,89847,156142,373960,681576,78035,39759,80749,39715,127871,39867,80714,76527,64876,39923,71223,223449,39776,39659,75397,1764583,39878,42819,39862,49491,92115,40858,49226,102294,50779,41737,210145,206900,39681,45436,40161,115843,40582,40090,128814,39940,105323,76276,40543,40772,62786,565930,39658,142015,235085,164089,39912,40145,39750,52400,39859,39896,40228,40337,39945,39906,39915,88782,165253,146467,39641,48852,39705,39894,40108,39917,39673,68179,39738,55741,119699,65176,39679,39774,39791,39659,39681,39721,108355,39919,53219,49204,111089,40063,40005,56281,40034,39944,61839,39670,40308,60317,228880,67238,39929,436987,149637,44610,62722,449951,156158,113602,44407,41144,42266,94939,63642,54886,179923,41507,40044,57337,131876,39674,88179,301024,51822,106356,94882,59351,116634,66228,52226,75402,305798,39681,229569,123309,111754,48002,193240,39825,60525,218155,39822,199960,39671,39875,39724,58653,46867,80020,39780,40169,57372,39859,39959,39723,58095,62051,76927,178999,285095,39661,76339,446169,47855,54810,177498,52162,360608,60582,63039,17192658,197639,616907,67078,308185,128998,55436,62349,52066,42549,46952,125192,49978,85724,81885,338024,89761,62963,579447,95753,95931,2855540,319684,316347,92280,67997,1279471,52642,47050,40099,40096,40142,41776,55589,47657,47620,48174,50748,49622,53623,78359,52055,57581,78662,309417,59688,102452,627364,82070,79155,77361,136950,208096,12403115,118607,119624,88282,141546,92555,143456,481889,65672,72408,65710,66143,117570,79309,170511,84532,107429,116291,157663,99213,120994,139580,560113,199183,184172,258463,96962,96047,96231,160699,144707,143207,287237,425191,412047,256324,127287,120600,162789,134725,129161,138322,160276,138972,203815,615752,319627,378901,542843,284016,426451,405093,390475,613396,753263,821682,952911,1130858,4032686,19724605],\"yaxis\":\"y\",\"type\":\"scatter\"}],                        {\"template\":{\"data\":{\"histogram2dcontour\":[{\"type\":\"histogram2dcontour\",\"colorbar\":{\"outlinewidth\":0,\"ticks\":\"\"},\"colorscale\":[[0.0,\"#0d0887\"],[0.1111111111111111,\"#46039f\"],[0.2222222222222222,\"#7201a8\"],[0.3333333333333333,\"#9c179e\"],[0.4444444444444444,\"#bd3786\"],[0.5555555555555556,\"#d8576b\"],[0.6666666666666666,\"#ed7953\"],[0.7777777777777778,\"#fb9f3a\"],[0.8888888888888888,\"#fdca26\"],[1.0,\"#f0f921\"]]}],\"choropleth\":[{\"type\":\"choropleth\",\"colorbar\":{\"outlinewidth\":0,\"ticks\":\"\"}}],\"histogram2d\":[{\"type\":\"histogram2d\",\"colorbar\":{\"outlinewidth\":0,\"ticks\":\"\"},\"colorscale\":[[0.0,\"#0d0887\"],[0.1111111111111111,\"#46039f\"],[0.2222222222222222,\"#7201a8\"],[0.3333333333333333,\"#9c179e\"],[0.4444444444444444,\"#bd3786\"],[0.5555555555555556,\"#d8576b\"],[0.6666666666666666,\"#ed7953\"],[0.7777777777777778,\"#fb9f3a\"],[0.8888888888888888,\"#fdca26\"],[1.0,\"#f0f921\"]]}],\"heatmap\":[{\"type\":\"heatmap\",\"colorbar\":{\"outlinewidth\":0,\"ticks\":\"\"},\"colorscale\":[[0.0,\"#0d0887\"],[0.1111111111111111,\"#46039f\"],[0.2222222222222222,\"#7201a8\"],[0.3333333333333333,\"#9c179e\"],[0.4444444444444444,\"#bd3786\"],[0.5555555555555556,\"#d8576b\"],[0.6666666666666666,\"#ed7953\"],[0.7777777777777778,\"#fb9f3a\"],[0.8888888888888888,\"#fdca26\"],[1.0,\"#f0f921\"]]}],\"heatmapgl\":[{\"type\":\"heatmapgl\",\"colorbar\":{\"outlinewidth\":0,\"ticks\":\"\"},\"colorscale\":[[0.0,\"#0d0887\"],[0.1111111111111111,\"#46039f\"],[0.2222222222222222,\"#7201a8\"],[0.3333333333333333,\"#9c179e\"],[0.4444444444444444,\"#bd3786\"],[0.5555555555555556,\"#d8576b\"],[0.6666666666666666,\"#ed7953\"],[0.7777777777777778,\"#fb9f3a\"],[0.8888888888888888,\"#fdca26\"],[1.0,\"#f0f921\"]]}],\"contourcarpet\":[{\"type\":\"contourcarpet\",\"colorbar\":{\"outlinewidth\":0,\"ticks\":\"\"}}],\"contour\":[{\"type\":\"contour\",\"colorbar\":{\"outlinewidth\":0,\"ticks\":\"\"},\"colorscale\":[[0.0,\"#0d0887\"],[0.1111111111111111,\"#46039f\"],[0.2222222222222222,\"#7201a8\"],[0.3333333333333333,\"#9c179e\"],[0.4444444444444444,\"#bd3786\"],[0.5555555555555556,\"#d8576b\"],[0.6666666666666666,\"#ed7953\"],[0.7777777777777778,\"#fb9f3a\"],[0.8888888888888888,\"#fdca26\"],[1.0,\"#f0f921\"]]}],\"surface\":[{\"type\":\"surface\",\"colorbar\":{\"outlinewidth\":0,\"ticks\":\"\"},\"colorscale\":[[0.0,\"#0d0887\"],[0.1111111111111111,\"#46039f\"],[0.2222222222222222,\"#7201a8\"],[0.3333333333333333,\"#9c179e\"],[0.4444444444444444,\"#bd3786\"],[0.5555555555555556,\"#d8576b\"],[0.6666666666666666,\"#ed7953\"],[0.7777777777777778,\"#fb9f3a\"],[0.8888888888888888,\"#fdca26\"],[1.0,\"#f0f921\"]]}],\"mesh3d\":[{\"type\":\"mesh3d\",\"colorbar\":{\"outlinewidth\":0,\"ticks\":\"\"}}],\"scatter\":[{\"fillpattern\":{\"fillmode\":\"overlay\",\"size\":10,\"solidity\":0.2},\"type\":\"scatter\"}],\"parcoords\":[{\"type\":\"parcoords\",\"line\":{\"colorbar\":{\"outlinewidth\":0,\"ticks\":\"\"}}}],\"scatterpolargl\":[{\"type\":\"scatterpolargl\",\"marker\":{\"colorbar\":{\"outlinewidth\":0,\"ticks\":\"\"}}}],\"bar\":[{\"error_x\":{\"color\":\"#2a3f5f\"},\"error_y\":{\"color\":\"#2a3f5f\"},\"marker\":{\"line\":{\"color\":\"#E5ECF6\",\"width\":0.5},\"pattern\":{\"fillmode\":\"overlay\",\"size\":10,\"solidity\":0.2}},\"type\":\"bar\"}],\"scattergeo\":[{\"type\":\"scattergeo\",\"marker\":{\"colorbar\":{\"outlinewidth\":0,\"ticks\":\"\"}}}],\"scatterpolar\":[{\"type\":\"scatterpolar\",\"marker\":{\"colorbar\":{\"outlinewidth\":0,\"ticks\":\"\"}}}],\"histogram\":[{\"marker\":{\"pattern\":{\"fillmode\":\"overlay\",\"size\":10,\"solidity\":0.2}},\"type\":\"histogram\"}],\"scattergl\":[{\"type\":\"scattergl\",\"marker\":{\"colorbar\":{\"outlinewidth\":0,\"ticks\":\"\"}}}],\"scatter3d\":[{\"type\":\"scatter3d\",\"line\":{\"colorbar\":{\"outlinewidth\":0,\"ticks\":\"\"}},\"marker\":{\"colorbar\":{\"outlinewidth\":0,\"ticks\":\"\"}}}],\"scattermapbox\":[{\"type\":\"scattermapbox\",\"marker\":{\"colorbar\":{\"outlinewidth\":0,\"ticks\":\"\"}}}],\"scatterternary\":[{\"type\":\"scatterternary\",\"marker\":{\"colorbar\":{\"outlinewidth\":0,\"ticks\":\"\"}}}],\"scattercarpet\":[{\"type\":\"scattercarpet\",\"marker\":{\"colorbar\":{\"outlinewidth\":0,\"ticks\":\"\"}}}],\"carpet\":[{\"aaxis\":{\"endlinecolor\":\"#2a3f5f\",\"gridcolor\":\"white\",\"linecolor\":\"white\",\"minorgridcolor\":\"white\",\"startlinecolor\":\"#2a3f5f\"},\"baxis\":{\"endlinecolor\":\"#2a3f5f\",\"gridcolor\":\"white\",\"linecolor\":\"white\",\"minorgridcolor\":\"white\",\"startlinecolor\":\"#2a3f5f\"},\"type\":\"carpet\"}],\"table\":[{\"cells\":{\"fill\":{\"color\":\"#EBF0F8\"},\"line\":{\"color\":\"white\"}},\"header\":{\"fill\":{\"color\":\"#C8D4E3\"},\"line\":{\"color\":\"white\"}},\"type\":\"table\"}],\"barpolar\":[{\"marker\":{\"line\":{\"color\":\"#E5ECF6\",\"width\":0.5},\"pattern\":{\"fillmode\":\"overlay\",\"size\":10,\"solidity\":0.2}},\"type\":\"barpolar\"}],\"pie\":[{\"automargin\":true,\"type\":\"pie\"}]},\"layout\":{\"autotypenumbers\":\"strict\",\"colorway\":[\"#636efa\",\"#EF553B\",\"#00cc96\",\"#ab63fa\",\"#FFA15A\",\"#19d3f3\",\"#FF6692\",\"#B6E880\",\"#FF97FF\",\"#FECB52\"],\"font\":{\"color\":\"#2a3f5f\"},\"hovermode\":\"closest\",\"hoverlabel\":{\"align\":\"left\"},\"paper_bgcolor\":\"white\",\"plot_bgcolor\":\"#E5ECF6\",\"polar\":{\"bgcolor\":\"#E5ECF6\",\"angularaxis\":{\"gridcolor\":\"white\",\"linecolor\":\"white\",\"ticks\":\"\"},\"radialaxis\":{\"gridcolor\":\"white\",\"linecolor\":\"white\",\"ticks\":\"\"}},\"ternary\":{\"bgcolor\":\"#E5ECF6\",\"aaxis\":{\"gridcolor\":\"white\",\"linecolor\":\"white\",\"ticks\":\"\"},\"baxis\":{\"gridcolor\":\"white\",\"linecolor\":\"white\",\"ticks\":\"\"},\"caxis\":{\"gridcolor\":\"white\",\"linecolor\":\"white\",\"ticks\":\"\"}},\"coloraxis\":{\"colorbar\":{\"outlinewidth\":0,\"ticks\":\"\"}},\"colorscale\":{\"sequential\":[[0.0,\"#0d0887\"],[0.1111111111111111,\"#46039f\"],[0.2222222222222222,\"#7201a8\"],[0.3333333333333333,\"#9c179e\"],[0.4444444444444444,\"#bd3786\"],[0.5555555555555556,\"#d8576b\"],[0.6666666666666666,\"#ed7953\"],[0.7777777777777778,\"#fb9f3a\"],[0.8888888888888888,\"#fdca26\"],[1.0,\"#f0f921\"]],\"sequentialminus\":[[0.0,\"#0d0887\"],[0.1111111111111111,\"#46039f\"],[0.2222222222222222,\"#7201a8\"],[0.3333333333333333,\"#9c179e\"],[0.4444444444444444,\"#bd3786\"],[0.5555555555555556,\"#d8576b\"],[0.6666666666666666,\"#ed7953\"],[0.7777777777777778,\"#fb9f3a\"],[0.8888888888888888,\"#fdca26\"],[1.0,\"#f0f921\"]],\"diverging\":[[0,\"#8e0152\"],[0.1,\"#c51b7d\"],[0.2,\"#de77ae\"],[0.3,\"#f1b6da\"],[0.4,\"#fde0ef\"],[0.5,\"#f7f7f7\"],[0.6,\"#e6f5d0\"],[0.7,\"#b8e186\"],[0.8,\"#7fbc41\"],[0.9,\"#4d9221\"],[1,\"#276419\"]]},\"xaxis\":{\"gridcolor\":\"white\",\"linecolor\":\"white\",\"ticks\":\"\",\"title\":{\"standoff\":15},\"zerolinecolor\":\"white\",\"automargin\":true,\"zerolinewidth\":2},\"yaxis\":{\"gridcolor\":\"white\",\"linecolor\":\"white\",\"ticks\":\"\",\"title\":{\"standoff\":15},\"zerolinecolor\":\"white\",\"automargin\":true,\"zerolinewidth\":2},\"scene\":{\"xaxis\":{\"backgroundcolor\":\"#E5ECF6\",\"gridcolor\":\"white\",\"linecolor\":\"white\",\"showbackground\":true,\"ticks\":\"\",\"zerolinecolor\":\"white\",\"gridwidth\":2},\"yaxis\":{\"backgroundcolor\":\"#E5ECF6\",\"gridcolor\":\"white\",\"linecolor\":\"white\",\"showbackground\":true,\"ticks\":\"\",\"zerolinecolor\":\"white\",\"gridwidth\":2},\"zaxis\":{\"backgroundcolor\":\"#E5ECF6\",\"gridcolor\":\"white\",\"linecolor\":\"white\",\"showbackground\":true,\"ticks\":\"\",\"zerolinecolor\":\"white\",\"gridwidth\":2}},\"shapedefaults\":{\"line\":{\"color\":\"#2a3f5f\"}},\"annotationdefaults\":{\"arrowcolor\":\"#2a3f5f\",\"arrowhead\":0,\"arrowwidth\":1},\"geo\":{\"bgcolor\":\"white\",\"landcolor\":\"#E5ECF6\",\"subunitcolor\":\"white\",\"showland\":true,\"showlakes\":true,\"lakecolor\":\"white\"},\"title\":{\"x\":0.05},\"mapbox\":{\"style\":\"light\"}}},\"xaxis\":{\"anchor\":\"y\",\"domain\":[0.0,1.0],\"title\":{\"text\":\"Likes\"}},\"yaxis\":{\"anchor\":\"x\",\"domain\":[0.0,1.0],\"title\":{\"text\":\"Views\"}},\"legend\":{\"tracegroupgap\":0},\"title\":{\"text\":\"Likes Vs Views\"}},                        {\"responsive\": true}                    ).then(function(){\n",
       "                            \n",
       "var gd = document.getElementById('955fee43-82ff-4eaf-96a9-cb6fdbb869e9');\n",
       "var x = new MutationObserver(function (mutations, observer) {{\n",
       "        var display = window.getComputedStyle(gd).display;\n",
       "        if (!display || display === 'none') {{\n",
       "            console.log([gd, 'removed!']);\n",
       "            Plotly.purge(gd);\n",
       "            observer.disconnect();\n",
       "        }}\n",
       "}});\n",
       "\n",
       "// Listen for the removal of the full notebook cells\n",
       "var notebookContainer = gd.closest('#notebook-container');\n",
       "if (notebookContainer) {{\n",
       "    x.observe(notebookContainer, {childList: true});\n",
       "}}\n",
       "\n",
       "// Listen for the clearing of the current output cell\n",
       "var outputEl = gd.closest('.output');\n",
       "if (outputEl) {{\n",
       "    x.observe(outputEl, {childList: true});\n",
       "}}\n",
       "\n",
       "                        })                };                });            </script>        </div>"
      ]
     },
     "metadata": {},
     "output_type": "display_data"
    }
   ],
   "source": [
    "px.scatter(df,x='Likes',y='Views',title = 'Likes Vs Views')"
   ]
  },
  {
   "cell_type": "code",
   "execution_count": 864,
   "id": "9ac400dd",
   "metadata": {},
   "outputs": [
    {
     "data": {
      "text/html": [
       "<div>\n",
       "<style scoped>\n",
       "    .dataframe tbody tr th:only-of-type {\n",
       "        vertical-align: middle;\n",
       "    }\n",
       "\n",
       "    .dataframe tbody tr th {\n",
       "        vertical-align: top;\n",
       "    }\n",
       "\n",
       "    .dataframe thead th {\n",
       "        text-align: right;\n",
       "    }\n",
       "</style>\n",
       "<table border=\"1\" class=\"dataframe\">\n",
       "  <thead>\n",
       "    <tr style=\"text-align: right;\">\n",
       "      <th></th>\n",
       "      <th>publishYear</th>\n",
       "      <th>Views</th>\n",
       "      <th>Title</th>\n",
       "    </tr>\n",
       "  </thead>\n",
       "  <tbody>\n",
       "    <tr>\n",
       "      <th>0</th>\n",
       "      <td>2012</td>\n",
       "      <td>23757291</td>\n",
       "      <td>2</td>\n",
       "    </tr>\n",
       "    <tr>\n",
       "      <th>1</th>\n",
       "      <td>2013</td>\n",
       "      <td>29887945</td>\n",
       "      <td>84</td>\n",
       "    </tr>\n",
       "    <tr>\n",
       "      <th>2</th>\n",
       "      <td>2014</td>\n",
       "      <td>29828486</td>\n",
       "      <td>70</td>\n",
       "    </tr>\n",
       "    <tr>\n",
       "      <th>3</th>\n",
       "      <td>2015</td>\n",
       "      <td>58860047</td>\n",
       "      <td>212</td>\n",
       "    </tr>\n",
       "    <tr>\n",
       "      <th>4</th>\n",
       "      <td>2016</td>\n",
       "      <td>256258656</td>\n",
       "      <td>89</td>\n",
       "    </tr>\n",
       "    <tr>\n",
       "      <th>5</th>\n",
       "      <td>2017</td>\n",
       "      <td>571328288</td>\n",
       "      <td>35</td>\n",
       "    </tr>\n",
       "    <tr>\n",
       "      <th>6</th>\n",
       "      <td>2018</td>\n",
       "      <td>3850385469</td>\n",
       "      <td>82</td>\n",
       "    </tr>\n",
       "    <tr>\n",
       "      <th>7</th>\n",
       "      <td>2019</td>\n",
       "      <td>7461523721</td>\n",
       "      <td>67</td>\n",
       "    </tr>\n",
       "    <tr>\n",
       "      <th>8</th>\n",
       "      <td>2020</td>\n",
       "      <td>6115052667</td>\n",
       "      <td>38</td>\n",
       "    </tr>\n",
       "    <tr>\n",
       "      <th>9</th>\n",
       "      <td>2021</td>\n",
       "      <td>4898784324</td>\n",
       "      <td>26</td>\n",
       "    </tr>\n",
       "    <tr>\n",
       "      <th>10</th>\n",
       "      <td>2022</td>\n",
       "      <td>5547914892</td>\n",
       "      <td>19</td>\n",
       "    </tr>\n",
       "    <tr>\n",
       "      <th>11</th>\n",
       "      <td>2023</td>\n",
       "      <td>7015097284</td>\n",
       "      <td>38</td>\n",
       "    </tr>\n",
       "  </tbody>\n",
       "</table>\n",
       "</div>"
      ],
      "text/plain": [
       "   publishYear       Views  Title\n",
       "0         2012    23757291      2\n",
       "1         2013    29887945     84\n",
       "2         2014    29828486     70\n",
       "3         2015    58860047    212\n",
       "4         2016   256258656     89\n",
       "5         2017   571328288     35\n",
       "6         2018  3850385469     82\n",
       "7         2019  7461523721     67\n",
       "8         2020  6115052667     38\n",
       "9         2021  4898784324     26\n",
       "10        2022  5547914892     19\n",
       "11        2023  7015097284     38"
      ]
     },
     "execution_count": 864,
     "metadata": {},
     "output_type": "execute_result"
    }
   ],
   "source": [
    "agg_functions = {\n",
    "    'Views': 'sum',\n",
    "    'Title':'count'\n",
    "}\n",
    "ty = df.groupby('publishYear').agg(agg_functions).reset_index()\n",
    "ty"
   ]
  },
  {
   "cell_type": "code",
   "execution_count": 865,
   "id": "8a1bfa01",
   "metadata": {},
   "outputs": [
    {
     "data": {
      "application/vnd.plotly.v1+json": {
       "config": {
        "plotlyServerURL": "https://plot.ly"
       },
       "data": [
        {
         "hovertemplate": "publishYear=%{x}<br>Title=%{y}<extra></extra>",
         "legendgroup": "",
         "line": {
          "color": "#636efa",
          "dash": "solid"
         },
         "marker": {
          "symbol": "circle"
         },
         "mode": "lines",
         "name": "",
         "orientation": "v",
         "showlegend": false,
         "type": "scatter",
         "x": [
          "2012",
          "2013",
          "2014",
          "2015",
          "2016",
          "2017",
          "2018",
          "2019",
          "2020",
          "2021",
          "2022",
          "2023"
         ],
         "xaxis": "x",
         "y": [
          2,
          84,
          70,
          212,
          89,
          35,
          82,
          67,
          38,
          26,
          19,
          38
         ],
         "yaxis": "y"
        }
       ],
       "layout": {
        "legend": {
         "tracegroupgap": 0
        },
        "template": {
         "data": {
          "bar": [
           {
            "error_x": {
             "color": "#2a3f5f"
            },
            "error_y": {
             "color": "#2a3f5f"
            },
            "marker": {
             "line": {
              "color": "#E5ECF6",
              "width": 0.5
             },
             "pattern": {
              "fillmode": "overlay",
              "size": 10,
              "solidity": 0.2
             }
            },
            "type": "bar"
           }
          ],
          "barpolar": [
           {
            "marker": {
             "line": {
              "color": "#E5ECF6",
              "width": 0.5
             },
             "pattern": {
              "fillmode": "overlay",
              "size": 10,
              "solidity": 0.2
             }
            },
            "type": "barpolar"
           }
          ],
          "carpet": [
           {
            "aaxis": {
             "endlinecolor": "#2a3f5f",
             "gridcolor": "white",
             "linecolor": "white",
             "minorgridcolor": "white",
             "startlinecolor": "#2a3f5f"
            },
            "baxis": {
             "endlinecolor": "#2a3f5f",
             "gridcolor": "white",
             "linecolor": "white",
             "minorgridcolor": "white",
             "startlinecolor": "#2a3f5f"
            },
            "type": "carpet"
           }
          ],
          "choropleth": [
           {
            "colorbar": {
             "outlinewidth": 0,
             "ticks": ""
            },
            "type": "choropleth"
           }
          ],
          "contour": [
           {
            "colorbar": {
             "outlinewidth": 0,
             "ticks": ""
            },
            "colorscale": [
             [
              0,
              "#0d0887"
             ],
             [
              0.1111111111111111,
              "#46039f"
             ],
             [
              0.2222222222222222,
              "#7201a8"
             ],
             [
              0.3333333333333333,
              "#9c179e"
             ],
             [
              0.4444444444444444,
              "#bd3786"
             ],
             [
              0.5555555555555556,
              "#d8576b"
             ],
             [
              0.6666666666666666,
              "#ed7953"
             ],
             [
              0.7777777777777778,
              "#fb9f3a"
             ],
             [
              0.8888888888888888,
              "#fdca26"
             ],
             [
              1,
              "#f0f921"
             ]
            ],
            "type": "contour"
           }
          ],
          "contourcarpet": [
           {
            "colorbar": {
             "outlinewidth": 0,
             "ticks": ""
            },
            "type": "contourcarpet"
           }
          ],
          "heatmap": [
           {
            "colorbar": {
             "outlinewidth": 0,
             "ticks": ""
            },
            "colorscale": [
             [
              0,
              "#0d0887"
             ],
             [
              0.1111111111111111,
              "#46039f"
             ],
             [
              0.2222222222222222,
              "#7201a8"
             ],
             [
              0.3333333333333333,
              "#9c179e"
             ],
             [
              0.4444444444444444,
              "#bd3786"
             ],
             [
              0.5555555555555556,
              "#d8576b"
             ],
             [
              0.6666666666666666,
              "#ed7953"
             ],
             [
              0.7777777777777778,
              "#fb9f3a"
             ],
             [
              0.8888888888888888,
              "#fdca26"
             ],
             [
              1,
              "#f0f921"
             ]
            ],
            "type": "heatmap"
           }
          ],
          "heatmapgl": [
           {
            "colorbar": {
             "outlinewidth": 0,
             "ticks": ""
            },
            "colorscale": [
             [
              0,
              "#0d0887"
             ],
             [
              0.1111111111111111,
              "#46039f"
             ],
             [
              0.2222222222222222,
              "#7201a8"
             ],
             [
              0.3333333333333333,
              "#9c179e"
             ],
             [
              0.4444444444444444,
              "#bd3786"
             ],
             [
              0.5555555555555556,
              "#d8576b"
             ],
             [
              0.6666666666666666,
              "#ed7953"
             ],
             [
              0.7777777777777778,
              "#fb9f3a"
             ],
             [
              0.8888888888888888,
              "#fdca26"
             ],
             [
              1,
              "#f0f921"
             ]
            ],
            "type": "heatmapgl"
           }
          ],
          "histogram": [
           {
            "marker": {
             "pattern": {
              "fillmode": "overlay",
              "size": 10,
              "solidity": 0.2
             }
            },
            "type": "histogram"
           }
          ],
          "histogram2d": [
           {
            "colorbar": {
             "outlinewidth": 0,
             "ticks": ""
            },
            "colorscale": [
             [
              0,
              "#0d0887"
             ],
             [
              0.1111111111111111,
              "#46039f"
             ],
             [
              0.2222222222222222,
              "#7201a8"
             ],
             [
              0.3333333333333333,
              "#9c179e"
             ],
             [
              0.4444444444444444,
              "#bd3786"
             ],
             [
              0.5555555555555556,
              "#d8576b"
             ],
             [
              0.6666666666666666,
              "#ed7953"
             ],
             [
              0.7777777777777778,
              "#fb9f3a"
             ],
             [
              0.8888888888888888,
              "#fdca26"
             ],
             [
              1,
              "#f0f921"
             ]
            ],
            "type": "histogram2d"
           }
          ],
          "histogram2dcontour": [
           {
            "colorbar": {
             "outlinewidth": 0,
             "ticks": ""
            },
            "colorscale": [
             [
              0,
              "#0d0887"
             ],
             [
              0.1111111111111111,
              "#46039f"
             ],
             [
              0.2222222222222222,
              "#7201a8"
             ],
             [
              0.3333333333333333,
              "#9c179e"
             ],
             [
              0.4444444444444444,
              "#bd3786"
             ],
             [
              0.5555555555555556,
              "#d8576b"
             ],
             [
              0.6666666666666666,
              "#ed7953"
             ],
             [
              0.7777777777777778,
              "#fb9f3a"
             ],
             [
              0.8888888888888888,
              "#fdca26"
             ],
             [
              1,
              "#f0f921"
             ]
            ],
            "type": "histogram2dcontour"
           }
          ],
          "mesh3d": [
           {
            "colorbar": {
             "outlinewidth": 0,
             "ticks": ""
            },
            "type": "mesh3d"
           }
          ],
          "parcoords": [
           {
            "line": {
             "colorbar": {
              "outlinewidth": 0,
              "ticks": ""
             }
            },
            "type": "parcoords"
           }
          ],
          "pie": [
           {
            "automargin": true,
            "type": "pie"
           }
          ],
          "scatter": [
           {
            "fillpattern": {
             "fillmode": "overlay",
             "size": 10,
             "solidity": 0.2
            },
            "type": "scatter"
           }
          ],
          "scatter3d": [
           {
            "line": {
             "colorbar": {
              "outlinewidth": 0,
              "ticks": ""
             }
            },
            "marker": {
             "colorbar": {
              "outlinewidth": 0,
              "ticks": ""
             }
            },
            "type": "scatter3d"
           }
          ],
          "scattercarpet": [
           {
            "marker": {
             "colorbar": {
              "outlinewidth": 0,
              "ticks": ""
             }
            },
            "type": "scattercarpet"
           }
          ],
          "scattergeo": [
           {
            "marker": {
             "colorbar": {
              "outlinewidth": 0,
              "ticks": ""
             }
            },
            "type": "scattergeo"
           }
          ],
          "scattergl": [
           {
            "marker": {
             "colorbar": {
              "outlinewidth": 0,
              "ticks": ""
             }
            },
            "type": "scattergl"
           }
          ],
          "scattermapbox": [
           {
            "marker": {
             "colorbar": {
              "outlinewidth": 0,
              "ticks": ""
             }
            },
            "type": "scattermapbox"
           }
          ],
          "scatterpolar": [
           {
            "marker": {
             "colorbar": {
              "outlinewidth": 0,
              "ticks": ""
             }
            },
            "type": "scatterpolar"
           }
          ],
          "scatterpolargl": [
           {
            "marker": {
             "colorbar": {
              "outlinewidth": 0,
              "ticks": ""
             }
            },
            "type": "scatterpolargl"
           }
          ],
          "scatterternary": [
           {
            "marker": {
             "colorbar": {
              "outlinewidth": 0,
              "ticks": ""
             }
            },
            "type": "scatterternary"
           }
          ],
          "surface": [
           {
            "colorbar": {
             "outlinewidth": 0,
             "ticks": ""
            },
            "colorscale": [
             [
              0,
              "#0d0887"
             ],
             [
              0.1111111111111111,
              "#46039f"
             ],
             [
              0.2222222222222222,
              "#7201a8"
             ],
             [
              0.3333333333333333,
              "#9c179e"
             ],
             [
              0.4444444444444444,
              "#bd3786"
             ],
             [
              0.5555555555555556,
              "#d8576b"
             ],
             [
              0.6666666666666666,
              "#ed7953"
             ],
             [
              0.7777777777777778,
              "#fb9f3a"
             ],
             [
              0.8888888888888888,
              "#fdca26"
             ],
             [
              1,
              "#f0f921"
             ]
            ],
            "type": "surface"
           }
          ],
          "table": [
           {
            "cells": {
             "fill": {
              "color": "#EBF0F8"
             },
             "line": {
              "color": "white"
             }
            },
            "header": {
             "fill": {
              "color": "#C8D4E3"
             },
             "line": {
              "color": "white"
             }
            },
            "type": "table"
           }
          ]
         },
         "layout": {
          "annotationdefaults": {
           "arrowcolor": "#2a3f5f",
           "arrowhead": 0,
           "arrowwidth": 1
          },
          "autotypenumbers": "strict",
          "coloraxis": {
           "colorbar": {
            "outlinewidth": 0,
            "ticks": ""
           }
          },
          "colorscale": {
           "diverging": [
            [
             0,
             "#8e0152"
            ],
            [
             0.1,
             "#c51b7d"
            ],
            [
             0.2,
             "#de77ae"
            ],
            [
             0.3,
             "#f1b6da"
            ],
            [
             0.4,
             "#fde0ef"
            ],
            [
             0.5,
             "#f7f7f7"
            ],
            [
             0.6,
             "#e6f5d0"
            ],
            [
             0.7,
             "#b8e186"
            ],
            [
             0.8,
             "#7fbc41"
            ],
            [
             0.9,
             "#4d9221"
            ],
            [
             1,
             "#276419"
            ]
           ],
           "sequential": [
            [
             0,
             "#0d0887"
            ],
            [
             0.1111111111111111,
             "#46039f"
            ],
            [
             0.2222222222222222,
             "#7201a8"
            ],
            [
             0.3333333333333333,
             "#9c179e"
            ],
            [
             0.4444444444444444,
             "#bd3786"
            ],
            [
             0.5555555555555556,
             "#d8576b"
            ],
            [
             0.6666666666666666,
             "#ed7953"
            ],
            [
             0.7777777777777778,
             "#fb9f3a"
            ],
            [
             0.8888888888888888,
             "#fdca26"
            ],
            [
             1,
             "#f0f921"
            ]
           ],
           "sequentialminus": [
            [
             0,
             "#0d0887"
            ],
            [
             0.1111111111111111,
             "#46039f"
            ],
            [
             0.2222222222222222,
             "#7201a8"
            ],
            [
             0.3333333333333333,
             "#9c179e"
            ],
            [
             0.4444444444444444,
             "#bd3786"
            ],
            [
             0.5555555555555556,
             "#d8576b"
            ],
            [
             0.6666666666666666,
             "#ed7953"
            ],
            [
             0.7777777777777778,
             "#fb9f3a"
            ],
            [
             0.8888888888888888,
             "#fdca26"
            ],
            [
             1,
             "#f0f921"
            ]
           ]
          },
          "colorway": [
           "#636efa",
           "#EF553B",
           "#00cc96",
           "#ab63fa",
           "#FFA15A",
           "#19d3f3",
           "#FF6692",
           "#B6E880",
           "#FF97FF",
           "#FECB52"
          ],
          "font": {
           "color": "#2a3f5f"
          },
          "geo": {
           "bgcolor": "white",
           "lakecolor": "white",
           "landcolor": "#E5ECF6",
           "showlakes": true,
           "showland": true,
           "subunitcolor": "white"
          },
          "hoverlabel": {
           "align": "left"
          },
          "hovermode": "closest",
          "mapbox": {
           "style": "light"
          },
          "paper_bgcolor": "white",
          "plot_bgcolor": "#E5ECF6",
          "polar": {
           "angularaxis": {
            "gridcolor": "white",
            "linecolor": "white",
            "ticks": ""
           },
           "bgcolor": "#E5ECF6",
           "radialaxis": {
            "gridcolor": "white",
            "linecolor": "white",
            "ticks": ""
           }
          },
          "scene": {
           "xaxis": {
            "backgroundcolor": "#E5ECF6",
            "gridcolor": "white",
            "gridwidth": 2,
            "linecolor": "white",
            "showbackground": true,
            "ticks": "",
            "zerolinecolor": "white"
           },
           "yaxis": {
            "backgroundcolor": "#E5ECF6",
            "gridcolor": "white",
            "gridwidth": 2,
            "linecolor": "white",
            "showbackground": true,
            "ticks": "",
            "zerolinecolor": "white"
           },
           "zaxis": {
            "backgroundcolor": "#E5ECF6",
            "gridcolor": "white",
            "gridwidth": 2,
            "linecolor": "white",
            "showbackground": true,
            "ticks": "",
            "zerolinecolor": "white"
           }
          },
          "shapedefaults": {
           "line": {
            "color": "#2a3f5f"
           }
          },
          "ternary": {
           "aaxis": {
            "gridcolor": "white",
            "linecolor": "white",
            "ticks": ""
           },
           "baxis": {
            "gridcolor": "white",
            "linecolor": "white",
            "ticks": ""
           },
           "bgcolor": "#E5ECF6",
           "caxis": {
            "gridcolor": "white",
            "linecolor": "white",
            "ticks": ""
           }
          },
          "title": {
           "x": 0.05
          },
          "xaxis": {
           "automargin": true,
           "gridcolor": "white",
           "linecolor": "white",
           "ticks": "",
           "title": {
            "standoff": 15
           },
           "zerolinecolor": "white",
           "zerolinewidth": 2
          },
          "yaxis": {
           "automargin": true,
           "gridcolor": "white",
           "linecolor": "white",
           "ticks": "",
           "title": {
            "standoff": 15
           },
           "zerolinecolor": "white",
           "zerolinewidth": 2
          }
         }
        },
        "title": {
         "text": "Year vs Uploads"
        },
        "xaxis": {
         "anchor": "y",
         "domain": [
          0,
          1
         ],
         "title": {
          "text": "publishYear"
         }
        },
        "yaxis": {
         "anchor": "x",
         "domain": [
          0,
          1
         ],
         "title": {
          "text": "Title"
         }
        }
       }
      },
      "text/html": [
       "<div>                            <div id=\"b6b70a4b-03d6-45f1-86db-456628469598\" class=\"plotly-graph-div\" style=\"height:525px; width:100%;\"></div>            <script type=\"text/javascript\">                require([\"plotly\"], function(Plotly) {                    window.PLOTLYENV=window.PLOTLYENV || {};                                    if (document.getElementById(\"b6b70a4b-03d6-45f1-86db-456628469598\")) {                    Plotly.newPlot(                        \"b6b70a4b-03d6-45f1-86db-456628469598\",                        [{\"hovertemplate\":\"publishYear=%{x}<br>Title=%{y}<extra></extra>\",\"legendgroup\":\"\",\"line\":{\"color\":\"#636efa\",\"dash\":\"solid\"},\"marker\":{\"symbol\":\"circle\"},\"mode\":\"lines\",\"name\":\"\",\"orientation\":\"v\",\"showlegend\":false,\"x\":[\"2012\",\"2013\",\"2014\",\"2015\",\"2016\",\"2017\",\"2018\",\"2019\",\"2020\",\"2021\",\"2022\",\"2023\"],\"xaxis\":\"x\",\"y\":[2,84,70,212,89,35,82,67,38,26,19,38],\"yaxis\":\"y\",\"type\":\"scatter\"}],                        {\"template\":{\"data\":{\"histogram2dcontour\":[{\"type\":\"histogram2dcontour\",\"colorbar\":{\"outlinewidth\":0,\"ticks\":\"\"},\"colorscale\":[[0.0,\"#0d0887\"],[0.1111111111111111,\"#46039f\"],[0.2222222222222222,\"#7201a8\"],[0.3333333333333333,\"#9c179e\"],[0.4444444444444444,\"#bd3786\"],[0.5555555555555556,\"#d8576b\"],[0.6666666666666666,\"#ed7953\"],[0.7777777777777778,\"#fb9f3a\"],[0.8888888888888888,\"#fdca26\"],[1.0,\"#f0f921\"]]}],\"choropleth\":[{\"type\":\"choropleth\",\"colorbar\":{\"outlinewidth\":0,\"ticks\":\"\"}}],\"histogram2d\":[{\"type\":\"histogram2d\",\"colorbar\":{\"outlinewidth\":0,\"ticks\":\"\"},\"colorscale\":[[0.0,\"#0d0887\"],[0.1111111111111111,\"#46039f\"],[0.2222222222222222,\"#7201a8\"],[0.3333333333333333,\"#9c179e\"],[0.4444444444444444,\"#bd3786\"],[0.5555555555555556,\"#d8576b\"],[0.6666666666666666,\"#ed7953\"],[0.7777777777777778,\"#fb9f3a\"],[0.8888888888888888,\"#fdca26\"],[1.0,\"#f0f921\"]]}],\"heatmap\":[{\"type\":\"heatmap\",\"colorbar\":{\"outlinewidth\":0,\"ticks\":\"\"},\"colorscale\":[[0.0,\"#0d0887\"],[0.1111111111111111,\"#46039f\"],[0.2222222222222222,\"#7201a8\"],[0.3333333333333333,\"#9c179e\"],[0.4444444444444444,\"#bd3786\"],[0.5555555555555556,\"#d8576b\"],[0.6666666666666666,\"#ed7953\"],[0.7777777777777778,\"#fb9f3a\"],[0.8888888888888888,\"#fdca26\"],[1.0,\"#f0f921\"]]}],\"heatmapgl\":[{\"type\":\"heatmapgl\",\"colorbar\":{\"outlinewidth\":0,\"ticks\":\"\"},\"colorscale\":[[0.0,\"#0d0887\"],[0.1111111111111111,\"#46039f\"],[0.2222222222222222,\"#7201a8\"],[0.3333333333333333,\"#9c179e\"],[0.4444444444444444,\"#bd3786\"],[0.5555555555555556,\"#d8576b\"],[0.6666666666666666,\"#ed7953\"],[0.7777777777777778,\"#fb9f3a\"],[0.8888888888888888,\"#fdca26\"],[1.0,\"#f0f921\"]]}],\"contourcarpet\":[{\"type\":\"contourcarpet\",\"colorbar\":{\"outlinewidth\":0,\"ticks\":\"\"}}],\"contour\":[{\"type\":\"contour\",\"colorbar\":{\"outlinewidth\":0,\"ticks\":\"\"},\"colorscale\":[[0.0,\"#0d0887\"],[0.1111111111111111,\"#46039f\"],[0.2222222222222222,\"#7201a8\"],[0.3333333333333333,\"#9c179e\"],[0.4444444444444444,\"#bd3786\"],[0.5555555555555556,\"#d8576b\"],[0.6666666666666666,\"#ed7953\"],[0.7777777777777778,\"#fb9f3a\"],[0.8888888888888888,\"#fdca26\"],[1.0,\"#f0f921\"]]}],\"surface\":[{\"type\":\"surface\",\"colorbar\":{\"outlinewidth\":0,\"ticks\":\"\"},\"colorscale\":[[0.0,\"#0d0887\"],[0.1111111111111111,\"#46039f\"],[0.2222222222222222,\"#7201a8\"],[0.3333333333333333,\"#9c179e\"],[0.4444444444444444,\"#bd3786\"],[0.5555555555555556,\"#d8576b\"],[0.6666666666666666,\"#ed7953\"],[0.7777777777777778,\"#fb9f3a\"],[0.8888888888888888,\"#fdca26\"],[1.0,\"#f0f921\"]]}],\"mesh3d\":[{\"type\":\"mesh3d\",\"colorbar\":{\"outlinewidth\":0,\"ticks\":\"\"}}],\"scatter\":[{\"fillpattern\":{\"fillmode\":\"overlay\",\"size\":10,\"solidity\":0.2},\"type\":\"scatter\"}],\"parcoords\":[{\"type\":\"parcoords\",\"line\":{\"colorbar\":{\"outlinewidth\":0,\"ticks\":\"\"}}}],\"scatterpolargl\":[{\"type\":\"scatterpolargl\",\"marker\":{\"colorbar\":{\"outlinewidth\":0,\"ticks\":\"\"}}}],\"bar\":[{\"error_x\":{\"color\":\"#2a3f5f\"},\"error_y\":{\"color\":\"#2a3f5f\"},\"marker\":{\"line\":{\"color\":\"#E5ECF6\",\"width\":0.5},\"pattern\":{\"fillmode\":\"overlay\",\"size\":10,\"solidity\":0.2}},\"type\":\"bar\"}],\"scattergeo\":[{\"type\":\"scattergeo\",\"marker\":{\"colorbar\":{\"outlinewidth\":0,\"ticks\":\"\"}}}],\"scatterpolar\":[{\"type\":\"scatterpolar\",\"marker\":{\"colorbar\":{\"outlinewidth\":0,\"ticks\":\"\"}}}],\"histogram\":[{\"marker\":{\"pattern\":{\"fillmode\":\"overlay\",\"size\":10,\"solidity\":0.2}},\"type\":\"histogram\"}],\"scattergl\":[{\"type\":\"scattergl\",\"marker\":{\"colorbar\":{\"outlinewidth\":0,\"ticks\":\"\"}}}],\"scatter3d\":[{\"type\":\"scatter3d\",\"line\":{\"colorbar\":{\"outlinewidth\":0,\"ticks\":\"\"}},\"marker\":{\"colorbar\":{\"outlinewidth\":0,\"ticks\":\"\"}}}],\"scattermapbox\":[{\"type\":\"scattermapbox\",\"marker\":{\"colorbar\":{\"outlinewidth\":0,\"ticks\":\"\"}}}],\"scatterternary\":[{\"type\":\"scatterternary\",\"marker\":{\"colorbar\":{\"outlinewidth\":0,\"ticks\":\"\"}}}],\"scattercarpet\":[{\"type\":\"scattercarpet\",\"marker\":{\"colorbar\":{\"outlinewidth\":0,\"ticks\":\"\"}}}],\"carpet\":[{\"aaxis\":{\"endlinecolor\":\"#2a3f5f\",\"gridcolor\":\"white\",\"linecolor\":\"white\",\"minorgridcolor\":\"white\",\"startlinecolor\":\"#2a3f5f\"},\"baxis\":{\"endlinecolor\":\"#2a3f5f\",\"gridcolor\":\"white\",\"linecolor\":\"white\",\"minorgridcolor\":\"white\",\"startlinecolor\":\"#2a3f5f\"},\"type\":\"carpet\"}],\"table\":[{\"cells\":{\"fill\":{\"color\":\"#EBF0F8\"},\"line\":{\"color\":\"white\"}},\"header\":{\"fill\":{\"color\":\"#C8D4E3\"},\"line\":{\"color\":\"white\"}},\"type\":\"table\"}],\"barpolar\":[{\"marker\":{\"line\":{\"color\":\"#E5ECF6\",\"width\":0.5},\"pattern\":{\"fillmode\":\"overlay\",\"size\":10,\"solidity\":0.2}},\"type\":\"barpolar\"}],\"pie\":[{\"automargin\":true,\"type\":\"pie\"}]},\"layout\":{\"autotypenumbers\":\"strict\",\"colorway\":[\"#636efa\",\"#EF553B\",\"#00cc96\",\"#ab63fa\",\"#FFA15A\",\"#19d3f3\",\"#FF6692\",\"#B6E880\",\"#FF97FF\",\"#FECB52\"],\"font\":{\"color\":\"#2a3f5f\"},\"hovermode\":\"closest\",\"hoverlabel\":{\"align\":\"left\"},\"paper_bgcolor\":\"white\",\"plot_bgcolor\":\"#E5ECF6\",\"polar\":{\"bgcolor\":\"#E5ECF6\",\"angularaxis\":{\"gridcolor\":\"white\",\"linecolor\":\"white\",\"ticks\":\"\"},\"radialaxis\":{\"gridcolor\":\"white\",\"linecolor\":\"white\",\"ticks\":\"\"}},\"ternary\":{\"bgcolor\":\"#E5ECF6\",\"aaxis\":{\"gridcolor\":\"white\",\"linecolor\":\"white\",\"ticks\":\"\"},\"baxis\":{\"gridcolor\":\"white\",\"linecolor\":\"white\",\"ticks\":\"\"},\"caxis\":{\"gridcolor\":\"white\",\"linecolor\":\"white\",\"ticks\":\"\"}},\"coloraxis\":{\"colorbar\":{\"outlinewidth\":0,\"ticks\":\"\"}},\"colorscale\":{\"sequential\":[[0.0,\"#0d0887\"],[0.1111111111111111,\"#46039f\"],[0.2222222222222222,\"#7201a8\"],[0.3333333333333333,\"#9c179e\"],[0.4444444444444444,\"#bd3786\"],[0.5555555555555556,\"#d8576b\"],[0.6666666666666666,\"#ed7953\"],[0.7777777777777778,\"#fb9f3a\"],[0.8888888888888888,\"#fdca26\"],[1.0,\"#f0f921\"]],\"sequentialminus\":[[0.0,\"#0d0887\"],[0.1111111111111111,\"#46039f\"],[0.2222222222222222,\"#7201a8\"],[0.3333333333333333,\"#9c179e\"],[0.4444444444444444,\"#bd3786\"],[0.5555555555555556,\"#d8576b\"],[0.6666666666666666,\"#ed7953\"],[0.7777777777777778,\"#fb9f3a\"],[0.8888888888888888,\"#fdca26\"],[1.0,\"#f0f921\"]],\"diverging\":[[0,\"#8e0152\"],[0.1,\"#c51b7d\"],[0.2,\"#de77ae\"],[0.3,\"#f1b6da\"],[0.4,\"#fde0ef\"],[0.5,\"#f7f7f7\"],[0.6,\"#e6f5d0\"],[0.7,\"#b8e186\"],[0.8,\"#7fbc41\"],[0.9,\"#4d9221\"],[1,\"#276419\"]]},\"xaxis\":{\"gridcolor\":\"white\",\"linecolor\":\"white\",\"ticks\":\"\",\"title\":{\"standoff\":15},\"zerolinecolor\":\"white\",\"automargin\":true,\"zerolinewidth\":2},\"yaxis\":{\"gridcolor\":\"white\",\"linecolor\":\"white\",\"ticks\":\"\",\"title\":{\"standoff\":15},\"zerolinecolor\":\"white\",\"automargin\":true,\"zerolinewidth\":2},\"scene\":{\"xaxis\":{\"backgroundcolor\":\"#E5ECF6\",\"gridcolor\":\"white\",\"linecolor\":\"white\",\"showbackground\":true,\"ticks\":\"\",\"zerolinecolor\":\"white\",\"gridwidth\":2},\"yaxis\":{\"backgroundcolor\":\"#E5ECF6\",\"gridcolor\":\"white\",\"linecolor\":\"white\",\"showbackground\":true,\"ticks\":\"\",\"zerolinecolor\":\"white\",\"gridwidth\":2},\"zaxis\":{\"backgroundcolor\":\"#E5ECF6\",\"gridcolor\":\"white\",\"linecolor\":\"white\",\"showbackground\":true,\"ticks\":\"\",\"zerolinecolor\":\"white\",\"gridwidth\":2}},\"shapedefaults\":{\"line\":{\"color\":\"#2a3f5f\"}},\"annotationdefaults\":{\"arrowcolor\":\"#2a3f5f\",\"arrowhead\":0,\"arrowwidth\":1},\"geo\":{\"bgcolor\":\"white\",\"landcolor\":\"#E5ECF6\",\"subunitcolor\":\"white\",\"showland\":true,\"showlakes\":true,\"lakecolor\":\"white\"},\"title\":{\"x\":0.05},\"mapbox\":{\"style\":\"light\"}}},\"xaxis\":{\"anchor\":\"y\",\"domain\":[0.0,1.0],\"title\":{\"text\":\"publishYear\"}},\"yaxis\":{\"anchor\":\"x\",\"domain\":[0.0,1.0],\"title\":{\"text\":\"Title\"}},\"legend\":{\"tracegroupgap\":0},\"title\":{\"text\":\"Year vs Uploads\"}},                        {\"responsive\": true}                    ).then(function(){\n",
       "                            \n",
       "var gd = document.getElementById('b6b70a4b-03d6-45f1-86db-456628469598');\n",
       "var x = new MutationObserver(function (mutations, observer) {{\n",
       "        var display = window.getComputedStyle(gd).display;\n",
       "        if (!display || display === 'none') {{\n",
       "            console.log([gd, 'removed!']);\n",
       "            Plotly.purge(gd);\n",
       "            observer.disconnect();\n",
       "        }}\n",
       "}});\n",
       "\n",
       "// Listen for the removal of the full notebook cells\n",
       "var notebookContainer = gd.closest('#notebook-container');\n",
       "if (notebookContainer) {{\n",
       "    x.observe(notebookContainer, {childList: true});\n",
       "}}\n",
       "\n",
       "// Listen for the clearing of the current output cell\n",
       "var outputEl = gd.closest('.output');\n",
       "if (outputEl) {{\n",
       "    x.observe(outputEl, {childList: true});\n",
       "}}\n",
       "\n",
       "                        })                };                });            </script>        </div>"
      ]
     },
     "metadata": {},
     "output_type": "display_data"
    }
   ],
   "source": [
    "px.line(ty,x='publishYear',y='Title',title = 'Year vs Uploads')"
   ]
  },
  {
   "cell_type": "code",
   "execution_count": 866,
   "id": "0d798650",
   "metadata": {
    "scrolled": true
   },
   "outputs": [
    {
     "data": {
      "application/vnd.plotly.v1+json": {
       "config": {
        "plotlyServerURL": "https://plot.ly"
       },
       "data": [
        {
         "hovertemplate": "publishYear=%{x}<br>Views=%{y}<extra></extra>",
         "legendgroup": "",
         "line": {
          "color": "#636efa",
          "dash": "solid"
         },
         "marker": {
          "symbol": "circle"
         },
         "mode": "lines",
         "name": "",
         "orientation": "v",
         "showlegend": false,
         "type": "scatter",
         "x": [
          "2012",
          "2013",
          "2014",
          "2015",
          "2016",
          "2017",
          "2018",
          "2019",
          "2020",
          "2021",
          "2022",
          "2023"
         ],
         "xaxis": "x",
         "y": [
          23757291,
          29887945,
          29828486,
          58860047,
          256258656,
          571328288,
          3850385469,
          7461523721,
          6115052667,
          4898784324,
          5547914892,
          7015097284
         ],
         "yaxis": "y"
        }
       ],
       "layout": {
        "legend": {
         "tracegroupgap": 0
        },
        "template": {
         "data": {
          "bar": [
           {
            "error_x": {
             "color": "#2a3f5f"
            },
            "error_y": {
             "color": "#2a3f5f"
            },
            "marker": {
             "line": {
              "color": "#E5ECF6",
              "width": 0.5
             },
             "pattern": {
              "fillmode": "overlay",
              "size": 10,
              "solidity": 0.2
             }
            },
            "type": "bar"
           }
          ],
          "barpolar": [
           {
            "marker": {
             "line": {
              "color": "#E5ECF6",
              "width": 0.5
             },
             "pattern": {
              "fillmode": "overlay",
              "size": 10,
              "solidity": 0.2
             }
            },
            "type": "barpolar"
           }
          ],
          "carpet": [
           {
            "aaxis": {
             "endlinecolor": "#2a3f5f",
             "gridcolor": "white",
             "linecolor": "white",
             "minorgridcolor": "white",
             "startlinecolor": "#2a3f5f"
            },
            "baxis": {
             "endlinecolor": "#2a3f5f",
             "gridcolor": "white",
             "linecolor": "white",
             "minorgridcolor": "white",
             "startlinecolor": "#2a3f5f"
            },
            "type": "carpet"
           }
          ],
          "choropleth": [
           {
            "colorbar": {
             "outlinewidth": 0,
             "ticks": ""
            },
            "type": "choropleth"
           }
          ],
          "contour": [
           {
            "colorbar": {
             "outlinewidth": 0,
             "ticks": ""
            },
            "colorscale": [
             [
              0,
              "#0d0887"
             ],
             [
              0.1111111111111111,
              "#46039f"
             ],
             [
              0.2222222222222222,
              "#7201a8"
             ],
             [
              0.3333333333333333,
              "#9c179e"
             ],
             [
              0.4444444444444444,
              "#bd3786"
             ],
             [
              0.5555555555555556,
              "#d8576b"
             ],
             [
              0.6666666666666666,
              "#ed7953"
             ],
             [
              0.7777777777777778,
              "#fb9f3a"
             ],
             [
              0.8888888888888888,
              "#fdca26"
             ],
             [
              1,
              "#f0f921"
             ]
            ],
            "type": "contour"
           }
          ],
          "contourcarpet": [
           {
            "colorbar": {
             "outlinewidth": 0,
             "ticks": ""
            },
            "type": "contourcarpet"
           }
          ],
          "heatmap": [
           {
            "colorbar": {
             "outlinewidth": 0,
             "ticks": ""
            },
            "colorscale": [
             [
              0,
              "#0d0887"
             ],
             [
              0.1111111111111111,
              "#46039f"
             ],
             [
              0.2222222222222222,
              "#7201a8"
             ],
             [
              0.3333333333333333,
              "#9c179e"
             ],
             [
              0.4444444444444444,
              "#bd3786"
             ],
             [
              0.5555555555555556,
              "#d8576b"
             ],
             [
              0.6666666666666666,
              "#ed7953"
             ],
             [
              0.7777777777777778,
              "#fb9f3a"
             ],
             [
              0.8888888888888888,
              "#fdca26"
             ],
             [
              1,
              "#f0f921"
             ]
            ],
            "type": "heatmap"
           }
          ],
          "heatmapgl": [
           {
            "colorbar": {
             "outlinewidth": 0,
             "ticks": ""
            },
            "colorscale": [
             [
              0,
              "#0d0887"
             ],
             [
              0.1111111111111111,
              "#46039f"
             ],
             [
              0.2222222222222222,
              "#7201a8"
             ],
             [
              0.3333333333333333,
              "#9c179e"
             ],
             [
              0.4444444444444444,
              "#bd3786"
             ],
             [
              0.5555555555555556,
              "#d8576b"
             ],
             [
              0.6666666666666666,
              "#ed7953"
             ],
             [
              0.7777777777777778,
              "#fb9f3a"
             ],
             [
              0.8888888888888888,
              "#fdca26"
             ],
             [
              1,
              "#f0f921"
             ]
            ],
            "type": "heatmapgl"
           }
          ],
          "histogram": [
           {
            "marker": {
             "pattern": {
              "fillmode": "overlay",
              "size": 10,
              "solidity": 0.2
             }
            },
            "type": "histogram"
           }
          ],
          "histogram2d": [
           {
            "colorbar": {
             "outlinewidth": 0,
             "ticks": ""
            },
            "colorscale": [
             [
              0,
              "#0d0887"
             ],
             [
              0.1111111111111111,
              "#46039f"
             ],
             [
              0.2222222222222222,
              "#7201a8"
             ],
             [
              0.3333333333333333,
              "#9c179e"
             ],
             [
              0.4444444444444444,
              "#bd3786"
             ],
             [
              0.5555555555555556,
              "#d8576b"
             ],
             [
              0.6666666666666666,
              "#ed7953"
             ],
             [
              0.7777777777777778,
              "#fb9f3a"
             ],
             [
              0.8888888888888888,
              "#fdca26"
             ],
             [
              1,
              "#f0f921"
             ]
            ],
            "type": "histogram2d"
           }
          ],
          "histogram2dcontour": [
           {
            "colorbar": {
             "outlinewidth": 0,
             "ticks": ""
            },
            "colorscale": [
             [
              0,
              "#0d0887"
             ],
             [
              0.1111111111111111,
              "#46039f"
             ],
             [
              0.2222222222222222,
              "#7201a8"
             ],
             [
              0.3333333333333333,
              "#9c179e"
             ],
             [
              0.4444444444444444,
              "#bd3786"
             ],
             [
              0.5555555555555556,
              "#d8576b"
             ],
             [
              0.6666666666666666,
              "#ed7953"
             ],
             [
              0.7777777777777778,
              "#fb9f3a"
             ],
             [
              0.8888888888888888,
              "#fdca26"
             ],
             [
              1,
              "#f0f921"
             ]
            ],
            "type": "histogram2dcontour"
           }
          ],
          "mesh3d": [
           {
            "colorbar": {
             "outlinewidth": 0,
             "ticks": ""
            },
            "type": "mesh3d"
           }
          ],
          "parcoords": [
           {
            "line": {
             "colorbar": {
              "outlinewidth": 0,
              "ticks": ""
             }
            },
            "type": "parcoords"
           }
          ],
          "pie": [
           {
            "automargin": true,
            "type": "pie"
           }
          ],
          "scatter": [
           {
            "fillpattern": {
             "fillmode": "overlay",
             "size": 10,
             "solidity": 0.2
            },
            "type": "scatter"
           }
          ],
          "scatter3d": [
           {
            "line": {
             "colorbar": {
              "outlinewidth": 0,
              "ticks": ""
             }
            },
            "marker": {
             "colorbar": {
              "outlinewidth": 0,
              "ticks": ""
             }
            },
            "type": "scatter3d"
           }
          ],
          "scattercarpet": [
           {
            "marker": {
             "colorbar": {
              "outlinewidth": 0,
              "ticks": ""
             }
            },
            "type": "scattercarpet"
           }
          ],
          "scattergeo": [
           {
            "marker": {
             "colorbar": {
              "outlinewidth": 0,
              "ticks": ""
             }
            },
            "type": "scattergeo"
           }
          ],
          "scattergl": [
           {
            "marker": {
             "colorbar": {
              "outlinewidth": 0,
              "ticks": ""
             }
            },
            "type": "scattergl"
           }
          ],
          "scattermapbox": [
           {
            "marker": {
             "colorbar": {
              "outlinewidth": 0,
              "ticks": ""
             }
            },
            "type": "scattermapbox"
           }
          ],
          "scatterpolar": [
           {
            "marker": {
             "colorbar": {
              "outlinewidth": 0,
              "ticks": ""
             }
            },
            "type": "scatterpolar"
           }
          ],
          "scatterpolargl": [
           {
            "marker": {
             "colorbar": {
              "outlinewidth": 0,
              "ticks": ""
             }
            },
            "type": "scatterpolargl"
           }
          ],
          "scatterternary": [
           {
            "marker": {
             "colorbar": {
              "outlinewidth": 0,
              "ticks": ""
             }
            },
            "type": "scatterternary"
           }
          ],
          "surface": [
           {
            "colorbar": {
             "outlinewidth": 0,
             "ticks": ""
            },
            "colorscale": [
             [
              0,
              "#0d0887"
             ],
             [
              0.1111111111111111,
              "#46039f"
             ],
             [
              0.2222222222222222,
              "#7201a8"
             ],
             [
              0.3333333333333333,
              "#9c179e"
             ],
             [
              0.4444444444444444,
              "#bd3786"
             ],
             [
              0.5555555555555556,
              "#d8576b"
             ],
             [
              0.6666666666666666,
              "#ed7953"
             ],
             [
              0.7777777777777778,
              "#fb9f3a"
             ],
             [
              0.8888888888888888,
              "#fdca26"
             ],
             [
              1,
              "#f0f921"
             ]
            ],
            "type": "surface"
           }
          ],
          "table": [
           {
            "cells": {
             "fill": {
              "color": "#EBF0F8"
             },
             "line": {
              "color": "white"
             }
            },
            "header": {
             "fill": {
              "color": "#C8D4E3"
             },
             "line": {
              "color": "white"
             }
            },
            "type": "table"
           }
          ]
         },
         "layout": {
          "annotationdefaults": {
           "arrowcolor": "#2a3f5f",
           "arrowhead": 0,
           "arrowwidth": 1
          },
          "autotypenumbers": "strict",
          "coloraxis": {
           "colorbar": {
            "outlinewidth": 0,
            "ticks": ""
           }
          },
          "colorscale": {
           "diverging": [
            [
             0,
             "#8e0152"
            ],
            [
             0.1,
             "#c51b7d"
            ],
            [
             0.2,
             "#de77ae"
            ],
            [
             0.3,
             "#f1b6da"
            ],
            [
             0.4,
             "#fde0ef"
            ],
            [
             0.5,
             "#f7f7f7"
            ],
            [
             0.6,
             "#e6f5d0"
            ],
            [
             0.7,
             "#b8e186"
            ],
            [
             0.8,
             "#7fbc41"
            ],
            [
             0.9,
             "#4d9221"
            ],
            [
             1,
             "#276419"
            ]
           ],
           "sequential": [
            [
             0,
             "#0d0887"
            ],
            [
             0.1111111111111111,
             "#46039f"
            ],
            [
             0.2222222222222222,
             "#7201a8"
            ],
            [
             0.3333333333333333,
             "#9c179e"
            ],
            [
             0.4444444444444444,
             "#bd3786"
            ],
            [
             0.5555555555555556,
             "#d8576b"
            ],
            [
             0.6666666666666666,
             "#ed7953"
            ],
            [
             0.7777777777777778,
             "#fb9f3a"
            ],
            [
             0.8888888888888888,
             "#fdca26"
            ],
            [
             1,
             "#f0f921"
            ]
           ],
           "sequentialminus": [
            [
             0,
             "#0d0887"
            ],
            [
             0.1111111111111111,
             "#46039f"
            ],
            [
             0.2222222222222222,
             "#7201a8"
            ],
            [
             0.3333333333333333,
             "#9c179e"
            ],
            [
             0.4444444444444444,
             "#bd3786"
            ],
            [
             0.5555555555555556,
             "#d8576b"
            ],
            [
             0.6666666666666666,
             "#ed7953"
            ],
            [
             0.7777777777777778,
             "#fb9f3a"
            ],
            [
             0.8888888888888888,
             "#fdca26"
            ],
            [
             1,
             "#f0f921"
            ]
           ]
          },
          "colorway": [
           "#636efa",
           "#EF553B",
           "#00cc96",
           "#ab63fa",
           "#FFA15A",
           "#19d3f3",
           "#FF6692",
           "#B6E880",
           "#FF97FF",
           "#FECB52"
          ],
          "font": {
           "color": "#2a3f5f"
          },
          "geo": {
           "bgcolor": "white",
           "lakecolor": "white",
           "landcolor": "#E5ECF6",
           "showlakes": true,
           "showland": true,
           "subunitcolor": "white"
          },
          "hoverlabel": {
           "align": "left"
          },
          "hovermode": "closest",
          "mapbox": {
           "style": "light"
          },
          "paper_bgcolor": "white",
          "plot_bgcolor": "#E5ECF6",
          "polar": {
           "angularaxis": {
            "gridcolor": "white",
            "linecolor": "white",
            "ticks": ""
           },
           "bgcolor": "#E5ECF6",
           "radialaxis": {
            "gridcolor": "white",
            "linecolor": "white",
            "ticks": ""
           }
          },
          "scene": {
           "xaxis": {
            "backgroundcolor": "#E5ECF6",
            "gridcolor": "white",
            "gridwidth": 2,
            "linecolor": "white",
            "showbackground": true,
            "ticks": "",
            "zerolinecolor": "white"
           },
           "yaxis": {
            "backgroundcolor": "#E5ECF6",
            "gridcolor": "white",
            "gridwidth": 2,
            "linecolor": "white",
            "showbackground": true,
            "ticks": "",
            "zerolinecolor": "white"
           },
           "zaxis": {
            "backgroundcolor": "#E5ECF6",
            "gridcolor": "white",
            "gridwidth": 2,
            "linecolor": "white",
            "showbackground": true,
            "ticks": "",
            "zerolinecolor": "white"
           }
          },
          "shapedefaults": {
           "line": {
            "color": "#2a3f5f"
           }
          },
          "ternary": {
           "aaxis": {
            "gridcolor": "white",
            "linecolor": "white",
            "ticks": ""
           },
           "baxis": {
            "gridcolor": "white",
            "linecolor": "white",
            "ticks": ""
           },
           "bgcolor": "#E5ECF6",
           "caxis": {
            "gridcolor": "white",
            "linecolor": "white",
            "ticks": ""
           }
          },
          "title": {
           "x": 0.05
          },
          "xaxis": {
           "automargin": true,
           "gridcolor": "white",
           "linecolor": "white",
           "ticks": "",
           "title": {
            "standoff": 15
           },
           "zerolinecolor": "white",
           "zerolinewidth": 2
          },
          "yaxis": {
           "automargin": true,
           "gridcolor": "white",
           "linecolor": "white",
           "ticks": "",
           "title": {
            "standoff": 15
           },
           "zerolinecolor": "white",
           "zerolinewidth": 2
          }
         }
        },
        "title": {
         "text": "Year Vs Views"
        },
        "xaxis": {
         "anchor": "y",
         "domain": [
          0,
          1
         ],
         "title": {
          "text": "publishYear"
         }
        },
        "yaxis": {
         "anchor": "x",
         "domain": [
          0,
          1
         ],
         "title": {
          "text": "Views"
         }
        }
       }
      },
      "text/html": [
       "<div>                            <div id=\"4f03ce1c-f2ec-4df1-bef2-48e5ef25794c\" class=\"plotly-graph-div\" style=\"height:525px; width:100%;\"></div>            <script type=\"text/javascript\">                require([\"plotly\"], function(Plotly) {                    window.PLOTLYENV=window.PLOTLYENV || {};                                    if (document.getElementById(\"4f03ce1c-f2ec-4df1-bef2-48e5ef25794c\")) {                    Plotly.newPlot(                        \"4f03ce1c-f2ec-4df1-bef2-48e5ef25794c\",                        [{\"hovertemplate\":\"publishYear=%{x}<br>Views=%{y}<extra></extra>\",\"legendgroup\":\"\",\"line\":{\"color\":\"#636efa\",\"dash\":\"solid\"},\"marker\":{\"symbol\":\"circle\"},\"mode\":\"lines\",\"name\":\"\",\"orientation\":\"v\",\"showlegend\":false,\"x\":[\"2012\",\"2013\",\"2014\",\"2015\",\"2016\",\"2017\",\"2018\",\"2019\",\"2020\",\"2021\",\"2022\",\"2023\"],\"xaxis\":\"x\",\"y\":[23757291,29887945,29828486,58860047,256258656,571328288,3850385469,7461523721,6115052667,4898784324,5547914892,7015097284],\"yaxis\":\"y\",\"type\":\"scatter\"}],                        {\"template\":{\"data\":{\"histogram2dcontour\":[{\"type\":\"histogram2dcontour\",\"colorbar\":{\"outlinewidth\":0,\"ticks\":\"\"},\"colorscale\":[[0.0,\"#0d0887\"],[0.1111111111111111,\"#46039f\"],[0.2222222222222222,\"#7201a8\"],[0.3333333333333333,\"#9c179e\"],[0.4444444444444444,\"#bd3786\"],[0.5555555555555556,\"#d8576b\"],[0.6666666666666666,\"#ed7953\"],[0.7777777777777778,\"#fb9f3a\"],[0.8888888888888888,\"#fdca26\"],[1.0,\"#f0f921\"]]}],\"choropleth\":[{\"type\":\"choropleth\",\"colorbar\":{\"outlinewidth\":0,\"ticks\":\"\"}}],\"histogram2d\":[{\"type\":\"histogram2d\",\"colorbar\":{\"outlinewidth\":0,\"ticks\":\"\"},\"colorscale\":[[0.0,\"#0d0887\"],[0.1111111111111111,\"#46039f\"],[0.2222222222222222,\"#7201a8\"],[0.3333333333333333,\"#9c179e\"],[0.4444444444444444,\"#bd3786\"],[0.5555555555555556,\"#d8576b\"],[0.6666666666666666,\"#ed7953\"],[0.7777777777777778,\"#fb9f3a\"],[0.8888888888888888,\"#fdca26\"],[1.0,\"#f0f921\"]]}],\"heatmap\":[{\"type\":\"heatmap\",\"colorbar\":{\"outlinewidth\":0,\"ticks\":\"\"},\"colorscale\":[[0.0,\"#0d0887\"],[0.1111111111111111,\"#46039f\"],[0.2222222222222222,\"#7201a8\"],[0.3333333333333333,\"#9c179e\"],[0.4444444444444444,\"#bd3786\"],[0.5555555555555556,\"#d8576b\"],[0.6666666666666666,\"#ed7953\"],[0.7777777777777778,\"#fb9f3a\"],[0.8888888888888888,\"#fdca26\"],[1.0,\"#f0f921\"]]}],\"heatmapgl\":[{\"type\":\"heatmapgl\",\"colorbar\":{\"outlinewidth\":0,\"ticks\":\"\"},\"colorscale\":[[0.0,\"#0d0887\"],[0.1111111111111111,\"#46039f\"],[0.2222222222222222,\"#7201a8\"],[0.3333333333333333,\"#9c179e\"],[0.4444444444444444,\"#bd3786\"],[0.5555555555555556,\"#d8576b\"],[0.6666666666666666,\"#ed7953\"],[0.7777777777777778,\"#fb9f3a\"],[0.8888888888888888,\"#fdca26\"],[1.0,\"#f0f921\"]]}],\"contourcarpet\":[{\"type\":\"contourcarpet\",\"colorbar\":{\"outlinewidth\":0,\"ticks\":\"\"}}],\"contour\":[{\"type\":\"contour\",\"colorbar\":{\"outlinewidth\":0,\"ticks\":\"\"},\"colorscale\":[[0.0,\"#0d0887\"],[0.1111111111111111,\"#46039f\"],[0.2222222222222222,\"#7201a8\"],[0.3333333333333333,\"#9c179e\"],[0.4444444444444444,\"#bd3786\"],[0.5555555555555556,\"#d8576b\"],[0.6666666666666666,\"#ed7953\"],[0.7777777777777778,\"#fb9f3a\"],[0.8888888888888888,\"#fdca26\"],[1.0,\"#f0f921\"]]}],\"surface\":[{\"type\":\"surface\",\"colorbar\":{\"outlinewidth\":0,\"ticks\":\"\"},\"colorscale\":[[0.0,\"#0d0887\"],[0.1111111111111111,\"#46039f\"],[0.2222222222222222,\"#7201a8\"],[0.3333333333333333,\"#9c179e\"],[0.4444444444444444,\"#bd3786\"],[0.5555555555555556,\"#d8576b\"],[0.6666666666666666,\"#ed7953\"],[0.7777777777777778,\"#fb9f3a\"],[0.8888888888888888,\"#fdca26\"],[1.0,\"#f0f921\"]]}],\"mesh3d\":[{\"type\":\"mesh3d\",\"colorbar\":{\"outlinewidth\":0,\"ticks\":\"\"}}],\"scatter\":[{\"fillpattern\":{\"fillmode\":\"overlay\",\"size\":10,\"solidity\":0.2},\"type\":\"scatter\"}],\"parcoords\":[{\"type\":\"parcoords\",\"line\":{\"colorbar\":{\"outlinewidth\":0,\"ticks\":\"\"}}}],\"scatterpolargl\":[{\"type\":\"scatterpolargl\",\"marker\":{\"colorbar\":{\"outlinewidth\":0,\"ticks\":\"\"}}}],\"bar\":[{\"error_x\":{\"color\":\"#2a3f5f\"},\"error_y\":{\"color\":\"#2a3f5f\"},\"marker\":{\"line\":{\"color\":\"#E5ECF6\",\"width\":0.5},\"pattern\":{\"fillmode\":\"overlay\",\"size\":10,\"solidity\":0.2}},\"type\":\"bar\"}],\"scattergeo\":[{\"type\":\"scattergeo\",\"marker\":{\"colorbar\":{\"outlinewidth\":0,\"ticks\":\"\"}}}],\"scatterpolar\":[{\"type\":\"scatterpolar\",\"marker\":{\"colorbar\":{\"outlinewidth\":0,\"ticks\":\"\"}}}],\"histogram\":[{\"marker\":{\"pattern\":{\"fillmode\":\"overlay\",\"size\":10,\"solidity\":0.2}},\"type\":\"histogram\"}],\"scattergl\":[{\"type\":\"scattergl\",\"marker\":{\"colorbar\":{\"outlinewidth\":0,\"ticks\":\"\"}}}],\"scatter3d\":[{\"type\":\"scatter3d\",\"line\":{\"colorbar\":{\"outlinewidth\":0,\"ticks\":\"\"}},\"marker\":{\"colorbar\":{\"outlinewidth\":0,\"ticks\":\"\"}}}],\"scattermapbox\":[{\"type\":\"scattermapbox\",\"marker\":{\"colorbar\":{\"outlinewidth\":0,\"ticks\":\"\"}}}],\"scatterternary\":[{\"type\":\"scatterternary\",\"marker\":{\"colorbar\":{\"outlinewidth\":0,\"ticks\":\"\"}}}],\"scattercarpet\":[{\"type\":\"scattercarpet\",\"marker\":{\"colorbar\":{\"outlinewidth\":0,\"ticks\":\"\"}}}],\"carpet\":[{\"aaxis\":{\"endlinecolor\":\"#2a3f5f\",\"gridcolor\":\"white\",\"linecolor\":\"white\",\"minorgridcolor\":\"white\",\"startlinecolor\":\"#2a3f5f\"},\"baxis\":{\"endlinecolor\":\"#2a3f5f\",\"gridcolor\":\"white\",\"linecolor\":\"white\",\"minorgridcolor\":\"white\",\"startlinecolor\":\"#2a3f5f\"},\"type\":\"carpet\"}],\"table\":[{\"cells\":{\"fill\":{\"color\":\"#EBF0F8\"},\"line\":{\"color\":\"white\"}},\"header\":{\"fill\":{\"color\":\"#C8D4E3\"},\"line\":{\"color\":\"white\"}},\"type\":\"table\"}],\"barpolar\":[{\"marker\":{\"line\":{\"color\":\"#E5ECF6\",\"width\":0.5},\"pattern\":{\"fillmode\":\"overlay\",\"size\":10,\"solidity\":0.2}},\"type\":\"barpolar\"}],\"pie\":[{\"automargin\":true,\"type\":\"pie\"}]},\"layout\":{\"autotypenumbers\":\"strict\",\"colorway\":[\"#636efa\",\"#EF553B\",\"#00cc96\",\"#ab63fa\",\"#FFA15A\",\"#19d3f3\",\"#FF6692\",\"#B6E880\",\"#FF97FF\",\"#FECB52\"],\"font\":{\"color\":\"#2a3f5f\"},\"hovermode\":\"closest\",\"hoverlabel\":{\"align\":\"left\"},\"paper_bgcolor\":\"white\",\"plot_bgcolor\":\"#E5ECF6\",\"polar\":{\"bgcolor\":\"#E5ECF6\",\"angularaxis\":{\"gridcolor\":\"white\",\"linecolor\":\"white\",\"ticks\":\"\"},\"radialaxis\":{\"gridcolor\":\"white\",\"linecolor\":\"white\",\"ticks\":\"\"}},\"ternary\":{\"bgcolor\":\"#E5ECF6\",\"aaxis\":{\"gridcolor\":\"white\",\"linecolor\":\"white\",\"ticks\":\"\"},\"baxis\":{\"gridcolor\":\"white\",\"linecolor\":\"white\",\"ticks\":\"\"},\"caxis\":{\"gridcolor\":\"white\",\"linecolor\":\"white\",\"ticks\":\"\"}},\"coloraxis\":{\"colorbar\":{\"outlinewidth\":0,\"ticks\":\"\"}},\"colorscale\":{\"sequential\":[[0.0,\"#0d0887\"],[0.1111111111111111,\"#46039f\"],[0.2222222222222222,\"#7201a8\"],[0.3333333333333333,\"#9c179e\"],[0.4444444444444444,\"#bd3786\"],[0.5555555555555556,\"#d8576b\"],[0.6666666666666666,\"#ed7953\"],[0.7777777777777778,\"#fb9f3a\"],[0.8888888888888888,\"#fdca26\"],[1.0,\"#f0f921\"]],\"sequentialminus\":[[0.0,\"#0d0887\"],[0.1111111111111111,\"#46039f\"],[0.2222222222222222,\"#7201a8\"],[0.3333333333333333,\"#9c179e\"],[0.4444444444444444,\"#bd3786\"],[0.5555555555555556,\"#d8576b\"],[0.6666666666666666,\"#ed7953\"],[0.7777777777777778,\"#fb9f3a\"],[0.8888888888888888,\"#fdca26\"],[1.0,\"#f0f921\"]],\"diverging\":[[0,\"#8e0152\"],[0.1,\"#c51b7d\"],[0.2,\"#de77ae\"],[0.3,\"#f1b6da\"],[0.4,\"#fde0ef\"],[0.5,\"#f7f7f7\"],[0.6,\"#e6f5d0\"],[0.7,\"#b8e186\"],[0.8,\"#7fbc41\"],[0.9,\"#4d9221\"],[1,\"#276419\"]]},\"xaxis\":{\"gridcolor\":\"white\",\"linecolor\":\"white\",\"ticks\":\"\",\"title\":{\"standoff\":15},\"zerolinecolor\":\"white\",\"automargin\":true,\"zerolinewidth\":2},\"yaxis\":{\"gridcolor\":\"white\",\"linecolor\":\"white\",\"ticks\":\"\",\"title\":{\"standoff\":15},\"zerolinecolor\":\"white\",\"automargin\":true,\"zerolinewidth\":2},\"scene\":{\"xaxis\":{\"backgroundcolor\":\"#E5ECF6\",\"gridcolor\":\"white\",\"linecolor\":\"white\",\"showbackground\":true,\"ticks\":\"\",\"zerolinecolor\":\"white\",\"gridwidth\":2},\"yaxis\":{\"backgroundcolor\":\"#E5ECF6\",\"gridcolor\":\"white\",\"linecolor\":\"white\",\"showbackground\":true,\"ticks\":\"\",\"zerolinecolor\":\"white\",\"gridwidth\":2},\"zaxis\":{\"backgroundcolor\":\"#E5ECF6\",\"gridcolor\":\"white\",\"linecolor\":\"white\",\"showbackground\":true,\"ticks\":\"\",\"zerolinecolor\":\"white\",\"gridwidth\":2}},\"shapedefaults\":{\"line\":{\"color\":\"#2a3f5f\"}},\"annotationdefaults\":{\"arrowcolor\":\"#2a3f5f\",\"arrowhead\":0,\"arrowwidth\":1},\"geo\":{\"bgcolor\":\"white\",\"landcolor\":\"#E5ECF6\",\"subunitcolor\":\"white\",\"showland\":true,\"showlakes\":true,\"lakecolor\":\"white\"},\"title\":{\"x\":0.05},\"mapbox\":{\"style\":\"light\"}}},\"xaxis\":{\"anchor\":\"y\",\"domain\":[0.0,1.0],\"title\":{\"text\":\"publishYear\"}},\"yaxis\":{\"anchor\":\"x\",\"domain\":[0.0,1.0],\"title\":{\"text\":\"Views\"}},\"legend\":{\"tracegroupgap\":0},\"title\":{\"text\":\"Year Vs Views\"}},                        {\"responsive\": true}                    ).then(function(){\n",
       "                            \n",
       "var gd = document.getElementById('4f03ce1c-f2ec-4df1-bef2-48e5ef25794c');\n",
       "var x = new MutationObserver(function (mutations, observer) {{\n",
       "        var display = window.getComputedStyle(gd).display;\n",
       "        if (!display || display === 'none') {{\n",
       "            console.log([gd, 'removed!']);\n",
       "            Plotly.purge(gd);\n",
       "            observer.disconnect();\n",
       "        }}\n",
       "}});\n",
       "\n",
       "// Listen for the removal of the full notebook cells\n",
       "var notebookContainer = gd.closest('#notebook-container');\n",
       "if (notebookContainer) {{\n",
       "    x.observe(notebookContainer, {childList: true});\n",
       "}}\n",
       "\n",
       "// Listen for the clearing of the current output cell\n",
       "var outputEl = gd.closest('.output');\n",
       "if (outputEl) {{\n",
       "    x.observe(outputEl, {childList: true});\n",
       "}}\n",
       "\n",
       "                        })                };                });            </script>        </div>"
      ]
     },
     "metadata": {},
     "output_type": "display_data"
    }
   ],
   "source": [
    "px.line(ty,x='publishYear',y='Views',title = 'Year Vs Views')"
   ]
  },
  {
   "cell_type": "code",
   "execution_count": 867,
   "id": "fd0b2c63",
   "metadata": {
    "scrolled": true
   },
   "outputs": [
    {
     "data": {
      "application/vnd.plotly.v1+json": {
       "config": {
        "plotlyServerURL": "https://plot.ly"
       },
       "data": [
        {
         "alignmentgroup": "True",
         "hovertemplate": "publishTime=%{x}<br>Views=%{y}<extra></extra>",
         "legendgroup": "",
         "marker": {
          "color": "#636efa",
          "pattern": {
           "shape": ""
          }
         },
         "name": "",
         "offsetgroup": "",
         "orientation": "v",
         "showlegend": false,
         "textposition": "auto",
         "type": "bar",
         "x": [
          "00",
          "00",
          "00",
          "00",
          "00",
          "00",
          "00",
          "00",
          "00",
          "00",
          "00",
          "00",
          "00",
          "00",
          "00",
          "00",
          "00",
          "00",
          "00",
          "00",
          "00",
          "00",
          "00",
          "00",
          "00",
          "00",
          "00",
          "00",
          "00",
          "00",
          "00",
          "00",
          "00",
          "00",
          "00",
          "00",
          "00",
          "00",
          "00",
          "00",
          "00",
          "00",
          "00",
          "00",
          "00",
          "01",
          "01",
          "01",
          "01",
          "01",
          "01",
          "01",
          "01",
          "01",
          "01",
          "01",
          "01",
          "01",
          "01",
          "01",
          "01",
          "01",
          "01",
          "01",
          "01",
          "01",
          "01",
          "01",
          "01",
          "01",
          "01",
          "01",
          "01",
          "01",
          "01",
          "01",
          "01",
          "01",
          "01",
          "01",
          "01",
          "01",
          "01",
          "02",
          "02",
          "02",
          "02",
          "02",
          "02",
          "02",
          "02",
          "02",
          "02",
          "02",
          "02",
          "02",
          "02",
          "02",
          "02",
          "02",
          "02",
          "02",
          "02",
          "02",
          "02",
          "02",
          "03",
          "03",
          "03",
          "03",
          "04",
          "06",
          "10",
          "10",
          "10",
          "10",
          "10",
          "10",
          "10",
          "10",
          "10",
          "10",
          "10",
          "10",
          "10",
          "10",
          "10",
          "10",
          "10",
          "10",
          "10",
          "11",
          "11",
          "11",
          "11",
          "12",
          "12",
          "12",
          "13",
          "14",
          "14",
          "14",
          "14",
          "14",
          "14",
          "14",
          "14",
          "15",
          "15",
          "15",
          "15",
          "15",
          "15",
          "15",
          "15",
          "15",
          "15",
          "15",
          "16",
          "16",
          "16",
          "16",
          "16",
          "16",
          "16",
          "16",
          "16",
          "16",
          "16",
          "16",
          "16",
          "16",
          "16",
          "16",
          "16",
          "16",
          "16",
          "16",
          "16",
          "16",
          "16",
          "16",
          "16",
          "16",
          "16",
          "16",
          "16",
          "17",
          "17",
          "17",
          "17",
          "17",
          "17",
          "17",
          "17",
          "17",
          "17",
          "17",
          "17",
          "17",
          "17",
          "17",
          "17",
          "17",
          "17",
          "17",
          "17",
          "17",
          "17",
          "17",
          "17",
          "17",
          "17",
          "17",
          "17",
          "17",
          "17",
          "17",
          "17",
          "17",
          "17",
          "17",
          "17",
          "17",
          "17",
          "17",
          "17",
          "18",
          "18",
          "18",
          "18",
          "18",
          "18",
          "18",
          "18",
          "18",
          "18",
          "18",
          "18",
          "18",
          "18",
          "18",
          "18",
          "18",
          "18",
          "18",
          "18",
          "18",
          "18",
          "18",
          "18",
          "18",
          "18",
          "18",
          "18",
          "18",
          "19",
          "19",
          "19",
          "19",
          "19",
          "19",
          "19",
          "19",
          "19",
          "19",
          "19",
          "19",
          "19",
          "19",
          "19",
          "19",
          "19",
          "19",
          "19",
          "19",
          "19",
          "19",
          "19",
          "19",
          "19",
          "19",
          "19",
          "19",
          "19",
          "19",
          "19",
          "19",
          "19",
          "19",
          "19",
          "19",
          "19",
          "19",
          "19",
          "20",
          "20",
          "20",
          "20",
          "20",
          "20",
          "20",
          "20",
          "20",
          "20",
          "20",
          "20",
          "20",
          "20",
          "20",
          "20",
          "20",
          "20",
          "20",
          "20",
          "20",
          "20",
          "20",
          "20",
          "20",
          "20",
          "20",
          "20",
          "20",
          "20",
          "20",
          "20",
          "20",
          "20",
          "20",
          "20",
          "20",
          "20",
          "20",
          "20",
          "20",
          "20",
          "20",
          "20",
          "20",
          "20",
          "20",
          "20",
          "20",
          "20",
          "20",
          "20",
          "20",
          "20",
          "20",
          "20",
          "20",
          "20",
          "20",
          "20",
          "20",
          "20",
          "20",
          "20",
          "20",
          "20",
          "20",
          "20",
          "20",
          "20",
          "20",
          "20",
          "20",
          "20",
          "20",
          "20",
          "20",
          "20",
          "20",
          "20",
          "20",
          "20",
          "20",
          "20",
          "20",
          "20",
          "20",
          "20",
          "20",
          "20",
          "20",
          "20",
          "20",
          "20",
          "20",
          "20",
          "20",
          "20",
          "20",
          "20",
          "20",
          "20",
          "20",
          "20",
          "20",
          "20",
          "20",
          "20",
          "20",
          "20",
          "20",
          "20",
          "20",
          "20",
          "20",
          "20",
          "20",
          "20",
          "20",
          "20",
          "20",
          "20",
          "20",
          "20",
          "20",
          "20",
          "20",
          "20",
          "20",
          "20",
          "20",
          "20",
          "20",
          "20",
          "20",
          "20",
          "20",
          "20",
          "20",
          "20",
          "20",
          "20",
          "20",
          "20",
          "21",
          "21",
          "21",
          "21",
          "21",
          "21",
          "21",
          "21",
          "21",
          "21",
          "21",
          "21",
          "21",
          "21",
          "21",
          "21",
          "21",
          "21",
          "21",
          "21",
          "21",
          "21",
          "21",
          "21",
          "21",
          "21",
          "21",
          "21",
          "21",
          "21",
          "21",
          "21",
          "21",
          "21",
          "21",
          "21",
          "21",
          "21",
          "21",
          "21",
          "21",
          "21",
          "21",
          "21",
          "21",
          "21",
          "21",
          "21",
          "21",
          "21",
          "21",
          "21",
          "21",
          "21",
          "21",
          "21",
          "21",
          "21",
          "21",
          "21",
          "21",
          "21",
          "21",
          "21",
          "21",
          "21",
          "21",
          "21",
          "21",
          "21",
          "21",
          "21",
          "21",
          "21",
          "21",
          "21",
          "21",
          "21",
          "21",
          "21",
          "21",
          "21",
          "21",
          "21",
          "21",
          "21",
          "21",
          "21",
          "21",
          "21",
          "21",
          "21",
          "21",
          "21",
          "21",
          "21",
          "21",
          "21",
          "21",
          "21",
          "21",
          "21",
          "21",
          "21",
          "21",
          "21",
          "21",
          "21",
          "21",
          "21",
          "21",
          "21",
          "21",
          "21",
          "21",
          "21",
          "21",
          "21",
          "21",
          "21",
          "21",
          "21",
          "21",
          "21",
          "21",
          "21",
          "21",
          "21",
          "21",
          "21",
          "21",
          "21",
          "21",
          "21",
          "21",
          "21",
          "21",
          "21",
          "21",
          "21",
          "21",
          "21",
          "21",
          "21",
          "21",
          "21",
          "21",
          "21",
          "21",
          "21",
          "21",
          "21",
          "21",
          "21",
          "21",
          "21",
          "21",
          "21",
          "21",
          "21",
          "21",
          "21",
          "21",
          "22",
          "22",
          "22",
          "22",
          "22",
          "22",
          "22",
          "22",
          "22",
          "22",
          "22",
          "22",
          "22",
          "22",
          "22",
          "22",
          "22",
          "22",
          "22",
          "22",
          "22",
          "22",
          "22",
          "22",
          "22",
          "22",
          "22",
          "22",
          "22",
          "22",
          "22",
          "22",
          "22",
          "22",
          "22",
          "22",
          "22",
          "22",
          "22",
          "22",
          "22",
          "22",
          "22",
          "22",
          "22",
          "22",
          "22",
          "22",
          "22",
          "22",
          "22",
          "22",
          "22",
          "22",
          "22",
          "22",
          "22",
          "22",
          "22",
          "22",
          "22",
          "22",
          "22",
          "22",
          "22",
          "22",
          "22",
          "22",
          "22",
          "22",
          "22",
          "22",
          "22",
          "22",
          "22",
          "22",
          "22",
          "22",
          "22",
          "22",
          "22",
          "22",
          "22",
          "22",
          "22",
          "22",
          "22",
          "22",
          "22",
          "22",
          "22",
          "22",
          "22",
          "22",
          "22",
          "22",
          "22",
          "22",
          "22",
          "22",
          "23",
          "23",
          "23",
          "23",
          "23",
          "23",
          "23",
          "23",
          "23",
          "23",
          "23",
          "23",
          "23",
          "23",
          "23",
          "23",
          "23",
          "23",
          "23",
          "23",
          "23",
          "23",
          "23",
          "23",
          "23",
          "23",
          "23",
          "23",
          "23",
          "23",
          "23",
          "23",
          "23",
          "23",
          "23",
          "23",
          "23",
          "23",
          "23",
          "23",
          "23",
          "23",
          "23",
          "23",
          "23",
          "23",
          "23",
          "23",
          "23",
          "23",
          "23",
          "23",
          "23",
          "23",
          "23",
          "23",
          "23",
          "23",
          "23",
          "23"
         ],
         "xaxis": "x",
         "y": [
          65723798,
          44636,
          778499,
          45921,
          39708,
          89847,
          127871,
          278476,
          39923,
          39679,
          51822,
          60525,
          39724,
          58653,
          39780,
          47375285,
          62349,
          242479,
          285175,
          32689793,
          7641430,
          3804954,
          29304499,
          1959624,
          4880127,
          117137,
          2502157,
          126308,
          124402,
          2017144,
          145779,
          216519,
          155396,
          3724765,
          49978,
          7737378,
          127287,
          425191,
          2855540,
          52055,
          47657,
          160699,
          184172,
          55589,
          41776,
          39985,
          10875836,
          412047,
          65176,
          287237,
          52400,
          152172,
          49204,
          59346,
          74559,
          385433,
          78359,
          143456,
          80714,
          46339,
          309417,
          470784,
          136950,
          40269,
          678290,
          256324,
          40308,
          131969,
          55436,
          284016,
          316347,
          42266,
          125192,
          63642,
          54886,
          67997,
          120600,
          39825,
          162789,
          821682,
          63039,
          60582,
          52162,
          1793853,
          118607,
          12403115,
          92280,
          39905,
          54810,
          542843,
          170511,
          16221108,
          123309,
          96047,
          39681,
          22902633,
          138741,
          40044,
          53623,
          146467,
          8705399,
          94939,
          56281,
          11350700,
          65710,
          373960,
          88282,
          85724,
          39896,
          627364,
          39658,
          39919,
          62575,
          39940,
          50235,
          206900,
          210145,
          42819,
          39878,
          1764583,
          80749,
          40090,
          156142,
          65542,
          39768,
          44015,
          63595,
          214013,
          39758,
          119869,
          43591,
          62722,
          732708,
          39929,
          44610,
          39859,
          58095,
          179923,
          197639,
          39859,
          52642,
          23027154,
          57372,
          40228,
          126554,
          50956,
          43467,
          49622,
          39674,
          39705,
          46867,
          96962,
          41737,
          64876,
          39670,
          127747,
          58167606,
          182855279,
          160491271,
          436987,
          40142,
          167011465,
          129022733,
          165854902,
          39659,
          180008578,
          53953740,
          143207,
          116929470,
          137836623,
          168884882,
          142015,
          39759,
          39661,
          753263,
          405093,
          39874,
          229569,
          122748023,
          142683250,
          253586222,
          165253,
          203815,
          75397,
          67078,
          308185,
          39750,
          241517564,
          151683893,
          50779,
          79566,
          40096,
          100933,
          68179,
          89107,
          2220232,
          62786,
          235085,
          39945,
          88782,
          193240,
          186184,
          183761,
          238963428,
          207460032,
          41507,
          220091483,
          248853062,
          160276,
          774473,
          40858,
          116233316,
          322776504,
          258463,
          190401610,
          113062681,
          39862,
          116634,
          71223,
          107429,
          305798,
          103052,
          92115,
          47820996,
          179708951,
          167527818,
          61729449,
          40063,
          228880,
          39822,
          40108,
          218155,
          59351,
          873951,
          52226,
          25777111,
          40169,
          39795,
          50748,
          78662,
          49491,
          87716,
          49226,
          76927,
          39867,
          39715,
          115843,
          76276,
          39666,
          144707,
          76253,
          81885,
          378901,
          39784,
          120994,
          199183,
          2724261,
          108355,
          39776,
          1645940,
          39681,
          681576,
          40772,
          39894,
          163778238,
          565930,
          40145,
          10781084,
          59374,
          39723,
          285095,
          256860010,
          156158,
          616907,
          2126239,
          42549,
          98381672,
          137630,
          132197981,
          126227655,
          59688,
          92549,
          117570,
          96231,
          138972,
          122348,
          426451,
          57581,
          186208465,
          76527,
          161006,
          44997472,
          131876,
          301024,
          112366579,
          61494711,
          154990716,
          124807538,
          144670586,
          39711,
          211468,
          57423,
          159040093,
          149505594,
          187924856,
          303621555,
          232457786,
          223467945,
          54913837,
          1566351,
          235768057,
          79492,
          105527,
          69333,
          39878,
          8341765,
          186416294,
          149306446,
          75890194,
          189950579,
          176764290,
          56395136,
          147757671,
          79243,
          158032687,
          146514906,
          200966337,
          418407547,
          446169,
          177498,
          360608,
          342050891,
          966777663,
          159496546,
          95753,
          95931,
          216680578,
          335972510,
          270452274,
          260103494,
          1279471,
          242668561,
          341056528,
          82070,
          79155,
          119624,
          79309,
          84532,
          99213,
          560113,
          129161,
          615752,
          157597043,
          115410829,
          177349555,
          254455865,
          119081631,
          147719311,
          45436,
          40543,
          39906,
          306325683,
          219623991,
          39673,
          55741,
          194172168,
          39721,
          182497910,
          194546915,
          163802504,
          215915206,
          151590798,
          171942157,
          363227550,
          155293334,
          161536842,
          160048014,
          57337,
          94882,
          167126939,
          191587458,
          97784453,
          449951,
          130702750,
          120452362,
          3658854,
          27771869,
          252362818,
          36046620,
          172036520,
          43410968,
          77363250,
          6031166,
          41908933,
          72391828,
          28144035,
          2218593,
          35512818,
          63737926,
          148172421,
          114006,
          140624652,
          88586120,
          172526,
          1313125,
          834330,
          93934302,
          69562661,
          69192924,
          162704350,
          178630636,
          59977444,
          144623101,
          105484680,
          92127192,
          64159409,
          1205614,
          117677808,
          3090993,
          809255,
          3565337,
          1305913,
          1177844,
          158973,
          9852775,
          68336592,
          134269846,
          156803781,
          50176716,
          76535499,
          147143299,
          37579462,
          85132287,
          556450,
          40200880,
          122840447,
          110179354,
          94084625,
          87702061,
          39915,
          21599009,
          208645147,
          43075818,
          14709630,
          1850181,
          44141395,
          74304757,
          146278275,
          48852,
          190657581,
          26220736,
          121375361,
          238226078,
          54708420,
          178999,
          308780500,
          72408,
          69815938,
          65672,
          80020,
          53032951,
          928757624,
          24303610,
          160922825,
          39875,
          154082469,
          199960,
          141546,
          128950194,
          25710373,
          28750924,
          145867116,
          18386010,
          82173280,
          36623302,
          17091072,
          162674297,
          31072992,
          60317,
          261563296,
          249833260,
          17614249,
          43059751,
          39944,
          40099,
          28475543,
          97262713,
          56324620,
          62963,
          525444290,
          44975781,
          88179,
          189235301,
          69345813,
          108995383,
          5775195,
          100613540,
          90198668,
          39917,
          29885501,
          27979745,
          39738,
          205131767,
          38581665,
          273698837,
          242421163,
          31926517,
          39774,
          52066,
          31051583,
          22108486,
          96512271,
          3791164,
          28601611,
          13549590,
          40005,
          28750688,
          130169,
          149074545,
          40161,
          32035932,
          107488927,
          2063540,
          43824,
          146737551,
          43267,
          163100,
          309994,
          54714,
          39660,
          114656498,
          54509,
          171575481,
          64535,
          683062,
          121354,
          128410818,
          265445,
          111230985,
          116572,
          18975030,
          36491203,
          65867,
          148647160,
          120034533,
          108488030,
          148438575,
          192766113,
          155723376,
          132651836,
          62706,
          91953032,
          214985808,
          471505,
          7537628,
          131998696,
          13744089,
          60794,
          173323545,
          62858957,
          59493,
          236779658,
          41163885,
          151997,
          648482,
          84441679,
          266799232,
          704788,
          78035,
          1646381,
          3240209,
          1451782,
          14424533,
          317015,
          157663,
          202572355,
          31180807,
          1499563,
          46907874,
          291331,
          279511911,
          1565443,
          13383856,
          97047831,
          124001160,
          24551822,
          198555654,
          187392622,
          112032117,
          402785,
          74586377,
          62051,
          334608,
          166491,
          364104,
          104873,
          97485,
          65170,
          197316607,
          623420,
          408657,
          109535,
          613396,
          390475,
          66143,
          11229191,
          141943237,
          126806135,
          33681951,
          17224492,
          142737740,
          15704870,
          1130858,
          37021854,
          319627,
          90462658,
          59633266,
          134738665,
          111149880,
          51972598,
          48113712,
          79172097,
          77361,
          47050,
          104556896,
          94479433,
          208096,
          89761,
          44101641,
          189920504,
          139863281,
          102452,
          48174,
          100189245,
          103949796,
          92555,
          19724605,
          39959,
          171359810,
          40582,
          128814,
          105323,
          3314194,
          164089,
          4100356,
          52604927,
          102294,
          2027840,
          34942323,
          19713706,
          6478960,
          119699,
          4599523,
          61839,
          42187263,
          25887461,
          15020170,
          67238,
          39659,
          380363,
          116206,
          365790,
          79682,
          922162,
          68361,
          263323,
          94510,
          69757,
          223449,
          1360150,
          40681,
          43746,
          217881,
          272080,
          140697,
          39811,
          3023768,
          712047,
          230609,
          7333264,
          39641,
          13179838,
          31246500,
          20003579,
          66228,
          17692113,
          26767840,
          38689344,
          75402,
          32474632,
          53793115,
          25560755,
          23666633,
          41144,
          32745344,
          19300037,
          14672551,
          111754,
          48002,
          27565714,
          40949139,
          106356,
          44783,
          17192658,
          76239,
          39671,
          39664,
          52766,
          149637,
          42471,
          952911,
          4032686,
          42280,
          76339,
          149184,
          89659,
          132647,
          631498,
          106833,
          47855,
          43356,
          63201,
          138322,
          46564,
          134725,
          82091,
          588591,
          128998,
          139580,
          30782304,
          47620,
          44425034,
          113602,
          44407,
          111089,
          53219,
          39681,
          39791,
          26366820,
          9110444,
          10782114,
          319684,
          26973267,
          42330064,
          37232389,
          36646712,
          187164514,
          116291,
          3845039,
          46952,
          11312858,
          18282078,
          39691,
          481889,
          39912,
          524737,
          7260443,
          40337,
          8710682,
          579447,
          338024,
          40034
         ],
         "yaxis": "y"
        }
       ],
       "layout": {
        "barmode": "relative",
        "legend": {
         "tracegroupgap": 0
        },
        "template": {
         "data": {
          "bar": [
           {
            "error_x": {
             "color": "#2a3f5f"
            },
            "error_y": {
             "color": "#2a3f5f"
            },
            "marker": {
             "line": {
              "color": "#E5ECF6",
              "width": 0.5
             },
             "pattern": {
              "fillmode": "overlay",
              "size": 10,
              "solidity": 0.2
             }
            },
            "type": "bar"
           }
          ],
          "barpolar": [
           {
            "marker": {
             "line": {
              "color": "#E5ECF6",
              "width": 0.5
             },
             "pattern": {
              "fillmode": "overlay",
              "size": 10,
              "solidity": 0.2
             }
            },
            "type": "barpolar"
           }
          ],
          "carpet": [
           {
            "aaxis": {
             "endlinecolor": "#2a3f5f",
             "gridcolor": "white",
             "linecolor": "white",
             "minorgridcolor": "white",
             "startlinecolor": "#2a3f5f"
            },
            "baxis": {
             "endlinecolor": "#2a3f5f",
             "gridcolor": "white",
             "linecolor": "white",
             "minorgridcolor": "white",
             "startlinecolor": "#2a3f5f"
            },
            "type": "carpet"
           }
          ],
          "choropleth": [
           {
            "colorbar": {
             "outlinewidth": 0,
             "ticks": ""
            },
            "type": "choropleth"
           }
          ],
          "contour": [
           {
            "colorbar": {
             "outlinewidth": 0,
             "ticks": ""
            },
            "colorscale": [
             [
              0,
              "#0d0887"
             ],
             [
              0.1111111111111111,
              "#46039f"
             ],
             [
              0.2222222222222222,
              "#7201a8"
             ],
             [
              0.3333333333333333,
              "#9c179e"
             ],
             [
              0.4444444444444444,
              "#bd3786"
             ],
             [
              0.5555555555555556,
              "#d8576b"
             ],
             [
              0.6666666666666666,
              "#ed7953"
             ],
             [
              0.7777777777777778,
              "#fb9f3a"
             ],
             [
              0.8888888888888888,
              "#fdca26"
             ],
             [
              1,
              "#f0f921"
             ]
            ],
            "type": "contour"
           }
          ],
          "contourcarpet": [
           {
            "colorbar": {
             "outlinewidth": 0,
             "ticks": ""
            },
            "type": "contourcarpet"
           }
          ],
          "heatmap": [
           {
            "colorbar": {
             "outlinewidth": 0,
             "ticks": ""
            },
            "colorscale": [
             [
              0,
              "#0d0887"
             ],
             [
              0.1111111111111111,
              "#46039f"
             ],
             [
              0.2222222222222222,
              "#7201a8"
             ],
             [
              0.3333333333333333,
              "#9c179e"
             ],
             [
              0.4444444444444444,
              "#bd3786"
             ],
             [
              0.5555555555555556,
              "#d8576b"
             ],
             [
              0.6666666666666666,
              "#ed7953"
             ],
             [
              0.7777777777777778,
              "#fb9f3a"
             ],
             [
              0.8888888888888888,
              "#fdca26"
             ],
             [
              1,
              "#f0f921"
             ]
            ],
            "type": "heatmap"
           }
          ],
          "heatmapgl": [
           {
            "colorbar": {
             "outlinewidth": 0,
             "ticks": ""
            },
            "colorscale": [
             [
              0,
              "#0d0887"
             ],
             [
              0.1111111111111111,
              "#46039f"
             ],
             [
              0.2222222222222222,
              "#7201a8"
             ],
             [
              0.3333333333333333,
              "#9c179e"
             ],
             [
              0.4444444444444444,
              "#bd3786"
             ],
             [
              0.5555555555555556,
              "#d8576b"
             ],
             [
              0.6666666666666666,
              "#ed7953"
             ],
             [
              0.7777777777777778,
              "#fb9f3a"
             ],
             [
              0.8888888888888888,
              "#fdca26"
             ],
             [
              1,
              "#f0f921"
             ]
            ],
            "type": "heatmapgl"
           }
          ],
          "histogram": [
           {
            "marker": {
             "pattern": {
              "fillmode": "overlay",
              "size": 10,
              "solidity": 0.2
             }
            },
            "type": "histogram"
           }
          ],
          "histogram2d": [
           {
            "colorbar": {
             "outlinewidth": 0,
             "ticks": ""
            },
            "colorscale": [
             [
              0,
              "#0d0887"
             ],
             [
              0.1111111111111111,
              "#46039f"
             ],
             [
              0.2222222222222222,
              "#7201a8"
             ],
             [
              0.3333333333333333,
              "#9c179e"
             ],
             [
              0.4444444444444444,
              "#bd3786"
             ],
             [
              0.5555555555555556,
              "#d8576b"
             ],
             [
              0.6666666666666666,
              "#ed7953"
             ],
             [
              0.7777777777777778,
              "#fb9f3a"
             ],
             [
              0.8888888888888888,
              "#fdca26"
             ],
             [
              1,
              "#f0f921"
             ]
            ],
            "type": "histogram2d"
           }
          ],
          "histogram2dcontour": [
           {
            "colorbar": {
             "outlinewidth": 0,
             "ticks": ""
            },
            "colorscale": [
             [
              0,
              "#0d0887"
             ],
             [
              0.1111111111111111,
              "#46039f"
             ],
             [
              0.2222222222222222,
              "#7201a8"
             ],
             [
              0.3333333333333333,
              "#9c179e"
             ],
             [
              0.4444444444444444,
              "#bd3786"
             ],
             [
              0.5555555555555556,
              "#d8576b"
             ],
             [
              0.6666666666666666,
              "#ed7953"
             ],
             [
              0.7777777777777778,
              "#fb9f3a"
             ],
             [
              0.8888888888888888,
              "#fdca26"
             ],
             [
              1,
              "#f0f921"
             ]
            ],
            "type": "histogram2dcontour"
           }
          ],
          "mesh3d": [
           {
            "colorbar": {
             "outlinewidth": 0,
             "ticks": ""
            },
            "type": "mesh3d"
           }
          ],
          "parcoords": [
           {
            "line": {
             "colorbar": {
              "outlinewidth": 0,
              "ticks": ""
             }
            },
            "type": "parcoords"
           }
          ],
          "pie": [
           {
            "automargin": true,
            "type": "pie"
           }
          ],
          "scatter": [
           {
            "fillpattern": {
             "fillmode": "overlay",
             "size": 10,
             "solidity": 0.2
            },
            "type": "scatter"
           }
          ],
          "scatter3d": [
           {
            "line": {
             "colorbar": {
              "outlinewidth": 0,
              "ticks": ""
             }
            },
            "marker": {
             "colorbar": {
              "outlinewidth": 0,
              "ticks": ""
             }
            },
            "type": "scatter3d"
           }
          ],
          "scattercarpet": [
           {
            "marker": {
             "colorbar": {
              "outlinewidth": 0,
              "ticks": ""
             }
            },
            "type": "scattercarpet"
           }
          ],
          "scattergeo": [
           {
            "marker": {
             "colorbar": {
              "outlinewidth": 0,
              "ticks": ""
             }
            },
            "type": "scattergeo"
           }
          ],
          "scattergl": [
           {
            "marker": {
             "colorbar": {
              "outlinewidth": 0,
              "ticks": ""
             }
            },
            "type": "scattergl"
           }
          ],
          "scattermapbox": [
           {
            "marker": {
             "colorbar": {
              "outlinewidth": 0,
              "ticks": ""
             }
            },
            "type": "scattermapbox"
           }
          ],
          "scatterpolar": [
           {
            "marker": {
             "colorbar": {
              "outlinewidth": 0,
              "ticks": ""
             }
            },
            "type": "scatterpolar"
           }
          ],
          "scatterpolargl": [
           {
            "marker": {
             "colorbar": {
              "outlinewidth": 0,
              "ticks": ""
             }
            },
            "type": "scatterpolargl"
           }
          ],
          "scatterternary": [
           {
            "marker": {
             "colorbar": {
              "outlinewidth": 0,
              "ticks": ""
             }
            },
            "type": "scatterternary"
           }
          ],
          "surface": [
           {
            "colorbar": {
             "outlinewidth": 0,
             "ticks": ""
            },
            "colorscale": [
             [
              0,
              "#0d0887"
             ],
             [
              0.1111111111111111,
              "#46039f"
             ],
             [
              0.2222222222222222,
              "#7201a8"
             ],
             [
              0.3333333333333333,
              "#9c179e"
             ],
             [
              0.4444444444444444,
              "#bd3786"
             ],
             [
              0.5555555555555556,
              "#d8576b"
             ],
             [
              0.6666666666666666,
              "#ed7953"
             ],
             [
              0.7777777777777778,
              "#fb9f3a"
             ],
             [
              0.8888888888888888,
              "#fdca26"
             ],
             [
              1,
              "#f0f921"
             ]
            ],
            "type": "surface"
           }
          ],
          "table": [
           {
            "cells": {
             "fill": {
              "color": "#EBF0F8"
             },
             "line": {
              "color": "white"
             }
            },
            "header": {
             "fill": {
              "color": "#C8D4E3"
             },
             "line": {
              "color": "white"
             }
            },
            "type": "table"
           }
          ]
         },
         "layout": {
          "annotationdefaults": {
           "arrowcolor": "#2a3f5f",
           "arrowhead": 0,
           "arrowwidth": 1
          },
          "autotypenumbers": "strict",
          "coloraxis": {
           "colorbar": {
            "outlinewidth": 0,
            "ticks": ""
           }
          },
          "colorscale": {
           "diverging": [
            [
             0,
             "#8e0152"
            ],
            [
             0.1,
             "#c51b7d"
            ],
            [
             0.2,
             "#de77ae"
            ],
            [
             0.3,
             "#f1b6da"
            ],
            [
             0.4,
             "#fde0ef"
            ],
            [
             0.5,
             "#f7f7f7"
            ],
            [
             0.6,
             "#e6f5d0"
            ],
            [
             0.7,
             "#b8e186"
            ],
            [
             0.8,
             "#7fbc41"
            ],
            [
             0.9,
             "#4d9221"
            ],
            [
             1,
             "#276419"
            ]
           ],
           "sequential": [
            [
             0,
             "#0d0887"
            ],
            [
             0.1111111111111111,
             "#46039f"
            ],
            [
             0.2222222222222222,
             "#7201a8"
            ],
            [
             0.3333333333333333,
             "#9c179e"
            ],
            [
             0.4444444444444444,
             "#bd3786"
            ],
            [
             0.5555555555555556,
             "#d8576b"
            ],
            [
             0.6666666666666666,
             "#ed7953"
            ],
            [
             0.7777777777777778,
             "#fb9f3a"
            ],
            [
             0.8888888888888888,
             "#fdca26"
            ],
            [
             1,
             "#f0f921"
            ]
           ],
           "sequentialminus": [
            [
             0,
             "#0d0887"
            ],
            [
             0.1111111111111111,
             "#46039f"
            ],
            [
             0.2222222222222222,
             "#7201a8"
            ],
            [
             0.3333333333333333,
             "#9c179e"
            ],
            [
             0.4444444444444444,
             "#bd3786"
            ],
            [
             0.5555555555555556,
             "#d8576b"
            ],
            [
             0.6666666666666666,
             "#ed7953"
            ],
            [
             0.7777777777777778,
             "#fb9f3a"
            ],
            [
             0.8888888888888888,
             "#fdca26"
            ],
            [
             1,
             "#f0f921"
            ]
           ]
          },
          "colorway": [
           "#636efa",
           "#EF553B",
           "#00cc96",
           "#ab63fa",
           "#FFA15A",
           "#19d3f3",
           "#FF6692",
           "#B6E880",
           "#FF97FF",
           "#FECB52"
          ],
          "font": {
           "color": "#2a3f5f"
          },
          "geo": {
           "bgcolor": "white",
           "lakecolor": "white",
           "landcolor": "#E5ECF6",
           "showlakes": true,
           "showland": true,
           "subunitcolor": "white"
          },
          "hoverlabel": {
           "align": "left"
          },
          "hovermode": "closest",
          "mapbox": {
           "style": "light"
          },
          "paper_bgcolor": "white",
          "plot_bgcolor": "#E5ECF6",
          "polar": {
           "angularaxis": {
            "gridcolor": "white",
            "linecolor": "white",
            "ticks": ""
           },
           "bgcolor": "#E5ECF6",
           "radialaxis": {
            "gridcolor": "white",
            "linecolor": "white",
            "ticks": ""
           }
          },
          "scene": {
           "xaxis": {
            "backgroundcolor": "#E5ECF6",
            "gridcolor": "white",
            "gridwidth": 2,
            "linecolor": "white",
            "showbackground": true,
            "ticks": "",
            "zerolinecolor": "white"
           },
           "yaxis": {
            "backgroundcolor": "#E5ECF6",
            "gridcolor": "white",
            "gridwidth": 2,
            "linecolor": "white",
            "showbackground": true,
            "ticks": "",
            "zerolinecolor": "white"
           },
           "zaxis": {
            "backgroundcolor": "#E5ECF6",
            "gridcolor": "white",
            "gridwidth": 2,
            "linecolor": "white",
            "showbackground": true,
            "ticks": "",
            "zerolinecolor": "white"
           }
          },
          "shapedefaults": {
           "line": {
            "color": "#2a3f5f"
           }
          },
          "ternary": {
           "aaxis": {
            "gridcolor": "white",
            "linecolor": "white",
            "ticks": ""
           },
           "baxis": {
            "gridcolor": "white",
            "linecolor": "white",
            "ticks": ""
           },
           "bgcolor": "#E5ECF6",
           "caxis": {
            "gridcolor": "white",
            "linecolor": "white",
            "ticks": ""
           }
          },
          "title": {
           "x": 0.05
          },
          "xaxis": {
           "automargin": true,
           "gridcolor": "white",
           "linecolor": "white",
           "ticks": "",
           "title": {
            "standoff": 15
           },
           "zerolinecolor": "white",
           "zerolinewidth": 2
          },
          "yaxis": {
           "automargin": true,
           "gridcolor": "white",
           "linecolor": "white",
           "ticks": "",
           "title": {
            "standoff": 15
           },
           "zerolinecolor": "white",
           "zerolinewidth": 2
          }
         }
        },
        "title": {
         "text": "Publish Time vs Views"
        },
        "xaxis": {
         "anchor": "y",
         "domain": [
          0,
          1
         ],
         "title": {
          "text": "publishTime"
         }
        },
        "yaxis": {
         "anchor": "x",
         "domain": [
          0,
          1
         ],
         "title": {
          "text": "Views"
         }
        }
       }
      },
      "text/html": [
       "<div>                            <div id=\"fc932c2c-8c61-40d3-b76e-f466349686ec\" class=\"plotly-graph-div\" style=\"height:525px; width:100%;\"></div>            <script type=\"text/javascript\">                require([\"plotly\"], function(Plotly) {                    window.PLOTLYENV=window.PLOTLYENV || {};                                    if (document.getElementById(\"fc932c2c-8c61-40d3-b76e-f466349686ec\")) {                    Plotly.newPlot(                        \"fc932c2c-8c61-40d3-b76e-f466349686ec\",                        [{\"alignmentgroup\":\"True\",\"hovertemplate\":\"publishTime=%{x}<br>Views=%{y}<extra></extra>\",\"legendgroup\":\"\",\"marker\":{\"color\":\"#636efa\",\"pattern\":{\"shape\":\"\"}},\"name\":\"\",\"offsetgroup\":\"\",\"orientation\":\"v\",\"showlegend\":false,\"textposition\":\"auto\",\"x\":[\"00\",\"00\",\"00\",\"00\",\"00\",\"00\",\"00\",\"00\",\"00\",\"00\",\"00\",\"00\",\"00\",\"00\",\"00\",\"00\",\"00\",\"00\",\"00\",\"00\",\"00\",\"00\",\"00\",\"00\",\"00\",\"00\",\"00\",\"00\",\"00\",\"00\",\"00\",\"00\",\"00\",\"00\",\"00\",\"00\",\"00\",\"00\",\"00\",\"00\",\"00\",\"00\",\"00\",\"00\",\"00\",\"01\",\"01\",\"01\",\"01\",\"01\",\"01\",\"01\",\"01\",\"01\",\"01\",\"01\",\"01\",\"01\",\"01\",\"01\",\"01\",\"01\",\"01\",\"01\",\"01\",\"01\",\"01\",\"01\",\"01\",\"01\",\"01\",\"01\",\"01\",\"01\",\"01\",\"01\",\"01\",\"01\",\"01\",\"01\",\"01\",\"01\",\"01\",\"02\",\"02\",\"02\",\"02\",\"02\",\"02\",\"02\",\"02\",\"02\",\"02\",\"02\",\"02\",\"02\",\"02\",\"02\",\"02\",\"02\",\"02\",\"02\",\"02\",\"02\",\"02\",\"02\",\"03\",\"03\",\"03\",\"03\",\"04\",\"06\",\"10\",\"10\",\"10\",\"10\",\"10\",\"10\",\"10\",\"10\",\"10\",\"10\",\"10\",\"10\",\"10\",\"10\",\"10\",\"10\",\"10\",\"10\",\"10\",\"11\",\"11\",\"11\",\"11\",\"12\",\"12\",\"12\",\"13\",\"14\",\"14\",\"14\",\"14\",\"14\",\"14\",\"14\",\"14\",\"15\",\"15\",\"15\",\"15\",\"15\",\"15\",\"15\",\"15\",\"15\",\"15\",\"15\",\"16\",\"16\",\"16\",\"16\",\"16\",\"16\",\"16\",\"16\",\"16\",\"16\",\"16\",\"16\",\"16\",\"16\",\"16\",\"16\",\"16\",\"16\",\"16\",\"16\",\"16\",\"16\",\"16\",\"16\",\"16\",\"16\",\"16\",\"16\",\"16\",\"17\",\"17\",\"17\",\"17\",\"17\",\"17\",\"17\",\"17\",\"17\",\"17\",\"17\",\"17\",\"17\",\"17\",\"17\",\"17\",\"17\",\"17\",\"17\",\"17\",\"17\",\"17\",\"17\",\"17\",\"17\",\"17\",\"17\",\"17\",\"17\",\"17\",\"17\",\"17\",\"17\",\"17\",\"17\",\"17\",\"17\",\"17\",\"17\",\"17\",\"18\",\"18\",\"18\",\"18\",\"18\",\"18\",\"18\",\"18\",\"18\",\"18\",\"18\",\"18\",\"18\",\"18\",\"18\",\"18\",\"18\",\"18\",\"18\",\"18\",\"18\",\"18\",\"18\",\"18\",\"18\",\"18\",\"18\",\"18\",\"18\",\"19\",\"19\",\"19\",\"19\",\"19\",\"19\",\"19\",\"19\",\"19\",\"19\",\"19\",\"19\",\"19\",\"19\",\"19\",\"19\",\"19\",\"19\",\"19\",\"19\",\"19\",\"19\",\"19\",\"19\",\"19\",\"19\",\"19\",\"19\",\"19\",\"19\",\"19\",\"19\",\"19\",\"19\",\"19\",\"19\",\"19\",\"19\",\"19\",\"20\",\"20\",\"20\",\"20\",\"20\",\"20\",\"20\",\"20\",\"20\",\"20\",\"20\",\"20\",\"20\",\"20\",\"20\",\"20\",\"20\",\"20\",\"20\",\"20\",\"20\",\"20\",\"20\",\"20\",\"20\",\"20\",\"20\",\"20\",\"20\",\"20\",\"20\",\"20\",\"20\",\"20\",\"20\",\"20\",\"20\",\"20\",\"20\",\"20\",\"20\",\"20\",\"20\",\"20\",\"20\",\"20\",\"20\",\"20\",\"20\",\"20\",\"20\",\"20\",\"20\",\"20\",\"20\",\"20\",\"20\",\"20\",\"20\",\"20\",\"20\",\"20\",\"20\",\"20\",\"20\",\"20\",\"20\",\"20\",\"20\",\"20\",\"20\",\"20\",\"20\",\"20\",\"20\",\"20\",\"20\",\"20\",\"20\",\"20\",\"20\",\"20\",\"20\",\"20\",\"20\",\"20\",\"20\",\"20\",\"20\",\"20\",\"20\",\"20\",\"20\",\"20\",\"20\",\"20\",\"20\",\"20\",\"20\",\"20\",\"20\",\"20\",\"20\",\"20\",\"20\",\"20\",\"20\",\"20\",\"20\",\"20\",\"20\",\"20\",\"20\",\"20\",\"20\",\"20\",\"20\",\"20\",\"20\",\"20\",\"20\",\"20\",\"20\",\"20\",\"20\",\"20\",\"20\",\"20\",\"20\",\"20\",\"20\",\"20\",\"20\",\"20\",\"20\",\"20\",\"20\",\"20\",\"20\",\"20\",\"20\",\"20\",\"20\",\"20\",\"21\",\"21\",\"21\",\"21\",\"21\",\"21\",\"21\",\"21\",\"21\",\"21\",\"21\",\"21\",\"21\",\"21\",\"21\",\"21\",\"21\",\"21\",\"21\",\"21\",\"21\",\"21\",\"21\",\"21\",\"21\",\"21\",\"21\",\"21\",\"21\",\"21\",\"21\",\"21\",\"21\",\"21\",\"21\",\"21\",\"21\",\"21\",\"21\",\"21\",\"21\",\"21\",\"21\",\"21\",\"21\",\"21\",\"21\",\"21\",\"21\",\"21\",\"21\",\"21\",\"21\",\"21\",\"21\",\"21\",\"21\",\"21\",\"21\",\"21\",\"21\",\"21\",\"21\",\"21\",\"21\",\"21\",\"21\",\"21\",\"21\",\"21\",\"21\",\"21\",\"21\",\"21\",\"21\",\"21\",\"21\",\"21\",\"21\",\"21\",\"21\",\"21\",\"21\",\"21\",\"21\",\"21\",\"21\",\"21\",\"21\",\"21\",\"21\",\"21\",\"21\",\"21\",\"21\",\"21\",\"21\",\"21\",\"21\",\"21\",\"21\",\"21\",\"21\",\"21\",\"21\",\"21\",\"21\",\"21\",\"21\",\"21\",\"21\",\"21\",\"21\",\"21\",\"21\",\"21\",\"21\",\"21\",\"21\",\"21\",\"21\",\"21\",\"21\",\"21\",\"21\",\"21\",\"21\",\"21\",\"21\",\"21\",\"21\",\"21\",\"21\",\"21\",\"21\",\"21\",\"21\",\"21\",\"21\",\"21\",\"21\",\"21\",\"21\",\"21\",\"21\",\"21\",\"21\",\"21\",\"21\",\"21\",\"21\",\"21\",\"21\",\"21\",\"21\",\"21\",\"21\",\"21\",\"21\",\"21\",\"21\",\"21\",\"21\",\"22\",\"22\",\"22\",\"22\",\"22\",\"22\",\"22\",\"22\",\"22\",\"22\",\"22\",\"22\",\"22\",\"22\",\"22\",\"22\",\"22\",\"22\",\"22\",\"22\",\"22\",\"22\",\"22\",\"22\",\"22\",\"22\",\"22\",\"22\",\"22\",\"22\",\"22\",\"22\",\"22\",\"22\",\"22\",\"22\",\"22\",\"22\",\"22\",\"22\",\"22\",\"22\",\"22\",\"22\",\"22\",\"22\",\"22\",\"22\",\"22\",\"22\",\"22\",\"22\",\"22\",\"22\",\"22\",\"22\",\"22\",\"22\",\"22\",\"22\",\"22\",\"22\",\"22\",\"22\",\"22\",\"22\",\"22\",\"22\",\"22\",\"22\",\"22\",\"22\",\"22\",\"22\",\"22\",\"22\",\"22\",\"22\",\"22\",\"22\",\"22\",\"22\",\"22\",\"22\",\"22\",\"22\",\"22\",\"22\",\"22\",\"22\",\"22\",\"22\",\"22\",\"22\",\"22\",\"22\",\"22\",\"22\",\"22\",\"22\",\"23\",\"23\",\"23\",\"23\",\"23\",\"23\",\"23\",\"23\",\"23\",\"23\",\"23\",\"23\",\"23\",\"23\",\"23\",\"23\",\"23\",\"23\",\"23\",\"23\",\"23\",\"23\",\"23\",\"23\",\"23\",\"23\",\"23\",\"23\",\"23\",\"23\",\"23\",\"23\",\"23\",\"23\",\"23\",\"23\",\"23\",\"23\",\"23\",\"23\",\"23\",\"23\",\"23\",\"23\",\"23\",\"23\",\"23\",\"23\",\"23\",\"23\",\"23\",\"23\",\"23\",\"23\",\"23\",\"23\",\"23\",\"23\",\"23\",\"23\"],\"xaxis\":\"x\",\"y\":[65723798,44636,778499,45921,39708,89847,127871,278476,39923,39679,51822,60525,39724,58653,39780,47375285,62349,242479,285175,32689793,7641430,3804954,29304499,1959624,4880127,117137,2502157,126308,124402,2017144,145779,216519,155396,3724765,49978,7737378,127287,425191,2855540,52055,47657,160699,184172,55589,41776,39985,10875836,412047,65176,287237,52400,152172,49204,59346,74559,385433,78359,143456,80714,46339,309417,470784,136950,40269,678290,256324,40308,131969,55436,284016,316347,42266,125192,63642,54886,67997,120600,39825,162789,821682,63039,60582,52162,1793853,118607,12403115,92280,39905,54810,542843,170511,16221108,123309,96047,39681,22902633,138741,40044,53623,146467,8705399,94939,56281,11350700,65710,373960,88282,85724,39896,627364,39658,39919,62575,39940,50235,206900,210145,42819,39878,1764583,80749,40090,156142,65542,39768,44015,63595,214013,39758,119869,43591,62722,732708,39929,44610,39859,58095,179923,197639,39859,52642,23027154,57372,40228,126554,50956,43467,49622,39674,39705,46867,96962,41737,64876,39670,127747,58167606,182855279,160491271,436987,40142,167011465,129022733,165854902,39659,180008578,53953740,143207,116929470,137836623,168884882,142015,39759,39661,753263,405093,39874,229569,122748023,142683250,253586222,165253,203815,75397,67078,308185,39750,241517564,151683893,50779,79566,40096,100933,68179,89107,2220232,62786,235085,39945,88782,193240,186184,183761,238963428,207460032,41507,220091483,248853062,160276,774473,40858,116233316,322776504,258463,190401610,113062681,39862,116634,71223,107429,305798,103052,92115,47820996,179708951,167527818,61729449,40063,228880,39822,40108,218155,59351,873951,52226,25777111,40169,39795,50748,78662,49491,87716,49226,76927,39867,39715,115843,76276,39666,144707,76253,81885,378901,39784,120994,199183,2724261,108355,39776,1645940,39681,681576,40772,39894,163778238,565930,40145,10781084,59374,39723,285095,256860010,156158,616907,2126239,42549,98381672,137630,132197981,126227655,59688,92549,117570,96231,138972,122348,426451,57581,186208465,76527,161006,44997472,131876,301024,112366579,61494711,154990716,124807538,144670586,39711,211468,57423,159040093,149505594,187924856,303621555,232457786,223467945,54913837,1566351,235768057,79492,105527,69333,39878,8341765,186416294,149306446,75890194,189950579,176764290,56395136,147757671,79243,158032687,146514906,200966337,418407547,446169,177498,360608,342050891,966777663,159496546,95753,95931,216680578,335972510,270452274,260103494,1279471,242668561,341056528,82070,79155,119624,79309,84532,99213,560113,129161,615752,157597043,115410829,177349555,254455865,119081631,147719311,45436,40543,39906,306325683,219623991,39673,55741,194172168,39721,182497910,194546915,163802504,215915206,151590798,171942157,363227550,155293334,161536842,160048014,57337,94882,167126939,191587458,97784453,449951,130702750,120452362,3658854,27771869,252362818,36046620,172036520,43410968,77363250,6031166,41908933,72391828,28144035,2218593,35512818,63737926,148172421,114006,140624652,88586120,172526,1313125,834330,93934302,69562661,69192924,162704350,178630636,59977444,144623101,105484680,92127192,64159409,1205614,117677808,3090993,809255,3565337,1305913,1177844,158973,9852775,68336592,134269846,156803781,50176716,76535499,147143299,37579462,85132287,556450,40200880,122840447,110179354,94084625,87702061,39915,21599009,208645147,43075818,14709630,1850181,44141395,74304757,146278275,48852,190657581,26220736,121375361,238226078,54708420,178999,308780500,72408,69815938,65672,80020,53032951,928757624,24303610,160922825,39875,154082469,199960,141546,128950194,25710373,28750924,145867116,18386010,82173280,36623302,17091072,162674297,31072992,60317,261563296,249833260,17614249,43059751,39944,40099,28475543,97262713,56324620,62963,525444290,44975781,88179,189235301,69345813,108995383,5775195,100613540,90198668,39917,29885501,27979745,39738,205131767,38581665,273698837,242421163,31926517,39774,52066,31051583,22108486,96512271,3791164,28601611,13549590,40005,28750688,130169,149074545,40161,32035932,107488927,2063540,43824,146737551,43267,163100,309994,54714,39660,114656498,54509,171575481,64535,683062,121354,128410818,265445,111230985,116572,18975030,36491203,65867,148647160,120034533,108488030,148438575,192766113,155723376,132651836,62706,91953032,214985808,471505,7537628,131998696,13744089,60794,173323545,62858957,59493,236779658,41163885,151997,648482,84441679,266799232,704788,78035,1646381,3240209,1451782,14424533,317015,157663,202572355,31180807,1499563,46907874,291331,279511911,1565443,13383856,97047831,124001160,24551822,198555654,187392622,112032117,402785,74586377,62051,334608,166491,364104,104873,97485,65170,197316607,623420,408657,109535,613396,390475,66143,11229191,141943237,126806135,33681951,17224492,142737740,15704870,1130858,37021854,319627,90462658,59633266,134738665,111149880,51972598,48113712,79172097,77361,47050,104556896,94479433,208096,89761,44101641,189920504,139863281,102452,48174,100189245,103949796,92555,19724605,39959,171359810,40582,128814,105323,3314194,164089,4100356,52604927,102294,2027840,34942323,19713706,6478960,119699,4599523,61839,42187263,25887461,15020170,67238,39659,380363,116206,365790,79682,922162,68361,263323,94510,69757,223449,1360150,40681,43746,217881,272080,140697,39811,3023768,712047,230609,7333264,39641,13179838,31246500,20003579,66228,17692113,26767840,38689344,75402,32474632,53793115,25560755,23666633,41144,32745344,19300037,14672551,111754,48002,27565714,40949139,106356,44783,17192658,76239,39671,39664,52766,149637,42471,952911,4032686,42280,76339,149184,89659,132647,631498,106833,47855,43356,63201,138322,46564,134725,82091,588591,128998,139580,30782304,47620,44425034,113602,44407,111089,53219,39681,39791,26366820,9110444,10782114,319684,26973267,42330064,37232389,36646712,187164514,116291,3845039,46952,11312858,18282078,39691,481889,39912,524737,7260443,40337,8710682,579447,338024,40034],\"yaxis\":\"y\",\"type\":\"bar\"}],                        {\"template\":{\"data\":{\"histogram2dcontour\":[{\"type\":\"histogram2dcontour\",\"colorbar\":{\"outlinewidth\":0,\"ticks\":\"\"},\"colorscale\":[[0.0,\"#0d0887\"],[0.1111111111111111,\"#46039f\"],[0.2222222222222222,\"#7201a8\"],[0.3333333333333333,\"#9c179e\"],[0.4444444444444444,\"#bd3786\"],[0.5555555555555556,\"#d8576b\"],[0.6666666666666666,\"#ed7953\"],[0.7777777777777778,\"#fb9f3a\"],[0.8888888888888888,\"#fdca26\"],[1.0,\"#f0f921\"]]}],\"choropleth\":[{\"type\":\"choropleth\",\"colorbar\":{\"outlinewidth\":0,\"ticks\":\"\"}}],\"histogram2d\":[{\"type\":\"histogram2d\",\"colorbar\":{\"outlinewidth\":0,\"ticks\":\"\"},\"colorscale\":[[0.0,\"#0d0887\"],[0.1111111111111111,\"#46039f\"],[0.2222222222222222,\"#7201a8\"],[0.3333333333333333,\"#9c179e\"],[0.4444444444444444,\"#bd3786\"],[0.5555555555555556,\"#d8576b\"],[0.6666666666666666,\"#ed7953\"],[0.7777777777777778,\"#fb9f3a\"],[0.8888888888888888,\"#fdca26\"],[1.0,\"#f0f921\"]]}],\"heatmap\":[{\"type\":\"heatmap\",\"colorbar\":{\"outlinewidth\":0,\"ticks\":\"\"},\"colorscale\":[[0.0,\"#0d0887\"],[0.1111111111111111,\"#46039f\"],[0.2222222222222222,\"#7201a8\"],[0.3333333333333333,\"#9c179e\"],[0.4444444444444444,\"#bd3786\"],[0.5555555555555556,\"#d8576b\"],[0.6666666666666666,\"#ed7953\"],[0.7777777777777778,\"#fb9f3a\"],[0.8888888888888888,\"#fdca26\"],[1.0,\"#f0f921\"]]}],\"heatmapgl\":[{\"type\":\"heatmapgl\",\"colorbar\":{\"outlinewidth\":0,\"ticks\":\"\"},\"colorscale\":[[0.0,\"#0d0887\"],[0.1111111111111111,\"#46039f\"],[0.2222222222222222,\"#7201a8\"],[0.3333333333333333,\"#9c179e\"],[0.4444444444444444,\"#bd3786\"],[0.5555555555555556,\"#d8576b\"],[0.6666666666666666,\"#ed7953\"],[0.7777777777777778,\"#fb9f3a\"],[0.8888888888888888,\"#fdca26\"],[1.0,\"#f0f921\"]]}],\"contourcarpet\":[{\"type\":\"contourcarpet\",\"colorbar\":{\"outlinewidth\":0,\"ticks\":\"\"}}],\"contour\":[{\"type\":\"contour\",\"colorbar\":{\"outlinewidth\":0,\"ticks\":\"\"},\"colorscale\":[[0.0,\"#0d0887\"],[0.1111111111111111,\"#46039f\"],[0.2222222222222222,\"#7201a8\"],[0.3333333333333333,\"#9c179e\"],[0.4444444444444444,\"#bd3786\"],[0.5555555555555556,\"#d8576b\"],[0.6666666666666666,\"#ed7953\"],[0.7777777777777778,\"#fb9f3a\"],[0.8888888888888888,\"#fdca26\"],[1.0,\"#f0f921\"]]}],\"surface\":[{\"type\":\"surface\",\"colorbar\":{\"outlinewidth\":0,\"ticks\":\"\"},\"colorscale\":[[0.0,\"#0d0887\"],[0.1111111111111111,\"#46039f\"],[0.2222222222222222,\"#7201a8\"],[0.3333333333333333,\"#9c179e\"],[0.4444444444444444,\"#bd3786\"],[0.5555555555555556,\"#d8576b\"],[0.6666666666666666,\"#ed7953\"],[0.7777777777777778,\"#fb9f3a\"],[0.8888888888888888,\"#fdca26\"],[1.0,\"#f0f921\"]]}],\"mesh3d\":[{\"type\":\"mesh3d\",\"colorbar\":{\"outlinewidth\":0,\"ticks\":\"\"}}],\"scatter\":[{\"fillpattern\":{\"fillmode\":\"overlay\",\"size\":10,\"solidity\":0.2},\"type\":\"scatter\"}],\"parcoords\":[{\"type\":\"parcoords\",\"line\":{\"colorbar\":{\"outlinewidth\":0,\"ticks\":\"\"}}}],\"scatterpolargl\":[{\"type\":\"scatterpolargl\",\"marker\":{\"colorbar\":{\"outlinewidth\":0,\"ticks\":\"\"}}}],\"bar\":[{\"error_x\":{\"color\":\"#2a3f5f\"},\"error_y\":{\"color\":\"#2a3f5f\"},\"marker\":{\"line\":{\"color\":\"#E5ECF6\",\"width\":0.5},\"pattern\":{\"fillmode\":\"overlay\",\"size\":10,\"solidity\":0.2}},\"type\":\"bar\"}],\"scattergeo\":[{\"type\":\"scattergeo\",\"marker\":{\"colorbar\":{\"outlinewidth\":0,\"ticks\":\"\"}}}],\"scatterpolar\":[{\"type\":\"scatterpolar\",\"marker\":{\"colorbar\":{\"outlinewidth\":0,\"ticks\":\"\"}}}],\"histogram\":[{\"marker\":{\"pattern\":{\"fillmode\":\"overlay\",\"size\":10,\"solidity\":0.2}},\"type\":\"histogram\"}],\"scattergl\":[{\"type\":\"scattergl\",\"marker\":{\"colorbar\":{\"outlinewidth\":0,\"ticks\":\"\"}}}],\"scatter3d\":[{\"type\":\"scatter3d\",\"line\":{\"colorbar\":{\"outlinewidth\":0,\"ticks\":\"\"}},\"marker\":{\"colorbar\":{\"outlinewidth\":0,\"ticks\":\"\"}}}],\"scattermapbox\":[{\"type\":\"scattermapbox\",\"marker\":{\"colorbar\":{\"outlinewidth\":0,\"ticks\":\"\"}}}],\"scatterternary\":[{\"type\":\"scatterternary\",\"marker\":{\"colorbar\":{\"outlinewidth\":0,\"ticks\":\"\"}}}],\"scattercarpet\":[{\"type\":\"scattercarpet\",\"marker\":{\"colorbar\":{\"outlinewidth\":0,\"ticks\":\"\"}}}],\"carpet\":[{\"aaxis\":{\"endlinecolor\":\"#2a3f5f\",\"gridcolor\":\"white\",\"linecolor\":\"white\",\"minorgridcolor\":\"white\",\"startlinecolor\":\"#2a3f5f\"},\"baxis\":{\"endlinecolor\":\"#2a3f5f\",\"gridcolor\":\"white\",\"linecolor\":\"white\",\"minorgridcolor\":\"white\",\"startlinecolor\":\"#2a3f5f\"},\"type\":\"carpet\"}],\"table\":[{\"cells\":{\"fill\":{\"color\":\"#EBF0F8\"},\"line\":{\"color\":\"white\"}},\"header\":{\"fill\":{\"color\":\"#C8D4E3\"},\"line\":{\"color\":\"white\"}},\"type\":\"table\"}],\"barpolar\":[{\"marker\":{\"line\":{\"color\":\"#E5ECF6\",\"width\":0.5},\"pattern\":{\"fillmode\":\"overlay\",\"size\":10,\"solidity\":0.2}},\"type\":\"barpolar\"}],\"pie\":[{\"automargin\":true,\"type\":\"pie\"}]},\"layout\":{\"autotypenumbers\":\"strict\",\"colorway\":[\"#636efa\",\"#EF553B\",\"#00cc96\",\"#ab63fa\",\"#FFA15A\",\"#19d3f3\",\"#FF6692\",\"#B6E880\",\"#FF97FF\",\"#FECB52\"],\"font\":{\"color\":\"#2a3f5f\"},\"hovermode\":\"closest\",\"hoverlabel\":{\"align\":\"left\"},\"paper_bgcolor\":\"white\",\"plot_bgcolor\":\"#E5ECF6\",\"polar\":{\"bgcolor\":\"#E5ECF6\",\"angularaxis\":{\"gridcolor\":\"white\",\"linecolor\":\"white\",\"ticks\":\"\"},\"radialaxis\":{\"gridcolor\":\"white\",\"linecolor\":\"white\",\"ticks\":\"\"}},\"ternary\":{\"bgcolor\":\"#E5ECF6\",\"aaxis\":{\"gridcolor\":\"white\",\"linecolor\":\"white\",\"ticks\":\"\"},\"baxis\":{\"gridcolor\":\"white\",\"linecolor\":\"white\",\"ticks\":\"\"},\"caxis\":{\"gridcolor\":\"white\",\"linecolor\":\"white\",\"ticks\":\"\"}},\"coloraxis\":{\"colorbar\":{\"outlinewidth\":0,\"ticks\":\"\"}},\"colorscale\":{\"sequential\":[[0.0,\"#0d0887\"],[0.1111111111111111,\"#46039f\"],[0.2222222222222222,\"#7201a8\"],[0.3333333333333333,\"#9c179e\"],[0.4444444444444444,\"#bd3786\"],[0.5555555555555556,\"#d8576b\"],[0.6666666666666666,\"#ed7953\"],[0.7777777777777778,\"#fb9f3a\"],[0.8888888888888888,\"#fdca26\"],[1.0,\"#f0f921\"]],\"sequentialminus\":[[0.0,\"#0d0887\"],[0.1111111111111111,\"#46039f\"],[0.2222222222222222,\"#7201a8\"],[0.3333333333333333,\"#9c179e\"],[0.4444444444444444,\"#bd3786\"],[0.5555555555555556,\"#d8576b\"],[0.6666666666666666,\"#ed7953\"],[0.7777777777777778,\"#fb9f3a\"],[0.8888888888888888,\"#fdca26\"],[1.0,\"#f0f921\"]],\"diverging\":[[0,\"#8e0152\"],[0.1,\"#c51b7d\"],[0.2,\"#de77ae\"],[0.3,\"#f1b6da\"],[0.4,\"#fde0ef\"],[0.5,\"#f7f7f7\"],[0.6,\"#e6f5d0\"],[0.7,\"#b8e186\"],[0.8,\"#7fbc41\"],[0.9,\"#4d9221\"],[1,\"#276419\"]]},\"xaxis\":{\"gridcolor\":\"white\",\"linecolor\":\"white\",\"ticks\":\"\",\"title\":{\"standoff\":15},\"zerolinecolor\":\"white\",\"automargin\":true,\"zerolinewidth\":2},\"yaxis\":{\"gridcolor\":\"white\",\"linecolor\":\"white\",\"ticks\":\"\",\"title\":{\"standoff\":15},\"zerolinecolor\":\"white\",\"automargin\":true,\"zerolinewidth\":2},\"scene\":{\"xaxis\":{\"backgroundcolor\":\"#E5ECF6\",\"gridcolor\":\"white\",\"linecolor\":\"white\",\"showbackground\":true,\"ticks\":\"\",\"zerolinecolor\":\"white\",\"gridwidth\":2},\"yaxis\":{\"backgroundcolor\":\"#E5ECF6\",\"gridcolor\":\"white\",\"linecolor\":\"white\",\"showbackground\":true,\"ticks\":\"\",\"zerolinecolor\":\"white\",\"gridwidth\":2},\"zaxis\":{\"backgroundcolor\":\"#E5ECF6\",\"gridcolor\":\"white\",\"linecolor\":\"white\",\"showbackground\":true,\"ticks\":\"\",\"zerolinecolor\":\"white\",\"gridwidth\":2}},\"shapedefaults\":{\"line\":{\"color\":\"#2a3f5f\"}},\"annotationdefaults\":{\"arrowcolor\":\"#2a3f5f\",\"arrowhead\":0,\"arrowwidth\":1},\"geo\":{\"bgcolor\":\"white\",\"landcolor\":\"#E5ECF6\",\"subunitcolor\":\"white\",\"showland\":true,\"showlakes\":true,\"lakecolor\":\"white\"},\"title\":{\"x\":0.05},\"mapbox\":{\"style\":\"light\"}}},\"xaxis\":{\"anchor\":\"y\",\"domain\":[0.0,1.0],\"title\":{\"text\":\"publishTime\"}},\"yaxis\":{\"anchor\":\"x\",\"domain\":[0.0,1.0],\"title\":{\"text\":\"Views\"}},\"legend\":{\"tracegroupgap\":0},\"title\":{\"text\":\"Publish Time vs Views\"},\"barmode\":\"relative\"},                        {\"responsive\": true}                    ).then(function(){\n",
       "                            \n",
       "var gd = document.getElementById('fc932c2c-8c61-40d3-b76e-f466349686ec');\n",
       "var x = new MutationObserver(function (mutations, observer) {{\n",
       "        var display = window.getComputedStyle(gd).display;\n",
       "        if (!display || display === 'none') {{\n",
       "            console.log([gd, 'removed!']);\n",
       "            Plotly.purge(gd);\n",
       "            observer.disconnect();\n",
       "        }}\n",
       "}});\n",
       "\n",
       "// Listen for the removal of the full notebook cells\n",
       "var notebookContainer = gd.closest('#notebook-container');\n",
       "if (notebookContainer) {{\n",
       "    x.observe(notebookContainer, {childList: true});\n",
       "}}\n",
       "\n",
       "// Listen for the clearing of the current output cell\n",
       "var outputEl = gd.closest('.output');\n",
       "if (outputEl) {{\n",
       "    x.observe(outputEl, {childList: true});\n",
       "}}\n",
       "\n",
       "                        })                };                });            </script>        </div>"
      ]
     },
     "metadata": {},
     "output_type": "display_data"
    }
   ],
   "source": [
    "px.bar(d1,x='publishTime',y='Views',title = 'Publish Time vs Views')"
   ]
  },
  {
   "cell_type": "code",
   "execution_count": 868,
   "id": "24a09697",
   "metadata": {},
   "outputs": [
    {
     "data": {
      "text/html": [
       "<div>\n",
       "<style scoped>\n",
       "    .dataframe tbody tr th:only-of-type {\n",
       "        vertical-align: middle;\n",
       "    }\n",
       "\n",
       "    .dataframe tbody tr th {\n",
       "        vertical-align: top;\n",
       "    }\n",
       "\n",
       "    .dataframe thead th {\n",
       "        text-align: right;\n",
       "    }\n",
       "</style>\n",
       "<table border=\"1\" class=\"dataframe\">\n",
       "  <thead>\n",
       "    <tr style=\"text-align: right;\">\n",
       "      <th></th>\n",
       "      <th>Views</th>\n",
       "      <th>Likes</th>\n",
       "      <th>Comments</th>\n",
       "      <th>Durations</th>\n",
       "    </tr>\n",
       "  </thead>\n",
       "  <tbody>\n",
       "    <tr>\n",
       "      <th>count</th>\n",
       "      <td>7.620000e+02</td>\n",
       "      <td>7.620000e+02</td>\n",
       "      <td>762.000000</td>\n",
       "      <td>762.000000</td>\n",
       "    </tr>\n",
       "    <tr>\n",
       "      <th>mean</th>\n",
       "      <td>4.705863e+07</td>\n",
       "      <td>1.434753e+06</td>\n",
       "      <td>34560.077428</td>\n",
       "      <td>19.807196</td>\n",
       "    </tr>\n",
       "    <tr>\n",
       "      <th>std</th>\n",
       "      <td>8.958824e+07</td>\n",
       "      <td>3.375419e+06</td>\n",
       "      <td>63639.170303</td>\n",
       "      <td>118.135615</td>\n",
       "    </tr>\n",
       "    <tr>\n",
       "      <th>min</th>\n",
       "      <td>3.964100e+04</td>\n",
       "      <td>0.000000e+00</td>\n",
       "      <td>0.000000</td>\n",
       "      <td>0.250000</td>\n",
       "    </tr>\n",
       "    <tr>\n",
       "      <th>25%</th>\n",
       "      <td>7.561125e+04</td>\n",
       "      <td>2.158500e+03</td>\n",
       "      <td>362.500000</td>\n",
       "      <td>2.983333</td>\n",
       "    </tr>\n",
       "    <tr>\n",
       "      <th>50%</th>\n",
       "      <td>4.603675e+05</td>\n",
       "      <td>1.507400e+04</td>\n",
       "      <td>1721.500000</td>\n",
       "      <td>4.483333</td>\n",
       "    </tr>\n",
       "    <tr>\n",
       "      <th>75%</th>\n",
       "      <td>5.926685e+07</td>\n",
       "      <td>1.577588e+06</td>\n",
       "      <td>49872.250000</td>\n",
       "      <td>12.533333</td>\n",
       "    </tr>\n",
       "    <tr>\n",
       "      <th>max</th>\n",
       "      <td>9.667777e+08</td>\n",
       "      <td>4.106409e+07</td>\n",
       "      <td>744469.000000</td>\n",
       "      <td>1440.033333</td>\n",
       "    </tr>\n",
       "  </tbody>\n",
       "</table>\n",
       "</div>"
      ],
      "text/plain": [
       "              Views         Likes       Comments    Durations\n",
       "count  7.620000e+02  7.620000e+02     762.000000   762.000000\n",
       "mean   4.705863e+07  1.434753e+06   34560.077428    19.807196\n",
       "std    8.958824e+07  3.375419e+06   63639.170303   118.135615\n",
       "min    3.964100e+04  0.000000e+00       0.000000     0.250000\n",
       "25%    7.561125e+04  2.158500e+03     362.500000     2.983333\n",
       "50%    4.603675e+05  1.507400e+04    1721.500000     4.483333\n",
       "75%    5.926685e+07  1.577588e+06   49872.250000    12.533333\n",
       "max    9.667777e+08  4.106409e+07  744469.000000  1440.033333"
      ]
     },
     "execution_count": 868,
     "metadata": {},
     "output_type": "execute_result"
    }
   ],
   "source": [
    "df.describe()"
   ]
  },
  {
   "cell_type": "code",
   "execution_count": 869,
   "id": "2b111ae7",
   "metadata": {},
   "outputs": [
    {
     "data": {
      "text/html": [
       "<div>\n",
       "<style scoped>\n",
       "    .dataframe tbody tr th:only-of-type {\n",
       "        vertical-align: middle;\n",
       "    }\n",
       "\n",
       "    .dataframe tbody tr th {\n",
       "        vertical-align: top;\n",
       "    }\n",
       "\n",
       "    .dataframe thead th {\n",
       "        text-align: right;\n",
       "    }\n",
       "</style>\n",
       "<table border=\"1\" class=\"dataframe\">\n",
       "  <thead>\n",
       "    <tr style=\"text-align: right;\">\n",
       "      <th></th>\n",
       "      <th>Views</th>\n",
       "      <th>Likes</th>\n",
       "      <th>Comments</th>\n",
       "      <th>Durations</th>\n",
       "    </tr>\n",
       "  </thead>\n",
       "  <tbody>\n",
       "    <tr>\n",
       "      <th>count</th>\n",
       "      <td>1.200000e+01</td>\n",
       "      <td>1.200000e+01</td>\n",
       "      <td>12.000000</td>\n",
       "      <td>12.000000</td>\n",
       "    </tr>\n",
       "    <tr>\n",
       "      <th>mean</th>\n",
       "      <td>2.314818e+07</td>\n",
       "      <td>7.865904e+05</td>\n",
       "      <td>54346.333333</td>\n",
       "      <td>805.115278</td>\n",
       "    </tr>\n",
       "    <tr>\n",
       "      <th>std</th>\n",
       "      <td>2.099707e+07</td>\n",
       "      <td>7.849997e+05</td>\n",
       "      <td>56850.415048</td>\n",
       "      <td>528.821571</td>\n",
       "    </tr>\n",
       "    <tr>\n",
       "      <th>min</th>\n",
       "      <td>7.120470e+05</td>\n",
       "      <td>2.839000e+04</td>\n",
       "      <td>0.000000</td>\n",
       "      <td>90.983333</td>\n",
       "    </tr>\n",
       "    <tr>\n",
       "      <th>25%</th>\n",
       "      <td>3.408364e+06</td>\n",
       "      <td>1.327368e+05</td>\n",
       "      <td>8714.250000</td>\n",
       "      <td>502.433333</td>\n",
       "    </tr>\n",
       "    <tr>\n",
       "      <th>50%</th>\n",
       "      <td>2.436876e+07</td>\n",
       "      <td>7.582270e+05</td>\n",
       "      <td>39351.500000</td>\n",
       "      <td>654.425000</td>\n",
       "    </tr>\n",
       "    <tr>\n",
       "      <th>75%</th>\n",
       "      <td>3.071396e+07</td>\n",
       "      <td>1.045095e+06</td>\n",
       "      <td>81495.500000</td>\n",
       "      <td>1418.000000</td>\n",
       "    </tr>\n",
       "    <tr>\n",
       "      <th>max</th>\n",
       "      <td>6.572380e+07</td>\n",
       "      <td>2.573315e+06</td>\n",
       "      <td>172494.000000</td>\n",
       "      <td>1440.033333</td>\n",
       "    </tr>\n",
       "  </tbody>\n",
       "</table>\n",
       "</div>"
      ],
      "text/plain": [
       "              Views         Likes       Comments    Durations\n",
       "count  1.200000e+01  1.200000e+01      12.000000    12.000000\n",
       "mean   2.314818e+07  7.865904e+05   54346.333333   805.115278\n",
       "std    2.099707e+07  7.849997e+05   56850.415048   528.821571\n",
       "min    7.120470e+05  2.839000e+04       0.000000    90.983333\n",
       "25%    3.408364e+06  1.327368e+05    8714.250000   502.433333\n",
       "50%    2.436876e+07  7.582270e+05   39351.500000   654.425000\n",
       "75%    3.071396e+07  1.045095e+06   81495.500000  1418.000000\n",
       "max    6.572380e+07  2.573315e+06  172494.000000  1440.033333"
      ]
     },
     "execution_count": 869,
     "metadata": {},
     "output_type": "execute_result"
    }
   ],
   "source": [
    "longestVideos = df[df['Durations']>90]\n",
    "longestVideos.describe()"
   ]
  },
  {
   "cell_type": "code",
   "execution_count": 870,
   "id": "22c1a02a",
   "metadata": {},
   "outputs": [
    {
     "data": {
      "application/vnd.plotly.v1+json": {
       "config": {
        "plotlyServerURL": "https://plot.ly"
       },
       "data": [
        {
         "hovertemplate": "Durations=%{x}<br>Views=%{y}<extra></extra>",
         "legendgroup": "",
         "marker": {
          "color": "#636efa",
          "symbol": "circle"
         },
         "mode": "markers",
         "name": "",
         "orientation": "v",
         "showlegend": false,
         "type": "scatter",
         "x": [
          708.6666666666666,
          600.0333333333333,
          1026.1166666666666,
          1428.1,
          600.1833333333333,
          114.81666666666666,
          600.0166666666667,
          1414.6333333333334,
          1428.1166666666666,
          90.98333333333333,
          1440.0333333333333,
          209.68333333333334
         ],
         "xaxis": "x",
         "y": [
          25710373,
          2218593,
          23027154,
          873951,
          27979745,
          34942323,
          52604927,
          3804954,
          29304499,
          10875836,
          712047,
          65723798
         ],
         "yaxis": "y"
        }
       ],
       "layout": {
        "legend": {
         "tracegroupgap": 0
        },
        "margin": {
         "t": 60
        },
        "template": {
         "data": {
          "bar": [
           {
            "error_x": {
             "color": "#2a3f5f"
            },
            "error_y": {
             "color": "#2a3f5f"
            },
            "marker": {
             "line": {
              "color": "#E5ECF6",
              "width": 0.5
             },
             "pattern": {
              "fillmode": "overlay",
              "size": 10,
              "solidity": 0.2
             }
            },
            "type": "bar"
           }
          ],
          "barpolar": [
           {
            "marker": {
             "line": {
              "color": "#E5ECF6",
              "width": 0.5
             },
             "pattern": {
              "fillmode": "overlay",
              "size": 10,
              "solidity": 0.2
             }
            },
            "type": "barpolar"
           }
          ],
          "carpet": [
           {
            "aaxis": {
             "endlinecolor": "#2a3f5f",
             "gridcolor": "white",
             "linecolor": "white",
             "minorgridcolor": "white",
             "startlinecolor": "#2a3f5f"
            },
            "baxis": {
             "endlinecolor": "#2a3f5f",
             "gridcolor": "white",
             "linecolor": "white",
             "minorgridcolor": "white",
             "startlinecolor": "#2a3f5f"
            },
            "type": "carpet"
           }
          ],
          "choropleth": [
           {
            "colorbar": {
             "outlinewidth": 0,
             "ticks": ""
            },
            "type": "choropleth"
           }
          ],
          "contour": [
           {
            "colorbar": {
             "outlinewidth": 0,
             "ticks": ""
            },
            "colorscale": [
             [
              0,
              "#0d0887"
             ],
             [
              0.1111111111111111,
              "#46039f"
             ],
             [
              0.2222222222222222,
              "#7201a8"
             ],
             [
              0.3333333333333333,
              "#9c179e"
             ],
             [
              0.4444444444444444,
              "#bd3786"
             ],
             [
              0.5555555555555556,
              "#d8576b"
             ],
             [
              0.6666666666666666,
              "#ed7953"
             ],
             [
              0.7777777777777778,
              "#fb9f3a"
             ],
             [
              0.8888888888888888,
              "#fdca26"
             ],
             [
              1,
              "#f0f921"
             ]
            ],
            "type": "contour"
           }
          ],
          "contourcarpet": [
           {
            "colorbar": {
             "outlinewidth": 0,
             "ticks": ""
            },
            "type": "contourcarpet"
           }
          ],
          "heatmap": [
           {
            "colorbar": {
             "outlinewidth": 0,
             "ticks": ""
            },
            "colorscale": [
             [
              0,
              "#0d0887"
             ],
             [
              0.1111111111111111,
              "#46039f"
             ],
             [
              0.2222222222222222,
              "#7201a8"
             ],
             [
              0.3333333333333333,
              "#9c179e"
             ],
             [
              0.4444444444444444,
              "#bd3786"
             ],
             [
              0.5555555555555556,
              "#d8576b"
             ],
             [
              0.6666666666666666,
              "#ed7953"
             ],
             [
              0.7777777777777778,
              "#fb9f3a"
             ],
             [
              0.8888888888888888,
              "#fdca26"
             ],
             [
              1,
              "#f0f921"
             ]
            ],
            "type": "heatmap"
           }
          ],
          "heatmapgl": [
           {
            "colorbar": {
             "outlinewidth": 0,
             "ticks": ""
            },
            "colorscale": [
             [
              0,
              "#0d0887"
             ],
             [
              0.1111111111111111,
              "#46039f"
             ],
             [
              0.2222222222222222,
              "#7201a8"
             ],
             [
              0.3333333333333333,
              "#9c179e"
             ],
             [
              0.4444444444444444,
              "#bd3786"
             ],
             [
              0.5555555555555556,
              "#d8576b"
             ],
             [
              0.6666666666666666,
              "#ed7953"
             ],
             [
              0.7777777777777778,
              "#fb9f3a"
             ],
             [
              0.8888888888888888,
              "#fdca26"
             ],
             [
              1,
              "#f0f921"
             ]
            ],
            "type": "heatmapgl"
           }
          ],
          "histogram": [
           {
            "marker": {
             "pattern": {
              "fillmode": "overlay",
              "size": 10,
              "solidity": 0.2
             }
            },
            "type": "histogram"
           }
          ],
          "histogram2d": [
           {
            "colorbar": {
             "outlinewidth": 0,
             "ticks": ""
            },
            "colorscale": [
             [
              0,
              "#0d0887"
             ],
             [
              0.1111111111111111,
              "#46039f"
             ],
             [
              0.2222222222222222,
              "#7201a8"
             ],
             [
              0.3333333333333333,
              "#9c179e"
             ],
             [
              0.4444444444444444,
              "#bd3786"
             ],
             [
              0.5555555555555556,
              "#d8576b"
             ],
             [
              0.6666666666666666,
              "#ed7953"
             ],
             [
              0.7777777777777778,
              "#fb9f3a"
             ],
             [
              0.8888888888888888,
              "#fdca26"
             ],
             [
              1,
              "#f0f921"
             ]
            ],
            "type": "histogram2d"
           }
          ],
          "histogram2dcontour": [
           {
            "colorbar": {
             "outlinewidth": 0,
             "ticks": ""
            },
            "colorscale": [
             [
              0,
              "#0d0887"
             ],
             [
              0.1111111111111111,
              "#46039f"
             ],
             [
              0.2222222222222222,
              "#7201a8"
             ],
             [
              0.3333333333333333,
              "#9c179e"
             ],
             [
              0.4444444444444444,
              "#bd3786"
             ],
             [
              0.5555555555555556,
              "#d8576b"
             ],
             [
              0.6666666666666666,
              "#ed7953"
             ],
             [
              0.7777777777777778,
              "#fb9f3a"
             ],
             [
              0.8888888888888888,
              "#fdca26"
             ],
             [
              1,
              "#f0f921"
             ]
            ],
            "type": "histogram2dcontour"
           }
          ],
          "mesh3d": [
           {
            "colorbar": {
             "outlinewidth": 0,
             "ticks": ""
            },
            "type": "mesh3d"
           }
          ],
          "parcoords": [
           {
            "line": {
             "colorbar": {
              "outlinewidth": 0,
              "ticks": ""
             }
            },
            "type": "parcoords"
           }
          ],
          "pie": [
           {
            "automargin": true,
            "type": "pie"
           }
          ],
          "scatter": [
           {
            "fillpattern": {
             "fillmode": "overlay",
             "size": 10,
             "solidity": 0.2
            },
            "type": "scatter"
           }
          ],
          "scatter3d": [
           {
            "line": {
             "colorbar": {
              "outlinewidth": 0,
              "ticks": ""
             }
            },
            "marker": {
             "colorbar": {
              "outlinewidth": 0,
              "ticks": ""
             }
            },
            "type": "scatter3d"
           }
          ],
          "scattercarpet": [
           {
            "marker": {
             "colorbar": {
              "outlinewidth": 0,
              "ticks": ""
             }
            },
            "type": "scattercarpet"
           }
          ],
          "scattergeo": [
           {
            "marker": {
             "colorbar": {
              "outlinewidth": 0,
              "ticks": ""
             }
            },
            "type": "scattergeo"
           }
          ],
          "scattergl": [
           {
            "marker": {
             "colorbar": {
              "outlinewidth": 0,
              "ticks": ""
             }
            },
            "type": "scattergl"
           }
          ],
          "scattermapbox": [
           {
            "marker": {
             "colorbar": {
              "outlinewidth": 0,
              "ticks": ""
             }
            },
            "type": "scattermapbox"
           }
          ],
          "scatterpolar": [
           {
            "marker": {
             "colorbar": {
              "outlinewidth": 0,
              "ticks": ""
             }
            },
            "type": "scatterpolar"
           }
          ],
          "scatterpolargl": [
           {
            "marker": {
             "colorbar": {
              "outlinewidth": 0,
              "ticks": ""
             }
            },
            "type": "scatterpolargl"
           }
          ],
          "scatterternary": [
           {
            "marker": {
             "colorbar": {
              "outlinewidth": 0,
              "ticks": ""
             }
            },
            "type": "scatterternary"
           }
          ],
          "surface": [
           {
            "colorbar": {
             "outlinewidth": 0,
             "ticks": ""
            },
            "colorscale": [
             [
              0,
              "#0d0887"
             ],
             [
              0.1111111111111111,
              "#46039f"
             ],
             [
              0.2222222222222222,
              "#7201a8"
             ],
             [
              0.3333333333333333,
              "#9c179e"
             ],
             [
              0.4444444444444444,
              "#bd3786"
             ],
             [
              0.5555555555555556,
              "#d8576b"
             ],
             [
              0.6666666666666666,
              "#ed7953"
             ],
             [
              0.7777777777777778,
              "#fb9f3a"
             ],
             [
              0.8888888888888888,
              "#fdca26"
             ],
             [
              1,
              "#f0f921"
             ]
            ],
            "type": "surface"
           }
          ],
          "table": [
           {
            "cells": {
             "fill": {
              "color": "#EBF0F8"
             },
             "line": {
              "color": "white"
             }
            },
            "header": {
             "fill": {
              "color": "#C8D4E3"
             },
             "line": {
              "color": "white"
             }
            },
            "type": "table"
           }
          ]
         },
         "layout": {
          "annotationdefaults": {
           "arrowcolor": "#2a3f5f",
           "arrowhead": 0,
           "arrowwidth": 1
          },
          "autotypenumbers": "strict",
          "coloraxis": {
           "colorbar": {
            "outlinewidth": 0,
            "ticks": ""
           }
          },
          "colorscale": {
           "diverging": [
            [
             0,
             "#8e0152"
            ],
            [
             0.1,
             "#c51b7d"
            ],
            [
             0.2,
             "#de77ae"
            ],
            [
             0.3,
             "#f1b6da"
            ],
            [
             0.4,
             "#fde0ef"
            ],
            [
             0.5,
             "#f7f7f7"
            ],
            [
             0.6,
             "#e6f5d0"
            ],
            [
             0.7,
             "#b8e186"
            ],
            [
             0.8,
             "#7fbc41"
            ],
            [
             0.9,
             "#4d9221"
            ],
            [
             1,
             "#276419"
            ]
           ],
           "sequential": [
            [
             0,
             "#0d0887"
            ],
            [
             0.1111111111111111,
             "#46039f"
            ],
            [
             0.2222222222222222,
             "#7201a8"
            ],
            [
             0.3333333333333333,
             "#9c179e"
            ],
            [
             0.4444444444444444,
             "#bd3786"
            ],
            [
             0.5555555555555556,
             "#d8576b"
            ],
            [
             0.6666666666666666,
             "#ed7953"
            ],
            [
             0.7777777777777778,
             "#fb9f3a"
            ],
            [
             0.8888888888888888,
             "#fdca26"
            ],
            [
             1,
             "#f0f921"
            ]
           ],
           "sequentialminus": [
            [
             0,
             "#0d0887"
            ],
            [
             0.1111111111111111,
             "#46039f"
            ],
            [
             0.2222222222222222,
             "#7201a8"
            ],
            [
             0.3333333333333333,
             "#9c179e"
            ],
            [
             0.4444444444444444,
             "#bd3786"
            ],
            [
             0.5555555555555556,
             "#d8576b"
            ],
            [
             0.6666666666666666,
             "#ed7953"
            ],
            [
             0.7777777777777778,
             "#fb9f3a"
            ],
            [
             0.8888888888888888,
             "#fdca26"
            ],
            [
             1,
             "#f0f921"
            ]
           ]
          },
          "colorway": [
           "#636efa",
           "#EF553B",
           "#00cc96",
           "#ab63fa",
           "#FFA15A",
           "#19d3f3",
           "#FF6692",
           "#B6E880",
           "#FF97FF",
           "#FECB52"
          ],
          "font": {
           "color": "#2a3f5f"
          },
          "geo": {
           "bgcolor": "white",
           "lakecolor": "white",
           "landcolor": "#E5ECF6",
           "showlakes": true,
           "showland": true,
           "subunitcolor": "white"
          },
          "hoverlabel": {
           "align": "left"
          },
          "hovermode": "closest",
          "mapbox": {
           "style": "light"
          },
          "paper_bgcolor": "white",
          "plot_bgcolor": "#E5ECF6",
          "polar": {
           "angularaxis": {
            "gridcolor": "white",
            "linecolor": "white",
            "ticks": ""
           },
           "bgcolor": "#E5ECF6",
           "radialaxis": {
            "gridcolor": "white",
            "linecolor": "white",
            "ticks": ""
           }
          },
          "scene": {
           "xaxis": {
            "backgroundcolor": "#E5ECF6",
            "gridcolor": "white",
            "gridwidth": 2,
            "linecolor": "white",
            "showbackground": true,
            "ticks": "",
            "zerolinecolor": "white"
           },
           "yaxis": {
            "backgroundcolor": "#E5ECF6",
            "gridcolor": "white",
            "gridwidth": 2,
            "linecolor": "white",
            "showbackground": true,
            "ticks": "",
            "zerolinecolor": "white"
           },
           "zaxis": {
            "backgroundcolor": "#E5ECF6",
            "gridcolor": "white",
            "gridwidth": 2,
            "linecolor": "white",
            "showbackground": true,
            "ticks": "",
            "zerolinecolor": "white"
           }
          },
          "shapedefaults": {
           "line": {
            "color": "#2a3f5f"
           }
          },
          "ternary": {
           "aaxis": {
            "gridcolor": "white",
            "linecolor": "white",
            "ticks": ""
           },
           "baxis": {
            "gridcolor": "white",
            "linecolor": "white",
            "ticks": ""
           },
           "bgcolor": "#E5ECF6",
           "caxis": {
            "gridcolor": "white",
            "linecolor": "white",
            "ticks": ""
           }
          },
          "title": {
           "x": 0.05
          },
          "xaxis": {
           "automargin": true,
           "gridcolor": "white",
           "linecolor": "white",
           "ticks": "",
           "title": {
            "standoff": 15
           },
           "zerolinecolor": "white",
           "zerolinewidth": 2
          },
          "yaxis": {
           "automargin": true,
           "gridcolor": "white",
           "linecolor": "white",
           "ticks": "",
           "title": {
            "standoff": 15
           },
           "zerolinecolor": "white",
           "zerolinewidth": 2
          }
         }
        },
        "xaxis": {
         "anchor": "y",
         "domain": [
          0,
          1
         ],
         "title": {
          "text": "Durations"
         }
        },
        "yaxis": {
         "anchor": "x",
         "domain": [
          0,
          1
         ],
         "title": {
          "text": "Views"
         }
        }
       }
      },
      "text/html": [
       "<div>                            <div id=\"d1497995-4202-409f-a145-d6e38160a60d\" class=\"plotly-graph-div\" style=\"height:525px; width:100%;\"></div>            <script type=\"text/javascript\">                require([\"plotly\"], function(Plotly) {                    window.PLOTLYENV=window.PLOTLYENV || {};                                    if (document.getElementById(\"d1497995-4202-409f-a145-d6e38160a60d\")) {                    Plotly.newPlot(                        \"d1497995-4202-409f-a145-d6e38160a60d\",                        [{\"hovertemplate\":\"Durations=%{x}<br>Views=%{y}<extra></extra>\",\"legendgroup\":\"\",\"marker\":{\"color\":\"#636efa\",\"symbol\":\"circle\"},\"mode\":\"markers\",\"name\":\"\",\"orientation\":\"v\",\"showlegend\":false,\"x\":[708.6666666666666,600.0333333333333,1026.1166666666666,1428.1,600.1833333333333,114.81666666666666,600.0166666666667,1414.6333333333334,1428.1166666666666,90.98333333333333,1440.0333333333333,209.68333333333334],\"xaxis\":\"x\",\"y\":[25710373,2218593,23027154,873951,27979745,34942323,52604927,3804954,29304499,10875836,712047,65723798],\"yaxis\":\"y\",\"type\":\"scatter\"}],                        {\"template\":{\"data\":{\"histogram2dcontour\":[{\"type\":\"histogram2dcontour\",\"colorbar\":{\"outlinewidth\":0,\"ticks\":\"\"},\"colorscale\":[[0.0,\"#0d0887\"],[0.1111111111111111,\"#46039f\"],[0.2222222222222222,\"#7201a8\"],[0.3333333333333333,\"#9c179e\"],[0.4444444444444444,\"#bd3786\"],[0.5555555555555556,\"#d8576b\"],[0.6666666666666666,\"#ed7953\"],[0.7777777777777778,\"#fb9f3a\"],[0.8888888888888888,\"#fdca26\"],[1.0,\"#f0f921\"]]}],\"choropleth\":[{\"type\":\"choropleth\",\"colorbar\":{\"outlinewidth\":0,\"ticks\":\"\"}}],\"histogram2d\":[{\"type\":\"histogram2d\",\"colorbar\":{\"outlinewidth\":0,\"ticks\":\"\"},\"colorscale\":[[0.0,\"#0d0887\"],[0.1111111111111111,\"#46039f\"],[0.2222222222222222,\"#7201a8\"],[0.3333333333333333,\"#9c179e\"],[0.4444444444444444,\"#bd3786\"],[0.5555555555555556,\"#d8576b\"],[0.6666666666666666,\"#ed7953\"],[0.7777777777777778,\"#fb9f3a\"],[0.8888888888888888,\"#fdca26\"],[1.0,\"#f0f921\"]]}],\"heatmap\":[{\"type\":\"heatmap\",\"colorbar\":{\"outlinewidth\":0,\"ticks\":\"\"},\"colorscale\":[[0.0,\"#0d0887\"],[0.1111111111111111,\"#46039f\"],[0.2222222222222222,\"#7201a8\"],[0.3333333333333333,\"#9c179e\"],[0.4444444444444444,\"#bd3786\"],[0.5555555555555556,\"#d8576b\"],[0.6666666666666666,\"#ed7953\"],[0.7777777777777778,\"#fb9f3a\"],[0.8888888888888888,\"#fdca26\"],[1.0,\"#f0f921\"]]}],\"heatmapgl\":[{\"type\":\"heatmapgl\",\"colorbar\":{\"outlinewidth\":0,\"ticks\":\"\"},\"colorscale\":[[0.0,\"#0d0887\"],[0.1111111111111111,\"#46039f\"],[0.2222222222222222,\"#7201a8\"],[0.3333333333333333,\"#9c179e\"],[0.4444444444444444,\"#bd3786\"],[0.5555555555555556,\"#d8576b\"],[0.6666666666666666,\"#ed7953\"],[0.7777777777777778,\"#fb9f3a\"],[0.8888888888888888,\"#fdca26\"],[1.0,\"#f0f921\"]]}],\"contourcarpet\":[{\"type\":\"contourcarpet\",\"colorbar\":{\"outlinewidth\":0,\"ticks\":\"\"}}],\"contour\":[{\"type\":\"contour\",\"colorbar\":{\"outlinewidth\":0,\"ticks\":\"\"},\"colorscale\":[[0.0,\"#0d0887\"],[0.1111111111111111,\"#46039f\"],[0.2222222222222222,\"#7201a8\"],[0.3333333333333333,\"#9c179e\"],[0.4444444444444444,\"#bd3786\"],[0.5555555555555556,\"#d8576b\"],[0.6666666666666666,\"#ed7953\"],[0.7777777777777778,\"#fb9f3a\"],[0.8888888888888888,\"#fdca26\"],[1.0,\"#f0f921\"]]}],\"surface\":[{\"type\":\"surface\",\"colorbar\":{\"outlinewidth\":0,\"ticks\":\"\"},\"colorscale\":[[0.0,\"#0d0887\"],[0.1111111111111111,\"#46039f\"],[0.2222222222222222,\"#7201a8\"],[0.3333333333333333,\"#9c179e\"],[0.4444444444444444,\"#bd3786\"],[0.5555555555555556,\"#d8576b\"],[0.6666666666666666,\"#ed7953\"],[0.7777777777777778,\"#fb9f3a\"],[0.8888888888888888,\"#fdca26\"],[1.0,\"#f0f921\"]]}],\"mesh3d\":[{\"type\":\"mesh3d\",\"colorbar\":{\"outlinewidth\":0,\"ticks\":\"\"}}],\"scatter\":[{\"fillpattern\":{\"fillmode\":\"overlay\",\"size\":10,\"solidity\":0.2},\"type\":\"scatter\"}],\"parcoords\":[{\"type\":\"parcoords\",\"line\":{\"colorbar\":{\"outlinewidth\":0,\"ticks\":\"\"}}}],\"scatterpolargl\":[{\"type\":\"scatterpolargl\",\"marker\":{\"colorbar\":{\"outlinewidth\":0,\"ticks\":\"\"}}}],\"bar\":[{\"error_x\":{\"color\":\"#2a3f5f\"},\"error_y\":{\"color\":\"#2a3f5f\"},\"marker\":{\"line\":{\"color\":\"#E5ECF6\",\"width\":0.5},\"pattern\":{\"fillmode\":\"overlay\",\"size\":10,\"solidity\":0.2}},\"type\":\"bar\"}],\"scattergeo\":[{\"type\":\"scattergeo\",\"marker\":{\"colorbar\":{\"outlinewidth\":0,\"ticks\":\"\"}}}],\"scatterpolar\":[{\"type\":\"scatterpolar\",\"marker\":{\"colorbar\":{\"outlinewidth\":0,\"ticks\":\"\"}}}],\"histogram\":[{\"marker\":{\"pattern\":{\"fillmode\":\"overlay\",\"size\":10,\"solidity\":0.2}},\"type\":\"histogram\"}],\"scattergl\":[{\"type\":\"scattergl\",\"marker\":{\"colorbar\":{\"outlinewidth\":0,\"ticks\":\"\"}}}],\"scatter3d\":[{\"type\":\"scatter3d\",\"line\":{\"colorbar\":{\"outlinewidth\":0,\"ticks\":\"\"}},\"marker\":{\"colorbar\":{\"outlinewidth\":0,\"ticks\":\"\"}}}],\"scattermapbox\":[{\"type\":\"scattermapbox\",\"marker\":{\"colorbar\":{\"outlinewidth\":0,\"ticks\":\"\"}}}],\"scatterternary\":[{\"type\":\"scatterternary\",\"marker\":{\"colorbar\":{\"outlinewidth\":0,\"ticks\":\"\"}}}],\"scattercarpet\":[{\"type\":\"scattercarpet\",\"marker\":{\"colorbar\":{\"outlinewidth\":0,\"ticks\":\"\"}}}],\"carpet\":[{\"aaxis\":{\"endlinecolor\":\"#2a3f5f\",\"gridcolor\":\"white\",\"linecolor\":\"white\",\"minorgridcolor\":\"white\",\"startlinecolor\":\"#2a3f5f\"},\"baxis\":{\"endlinecolor\":\"#2a3f5f\",\"gridcolor\":\"white\",\"linecolor\":\"white\",\"minorgridcolor\":\"white\",\"startlinecolor\":\"#2a3f5f\"},\"type\":\"carpet\"}],\"table\":[{\"cells\":{\"fill\":{\"color\":\"#EBF0F8\"},\"line\":{\"color\":\"white\"}},\"header\":{\"fill\":{\"color\":\"#C8D4E3\"},\"line\":{\"color\":\"white\"}},\"type\":\"table\"}],\"barpolar\":[{\"marker\":{\"line\":{\"color\":\"#E5ECF6\",\"width\":0.5},\"pattern\":{\"fillmode\":\"overlay\",\"size\":10,\"solidity\":0.2}},\"type\":\"barpolar\"}],\"pie\":[{\"automargin\":true,\"type\":\"pie\"}]},\"layout\":{\"autotypenumbers\":\"strict\",\"colorway\":[\"#636efa\",\"#EF553B\",\"#00cc96\",\"#ab63fa\",\"#FFA15A\",\"#19d3f3\",\"#FF6692\",\"#B6E880\",\"#FF97FF\",\"#FECB52\"],\"font\":{\"color\":\"#2a3f5f\"},\"hovermode\":\"closest\",\"hoverlabel\":{\"align\":\"left\"},\"paper_bgcolor\":\"white\",\"plot_bgcolor\":\"#E5ECF6\",\"polar\":{\"bgcolor\":\"#E5ECF6\",\"angularaxis\":{\"gridcolor\":\"white\",\"linecolor\":\"white\",\"ticks\":\"\"},\"radialaxis\":{\"gridcolor\":\"white\",\"linecolor\":\"white\",\"ticks\":\"\"}},\"ternary\":{\"bgcolor\":\"#E5ECF6\",\"aaxis\":{\"gridcolor\":\"white\",\"linecolor\":\"white\",\"ticks\":\"\"},\"baxis\":{\"gridcolor\":\"white\",\"linecolor\":\"white\",\"ticks\":\"\"},\"caxis\":{\"gridcolor\":\"white\",\"linecolor\":\"white\",\"ticks\":\"\"}},\"coloraxis\":{\"colorbar\":{\"outlinewidth\":0,\"ticks\":\"\"}},\"colorscale\":{\"sequential\":[[0.0,\"#0d0887\"],[0.1111111111111111,\"#46039f\"],[0.2222222222222222,\"#7201a8\"],[0.3333333333333333,\"#9c179e\"],[0.4444444444444444,\"#bd3786\"],[0.5555555555555556,\"#d8576b\"],[0.6666666666666666,\"#ed7953\"],[0.7777777777777778,\"#fb9f3a\"],[0.8888888888888888,\"#fdca26\"],[1.0,\"#f0f921\"]],\"sequentialminus\":[[0.0,\"#0d0887\"],[0.1111111111111111,\"#46039f\"],[0.2222222222222222,\"#7201a8\"],[0.3333333333333333,\"#9c179e\"],[0.4444444444444444,\"#bd3786\"],[0.5555555555555556,\"#d8576b\"],[0.6666666666666666,\"#ed7953\"],[0.7777777777777778,\"#fb9f3a\"],[0.8888888888888888,\"#fdca26\"],[1.0,\"#f0f921\"]],\"diverging\":[[0,\"#8e0152\"],[0.1,\"#c51b7d\"],[0.2,\"#de77ae\"],[0.3,\"#f1b6da\"],[0.4,\"#fde0ef\"],[0.5,\"#f7f7f7\"],[0.6,\"#e6f5d0\"],[0.7,\"#b8e186\"],[0.8,\"#7fbc41\"],[0.9,\"#4d9221\"],[1,\"#276419\"]]},\"xaxis\":{\"gridcolor\":\"white\",\"linecolor\":\"white\",\"ticks\":\"\",\"title\":{\"standoff\":15},\"zerolinecolor\":\"white\",\"automargin\":true,\"zerolinewidth\":2},\"yaxis\":{\"gridcolor\":\"white\",\"linecolor\":\"white\",\"ticks\":\"\",\"title\":{\"standoff\":15},\"zerolinecolor\":\"white\",\"automargin\":true,\"zerolinewidth\":2},\"scene\":{\"xaxis\":{\"backgroundcolor\":\"#E5ECF6\",\"gridcolor\":\"white\",\"linecolor\":\"white\",\"showbackground\":true,\"ticks\":\"\",\"zerolinecolor\":\"white\",\"gridwidth\":2},\"yaxis\":{\"backgroundcolor\":\"#E5ECF6\",\"gridcolor\":\"white\",\"linecolor\":\"white\",\"showbackground\":true,\"ticks\":\"\",\"zerolinecolor\":\"white\",\"gridwidth\":2},\"zaxis\":{\"backgroundcolor\":\"#E5ECF6\",\"gridcolor\":\"white\",\"linecolor\":\"white\",\"showbackground\":true,\"ticks\":\"\",\"zerolinecolor\":\"white\",\"gridwidth\":2}},\"shapedefaults\":{\"line\":{\"color\":\"#2a3f5f\"}},\"annotationdefaults\":{\"arrowcolor\":\"#2a3f5f\",\"arrowhead\":0,\"arrowwidth\":1},\"geo\":{\"bgcolor\":\"white\",\"landcolor\":\"#E5ECF6\",\"subunitcolor\":\"white\",\"showland\":true,\"showlakes\":true,\"lakecolor\":\"white\"},\"title\":{\"x\":0.05},\"mapbox\":{\"style\":\"light\"}}},\"xaxis\":{\"anchor\":\"y\",\"domain\":[0.0,1.0],\"title\":{\"text\":\"Durations\"}},\"yaxis\":{\"anchor\":\"x\",\"domain\":[0.0,1.0],\"title\":{\"text\":\"Views\"}},\"legend\":{\"tracegroupgap\":0},\"margin\":{\"t\":60}},                        {\"responsive\": true}                    ).then(function(){\n",
       "                            \n",
       "var gd = document.getElementById('d1497995-4202-409f-a145-d6e38160a60d');\n",
       "var x = new MutationObserver(function (mutations, observer) {{\n",
       "        var display = window.getComputedStyle(gd).display;\n",
       "        if (!display || display === 'none') {{\n",
       "            console.log([gd, 'removed!']);\n",
       "            Plotly.purge(gd);\n",
       "            observer.disconnect();\n",
       "        }}\n",
       "}});\n",
       "\n",
       "// Listen for the removal of the full notebook cells\n",
       "var notebookContainer = gd.closest('#notebook-container');\n",
       "if (notebookContainer) {{\n",
       "    x.observe(notebookContainer, {childList: true});\n",
       "}}\n",
       "\n",
       "// Listen for the clearing of the current output cell\n",
       "var outputEl = gd.closest('.output');\n",
       "if (outputEl) {{\n",
       "    x.observe(outputEl, {childList: true});\n",
       "}}\n",
       "\n",
       "                        })                };                });            </script>        </div>"
      ]
     },
     "metadata": {},
     "output_type": "display_data"
    }
   ],
   "source": [
    "px.scatter(longestVideos,x='Durations',y='Views')"
   ]
  },
  {
   "cell_type": "markdown",
   "id": "82b5ac34",
   "metadata": {},
   "source": [
    "In which Years he has done these type of videos?"
   ]
  },
  {
   "cell_type": "code",
   "execution_count": 871,
   "id": "c8b7e08a",
   "metadata": {},
   "outputs": [
    {
     "data": {
      "text/plain": [
       "publishYear\n",
       "2016    3\n",
       "2017    8\n",
       "2018    1\n",
       "Name: Title, dtype: int64"
      ]
     },
     "execution_count": 871,
     "metadata": {},
     "output_type": "execute_result"
    }
   ],
   "source": [
    "longestVideos.groupby('publishYear')['Title'].count()"
   ]
  },
  {
   "cell_type": "code",
   "execution_count": 872,
   "id": "ffd6938a",
   "metadata": {},
   "outputs": [],
   "source": [
    "VideosLesthan90 = df[df['Durations']<90]"
   ]
  },
  {
   "cell_type": "code",
   "execution_count": 873,
   "id": "161c0056",
   "metadata": {},
   "outputs": [
    {
     "data": {
      "text/html": [
       "<div>\n",
       "<style scoped>\n",
       "    .dataframe tbody tr th:only-of-type {\n",
       "        vertical-align: middle;\n",
       "    }\n",
       "\n",
       "    .dataframe tbody tr th {\n",
       "        vertical-align: top;\n",
       "    }\n",
       "\n",
       "    .dataframe thead th {\n",
       "        text-align: right;\n",
       "    }\n",
       "</style>\n",
       "<table border=\"1\" class=\"dataframe\">\n",
       "  <thead>\n",
       "    <tr style=\"text-align: right;\">\n",
       "      <th></th>\n",
       "      <th>Title</th>\n",
       "      <th>Video Id</th>\n",
       "      <th>Published At</th>\n",
       "      <th>Description</th>\n",
       "      <th>Duration</th>\n",
       "      <th>Views</th>\n",
       "      <th>Likes</th>\n",
       "      <th>Comments</th>\n",
       "      <th>publishedAt</th>\n",
       "      <th>publishDayName</th>\n",
       "      <th>publishTime</th>\n",
       "      <th>publishYear</th>\n",
       "      <th>Durations</th>\n",
       "    </tr>\n",
       "  </thead>\n",
       "  <tbody>\n",
       "    <tr>\n",
       "      <th>0</th>\n",
       "      <td>World’s Deadliest Laser Maze!</td>\n",
       "      <td>QjvpjXdgugA</td>\n",
       "      <td>2023-10-28T15:59:59Z</td>\n",
       "      <td>I can’t believe what happened at the end…\\nDri...</td>\n",
       "      <td>PT26M36S</td>\n",
       "      <td>58167606</td>\n",
       "      <td>2734717</td>\n",
       "      <td>69953</td>\n",
       "      <td>2023-10-28 15:59:59+00:00</td>\n",
       "      <td>Saturday</td>\n",
       "      <td>15</td>\n",
       "      <td>2023</td>\n",
       "      <td>26.600000</td>\n",
       "    </tr>\n",
       "    <tr>\n",
       "      <th>1</th>\n",
       "      <td>World’s Most Expensive Coffee</td>\n",
       "      <td>jGAJCAuV3pQ</td>\n",
       "      <td>2023-10-19T17:00:03Z</td>\n",
       "      <td></td>\n",
       "      <td>PT33S</td>\n",
       "      <td>47820996</td>\n",
       "      <td>3181846</td>\n",
       "      <td>14381</td>\n",
       "      <td>2023-10-19 17:00:03+00:00</td>\n",
       "      <td>Thursday</td>\n",
       "      <td>17</td>\n",
       "      <td>2023</td>\n",
       "      <td>0.550000</td>\n",
       "    </tr>\n",
       "    <tr>\n",
       "      <th>2</th>\n",
       "      <td>$100,000,000 Bathroom</td>\n",
       "      <td>c0v8OPItCOg</td>\n",
       "      <td>2023-10-17T17:00:00Z</td>\n",
       "      <td></td>\n",
       "      <td>PT50S</td>\n",
       "      <td>61729449</td>\n",
       "      <td>3763144</td>\n",
       "      <td>9968</td>\n",
       "      <td>2023-10-17 17:00:00+00:00</td>\n",
       "      <td>Tuesday</td>\n",
       "      <td>17</td>\n",
       "      <td>2023</td>\n",
       "      <td>0.833333</td>\n",
       "    </tr>\n",
       "    <tr>\n",
       "      <th>3</th>\n",
       "      <td>$1 vs $100,000,000 House!</td>\n",
       "      <td>3ryID_SwU5E</td>\n",
       "      <td>2023-10-14T16:00:00Z</td>\n",
       "      <td>I can’t believe how expensive the last house i...</td>\n",
       "      <td>PT17M36S</td>\n",
       "      <td>122748023</td>\n",
       "      <td>4372148</td>\n",
       "      <td>128920</td>\n",
       "      <td>2023-10-14 16:00:00+00:00</td>\n",
       "      <td>Saturday</td>\n",
       "      <td>16</td>\n",
       "      <td>2023</td>\n",
       "      <td>17.600000</td>\n",
       "    </tr>\n",
       "    <tr>\n",
       "      <th>4</th>\n",
       "      <td>I Tipped A Pizza Delivery Driver A Car</td>\n",
       "      <td>IemzxkkzI5s</td>\n",
       "      <td>2023-10-12T17:30:03Z</td>\n",
       "      <td></td>\n",
       "      <td>PT52S</td>\n",
       "      <td>113062681</td>\n",
       "      <td>7683173</td>\n",
       "      <td>14547</td>\n",
       "      <td>2023-10-12 17:30:03+00:00</td>\n",
       "      <td>Thursday</td>\n",
       "      <td>17</td>\n",
       "      <td>2023</td>\n",
       "      <td>0.866667</td>\n",
       "    </tr>\n",
       "    <tr>\n",
       "      <th>...</th>\n",
       "      <td>...</td>\n",
       "      <td>...</td>\n",
       "      <td>...</td>\n",
       "      <td>...</td>\n",
       "      <td>...</td>\n",
       "      <td>...</td>\n",
       "      <td>...</td>\n",
       "      <td>...</td>\n",
       "      <td>...</td>\n",
       "      <td>...</td>\n",
       "      <td>...</td>\n",
       "      <td>...</td>\n",
       "      <td>...</td>\n",
       "    </tr>\n",
       "    <tr>\n",
       "      <th>757</th>\n",
       "      <td>Most Epic minecraft skin EVER  (Psy)</td>\n",
       "      <td>7qj3nuF9Dzw</td>\n",
       "      <td>2013-01-13T01:59:21Z</td>\n",
       "      <td>Psy in minecraft!!!   drop a like for psy's mo...</td>\n",
       "      <td>PT31S</td>\n",
       "      <td>821682</td>\n",
       "      <td>32423</td>\n",
       "      <td>3098</td>\n",
       "      <td>2013-01-13 01:59:21+00:00</td>\n",
       "      <td>Sunday</td>\n",
       "      <td>01</td>\n",
       "      <td>2013</td>\n",
       "      <td>0.516667</td>\n",
       "    </tr>\n",
       "    <tr>\n",
       "      <th>758</th>\n",
       "      <td>More birds IN MINECRAFT!!</td>\n",
       "      <td>Y74b7WlcEpk</td>\n",
       "      <td>2013-01-12T23:35:45Z</td>\n",
       "      <td>Basically what this mod does is adds more bird...</td>\n",
       "      <td>PT2M6S</td>\n",
       "      <td>952911</td>\n",
       "      <td>37779</td>\n",
       "      <td>3389</td>\n",
       "      <td>2013-01-12 23:35:45+00:00</td>\n",
       "      <td>Saturday</td>\n",
       "      <td>23</td>\n",
       "      <td>2013</td>\n",
       "      <td>2.100000</td>\n",
       "    </tr>\n",
       "    <tr>\n",
       "      <th>759</th>\n",
       "      <td>Boxy item mod Minecraft.  EPIC</td>\n",
       "      <td>Z8nEEdXTaX0</td>\n",
       "      <td>2013-01-12T22:34:11Z</td>\n",
       "      <td>At the begining i said i was mrbeast6000.... i...</td>\n",
       "      <td>PT1M30S</td>\n",
       "      <td>1130858</td>\n",
       "      <td>44676</td>\n",
       "      <td>4053</td>\n",
       "      <td>2013-01-12 22:34:11+00:00</td>\n",
       "      <td>Saturday</td>\n",
       "      <td>22</td>\n",
       "      <td>2013</td>\n",
       "      <td>1.500000</td>\n",
       "    </tr>\n",
       "    <tr>\n",
       "      <th>760</th>\n",
       "      <td>Harry Potter Mod In Minecraft! EPIC MUST SEE M...</td>\n",
       "      <td>jP82d277Cc8</td>\n",
       "      <td>2012-03-09T23:29:03Z</td>\n",
       "      <td>One of the coolest mods i have ever seen\\n\\nMo...</td>\n",
       "      <td>PT3M59S</td>\n",
       "      <td>4032686</td>\n",
       "      <td>0</td>\n",
       "      <td>8042</td>\n",
       "      <td>2012-03-09 23:29:03+00:00</td>\n",
       "      <td>Friday</td>\n",
       "      <td>23</td>\n",
       "      <td>2012</td>\n",
       "      <td>3.983333</td>\n",
       "    </tr>\n",
       "    <tr>\n",
       "      <th>761</th>\n",
       "      <td>Worst Minecraft Saw Trap Ever???</td>\n",
       "      <td>2XVcLrB7B3Y</td>\n",
       "      <td>2012-02-20T22:42:32Z</td>\n",
       "      <td>This is the worst saw trap ever done in minecr...</td>\n",
       "      <td>PT2M37S</td>\n",
       "      <td>19724605</td>\n",
       "      <td>932941</td>\n",
       "      <td>112761</td>\n",
       "      <td>2012-02-20 22:42:32+00:00</td>\n",
       "      <td>Monday</td>\n",
       "      <td>22</td>\n",
       "      <td>2012</td>\n",
       "      <td>2.616667</td>\n",
       "    </tr>\n",
       "  </tbody>\n",
       "</table>\n",
       "<p>750 rows × 13 columns</p>\n",
       "</div>"
      ],
      "text/plain": [
       "                                                 Title     Video Id  \\\n",
       "0                        World’s Deadliest Laser Maze!  QjvpjXdgugA   \n",
       "1                        World’s Most Expensive Coffee  jGAJCAuV3pQ   \n",
       "2                                $100,000,000 Bathroom  c0v8OPItCOg   \n",
       "3                            $1 vs $100,000,000 House!  3ryID_SwU5E   \n",
       "4               I Tipped A Pizza Delivery Driver A Car  IemzxkkzI5s   \n",
       "..                                                 ...          ...   \n",
       "757               Most Epic minecraft skin EVER  (Psy)  7qj3nuF9Dzw   \n",
       "758                          More birds IN MINECRAFT!!  Y74b7WlcEpk   \n",
       "759                     Boxy item mod Minecraft.  EPIC  Z8nEEdXTaX0   \n",
       "760  Harry Potter Mod In Minecraft! EPIC MUST SEE M...  jP82d277Cc8   \n",
       "761                   Worst Minecraft Saw Trap Ever???  2XVcLrB7B3Y   \n",
       "\n",
       "             Published At                                        Description  \\\n",
       "0    2023-10-28T15:59:59Z  I can’t believe what happened at the end…\\nDri...   \n",
       "1    2023-10-19T17:00:03Z                                                      \n",
       "2    2023-10-17T17:00:00Z                                                      \n",
       "3    2023-10-14T16:00:00Z  I can’t believe how expensive the last house i...   \n",
       "4    2023-10-12T17:30:03Z                                                      \n",
       "..                    ...                                                ...   \n",
       "757  2013-01-13T01:59:21Z  Psy in minecraft!!!   drop a like for psy's mo...   \n",
       "758  2013-01-12T23:35:45Z  Basically what this mod does is adds more bird...   \n",
       "759  2013-01-12T22:34:11Z  At the begining i said i was mrbeast6000.... i...   \n",
       "760  2012-03-09T23:29:03Z  One of the coolest mods i have ever seen\\n\\nMo...   \n",
       "761  2012-02-20T22:42:32Z  This is the worst saw trap ever done in minecr...   \n",
       "\n",
       "     Duration      Views    Likes  Comments               publishedAt  \\\n",
       "0    PT26M36S   58167606  2734717     69953 2023-10-28 15:59:59+00:00   \n",
       "1       PT33S   47820996  3181846     14381 2023-10-19 17:00:03+00:00   \n",
       "2       PT50S   61729449  3763144      9968 2023-10-17 17:00:00+00:00   \n",
       "3    PT17M36S  122748023  4372148    128920 2023-10-14 16:00:00+00:00   \n",
       "4       PT52S  113062681  7683173     14547 2023-10-12 17:30:03+00:00   \n",
       "..        ...        ...      ...       ...                       ...   \n",
       "757     PT31S     821682    32423      3098 2013-01-13 01:59:21+00:00   \n",
       "758    PT2M6S     952911    37779      3389 2013-01-12 23:35:45+00:00   \n",
       "759   PT1M30S    1130858    44676      4053 2013-01-12 22:34:11+00:00   \n",
       "760   PT3M59S    4032686        0      8042 2012-03-09 23:29:03+00:00   \n",
       "761   PT2M37S   19724605   932941    112761 2012-02-20 22:42:32+00:00   \n",
       "\n",
       "    publishDayName publishTime publishYear  Durations  \n",
       "0         Saturday          15        2023  26.600000  \n",
       "1         Thursday          17        2023   0.550000  \n",
       "2          Tuesday          17        2023   0.833333  \n",
       "3         Saturday          16        2023  17.600000  \n",
       "4         Thursday          17        2023   0.866667  \n",
       "..             ...         ...         ...        ...  \n",
       "757         Sunday          01        2013   0.516667  \n",
       "758       Saturday          23        2013   2.100000  \n",
       "759       Saturday          22        2013   1.500000  \n",
       "760         Friday          23        2012   3.983333  \n",
       "761         Monday          22        2012   2.616667  \n",
       "\n",
       "[750 rows x 13 columns]"
      ]
     },
     "execution_count": 873,
     "metadata": {},
     "output_type": "execute_result"
    }
   ],
   "source": [
    "VideosLesthan90"
   ]
  },
  {
   "cell_type": "code",
   "execution_count": 874,
   "id": "06a81cd4",
   "metadata": {},
   "outputs": [
    {
     "data": {
      "application/vnd.plotly.v1+json": {
       "config": {
        "plotlyServerURL": "https://plot.ly"
       },
       "data": [
        {
         "hovertemplate": "Durations=%{x}<br>Views=%{y}<extra></extra>",
         "legendgroup": "",
         "marker": {
          "color": "#636efa",
          "symbol": "circle"
         },
         "mode": "markers",
         "name": "",
         "orientation": "v",
         "showlegend": false,
         "type": "scatter",
         "x": [
          26.6,
          0.55,
          0.8333333333333334,
          17.6,
          0.8666666666666667,
          19.8,
          0.36666666666666664,
          0.75,
          0.5833333333333334,
          0.6166666666666667,
          0.48333333333333334,
          16.466666666666665,
          0.95,
          0.6833333333333333,
          0.75,
          14.983333333333333,
          0.8666666666666667,
          0.4666666666666667,
          18.816666666666666,
          0.8666666666666667,
          16.116666666666667,
          0.5333333333333333,
          18.083333333333332,
          0.7833333333333333,
          10.6,
          0.8833333333333333,
          14.783333333333333,
          0.55,
          25.6,
          6.233333333333333,
          0.65,
          0.6333333333333333,
          0.85,
          12.333333333333334,
          0.45,
          12.283333333333333,
          0.7833333333333333,
          8.016666666666667,
          12.166666666666666,
          10.416666666666666,
          0.8,
          15.383333333333333,
          0.6666666666666666,
          15.616666666666667,
          0.6666666666666666,
          15.683333333333334,
          0.9166666666666666,
          17.166666666666668,
          12.05,
          8.233333333333333,
          15.516666666666667,
          16.883333333333333,
          13.066666666666666,
          17.016666666666666,
          13.983333333333333,
          9.016666666666667,
          8.016666666666667,
          12.15,
          12.083333333333334,
          11.033333333333333,
          25.7,
          4.916666666666667,
          15.133333333333333,
          8.033333333333333,
          12.55,
          17.733333333333334,
          15.85,
          10.75,
          10.2,
          12.566666666666666,
          14.333333333333334,
          16.133333333333333,
          13.466666666666667,
          16.9,
          14.116666666666667,
          10.833333333333334,
          12.666666666666666,
          10.45,
          9.333333333333334,
          10.9,
          13.283333333333333,
          14.233333333333333,
          6.516666666666667,
          11.366666666666667,
          9.533333333333333,
          14.3,
          14.05,
          15.183333333333334,
          11.566666666666666,
          14.183333333333334,
          9.416666666666666,
          2.1333333333333333,
          12.4,
          17.183333333333334,
          6.366666666666666,
          14.083333333333334,
          18.433333333333334,
          21.25,
          11.616666666666667,
          10.216666666666667,
          8.05,
          16.066666666666666,
          11.15,
          14.033333333333333,
          18.35,
          13.933333333333334,
          15.866666666666667,
          17.35,
          15.316666666666666,
          13.533333333333333,
          11.983333333333333,
          12.483333333333333,
          13.816666666666666,
          17.35,
          20,
          12.933333333333334,
          14.8,
          16.8,
          13.633333333333333,
          17.983333333333334,
          6.566666666666666,
          2.5833333333333335,
          13.8,
          15.166666666666666,
          15.416666666666666,
          11.75,
          15.766666666666667,
          13.033333333333333,
          13.05,
          13.8,
          10.866666666666667,
          12.933333333333334,
          16.95,
          11.683333333333334,
          15.166666666666666,
          7.383333333333334,
          16.8,
          17.15,
          15.633333333333333,
          14.766666666666667,
          13.15,
          14.533333333333333,
          13.983333333333333,
          13.133333333333333,
          16.65,
          16.65,
          13.866666666666667,
          15.283333333333333,
          13.366666666666667,
          14.883333333333333,
          15.316666666666666,
          9.483333333333333,
          11.283333333333333,
          13.733333333333333,
          12.116666666666667,
          14.85,
          15.4,
          14.3,
          14.966666666666667,
          14.766666666666667,
          15.116666666666667,
          16.933333333333334,
          15.7,
          14.483333333333333,
          15.983333333333333,
          7.633333333333334,
          15.15,
          14.333333333333334,
          15.533333333333333,
          14.233333333333333,
          18.483333333333334,
          14.616666666666667,
          14.066666666666666,
          13.6,
          9.816666666666666,
          13.433333333333334,
          18.266666666666666,
          15.716666666666667,
          15.933333333333334,
          12.75,
          17.766666666666666,
          15.316666666666666,
          15.283333333333333,
          13.183333333333334,
          12.05,
          16.5,
          17.5,
          13.833333333333334,
          15.233333333333333,
          14.733333333333333,
          14.866666666666667,
          15.25,
          24.65,
          14.683333333333334,
          14.416666666666666,
          13.816666666666666,
          18.133333333333333,
          14.633333333333333,
          14.75,
          14.05,
          18.316666666666666,
          13.116666666666667,
          19.783333333333335,
          17.583333333333332,
          15.516666666666667,
          11.75,
          16.9,
          16.6,
          14.633333333333333,
          15.383333333333333,
          17.533333333333335,
          11.866666666666667,
          14.1,
          18.866666666666667,
          17.616666666666667,
          16.366666666666667,
          10.216666666666667,
          12.916666666666666,
          16.183333333333334,
          15.183333333333334,
          19.783333333333335,
          23.033333333333335,
          13.766666666666667,
          10.5,
          18.55,
          12.383333333333333,
          22.033333333333335,
          10.066666666666666,
          11.866666666666667,
          5.85,
          15.766666666666667,
          12.4,
          11.65,
          15.433333333333334,
          11.516666666666667,
          10.566666666666666,
          12.233333333333333,
          10.266666666666667,
          13.6,
          15.05,
          11.8,
          13.7,
          15.15,
          10.383333333333333,
          10.25,
          11.3,
          24.716666666666665,
          15.2,
          10.066666666666666,
          13.083333333333334,
          10.683333333333334,
          12.4,
          10.2,
          7.166666666666667,
          9.2,
          15.166666666666666,
          11.75,
          16.1,
          13.166666666666666,
          10.166666666666666,
          11.283333333333333,
          10.933333333333334,
          10.483333333333333,
          10.733333333333333,
          10.05,
          18.433333333333334,
          12.133333333333333,
          10.35,
          19.35,
          8.35,
          10.066666666666666,
          12.65,
          12.416666666666666,
          10.266666666666667,
          3.45,
          1.8333333333333333,
          3.783333333333333,
          12.616666666666667,
          5.7,
          12.816666666666666,
          6.1,
          16.2,
          3.95,
          8.783333333333333,
          2.6166666666666667,
          10.033333333333333,
          4.716666666666667,
          7.116666666666666,
          3.1333333333333333,
          5.383333333333334,
          4.75,
          5.15,
          2.0166666666666666,
          25.95,
          33.483333333333334,
          6.05,
          3.683333333333333,
          14.333333333333334,
          8.85,
          10.2,
          10.066666666666666,
          3.8833333333333333,
          5.683333333333334,
          5.433333333333334,
          5.3,
          5.266666666666667,
          3.55,
          6.35,
          4.6,
          5.55,
          4.716666666666667,
          1.9833333333333334,
          5,
          5.216666666666667,
          7.933333333333334,
          4.266666666666667,
          8.05,
          4.316666666666666,
          3.4166666666666665,
          4.133333333333334,
          2.933333333333333,
          5.583333333333333,
          3.45,
          4.433333333333334,
          4.833333333333333,
          2.7333333333333334,
          4.266666666666667,
          3.066666666666667,
          9.083333333333334,
          3.066666666666667,
          4.25,
          3.5833333333333335,
          3.7,
          4.083333333333333,
          5.133333333333334,
          2.9833333333333334,
          12.616666666666667,
          2.466666666666667,
          4.466666666666667,
          4.016666666666667,
          5.65,
          2.7,
          3.8,
          3.2333333333333334,
          3.683333333333333,
          2.9833333333333334,
          2.4833333333333334,
          3.1666666666666665,
          5.4,
          3.216666666666667,
          2.4166666666666665,
          4.85,
          2.1666666666666665,
          0.7166666666666667,
          3.433333333333333,
          3.466666666666667,
          3.75,
          4.566666666666666,
          5.416666666666667,
          3.9,
          4.266666666666667,
          4.5,
          2.9166666666666665,
          4.75,
          2.566666666666667,
          1.7,
          4.65,
          4.466666666666667,
          2.95,
          2.433333333333333,
          5.4,
          5.35,
          2.9833333333333334,
          2.9,
          1.7666666666666666,
          3.6666666666666665,
          3.5166666666666666,
          3.183333333333333,
          4.4,
          5.75,
          3.2333333333333334,
          2.2666666666666666,
          4.05,
          3.066666666666667,
          6.216666666666667,
          1.8666666666666667,
          2.65,
          9.916666666666666,
          6.516666666666667,
          3.0166666666666666,
          4.233333333333333,
          1.35,
          4.366666666666666,
          3.55,
          3.5,
          3.783333333333333,
          3.75,
          2.55,
          2.9833333333333334,
          3,
          2.3833333333333333,
          3.1166666666666667,
          0.9833333333333333,
          4.9,
          1.5333333333333334,
          2.75,
          7.833333333333333,
          5.566666666666666,
          3.9166666666666665,
          4.733333333333333,
          5.433333333333334,
          3.783333333333333,
          3.566666666666667,
          2.7666666666666666,
          2.15,
          3.6166666666666667,
          4.583333333333333,
          4.066666666666666,
          1.9166666666666667,
          2.9833333333333334,
          5.35,
          3.45,
          6.1,
          3.8666666666666667,
          1.8,
          6.15,
          5.25,
          1.9833333333333334,
          1.4666666666666666,
          3.716666666666667,
          4.1,
          2.6333333333333333,
          3.6166666666666667,
          4.383333333333334,
          4.966666666666667,
          4.316666666666666,
          1.0833333333333333,
          2.183333333333333,
          4.166666666666667,
          4.633333333333334,
          6.016666666666667,
          3.2333333333333334,
          3.5,
          3.15,
          2.4833333333333334,
          3.4833333333333334,
          4.483333333333333,
          3.9,
          5.533333333333333,
          4.466666666666667,
          4.266666666666667,
          4.533333333333333,
          2.3833333333333333,
          3.683333333333333,
          1.2666666666666666,
          3.683333333333333,
          4.133333333333334,
          3.15,
          2.933333333333333,
          3.216666666666667,
          2.35,
          4.066666666666666,
          3.0833333333333335,
          4.35,
          7.183333333333334,
          3.4833333333333334,
          2.95,
          3.933333333333333,
          3.316666666666667,
          3.433333333333333,
          2.816666666666667,
          2.683333333333333,
          2.466666666666667,
          2.3,
          1.2,
          2.5166666666666666,
          3.55,
          3.65,
          2.0166666666666666,
          4.233333333333333,
          5.233333333333333,
          3.433333333333333,
          2.5166666666666666,
          2.6166666666666667,
          3.4833333333333334,
          2.8833333333333333,
          3.1166666666666667,
          3.6666666666666665,
          2.45,
          3.933333333333333,
          5.033333333333333,
          1.4666666666666666,
          4.916666666666667,
          2.85,
          4.733333333333333,
          3.05,
          4.75,
          1,
          1.9166666666666667,
          5.183333333333334,
          2.1,
          7.533333333333333,
          3.15,
          3.4833333333333334,
          3.716666666666667,
          3.3833333333333333,
          7.033333333333333,
          3.1166666666666667,
          5,
          4.15,
          3.7333333333333334,
          4.316666666666666,
          1.7666666666666666,
          7.316666666666666,
          2.7,
          3.183333333333333,
          14.116666666666667,
          3.1333333333333333,
          2.7333333333333334,
          3.8833333333333333,
          2.3666666666666667,
          9.216666666666667,
          4.55,
          1.35,
          2.2333333333333334,
          1.6333333333333333,
          2.0833333333333335,
          2.533333333333333,
          2.5,
          3.05,
          15.766666666666667,
          3.6,
          4.083333333333333,
          2.05,
          2.2333333333333334,
          4.2,
          3.8666666666666667,
          3.283333333333333,
          5.066666666666666,
          1.2166666666666666,
          4.866666666666666,
          10.666666666666666,
          2.433333333333333,
          3.5,
          4.933333333333334,
          4.65,
          5.466666666666667,
          6.566666666666666,
          1.5333333333333334,
          1.8166666666666667,
          3.4,
          10.383333333333333,
          3.816666666666667,
          2.65,
          1.9833333333333334,
          1.2833333333333334,
          3.2666666666666666,
          2.6666666666666665,
          3.6166666666666667,
          4.116666666666666,
          2.8,
          3.6,
          2.9166666666666665,
          2.816666666666667,
          3.566666666666667,
          2.216666666666667,
          2.4166666666666665,
          4.766666666666667,
          4.083333333333333,
          4.283333333333333,
          3.1666666666666665,
          3.4166666666666665,
          3.933333333333333,
          7.05,
          3.8666666666666667,
          3.216666666666667,
          3.2666666666666666,
          1.5833333333333333,
          3.6166666666666667,
          3.95,
          3.9166666666666665,
          2.783333333333333,
          3.6,
          4.133333333333334,
          2.9,
          3.4,
          3.25,
          3.8833333333333333,
          4.8,
          1.9,
          3.0166666666666666,
          3.7666666666666666,
          2.566666666666667,
          2.5833333333333335,
          2.4833333333333334,
          4.35,
          3,
          2.4,
          3.5833333333333335,
          8.783333333333333,
          3.3333333333333335,
          4.45,
          6.733333333333333,
          4.033333333333333,
          4.033333333333333,
          3.75,
          0.4666666666666667,
          2.3833333333333333,
          3.7666666666666666,
          3.45,
          3.3333333333333335,
          3.3,
          6.083333333333333,
          4.516666666666667,
          8.816666666666666,
          3.3333333333333335,
          0.6,
          2.6166666666666667,
          3.5833333333333335,
          3,
          3.6666666666666665,
          3.816666666666667,
          3.55,
          1.2833333333333334,
          3.4166666666666665,
          4.4,
          3.433333333333333,
          0.8666666666666667,
          2.9166666666666665,
          3.05,
          2.3666666666666667,
          3.3666666666666667,
          3.0166666666666666,
          23.883333333333333,
          0.6333333333333333,
          3.8833333333333333,
          2.9,
          3.25,
          7.166666666666667,
          3.5,
          4.766666666666667,
          4.516666666666667,
          3.4833333333333334,
          2.783333333333333,
          4.6,
          2.0166666666666666,
          4.683333333333334,
          2.95,
          4.166666666666667,
          4.35,
          3,
          2.9,
          3.8833333333333333,
          1.4166666666666667,
          2.5166666666666666,
          5.033333333333333,
          3.4,
          3.1166666666666667,
          2.1,
          4.25,
          4.733333333333333,
          25.316666666666666,
          2.7333333333333334,
          4.166666666666667,
          2.933333333333333,
          2.8666666666666667,
          2.216666666666667,
          1.6166666666666667,
          3.1,
          1.3,
          1.6,
          0.9666666666666667,
          0.95,
          0.7833333333333333,
          1.4,
          2.6666666666666665,
          1.2,
          1.2666666666666666,
          1.1,
          2.7333333333333334,
          1.6666666666666667,
          3,
          4.483333333333333,
          2.716666666666667,
          5.533333333333333,
          2.6666666666666665,
          0.25,
          3.5833333333333335,
          0.6166666666666667,
          1.7166666666666666,
          0.7666666666666667,
          0.8666666666666667,
          2.7,
          2.4833333333333334,
          1.05,
          1.3666666666666667,
          14.966666666666667,
          1.75,
          6.816666666666666,
          3.3333333333333335,
          3.9166666666666665,
          5.3,
          4.433333333333334,
          3.8333333333333335,
          5.983333333333333,
          5.633333333333334,
          0.43333333333333335,
          2.9166666666666665,
          4.316666666666666,
          3.8833333333333333,
          2.45,
          3.4,
          18.45,
          0.8,
          6.033333333333333,
          4.35,
          15.75,
          24.566666666666666,
          14.333333333333334,
          19.9,
          2.6333333333333333,
          1.4666666666666666,
          0.9666666666666667,
          1.0666666666666667,
          3.216666666666667,
          2.566666666666667,
          5.316666666666666,
          5.45,
          4.35,
          3.5833333333333335,
          4.466666666666667,
          9.4,
          4.65,
          3.4166666666666665,
          2.816666666666667,
          6.05,
          4.55,
          0.8833333333333333,
          2.5833333333333335,
          3.7,
          2.2333333333333334,
          0.7166666666666667,
          0.8166666666666667,
          0.8666666666666667,
          0.48333333333333334,
          0.5166666666666667,
          2.1,
          1.5,
          3.9833333333333334,
          2.6166666666666667
         ],
         "xaxis": "x",
         "y": [
          58167606,
          47820996,
          61729449,
          122748023,
          113062681,
          142683250,
          190401610,
          207460032,
          220091483,
          116929470,
          248853062,
          160491271,
          116233316,
          322776504,
          167011465,
          129022733,
          53953740,
          179708951,
          137836623,
          167527818,
          182855279,
          238963428,
          180008578,
          241517564,
          165854902,
          151683893,
          253586222,
          168884882,
          261563296,
          126227655,
          341056528,
          242668561,
          260103494,
          270452274,
          335972510,
          216680578,
          249833260,
          162674297,
          159496546,
          205131767,
          966777663,
          208645147,
          342050891,
          146278275,
          928757624,
          308780500,
          418407547,
          256860010,
          132197981,
          157597043,
          186208465,
          177349555,
          97784453,
          254455865,
          191587458,
          167126939,
          242421163,
          97262713,
          82173280,
          189235301,
          525444290,
          112366579,
          160048014,
          161536842,
          155293334,
          363227550,
          187164514,
          171942157,
          151590798,
          215915206,
          163802504,
          194546915,
          182497910,
          194172168,
          273698837,
          219623991,
          306325683,
          121375361,
          145867116,
          54708420,
          238226078,
          160922825,
          69815938,
          100613540,
          171359810,
          187392622,
          198555654,
          279511911,
          147719311,
          119081631,
          200966337,
          115410829,
          149306446,
          159040093,
          54913837,
          75890194,
          186416294,
          235768057,
          154990716,
          124807538,
          232457786,
          223467945,
          202572355,
          149505594,
          187924856,
          158032687,
          303621555,
          197316607,
          44997472,
          144670586,
          189950579,
          56395136,
          147757671,
          130702750,
          266799232,
          236779658,
          128410818,
          171575481,
          114656498,
          146737551,
          18975030,
          36491203,
          62858957,
          173323545,
          131998696,
          61494711,
          91953032,
          132651836,
          120034533,
          148647160,
          108995383,
          108488030,
          148438575,
          214985808,
          50176716,
          98381672,
          120452362,
          172036520,
          252362818,
          59977444,
          124001160,
          69192924,
          69562661,
          93934302,
          134269846,
          162704350,
          178630636,
          144623101,
          163778238,
          105484680,
          154082469,
          117677808,
          77363250,
          148172421,
          68336592,
          85132287,
          176764290,
          146514906,
          110179354,
          40200880,
          122840447,
          147143299,
          192766113,
          155723376,
          76535499,
          94084625,
          87702061,
          156803781,
          37579462,
          32035932,
          107488927,
          92127192,
          140624652,
          48113712,
          59633266,
          79172097,
          104556896,
          103949796,
          111230985,
          44101641,
          189920504,
          41163885,
          94479433,
          142737740,
          33681951,
          141943237,
          84441679,
          74586377,
          14424533,
          31180807,
          112032117,
          46907874,
          97047831,
          149074545,
          100189245,
          64159409,
          128950194,
          43075818,
          190657581,
          44141395,
          28750924,
          18386010,
          88586120,
          36046620,
          38581665,
          43410968,
          31051583,
          90462658,
          41908933,
          72391828,
          17091072,
          28144035,
          139863281,
          35512818,
          63737926,
          43059751,
          69345813,
          28475543,
          111149880,
          134738665,
          56324620,
          51972598,
          44975781,
          36623302,
          17614249,
          28601611,
          96512271,
          29885501,
          90198668,
          28750688,
          21599009,
          74304757,
          126806135,
          53032951,
          11229191,
          17224492,
          15704870,
          37021854,
          24551822,
          15020170,
          40949139,
          14672551,
          23666633,
          26767840,
          31246500,
          32474632,
          24303610,
          38689344,
          19300037,
          20003579,
          13179838,
          14709630,
          32745344,
          25560755,
          53793115,
          17692113,
          7737378,
          11312858,
          18282078,
          8710682,
          36646712,
          47375285,
          37232389,
          26973267,
          9110444,
          32689793,
          26366820,
          44425034,
          27565714,
          30782304,
          7333264,
          25887461,
          31072992,
          42187263,
          5775195,
          13549590,
          3791164,
          4599523,
          6031166,
          22108486,
          2724261,
          10781084,
          31926517,
          6478960,
          25777111,
          10782114,
          19713706,
          42330064,
          2027840,
          26220736,
          1850181,
          4100356,
          7260443,
          524737,
          7641430,
          3314194,
          1959624,
          4880127,
          22902633,
          8705399,
          11350700,
          1793853,
          16221108,
          2502157,
          3724765,
          3845039,
          13383856,
          1565443,
          9852775,
          291331,
          1205614,
          1499563,
          380363,
          317015,
          3023768,
          1451782,
          3240209,
          1646381,
          3090993,
          809255,
          1645940,
          3565337,
          2220232,
          1305913,
          1177844,
          158973,
          704788,
          834330,
          1313125,
          172526,
          648482,
          402785,
          408657,
          3658854,
          27771869,
          127747,
          364104,
          166491,
          334608,
          623420,
          126308,
          104873,
          97485,
          109535,
          151997,
          39691,
          272080,
          124402,
          121354,
          683062,
          2126239,
          54509,
          114006,
          138741,
          163100,
          43267,
          42471,
          2063540,
          2017144,
          63201,
          145779,
          106833,
          556450,
          132647,
          50956,
          87716,
          89659,
          152172,
          76253,
          130169,
          216519,
          59374,
          79566,
          116206,
          65867,
          122348,
          155396,
          42280,
          365790,
          79682,
          59346,
          149184,
          57423,
          211468,
          103052,
          183761,
          631498,
          922162,
          92549,
          74559,
          186184,
          68361,
          285175,
          263323,
          59493,
          43356,
          385433,
          471505,
          7537628,
          117137,
          100933,
          13744089,
          60794,
          137630,
          242479,
          46339,
          126554,
          62706,
          278476,
          54714,
          46564,
          588591,
          79243,
          43824,
          470784,
          39666,
          89107,
          94510,
          1566351,
          69757,
          79492,
          309994,
          82091,
          39660,
          39664,
          1360150,
          76239,
          44783,
          230609,
          52766,
          44636,
          40681,
          105527,
          778499,
          64535,
          43746,
          39878,
          8341765,
          39874,
          45921,
          217881,
          265445,
          39784,
          39795,
          116572,
          40269,
          39758,
          43591,
          732708,
          39711,
          161006,
          678290,
          65170,
          39905,
          69333,
          774473,
          39985,
          131969,
          50235,
          62575,
          65542,
          63595,
          119869,
          214013,
          43467,
          140697,
          44015,
          39708,
          39768,
          39811,
          89847,
          156142,
          373960,
          681576,
          78035,
          39759,
          80749,
          39715,
          127871,
          39867,
          80714,
          76527,
          64876,
          39923,
          71223,
          223449,
          39776,
          39659,
          75397,
          1764583,
          39878,
          42819,
          39862,
          49491,
          92115,
          40858,
          49226,
          102294,
          50779,
          41737,
          210145,
          206900,
          39681,
          45436,
          40161,
          115843,
          40582,
          40090,
          128814,
          39940,
          105323,
          76276,
          40543,
          40772,
          62786,
          565930,
          39658,
          142015,
          235085,
          164089,
          39912,
          40145,
          39750,
          52400,
          39859,
          39896,
          40228,
          40337,
          39945,
          39906,
          39915,
          88782,
          165253,
          146467,
          39641,
          48852,
          39705,
          39894,
          40108,
          39917,
          39673,
          68179,
          39738,
          55741,
          119699,
          65176,
          39679,
          39774,
          39791,
          39659,
          39681,
          39721,
          108355,
          39919,
          53219,
          49204,
          111089,
          40063,
          40005,
          56281,
          40034,
          39944,
          61839,
          39670,
          40308,
          60317,
          228880,
          67238,
          39929,
          436987,
          149637,
          44610,
          62722,
          449951,
          156158,
          113602,
          44407,
          41144,
          42266,
          94939,
          63642,
          54886,
          179923,
          41507,
          40044,
          57337,
          131876,
          39674,
          88179,
          301024,
          51822,
          106356,
          94882,
          59351,
          116634,
          66228,
          52226,
          75402,
          305798,
          39681,
          229569,
          123309,
          111754,
          48002,
          193240,
          39825,
          60525,
          218155,
          39822,
          199960,
          39671,
          39875,
          39724,
          58653,
          46867,
          80020,
          39780,
          40169,
          57372,
          39859,
          39959,
          39723,
          58095,
          62051,
          76927,
          178999,
          285095,
          39661,
          76339,
          446169,
          47855,
          54810,
          177498,
          52162,
          360608,
          60582,
          63039,
          17192658,
          197639,
          616907,
          67078,
          308185,
          128998,
          55436,
          62349,
          52066,
          42549,
          46952,
          125192,
          49978,
          85724,
          81885,
          338024,
          89761,
          62963,
          579447,
          95753,
          95931,
          2855540,
          319684,
          316347,
          92280,
          67997,
          1279471,
          52642,
          47050,
          40099,
          40096,
          40142,
          41776,
          55589,
          47657,
          47620,
          48174,
          50748,
          49622,
          53623,
          78359,
          52055,
          57581,
          78662,
          309417,
          59688,
          102452,
          627364,
          82070,
          79155,
          77361,
          136950,
          208096,
          12403115,
          118607,
          119624,
          88282,
          141546,
          92555,
          143456,
          481889,
          65672,
          72408,
          65710,
          66143,
          117570,
          79309,
          170511,
          84532,
          107429,
          116291,
          157663,
          99213,
          120994,
          139580,
          560113,
          199183,
          184172,
          258463,
          96962,
          96047,
          96231,
          160699,
          144707,
          143207,
          287237,
          425191,
          412047,
          256324,
          127287,
          120600,
          162789,
          134725,
          129161,
          138322,
          160276,
          138972,
          203815,
          615752,
          319627,
          378901,
          542843,
          284016,
          426451,
          405093,
          390475,
          613396,
          753263,
          821682,
          952911,
          1130858,
          4032686,
          19724605
         ],
         "yaxis": "y"
        }
       ],
       "layout": {
        "legend": {
         "tracegroupgap": 0
        },
        "template": {
         "data": {
          "bar": [
           {
            "error_x": {
             "color": "#2a3f5f"
            },
            "error_y": {
             "color": "#2a3f5f"
            },
            "marker": {
             "line": {
              "color": "#E5ECF6",
              "width": 0.5
             },
             "pattern": {
              "fillmode": "overlay",
              "size": 10,
              "solidity": 0.2
             }
            },
            "type": "bar"
           }
          ],
          "barpolar": [
           {
            "marker": {
             "line": {
              "color": "#E5ECF6",
              "width": 0.5
             },
             "pattern": {
              "fillmode": "overlay",
              "size": 10,
              "solidity": 0.2
             }
            },
            "type": "barpolar"
           }
          ],
          "carpet": [
           {
            "aaxis": {
             "endlinecolor": "#2a3f5f",
             "gridcolor": "white",
             "linecolor": "white",
             "minorgridcolor": "white",
             "startlinecolor": "#2a3f5f"
            },
            "baxis": {
             "endlinecolor": "#2a3f5f",
             "gridcolor": "white",
             "linecolor": "white",
             "minorgridcolor": "white",
             "startlinecolor": "#2a3f5f"
            },
            "type": "carpet"
           }
          ],
          "choropleth": [
           {
            "colorbar": {
             "outlinewidth": 0,
             "ticks": ""
            },
            "type": "choropleth"
           }
          ],
          "contour": [
           {
            "colorbar": {
             "outlinewidth": 0,
             "ticks": ""
            },
            "colorscale": [
             [
              0,
              "#0d0887"
             ],
             [
              0.1111111111111111,
              "#46039f"
             ],
             [
              0.2222222222222222,
              "#7201a8"
             ],
             [
              0.3333333333333333,
              "#9c179e"
             ],
             [
              0.4444444444444444,
              "#bd3786"
             ],
             [
              0.5555555555555556,
              "#d8576b"
             ],
             [
              0.6666666666666666,
              "#ed7953"
             ],
             [
              0.7777777777777778,
              "#fb9f3a"
             ],
             [
              0.8888888888888888,
              "#fdca26"
             ],
             [
              1,
              "#f0f921"
             ]
            ],
            "type": "contour"
           }
          ],
          "contourcarpet": [
           {
            "colorbar": {
             "outlinewidth": 0,
             "ticks": ""
            },
            "type": "contourcarpet"
           }
          ],
          "heatmap": [
           {
            "colorbar": {
             "outlinewidth": 0,
             "ticks": ""
            },
            "colorscale": [
             [
              0,
              "#0d0887"
             ],
             [
              0.1111111111111111,
              "#46039f"
             ],
             [
              0.2222222222222222,
              "#7201a8"
             ],
             [
              0.3333333333333333,
              "#9c179e"
             ],
             [
              0.4444444444444444,
              "#bd3786"
             ],
             [
              0.5555555555555556,
              "#d8576b"
             ],
             [
              0.6666666666666666,
              "#ed7953"
             ],
             [
              0.7777777777777778,
              "#fb9f3a"
             ],
             [
              0.8888888888888888,
              "#fdca26"
             ],
             [
              1,
              "#f0f921"
             ]
            ],
            "type": "heatmap"
           }
          ],
          "heatmapgl": [
           {
            "colorbar": {
             "outlinewidth": 0,
             "ticks": ""
            },
            "colorscale": [
             [
              0,
              "#0d0887"
             ],
             [
              0.1111111111111111,
              "#46039f"
             ],
             [
              0.2222222222222222,
              "#7201a8"
             ],
             [
              0.3333333333333333,
              "#9c179e"
             ],
             [
              0.4444444444444444,
              "#bd3786"
             ],
             [
              0.5555555555555556,
              "#d8576b"
             ],
             [
              0.6666666666666666,
              "#ed7953"
             ],
             [
              0.7777777777777778,
              "#fb9f3a"
             ],
             [
              0.8888888888888888,
              "#fdca26"
             ],
             [
              1,
              "#f0f921"
             ]
            ],
            "type": "heatmapgl"
           }
          ],
          "histogram": [
           {
            "marker": {
             "pattern": {
              "fillmode": "overlay",
              "size": 10,
              "solidity": 0.2
             }
            },
            "type": "histogram"
           }
          ],
          "histogram2d": [
           {
            "colorbar": {
             "outlinewidth": 0,
             "ticks": ""
            },
            "colorscale": [
             [
              0,
              "#0d0887"
             ],
             [
              0.1111111111111111,
              "#46039f"
             ],
             [
              0.2222222222222222,
              "#7201a8"
             ],
             [
              0.3333333333333333,
              "#9c179e"
             ],
             [
              0.4444444444444444,
              "#bd3786"
             ],
             [
              0.5555555555555556,
              "#d8576b"
             ],
             [
              0.6666666666666666,
              "#ed7953"
             ],
             [
              0.7777777777777778,
              "#fb9f3a"
             ],
             [
              0.8888888888888888,
              "#fdca26"
             ],
             [
              1,
              "#f0f921"
             ]
            ],
            "type": "histogram2d"
           }
          ],
          "histogram2dcontour": [
           {
            "colorbar": {
             "outlinewidth": 0,
             "ticks": ""
            },
            "colorscale": [
             [
              0,
              "#0d0887"
             ],
             [
              0.1111111111111111,
              "#46039f"
             ],
             [
              0.2222222222222222,
              "#7201a8"
             ],
             [
              0.3333333333333333,
              "#9c179e"
             ],
             [
              0.4444444444444444,
              "#bd3786"
             ],
             [
              0.5555555555555556,
              "#d8576b"
             ],
             [
              0.6666666666666666,
              "#ed7953"
             ],
             [
              0.7777777777777778,
              "#fb9f3a"
             ],
             [
              0.8888888888888888,
              "#fdca26"
             ],
             [
              1,
              "#f0f921"
             ]
            ],
            "type": "histogram2dcontour"
           }
          ],
          "mesh3d": [
           {
            "colorbar": {
             "outlinewidth": 0,
             "ticks": ""
            },
            "type": "mesh3d"
           }
          ],
          "parcoords": [
           {
            "line": {
             "colorbar": {
              "outlinewidth": 0,
              "ticks": ""
             }
            },
            "type": "parcoords"
           }
          ],
          "pie": [
           {
            "automargin": true,
            "type": "pie"
           }
          ],
          "scatter": [
           {
            "fillpattern": {
             "fillmode": "overlay",
             "size": 10,
             "solidity": 0.2
            },
            "type": "scatter"
           }
          ],
          "scatter3d": [
           {
            "line": {
             "colorbar": {
              "outlinewidth": 0,
              "ticks": ""
             }
            },
            "marker": {
             "colorbar": {
              "outlinewidth": 0,
              "ticks": ""
             }
            },
            "type": "scatter3d"
           }
          ],
          "scattercarpet": [
           {
            "marker": {
             "colorbar": {
              "outlinewidth": 0,
              "ticks": ""
             }
            },
            "type": "scattercarpet"
           }
          ],
          "scattergeo": [
           {
            "marker": {
             "colorbar": {
              "outlinewidth": 0,
              "ticks": ""
             }
            },
            "type": "scattergeo"
           }
          ],
          "scattergl": [
           {
            "marker": {
             "colorbar": {
              "outlinewidth": 0,
              "ticks": ""
             }
            },
            "type": "scattergl"
           }
          ],
          "scattermapbox": [
           {
            "marker": {
             "colorbar": {
              "outlinewidth": 0,
              "ticks": ""
             }
            },
            "type": "scattermapbox"
           }
          ],
          "scatterpolar": [
           {
            "marker": {
             "colorbar": {
              "outlinewidth": 0,
              "ticks": ""
             }
            },
            "type": "scatterpolar"
           }
          ],
          "scatterpolargl": [
           {
            "marker": {
             "colorbar": {
              "outlinewidth": 0,
              "ticks": ""
             }
            },
            "type": "scatterpolargl"
           }
          ],
          "scatterternary": [
           {
            "marker": {
             "colorbar": {
              "outlinewidth": 0,
              "ticks": ""
             }
            },
            "type": "scatterternary"
           }
          ],
          "surface": [
           {
            "colorbar": {
             "outlinewidth": 0,
             "ticks": ""
            },
            "colorscale": [
             [
              0,
              "#0d0887"
             ],
             [
              0.1111111111111111,
              "#46039f"
             ],
             [
              0.2222222222222222,
              "#7201a8"
             ],
             [
              0.3333333333333333,
              "#9c179e"
             ],
             [
              0.4444444444444444,
              "#bd3786"
             ],
             [
              0.5555555555555556,
              "#d8576b"
             ],
             [
              0.6666666666666666,
              "#ed7953"
             ],
             [
              0.7777777777777778,
              "#fb9f3a"
             ],
             [
              0.8888888888888888,
              "#fdca26"
             ],
             [
              1,
              "#f0f921"
             ]
            ],
            "type": "surface"
           }
          ],
          "table": [
           {
            "cells": {
             "fill": {
              "color": "#EBF0F8"
             },
             "line": {
              "color": "white"
             }
            },
            "header": {
             "fill": {
              "color": "#C8D4E3"
             },
             "line": {
              "color": "white"
             }
            },
            "type": "table"
           }
          ]
         },
         "layout": {
          "annotationdefaults": {
           "arrowcolor": "#2a3f5f",
           "arrowhead": 0,
           "arrowwidth": 1
          },
          "autotypenumbers": "strict",
          "coloraxis": {
           "colorbar": {
            "outlinewidth": 0,
            "ticks": ""
           }
          },
          "colorscale": {
           "diverging": [
            [
             0,
             "#8e0152"
            ],
            [
             0.1,
             "#c51b7d"
            ],
            [
             0.2,
             "#de77ae"
            ],
            [
             0.3,
             "#f1b6da"
            ],
            [
             0.4,
             "#fde0ef"
            ],
            [
             0.5,
             "#f7f7f7"
            ],
            [
             0.6,
             "#e6f5d0"
            ],
            [
             0.7,
             "#b8e186"
            ],
            [
             0.8,
             "#7fbc41"
            ],
            [
             0.9,
             "#4d9221"
            ],
            [
             1,
             "#276419"
            ]
           ],
           "sequential": [
            [
             0,
             "#0d0887"
            ],
            [
             0.1111111111111111,
             "#46039f"
            ],
            [
             0.2222222222222222,
             "#7201a8"
            ],
            [
             0.3333333333333333,
             "#9c179e"
            ],
            [
             0.4444444444444444,
             "#bd3786"
            ],
            [
             0.5555555555555556,
             "#d8576b"
            ],
            [
             0.6666666666666666,
             "#ed7953"
            ],
            [
             0.7777777777777778,
             "#fb9f3a"
            ],
            [
             0.8888888888888888,
             "#fdca26"
            ],
            [
             1,
             "#f0f921"
            ]
           ],
           "sequentialminus": [
            [
             0,
             "#0d0887"
            ],
            [
             0.1111111111111111,
             "#46039f"
            ],
            [
             0.2222222222222222,
             "#7201a8"
            ],
            [
             0.3333333333333333,
             "#9c179e"
            ],
            [
             0.4444444444444444,
             "#bd3786"
            ],
            [
             0.5555555555555556,
             "#d8576b"
            ],
            [
             0.6666666666666666,
             "#ed7953"
            ],
            [
             0.7777777777777778,
             "#fb9f3a"
            ],
            [
             0.8888888888888888,
             "#fdca26"
            ],
            [
             1,
             "#f0f921"
            ]
           ]
          },
          "colorway": [
           "#636efa",
           "#EF553B",
           "#00cc96",
           "#ab63fa",
           "#FFA15A",
           "#19d3f3",
           "#FF6692",
           "#B6E880",
           "#FF97FF",
           "#FECB52"
          ],
          "font": {
           "color": "#2a3f5f"
          },
          "geo": {
           "bgcolor": "white",
           "lakecolor": "white",
           "landcolor": "#E5ECF6",
           "showlakes": true,
           "showland": true,
           "subunitcolor": "white"
          },
          "hoverlabel": {
           "align": "left"
          },
          "hovermode": "closest",
          "mapbox": {
           "style": "light"
          },
          "paper_bgcolor": "white",
          "plot_bgcolor": "#E5ECF6",
          "polar": {
           "angularaxis": {
            "gridcolor": "white",
            "linecolor": "white",
            "ticks": ""
           },
           "bgcolor": "#E5ECF6",
           "radialaxis": {
            "gridcolor": "white",
            "linecolor": "white",
            "ticks": ""
           }
          },
          "scene": {
           "xaxis": {
            "backgroundcolor": "#E5ECF6",
            "gridcolor": "white",
            "gridwidth": 2,
            "linecolor": "white",
            "showbackground": true,
            "ticks": "",
            "zerolinecolor": "white"
           },
           "yaxis": {
            "backgroundcolor": "#E5ECF6",
            "gridcolor": "white",
            "gridwidth": 2,
            "linecolor": "white",
            "showbackground": true,
            "ticks": "",
            "zerolinecolor": "white"
           },
           "zaxis": {
            "backgroundcolor": "#E5ECF6",
            "gridcolor": "white",
            "gridwidth": 2,
            "linecolor": "white",
            "showbackground": true,
            "ticks": "",
            "zerolinecolor": "white"
           }
          },
          "shapedefaults": {
           "line": {
            "color": "#2a3f5f"
           }
          },
          "ternary": {
           "aaxis": {
            "gridcolor": "white",
            "linecolor": "white",
            "ticks": ""
           },
           "baxis": {
            "gridcolor": "white",
            "linecolor": "white",
            "ticks": ""
           },
           "bgcolor": "#E5ECF6",
           "caxis": {
            "gridcolor": "white",
            "linecolor": "white",
            "ticks": ""
           }
          },
          "title": {
           "x": 0.05
          },
          "xaxis": {
           "automargin": true,
           "gridcolor": "white",
           "linecolor": "white",
           "ticks": "",
           "title": {
            "standoff": 15
           },
           "zerolinecolor": "white",
           "zerolinewidth": 2
          },
          "yaxis": {
           "automargin": true,
           "gridcolor": "white",
           "linecolor": "white",
           "ticks": "",
           "title": {
            "standoff": 15
           },
           "zerolinecolor": "white",
           "zerolinewidth": 2
          }
         }
        },
        "title": {
         "text": "Duration Vs Views"
        },
        "xaxis": {
         "anchor": "y",
         "domain": [
          0,
          1
         ],
         "title": {
          "text": "Durations"
         }
        },
        "yaxis": {
         "anchor": "x",
         "domain": [
          0,
          1
         ],
         "title": {
          "text": "Views"
         }
        }
       }
      },
      "text/html": [
       "<div>                            <div id=\"9067a578-a328-4479-9feb-de06277f0566\" class=\"plotly-graph-div\" style=\"height:525px; width:100%;\"></div>            <script type=\"text/javascript\">                require([\"plotly\"], function(Plotly) {                    window.PLOTLYENV=window.PLOTLYENV || {};                                    if (document.getElementById(\"9067a578-a328-4479-9feb-de06277f0566\")) {                    Plotly.newPlot(                        \"9067a578-a328-4479-9feb-de06277f0566\",                        [{\"hovertemplate\":\"Durations=%{x}<br>Views=%{y}<extra></extra>\",\"legendgroup\":\"\",\"marker\":{\"color\":\"#636efa\",\"symbol\":\"circle\"},\"mode\":\"markers\",\"name\":\"\",\"orientation\":\"v\",\"showlegend\":false,\"x\":[26.6,0.55,0.8333333333333334,17.6,0.8666666666666667,19.8,0.36666666666666664,0.75,0.5833333333333334,0.6166666666666667,0.48333333333333334,16.466666666666665,0.95,0.6833333333333333,0.75,14.983333333333333,0.8666666666666667,0.4666666666666667,18.816666666666666,0.8666666666666667,16.116666666666667,0.5333333333333333,18.083333333333332,0.7833333333333333,10.6,0.8833333333333333,14.783333333333333,0.55,25.6,6.233333333333333,0.65,0.6333333333333333,0.85,12.333333333333334,0.45,12.283333333333333,0.7833333333333333,8.016666666666667,12.166666666666666,10.416666666666666,0.8,15.383333333333333,0.6666666666666666,15.616666666666667,0.6666666666666666,15.683333333333334,0.9166666666666666,17.166666666666668,12.05,8.233333333333333,15.516666666666667,16.883333333333333,13.066666666666666,17.016666666666666,13.983333333333333,9.016666666666667,8.016666666666667,12.15,12.083333333333334,11.033333333333333,25.7,4.916666666666667,15.133333333333333,8.033333333333333,12.55,17.733333333333334,15.85,10.75,10.2,12.566666666666666,14.333333333333334,16.133333333333333,13.466666666666667,16.9,14.116666666666667,10.833333333333334,12.666666666666666,10.45,9.333333333333334,10.9,13.283333333333333,14.233333333333333,6.516666666666667,11.366666666666667,9.533333333333333,14.3,14.05,15.183333333333334,11.566666666666666,14.183333333333334,9.416666666666666,2.1333333333333333,12.4,17.183333333333334,6.366666666666666,14.083333333333334,18.433333333333334,21.25,11.616666666666667,10.216666666666667,8.05,16.066666666666666,11.15,14.033333333333333,18.35,13.933333333333334,15.866666666666667,17.35,15.316666666666666,13.533333333333333,11.983333333333333,12.483333333333333,13.816666666666666,17.35,20.0,12.933333333333334,14.8,16.8,13.633333333333333,17.983333333333334,6.566666666666666,2.5833333333333335,13.8,15.166666666666666,15.416666666666666,11.75,15.766666666666667,13.033333333333333,13.05,13.8,10.866666666666667,12.933333333333334,16.95,11.683333333333334,15.166666666666666,7.383333333333334,16.8,17.15,15.633333333333333,14.766666666666667,13.15,14.533333333333333,13.983333333333333,13.133333333333333,16.65,16.65,13.866666666666667,15.283333333333333,13.366666666666667,14.883333333333333,15.316666666666666,9.483333333333333,11.283333333333333,13.733333333333333,12.116666666666667,14.85,15.4,14.3,14.966666666666667,14.766666666666667,15.116666666666667,16.933333333333334,15.7,14.483333333333333,15.983333333333333,7.633333333333334,15.15,14.333333333333334,15.533333333333333,14.233333333333333,18.483333333333334,14.616666666666667,14.066666666666666,13.6,9.816666666666666,13.433333333333334,18.266666666666666,15.716666666666667,15.933333333333334,12.75,17.766666666666666,15.316666666666666,15.283333333333333,13.183333333333334,12.05,16.5,17.5,13.833333333333334,15.233333333333333,14.733333333333333,14.866666666666667,15.25,24.65,14.683333333333334,14.416666666666666,13.816666666666666,18.133333333333333,14.633333333333333,14.75,14.05,18.316666666666666,13.116666666666667,19.783333333333335,17.583333333333332,15.516666666666667,11.75,16.9,16.6,14.633333333333333,15.383333333333333,17.533333333333335,11.866666666666667,14.1,18.866666666666667,17.616666666666667,16.366666666666667,10.216666666666667,12.916666666666666,16.183333333333334,15.183333333333334,19.783333333333335,23.033333333333335,13.766666666666667,10.5,18.55,12.383333333333333,22.033333333333335,10.066666666666666,11.866666666666667,5.85,15.766666666666667,12.4,11.65,15.433333333333334,11.516666666666667,10.566666666666666,12.233333333333333,10.266666666666667,13.6,15.05,11.8,13.7,15.15,10.383333333333333,10.25,11.3,24.716666666666665,15.2,10.066666666666666,13.083333333333334,10.683333333333334,12.4,10.2,7.166666666666667,9.2,15.166666666666666,11.75,16.1,13.166666666666666,10.166666666666666,11.283333333333333,10.933333333333334,10.483333333333333,10.733333333333333,10.05,18.433333333333334,12.133333333333333,10.35,19.35,8.35,10.066666666666666,12.65,12.416666666666666,10.266666666666667,3.45,1.8333333333333333,3.783333333333333,12.616666666666667,5.7,12.816666666666666,6.1,16.2,3.95,8.783333333333333,2.6166666666666667,10.033333333333333,4.716666666666667,7.116666666666666,3.1333333333333333,5.383333333333334,4.75,5.15,2.0166666666666666,25.95,33.483333333333334,6.05,3.683333333333333,14.333333333333334,8.85,10.2,10.066666666666666,3.8833333333333333,5.683333333333334,5.433333333333334,5.3,5.266666666666667,3.55,6.35,4.6,5.55,4.716666666666667,1.9833333333333334,5.0,5.216666666666667,7.933333333333334,4.266666666666667,8.05,4.316666666666666,3.4166666666666665,4.133333333333334,2.933333333333333,5.583333333333333,3.45,4.433333333333334,4.833333333333333,2.7333333333333334,4.266666666666667,3.066666666666667,9.083333333333334,3.066666666666667,4.25,3.5833333333333335,3.7,4.083333333333333,5.133333333333334,2.9833333333333334,12.616666666666667,2.466666666666667,4.466666666666667,4.016666666666667,5.65,2.7,3.8,3.2333333333333334,3.683333333333333,2.9833333333333334,2.4833333333333334,3.1666666666666665,5.4,3.216666666666667,2.4166666666666665,4.85,2.1666666666666665,0.7166666666666667,3.433333333333333,3.466666666666667,3.75,4.566666666666666,5.416666666666667,3.9,4.266666666666667,4.5,2.9166666666666665,4.75,2.566666666666667,1.7,4.65,4.466666666666667,2.95,2.433333333333333,5.4,5.35,2.9833333333333334,2.9,1.7666666666666666,3.6666666666666665,3.5166666666666666,3.183333333333333,4.4,5.75,3.2333333333333334,2.2666666666666666,4.05,3.066666666666667,6.216666666666667,1.8666666666666667,2.65,9.916666666666666,6.516666666666667,3.0166666666666666,4.233333333333333,1.35,4.366666666666666,3.55,3.5,3.783333333333333,3.75,2.55,2.9833333333333334,3.0,2.3833333333333333,3.1166666666666667,0.9833333333333333,4.9,1.5333333333333334,2.75,7.833333333333333,5.566666666666666,3.9166666666666665,4.733333333333333,5.433333333333334,3.783333333333333,3.566666666666667,2.7666666666666666,2.15,3.6166666666666667,4.583333333333333,4.066666666666666,1.9166666666666667,2.9833333333333334,5.35,3.45,6.1,3.8666666666666667,1.8,6.15,5.25,1.9833333333333334,1.4666666666666666,3.716666666666667,4.1,2.6333333333333333,3.6166666666666667,4.383333333333334,4.966666666666667,4.316666666666666,1.0833333333333333,2.183333333333333,4.166666666666667,4.633333333333334,6.016666666666667,3.2333333333333334,3.5,3.15,2.4833333333333334,3.4833333333333334,4.483333333333333,3.9,5.533333333333333,4.466666666666667,4.266666666666667,4.533333333333333,2.3833333333333333,3.683333333333333,1.2666666666666666,3.683333333333333,4.133333333333334,3.15,2.933333333333333,3.216666666666667,2.35,4.066666666666666,3.0833333333333335,4.35,7.183333333333334,3.4833333333333334,2.95,3.933333333333333,3.316666666666667,3.433333333333333,2.816666666666667,2.683333333333333,2.466666666666667,2.3,1.2,2.5166666666666666,3.55,3.65,2.0166666666666666,4.233333333333333,5.233333333333333,3.433333333333333,2.5166666666666666,2.6166666666666667,3.4833333333333334,2.8833333333333333,3.1166666666666667,3.6666666666666665,2.45,3.933333333333333,5.033333333333333,1.4666666666666666,4.916666666666667,2.85,4.733333333333333,3.05,4.75,1.0,1.9166666666666667,5.183333333333334,2.1,7.533333333333333,3.15,3.4833333333333334,3.716666666666667,3.3833333333333333,7.033333333333333,3.1166666666666667,5.0,4.15,3.7333333333333334,4.316666666666666,1.7666666666666666,7.316666666666666,2.7,3.183333333333333,14.116666666666667,3.1333333333333333,2.7333333333333334,3.8833333333333333,2.3666666666666667,9.216666666666667,4.55,1.35,2.2333333333333334,1.6333333333333333,2.0833333333333335,2.533333333333333,2.5,3.05,15.766666666666667,3.6,4.083333333333333,2.05,2.2333333333333334,4.2,3.8666666666666667,3.283333333333333,5.066666666666666,1.2166666666666666,4.866666666666666,10.666666666666666,2.433333333333333,3.5,4.933333333333334,4.65,5.466666666666667,6.566666666666666,1.5333333333333334,1.8166666666666667,3.4,10.383333333333333,3.816666666666667,2.65,1.9833333333333334,1.2833333333333334,3.2666666666666666,2.6666666666666665,3.6166666666666667,4.116666666666666,2.8,3.6,2.9166666666666665,2.816666666666667,3.566666666666667,2.216666666666667,2.4166666666666665,4.766666666666667,4.083333333333333,4.283333333333333,3.1666666666666665,3.4166666666666665,3.933333333333333,7.05,3.8666666666666667,3.216666666666667,3.2666666666666666,1.5833333333333333,3.6166666666666667,3.95,3.9166666666666665,2.783333333333333,3.6,4.133333333333334,2.9,3.4,3.25,3.8833333333333333,4.8,1.9,3.0166666666666666,3.7666666666666666,2.566666666666667,2.5833333333333335,2.4833333333333334,4.35,3.0,2.4,3.5833333333333335,8.783333333333333,3.3333333333333335,4.45,6.733333333333333,4.033333333333333,4.033333333333333,3.75,0.4666666666666667,2.3833333333333333,3.7666666666666666,3.45,3.3333333333333335,3.3,6.083333333333333,4.516666666666667,8.816666666666666,3.3333333333333335,0.6,2.6166666666666667,3.5833333333333335,3.0,3.6666666666666665,3.816666666666667,3.55,1.2833333333333334,3.4166666666666665,4.4,3.433333333333333,0.8666666666666667,2.9166666666666665,3.05,2.3666666666666667,3.3666666666666667,3.0166666666666666,23.883333333333333,0.6333333333333333,3.8833333333333333,2.9,3.25,7.166666666666667,3.5,4.766666666666667,4.516666666666667,3.4833333333333334,2.783333333333333,4.6,2.0166666666666666,4.683333333333334,2.95,4.166666666666667,4.35,3.0,2.9,3.8833333333333333,1.4166666666666667,2.5166666666666666,5.033333333333333,3.4,3.1166666666666667,2.1,4.25,4.733333333333333,25.316666666666666,2.7333333333333334,4.166666666666667,2.933333333333333,2.8666666666666667,2.216666666666667,1.6166666666666667,3.1,1.3,1.6,0.9666666666666667,0.95,0.7833333333333333,1.4,2.6666666666666665,1.2,1.2666666666666666,1.1,2.7333333333333334,1.6666666666666667,3.0,4.483333333333333,2.716666666666667,5.533333333333333,2.6666666666666665,0.25,3.5833333333333335,0.6166666666666667,1.7166666666666666,0.7666666666666667,0.8666666666666667,2.7,2.4833333333333334,1.05,1.3666666666666667,14.966666666666667,1.75,6.816666666666666,3.3333333333333335,3.9166666666666665,5.3,4.433333333333334,3.8333333333333335,5.983333333333333,5.633333333333334,0.43333333333333335,2.9166666666666665,4.316666666666666,3.8833333333333333,2.45,3.4,18.45,0.8,6.033333333333333,4.35,15.75,24.566666666666666,14.333333333333334,19.9,2.6333333333333333,1.4666666666666666,0.9666666666666667,1.0666666666666667,3.216666666666667,2.566666666666667,5.316666666666666,5.45,4.35,3.5833333333333335,4.466666666666667,9.4,4.65,3.4166666666666665,2.816666666666667,6.05,4.55,0.8833333333333333,2.5833333333333335,3.7,2.2333333333333334,0.7166666666666667,0.8166666666666667,0.8666666666666667,0.48333333333333334,0.5166666666666667,2.1,1.5,3.9833333333333334,2.6166666666666667],\"xaxis\":\"x\",\"y\":[58167606,47820996,61729449,122748023,113062681,142683250,190401610,207460032,220091483,116929470,248853062,160491271,116233316,322776504,167011465,129022733,53953740,179708951,137836623,167527818,182855279,238963428,180008578,241517564,165854902,151683893,253586222,168884882,261563296,126227655,341056528,242668561,260103494,270452274,335972510,216680578,249833260,162674297,159496546,205131767,966777663,208645147,342050891,146278275,928757624,308780500,418407547,256860010,132197981,157597043,186208465,177349555,97784453,254455865,191587458,167126939,242421163,97262713,82173280,189235301,525444290,112366579,160048014,161536842,155293334,363227550,187164514,171942157,151590798,215915206,163802504,194546915,182497910,194172168,273698837,219623991,306325683,121375361,145867116,54708420,238226078,160922825,69815938,100613540,171359810,187392622,198555654,279511911,147719311,119081631,200966337,115410829,149306446,159040093,54913837,75890194,186416294,235768057,154990716,124807538,232457786,223467945,202572355,149505594,187924856,158032687,303621555,197316607,44997472,144670586,189950579,56395136,147757671,130702750,266799232,236779658,128410818,171575481,114656498,146737551,18975030,36491203,62858957,173323545,131998696,61494711,91953032,132651836,120034533,148647160,108995383,108488030,148438575,214985808,50176716,98381672,120452362,172036520,252362818,59977444,124001160,69192924,69562661,93934302,134269846,162704350,178630636,144623101,163778238,105484680,154082469,117677808,77363250,148172421,68336592,85132287,176764290,146514906,110179354,40200880,122840447,147143299,192766113,155723376,76535499,94084625,87702061,156803781,37579462,32035932,107488927,92127192,140624652,48113712,59633266,79172097,104556896,103949796,111230985,44101641,189920504,41163885,94479433,142737740,33681951,141943237,84441679,74586377,14424533,31180807,112032117,46907874,97047831,149074545,100189245,64159409,128950194,43075818,190657581,44141395,28750924,18386010,88586120,36046620,38581665,43410968,31051583,90462658,41908933,72391828,17091072,28144035,139863281,35512818,63737926,43059751,69345813,28475543,111149880,134738665,56324620,51972598,44975781,36623302,17614249,28601611,96512271,29885501,90198668,28750688,21599009,74304757,126806135,53032951,11229191,17224492,15704870,37021854,24551822,15020170,40949139,14672551,23666633,26767840,31246500,32474632,24303610,38689344,19300037,20003579,13179838,14709630,32745344,25560755,53793115,17692113,7737378,11312858,18282078,8710682,36646712,47375285,37232389,26973267,9110444,32689793,26366820,44425034,27565714,30782304,7333264,25887461,31072992,42187263,5775195,13549590,3791164,4599523,6031166,22108486,2724261,10781084,31926517,6478960,25777111,10782114,19713706,42330064,2027840,26220736,1850181,4100356,7260443,524737,7641430,3314194,1959624,4880127,22902633,8705399,11350700,1793853,16221108,2502157,3724765,3845039,13383856,1565443,9852775,291331,1205614,1499563,380363,317015,3023768,1451782,3240209,1646381,3090993,809255,1645940,3565337,2220232,1305913,1177844,158973,704788,834330,1313125,172526,648482,402785,408657,3658854,27771869,127747,364104,166491,334608,623420,126308,104873,97485,109535,151997,39691,272080,124402,121354,683062,2126239,54509,114006,138741,163100,43267,42471,2063540,2017144,63201,145779,106833,556450,132647,50956,87716,89659,152172,76253,130169,216519,59374,79566,116206,65867,122348,155396,42280,365790,79682,59346,149184,57423,211468,103052,183761,631498,922162,92549,74559,186184,68361,285175,263323,59493,43356,385433,471505,7537628,117137,100933,13744089,60794,137630,242479,46339,126554,62706,278476,54714,46564,588591,79243,43824,470784,39666,89107,94510,1566351,69757,79492,309994,82091,39660,39664,1360150,76239,44783,230609,52766,44636,40681,105527,778499,64535,43746,39878,8341765,39874,45921,217881,265445,39784,39795,116572,40269,39758,43591,732708,39711,161006,678290,65170,39905,69333,774473,39985,131969,50235,62575,65542,63595,119869,214013,43467,140697,44015,39708,39768,39811,89847,156142,373960,681576,78035,39759,80749,39715,127871,39867,80714,76527,64876,39923,71223,223449,39776,39659,75397,1764583,39878,42819,39862,49491,92115,40858,49226,102294,50779,41737,210145,206900,39681,45436,40161,115843,40582,40090,128814,39940,105323,76276,40543,40772,62786,565930,39658,142015,235085,164089,39912,40145,39750,52400,39859,39896,40228,40337,39945,39906,39915,88782,165253,146467,39641,48852,39705,39894,40108,39917,39673,68179,39738,55741,119699,65176,39679,39774,39791,39659,39681,39721,108355,39919,53219,49204,111089,40063,40005,56281,40034,39944,61839,39670,40308,60317,228880,67238,39929,436987,149637,44610,62722,449951,156158,113602,44407,41144,42266,94939,63642,54886,179923,41507,40044,57337,131876,39674,88179,301024,51822,106356,94882,59351,116634,66228,52226,75402,305798,39681,229569,123309,111754,48002,193240,39825,60525,218155,39822,199960,39671,39875,39724,58653,46867,80020,39780,40169,57372,39859,39959,39723,58095,62051,76927,178999,285095,39661,76339,446169,47855,54810,177498,52162,360608,60582,63039,17192658,197639,616907,67078,308185,128998,55436,62349,52066,42549,46952,125192,49978,85724,81885,338024,89761,62963,579447,95753,95931,2855540,319684,316347,92280,67997,1279471,52642,47050,40099,40096,40142,41776,55589,47657,47620,48174,50748,49622,53623,78359,52055,57581,78662,309417,59688,102452,627364,82070,79155,77361,136950,208096,12403115,118607,119624,88282,141546,92555,143456,481889,65672,72408,65710,66143,117570,79309,170511,84532,107429,116291,157663,99213,120994,139580,560113,199183,184172,258463,96962,96047,96231,160699,144707,143207,287237,425191,412047,256324,127287,120600,162789,134725,129161,138322,160276,138972,203815,615752,319627,378901,542843,284016,426451,405093,390475,613396,753263,821682,952911,1130858,4032686,19724605],\"yaxis\":\"y\",\"type\":\"scatter\"}],                        {\"template\":{\"data\":{\"histogram2dcontour\":[{\"type\":\"histogram2dcontour\",\"colorbar\":{\"outlinewidth\":0,\"ticks\":\"\"},\"colorscale\":[[0.0,\"#0d0887\"],[0.1111111111111111,\"#46039f\"],[0.2222222222222222,\"#7201a8\"],[0.3333333333333333,\"#9c179e\"],[0.4444444444444444,\"#bd3786\"],[0.5555555555555556,\"#d8576b\"],[0.6666666666666666,\"#ed7953\"],[0.7777777777777778,\"#fb9f3a\"],[0.8888888888888888,\"#fdca26\"],[1.0,\"#f0f921\"]]}],\"choropleth\":[{\"type\":\"choropleth\",\"colorbar\":{\"outlinewidth\":0,\"ticks\":\"\"}}],\"histogram2d\":[{\"type\":\"histogram2d\",\"colorbar\":{\"outlinewidth\":0,\"ticks\":\"\"},\"colorscale\":[[0.0,\"#0d0887\"],[0.1111111111111111,\"#46039f\"],[0.2222222222222222,\"#7201a8\"],[0.3333333333333333,\"#9c179e\"],[0.4444444444444444,\"#bd3786\"],[0.5555555555555556,\"#d8576b\"],[0.6666666666666666,\"#ed7953\"],[0.7777777777777778,\"#fb9f3a\"],[0.8888888888888888,\"#fdca26\"],[1.0,\"#f0f921\"]]}],\"heatmap\":[{\"type\":\"heatmap\",\"colorbar\":{\"outlinewidth\":0,\"ticks\":\"\"},\"colorscale\":[[0.0,\"#0d0887\"],[0.1111111111111111,\"#46039f\"],[0.2222222222222222,\"#7201a8\"],[0.3333333333333333,\"#9c179e\"],[0.4444444444444444,\"#bd3786\"],[0.5555555555555556,\"#d8576b\"],[0.6666666666666666,\"#ed7953\"],[0.7777777777777778,\"#fb9f3a\"],[0.8888888888888888,\"#fdca26\"],[1.0,\"#f0f921\"]]}],\"heatmapgl\":[{\"type\":\"heatmapgl\",\"colorbar\":{\"outlinewidth\":0,\"ticks\":\"\"},\"colorscale\":[[0.0,\"#0d0887\"],[0.1111111111111111,\"#46039f\"],[0.2222222222222222,\"#7201a8\"],[0.3333333333333333,\"#9c179e\"],[0.4444444444444444,\"#bd3786\"],[0.5555555555555556,\"#d8576b\"],[0.6666666666666666,\"#ed7953\"],[0.7777777777777778,\"#fb9f3a\"],[0.8888888888888888,\"#fdca26\"],[1.0,\"#f0f921\"]]}],\"contourcarpet\":[{\"type\":\"contourcarpet\",\"colorbar\":{\"outlinewidth\":0,\"ticks\":\"\"}}],\"contour\":[{\"type\":\"contour\",\"colorbar\":{\"outlinewidth\":0,\"ticks\":\"\"},\"colorscale\":[[0.0,\"#0d0887\"],[0.1111111111111111,\"#46039f\"],[0.2222222222222222,\"#7201a8\"],[0.3333333333333333,\"#9c179e\"],[0.4444444444444444,\"#bd3786\"],[0.5555555555555556,\"#d8576b\"],[0.6666666666666666,\"#ed7953\"],[0.7777777777777778,\"#fb9f3a\"],[0.8888888888888888,\"#fdca26\"],[1.0,\"#f0f921\"]]}],\"surface\":[{\"type\":\"surface\",\"colorbar\":{\"outlinewidth\":0,\"ticks\":\"\"},\"colorscale\":[[0.0,\"#0d0887\"],[0.1111111111111111,\"#46039f\"],[0.2222222222222222,\"#7201a8\"],[0.3333333333333333,\"#9c179e\"],[0.4444444444444444,\"#bd3786\"],[0.5555555555555556,\"#d8576b\"],[0.6666666666666666,\"#ed7953\"],[0.7777777777777778,\"#fb9f3a\"],[0.8888888888888888,\"#fdca26\"],[1.0,\"#f0f921\"]]}],\"mesh3d\":[{\"type\":\"mesh3d\",\"colorbar\":{\"outlinewidth\":0,\"ticks\":\"\"}}],\"scatter\":[{\"fillpattern\":{\"fillmode\":\"overlay\",\"size\":10,\"solidity\":0.2},\"type\":\"scatter\"}],\"parcoords\":[{\"type\":\"parcoords\",\"line\":{\"colorbar\":{\"outlinewidth\":0,\"ticks\":\"\"}}}],\"scatterpolargl\":[{\"type\":\"scatterpolargl\",\"marker\":{\"colorbar\":{\"outlinewidth\":0,\"ticks\":\"\"}}}],\"bar\":[{\"error_x\":{\"color\":\"#2a3f5f\"},\"error_y\":{\"color\":\"#2a3f5f\"},\"marker\":{\"line\":{\"color\":\"#E5ECF6\",\"width\":0.5},\"pattern\":{\"fillmode\":\"overlay\",\"size\":10,\"solidity\":0.2}},\"type\":\"bar\"}],\"scattergeo\":[{\"type\":\"scattergeo\",\"marker\":{\"colorbar\":{\"outlinewidth\":0,\"ticks\":\"\"}}}],\"scatterpolar\":[{\"type\":\"scatterpolar\",\"marker\":{\"colorbar\":{\"outlinewidth\":0,\"ticks\":\"\"}}}],\"histogram\":[{\"marker\":{\"pattern\":{\"fillmode\":\"overlay\",\"size\":10,\"solidity\":0.2}},\"type\":\"histogram\"}],\"scattergl\":[{\"type\":\"scattergl\",\"marker\":{\"colorbar\":{\"outlinewidth\":0,\"ticks\":\"\"}}}],\"scatter3d\":[{\"type\":\"scatter3d\",\"line\":{\"colorbar\":{\"outlinewidth\":0,\"ticks\":\"\"}},\"marker\":{\"colorbar\":{\"outlinewidth\":0,\"ticks\":\"\"}}}],\"scattermapbox\":[{\"type\":\"scattermapbox\",\"marker\":{\"colorbar\":{\"outlinewidth\":0,\"ticks\":\"\"}}}],\"scatterternary\":[{\"type\":\"scatterternary\",\"marker\":{\"colorbar\":{\"outlinewidth\":0,\"ticks\":\"\"}}}],\"scattercarpet\":[{\"type\":\"scattercarpet\",\"marker\":{\"colorbar\":{\"outlinewidth\":0,\"ticks\":\"\"}}}],\"carpet\":[{\"aaxis\":{\"endlinecolor\":\"#2a3f5f\",\"gridcolor\":\"white\",\"linecolor\":\"white\",\"minorgridcolor\":\"white\",\"startlinecolor\":\"#2a3f5f\"},\"baxis\":{\"endlinecolor\":\"#2a3f5f\",\"gridcolor\":\"white\",\"linecolor\":\"white\",\"minorgridcolor\":\"white\",\"startlinecolor\":\"#2a3f5f\"},\"type\":\"carpet\"}],\"table\":[{\"cells\":{\"fill\":{\"color\":\"#EBF0F8\"},\"line\":{\"color\":\"white\"}},\"header\":{\"fill\":{\"color\":\"#C8D4E3\"},\"line\":{\"color\":\"white\"}},\"type\":\"table\"}],\"barpolar\":[{\"marker\":{\"line\":{\"color\":\"#E5ECF6\",\"width\":0.5},\"pattern\":{\"fillmode\":\"overlay\",\"size\":10,\"solidity\":0.2}},\"type\":\"barpolar\"}],\"pie\":[{\"automargin\":true,\"type\":\"pie\"}]},\"layout\":{\"autotypenumbers\":\"strict\",\"colorway\":[\"#636efa\",\"#EF553B\",\"#00cc96\",\"#ab63fa\",\"#FFA15A\",\"#19d3f3\",\"#FF6692\",\"#B6E880\",\"#FF97FF\",\"#FECB52\"],\"font\":{\"color\":\"#2a3f5f\"},\"hovermode\":\"closest\",\"hoverlabel\":{\"align\":\"left\"},\"paper_bgcolor\":\"white\",\"plot_bgcolor\":\"#E5ECF6\",\"polar\":{\"bgcolor\":\"#E5ECF6\",\"angularaxis\":{\"gridcolor\":\"white\",\"linecolor\":\"white\",\"ticks\":\"\"},\"radialaxis\":{\"gridcolor\":\"white\",\"linecolor\":\"white\",\"ticks\":\"\"}},\"ternary\":{\"bgcolor\":\"#E5ECF6\",\"aaxis\":{\"gridcolor\":\"white\",\"linecolor\":\"white\",\"ticks\":\"\"},\"baxis\":{\"gridcolor\":\"white\",\"linecolor\":\"white\",\"ticks\":\"\"},\"caxis\":{\"gridcolor\":\"white\",\"linecolor\":\"white\",\"ticks\":\"\"}},\"coloraxis\":{\"colorbar\":{\"outlinewidth\":0,\"ticks\":\"\"}},\"colorscale\":{\"sequential\":[[0.0,\"#0d0887\"],[0.1111111111111111,\"#46039f\"],[0.2222222222222222,\"#7201a8\"],[0.3333333333333333,\"#9c179e\"],[0.4444444444444444,\"#bd3786\"],[0.5555555555555556,\"#d8576b\"],[0.6666666666666666,\"#ed7953\"],[0.7777777777777778,\"#fb9f3a\"],[0.8888888888888888,\"#fdca26\"],[1.0,\"#f0f921\"]],\"sequentialminus\":[[0.0,\"#0d0887\"],[0.1111111111111111,\"#46039f\"],[0.2222222222222222,\"#7201a8\"],[0.3333333333333333,\"#9c179e\"],[0.4444444444444444,\"#bd3786\"],[0.5555555555555556,\"#d8576b\"],[0.6666666666666666,\"#ed7953\"],[0.7777777777777778,\"#fb9f3a\"],[0.8888888888888888,\"#fdca26\"],[1.0,\"#f0f921\"]],\"diverging\":[[0,\"#8e0152\"],[0.1,\"#c51b7d\"],[0.2,\"#de77ae\"],[0.3,\"#f1b6da\"],[0.4,\"#fde0ef\"],[0.5,\"#f7f7f7\"],[0.6,\"#e6f5d0\"],[0.7,\"#b8e186\"],[0.8,\"#7fbc41\"],[0.9,\"#4d9221\"],[1,\"#276419\"]]},\"xaxis\":{\"gridcolor\":\"white\",\"linecolor\":\"white\",\"ticks\":\"\",\"title\":{\"standoff\":15},\"zerolinecolor\":\"white\",\"automargin\":true,\"zerolinewidth\":2},\"yaxis\":{\"gridcolor\":\"white\",\"linecolor\":\"white\",\"ticks\":\"\",\"title\":{\"standoff\":15},\"zerolinecolor\":\"white\",\"automargin\":true,\"zerolinewidth\":2},\"scene\":{\"xaxis\":{\"backgroundcolor\":\"#E5ECF6\",\"gridcolor\":\"white\",\"linecolor\":\"white\",\"showbackground\":true,\"ticks\":\"\",\"zerolinecolor\":\"white\",\"gridwidth\":2},\"yaxis\":{\"backgroundcolor\":\"#E5ECF6\",\"gridcolor\":\"white\",\"linecolor\":\"white\",\"showbackground\":true,\"ticks\":\"\",\"zerolinecolor\":\"white\",\"gridwidth\":2},\"zaxis\":{\"backgroundcolor\":\"#E5ECF6\",\"gridcolor\":\"white\",\"linecolor\":\"white\",\"showbackground\":true,\"ticks\":\"\",\"zerolinecolor\":\"white\",\"gridwidth\":2}},\"shapedefaults\":{\"line\":{\"color\":\"#2a3f5f\"}},\"annotationdefaults\":{\"arrowcolor\":\"#2a3f5f\",\"arrowhead\":0,\"arrowwidth\":1},\"geo\":{\"bgcolor\":\"white\",\"landcolor\":\"#E5ECF6\",\"subunitcolor\":\"white\",\"showland\":true,\"showlakes\":true,\"lakecolor\":\"white\"},\"title\":{\"x\":0.05},\"mapbox\":{\"style\":\"light\"}}},\"xaxis\":{\"anchor\":\"y\",\"domain\":[0.0,1.0],\"title\":{\"text\":\"Durations\"}},\"yaxis\":{\"anchor\":\"x\",\"domain\":[0.0,1.0],\"title\":{\"text\":\"Views\"}},\"legend\":{\"tracegroupgap\":0},\"title\":{\"text\":\"Duration Vs Views\"}},                        {\"responsive\": true}                    ).then(function(){\n",
       "                            \n",
       "var gd = document.getElementById('9067a578-a328-4479-9feb-de06277f0566');\n",
       "var x = new MutationObserver(function (mutations, observer) {{\n",
       "        var display = window.getComputedStyle(gd).display;\n",
       "        if (!display || display === 'none') {{\n",
       "            console.log([gd, 'removed!']);\n",
       "            Plotly.purge(gd);\n",
       "            observer.disconnect();\n",
       "        }}\n",
       "}});\n",
       "\n",
       "// Listen for the removal of the full notebook cells\n",
       "var notebookContainer = gd.closest('#notebook-container');\n",
       "if (notebookContainer) {{\n",
       "    x.observe(notebookContainer, {childList: true});\n",
       "}}\n",
       "\n",
       "// Listen for the clearing of the current output cell\n",
       "var outputEl = gd.closest('.output');\n",
       "if (outputEl) {{\n",
       "    x.observe(outputEl, {childList: true});\n",
       "}}\n",
       "\n",
       "                        })                };                });            </script>        </div>"
      ]
     },
     "metadata": {},
     "output_type": "display_data"
    }
   ],
   "source": [
    "px.scatter(VideosLesthan90,y='Views',x='Durations',title='Duration Vs Views')"
   ]
  },
  {
   "cell_type": "code",
   "execution_count": 875,
   "id": "240c26a9",
   "metadata": {},
   "outputs": [
    {
     "data": {
      "application/vnd.plotly.v1+json": {
       "config": {
        "plotlyServerURL": "https://plot.ly"
       },
       "data": [
        {
         "hovertemplate": "Durations=%{x}<br>Likes=%{y}<extra></extra>",
         "legendgroup": "",
         "marker": {
          "color": "#636efa",
          "symbol": "circle"
         },
         "mode": "markers",
         "name": "",
         "orientation": "v",
         "showlegend": false,
         "type": "scatter",
         "x": [
          26.6,
          0.55,
          0.8333333333333334,
          17.6,
          0.8666666666666667,
          19.8,
          0.36666666666666664,
          0.75,
          0.5833333333333334,
          0.6166666666666667,
          0.48333333333333334,
          16.466666666666665,
          0.95,
          0.6833333333333333,
          0.75,
          14.983333333333333,
          0.8666666666666667,
          0.4666666666666667,
          18.816666666666666,
          0.8666666666666667,
          16.116666666666667,
          0.5333333333333333,
          18.083333333333332,
          0.7833333333333333,
          10.6,
          0.8833333333333333,
          14.783333333333333,
          0.55,
          25.6,
          6.233333333333333,
          0.65,
          0.6333333333333333,
          0.85,
          12.333333333333334,
          0.45,
          12.283333333333333,
          0.7833333333333333,
          8.016666666666667,
          12.166666666666666,
          10.416666666666666,
          0.8,
          15.383333333333333,
          0.6666666666666666,
          15.616666666666667,
          0.6666666666666666,
          15.683333333333334,
          0.9166666666666666,
          17.166666666666668,
          12.05,
          8.233333333333333,
          15.516666666666667,
          16.883333333333333,
          13.066666666666666,
          17.016666666666666,
          13.983333333333333,
          9.016666666666667,
          8.016666666666667,
          12.15,
          12.083333333333334,
          11.033333333333333,
          25.7,
          4.916666666666667,
          15.133333333333333,
          8.033333333333333,
          12.55,
          17.733333333333334,
          15.85,
          10.75,
          10.2,
          12.566666666666666,
          14.333333333333334,
          16.133333333333333,
          13.466666666666667,
          16.9,
          14.116666666666667,
          10.833333333333334,
          12.666666666666666,
          10.45,
          9.333333333333334,
          10.9,
          13.283333333333333,
          14.233333333333333,
          6.516666666666667,
          11.366666666666667,
          9.533333333333333,
          14.3,
          14.05,
          15.183333333333334,
          11.566666666666666,
          14.183333333333334,
          9.416666666666666,
          2.1333333333333333,
          12.4,
          17.183333333333334,
          6.366666666666666,
          14.083333333333334,
          18.433333333333334,
          21.25,
          11.616666666666667,
          10.216666666666667,
          8.05,
          16.066666666666666,
          11.15,
          14.033333333333333,
          18.35,
          13.933333333333334,
          15.866666666666667,
          17.35,
          15.316666666666666,
          13.533333333333333,
          11.983333333333333,
          12.483333333333333,
          13.816666666666666,
          17.35,
          20,
          12.933333333333334,
          14.8,
          16.8,
          13.633333333333333,
          17.983333333333334,
          6.566666666666666,
          2.5833333333333335,
          13.8,
          15.166666666666666,
          15.416666666666666,
          11.75,
          15.766666666666667,
          13.033333333333333,
          13.05,
          13.8,
          10.866666666666667,
          12.933333333333334,
          16.95,
          11.683333333333334,
          15.166666666666666,
          7.383333333333334,
          16.8,
          17.15,
          15.633333333333333,
          14.766666666666667,
          13.15,
          14.533333333333333,
          13.983333333333333,
          13.133333333333333,
          16.65,
          16.65,
          13.866666666666667,
          15.283333333333333,
          13.366666666666667,
          14.883333333333333,
          15.316666666666666,
          9.483333333333333,
          11.283333333333333,
          13.733333333333333,
          12.116666666666667,
          14.85,
          15.4,
          14.3,
          14.966666666666667,
          14.766666666666667,
          15.116666666666667,
          16.933333333333334,
          15.7,
          14.483333333333333,
          15.983333333333333,
          7.633333333333334,
          15.15,
          14.333333333333334,
          15.533333333333333,
          14.233333333333333,
          18.483333333333334,
          14.616666666666667,
          14.066666666666666,
          13.6,
          9.816666666666666,
          13.433333333333334,
          18.266666666666666,
          15.716666666666667,
          15.933333333333334,
          12.75,
          17.766666666666666,
          15.316666666666666,
          15.283333333333333,
          13.183333333333334,
          12.05,
          16.5,
          17.5,
          13.833333333333334,
          15.233333333333333,
          14.733333333333333,
          14.866666666666667,
          15.25,
          24.65,
          14.683333333333334,
          14.416666666666666,
          13.816666666666666,
          18.133333333333333,
          14.633333333333333,
          14.75,
          14.05,
          18.316666666666666,
          13.116666666666667,
          19.783333333333335,
          17.583333333333332,
          15.516666666666667,
          11.75,
          16.9,
          16.6,
          14.633333333333333,
          15.383333333333333,
          17.533333333333335,
          11.866666666666667,
          14.1,
          18.866666666666667,
          17.616666666666667,
          16.366666666666667,
          10.216666666666667,
          12.916666666666666,
          16.183333333333334,
          15.183333333333334,
          19.783333333333335,
          23.033333333333335,
          13.766666666666667,
          10.5,
          18.55,
          12.383333333333333,
          22.033333333333335,
          10.066666666666666,
          11.866666666666667,
          5.85,
          15.766666666666667,
          12.4,
          11.65,
          15.433333333333334,
          11.516666666666667,
          10.566666666666666,
          12.233333333333333,
          10.266666666666667,
          13.6,
          15.05,
          11.8,
          13.7,
          15.15,
          10.383333333333333,
          10.25,
          11.3,
          24.716666666666665,
          15.2,
          10.066666666666666,
          13.083333333333334,
          10.683333333333334,
          12.4,
          10.2,
          7.166666666666667,
          9.2,
          15.166666666666666,
          11.75,
          16.1,
          13.166666666666666,
          10.166666666666666,
          11.283333333333333,
          10.933333333333334,
          10.483333333333333,
          10.733333333333333,
          10.05,
          18.433333333333334,
          12.133333333333333,
          10.35,
          19.35,
          8.35,
          10.066666666666666,
          12.65,
          12.416666666666666,
          10.266666666666667,
          3.45,
          1.8333333333333333,
          3.783333333333333,
          12.616666666666667,
          5.7,
          12.816666666666666,
          6.1,
          16.2,
          3.95,
          8.783333333333333,
          2.6166666666666667,
          10.033333333333333,
          4.716666666666667,
          7.116666666666666,
          3.1333333333333333,
          5.383333333333334,
          4.75,
          5.15,
          2.0166666666666666,
          25.95,
          33.483333333333334,
          6.05,
          3.683333333333333,
          14.333333333333334,
          8.85,
          10.2,
          10.066666666666666,
          3.8833333333333333,
          5.683333333333334,
          5.433333333333334,
          5.3,
          5.266666666666667,
          3.55,
          6.35,
          4.6,
          5.55,
          4.716666666666667,
          1.9833333333333334,
          5,
          5.216666666666667,
          7.933333333333334,
          4.266666666666667,
          8.05,
          4.316666666666666,
          3.4166666666666665,
          4.133333333333334,
          2.933333333333333,
          5.583333333333333,
          3.45,
          4.433333333333334,
          4.833333333333333,
          2.7333333333333334,
          4.266666666666667,
          3.066666666666667,
          9.083333333333334,
          3.066666666666667,
          4.25,
          3.5833333333333335,
          3.7,
          4.083333333333333,
          5.133333333333334,
          2.9833333333333334,
          12.616666666666667,
          2.466666666666667,
          4.466666666666667,
          4.016666666666667,
          5.65,
          2.7,
          3.8,
          3.2333333333333334,
          3.683333333333333,
          2.9833333333333334,
          2.4833333333333334,
          3.1666666666666665,
          5.4,
          3.216666666666667,
          2.4166666666666665,
          4.85,
          2.1666666666666665,
          0.7166666666666667,
          3.433333333333333,
          3.466666666666667,
          3.75,
          4.566666666666666,
          5.416666666666667,
          3.9,
          4.266666666666667,
          4.5,
          2.9166666666666665,
          4.75,
          2.566666666666667,
          1.7,
          4.65,
          4.466666666666667,
          2.95,
          2.433333333333333,
          5.4,
          5.35,
          2.9833333333333334,
          2.9,
          1.7666666666666666,
          3.6666666666666665,
          3.5166666666666666,
          3.183333333333333,
          4.4,
          5.75,
          3.2333333333333334,
          2.2666666666666666,
          4.05,
          3.066666666666667,
          6.216666666666667,
          1.8666666666666667,
          2.65,
          9.916666666666666,
          6.516666666666667,
          3.0166666666666666,
          4.233333333333333,
          1.35,
          4.366666666666666,
          3.55,
          3.5,
          3.783333333333333,
          3.75,
          2.55,
          2.9833333333333334,
          3,
          2.3833333333333333,
          3.1166666666666667,
          0.9833333333333333,
          4.9,
          1.5333333333333334,
          2.75,
          7.833333333333333,
          5.566666666666666,
          3.9166666666666665,
          4.733333333333333,
          5.433333333333334,
          3.783333333333333,
          3.566666666666667,
          2.7666666666666666,
          2.15,
          3.6166666666666667,
          4.583333333333333,
          4.066666666666666,
          1.9166666666666667,
          2.9833333333333334,
          5.35,
          3.45,
          6.1,
          3.8666666666666667,
          1.8,
          6.15,
          5.25,
          1.9833333333333334,
          1.4666666666666666,
          3.716666666666667,
          4.1,
          2.6333333333333333,
          3.6166666666666667,
          4.383333333333334,
          4.966666666666667,
          4.316666666666666,
          1.0833333333333333,
          2.183333333333333,
          4.166666666666667,
          4.633333333333334,
          6.016666666666667,
          3.2333333333333334,
          3.5,
          3.15,
          2.4833333333333334,
          3.4833333333333334,
          4.483333333333333,
          3.9,
          5.533333333333333,
          4.466666666666667,
          4.266666666666667,
          4.533333333333333,
          2.3833333333333333,
          3.683333333333333,
          1.2666666666666666,
          3.683333333333333,
          4.133333333333334,
          3.15,
          2.933333333333333,
          3.216666666666667,
          2.35,
          4.066666666666666,
          3.0833333333333335,
          4.35,
          7.183333333333334,
          3.4833333333333334,
          2.95,
          3.933333333333333,
          3.316666666666667,
          3.433333333333333,
          2.816666666666667,
          2.683333333333333,
          2.466666666666667,
          2.3,
          1.2,
          2.5166666666666666,
          3.55,
          3.65,
          2.0166666666666666,
          4.233333333333333,
          5.233333333333333,
          3.433333333333333,
          2.5166666666666666,
          2.6166666666666667,
          3.4833333333333334,
          2.8833333333333333,
          3.1166666666666667,
          3.6666666666666665,
          2.45,
          3.933333333333333,
          5.033333333333333,
          1.4666666666666666,
          4.916666666666667,
          2.85,
          4.733333333333333,
          3.05,
          4.75,
          1,
          1.9166666666666667,
          5.183333333333334,
          2.1,
          7.533333333333333,
          3.15,
          3.4833333333333334,
          3.716666666666667,
          3.3833333333333333,
          7.033333333333333,
          3.1166666666666667,
          5,
          4.15,
          3.7333333333333334,
          4.316666666666666,
          1.7666666666666666,
          7.316666666666666,
          2.7,
          3.183333333333333,
          14.116666666666667,
          3.1333333333333333,
          2.7333333333333334,
          3.8833333333333333,
          2.3666666666666667,
          9.216666666666667,
          4.55,
          1.35,
          2.2333333333333334,
          1.6333333333333333,
          2.0833333333333335,
          2.533333333333333,
          2.5,
          3.05,
          15.766666666666667,
          3.6,
          4.083333333333333,
          2.05,
          2.2333333333333334,
          4.2,
          3.8666666666666667,
          3.283333333333333,
          5.066666666666666,
          1.2166666666666666,
          4.866666666666666,
          10.666666666666666,
          2.433333333333333,
          3.5,
          4.933333333333334,
          4.65,
          5.466666666666667,
          6.566666666666666,
          1.5333333333333334,
          1.8166666666666667,
          3.4,
          10.383333333333333,
          3.816666666666667,
          2.65,
          1.9833333333333334,
          1.2833333333333334,
          3.2666666666666666,
          2.6666666666666665,
          3.6166666666666667,
          4.116666666666666,
          2.8,
          3.6,
          2.9166666666666665,
          2.816666666666667,
          3.566666666666667,
          2.216666666666667,
          2.4166666666666665,
          4.766666666666667,
          4.083333333333333,
          4.283333333333333,
          3.1666666666666665,
          3.4166666666666665,
          3.933333333333333,
          7.05,
          3.8666666666666667,
          3.216666666666667,
          3.2666666666666666,
          1.5833333333333333,
          3.6166666666666667,
          3.95,
          3.9166666666666665,
          2.783333333333333,
          3.6,
          4.133333333333334,
          2.9,
          3.4,
          3.25,
          3.8833333333333333,
          4.8,
          1.9,
          3.0166666666666666,
          3.7666666666666666,
          2.566666666666667,
          2.5833333333333335,
          2.4833333333333334,
          4.35,
          3,
          2.4,
          3.5833333333333335,
          8.783333333333333,
          3.3333333333333335,
          4.45,
          6.733333333333333,
          4.033333333333333,
          4.033333333333333,
          3.75,
          0.4666666666666667,
          2.3833333333333333,
          3.7666666666666666,
          3.45,
          3.3333333333333335,
          3.3,
          6.083333333333333,
          4.516666666666667,
          8.816666666666666,
          3.3333333333333335,
          0.6,
          2.6166666666666667,
          3.5833333333333335,
          3,
          3.6666666666666665,
          3.816666666666667,
          3.55,
          1.2833333333333334,
          3.4166666666666665,
          4.4,
          3.433333333333333,
          0.8666666666666667,
          2.9166666666666665,
          3.05,
          2.3666666666666667,
          3.3666666666666667,
          3.0166666666666666,
          23.883333333333333,
          0.6333333333333333,
          3.8833333333333333,
          2.9,
          3.25,
          7.166666666666667,
          3.5,
          4.766666666666667,
          4.516666666666667,
          3.4833333333333334,
          2.783333333333333,
          4.6,
          2.0166666666666666,
          4.683333333333334,
          2.95,
          4.166666666666667,
          4.35,
          3,
          2.9,
          3.8833333333333333,
          1.4166666666666667,
          2.5166666666666666,
          5.033333333333333,
          3.4,
          3.1166666666666667,
          2.1,
          4.25,
          4.733333333333333,
          25.316666666666666,
          2.7333333333333334,
          4.166666666666667,
          2.933333333333333,
          2.8666666666666667,
          2.216666666666667,
          1.6166666666666667,
          3.1,
          1.3,
          1.6,
          0.9666666666666667,
          0.95,
          0.7833333333333333,
          1.4,
          2.6666666666666665,
          1.2,
          1.2666666666666666,
          1.1,
          2.7333333333333334,
          1.6666666666666667,
          3,
          4.483333333333333,
          2.716666666666667,
          5.533333333333333,
          2.6666666666666665,
          0.25,
          3.5833333333333335,
          0.6166666666666667,
          1.7166666666666666,
          0.7666666666666667,
          0.8666666666666667,
          2.7,
          2.4833333333333334,
          1.05,
          1.3666666666666667,
          14.966666666666667,
          1.75,
          6.816666666666666,
          3.3333333333333335,
          3.9166666666666665,
          5.3,
          4.433333333333334,
          3.8333333333333335,
          5.983333333333333,
          5.633333333333334,
          0.43333333333333335,
          2.9166666666666665,
          4.316666666666666,
          3.8833333333333333,
          2.45,
          3.4,
          18.45,
          0.8,
          6.033333333333333,
          4.35,
          15.75,
          24.566666666666666,
          14.333333333333334,
          19.9,
          2.6333333333333333,
          1.4666666666666666,
          0.9666666666666667,
          1.0666666666666667,
          3.216666666666667,
          2.566666666666667,
          5.316666666666666,
          5.45,
          4.35,
          3.5833333333333335,
          4.466666666666667,
          9.4,
          4.65,
          3.4166666666666665,
          2.816666666666667,
          6.05,
          4.55,
          0.8833333333333333,
          2.5833333333333335,
          3.7,
          2.2333333333333334,
          0.7166666666666667,
          0.8166666666666667,
          0.8666666666666667,
          0.48333333333333334,
          0.5166666666666667,
          2.1,
          1.5,
          3.9833333333333334,
          2.6166666666666667
         ],
         "xaxis": "x",
         "y": [
          2734717,
          3181846,
          3763144,
          4372148,
          7683173,
          5255920,
          15838629,
          9445626,
          9826064,
          8397277,
          10676684,
          5390831,
          8447055,
          17103603,
          7490917,
          4781188,
          2742682,
          7160636,
          5397249,
          9353864,
          5339440,
          12458177,
          6087671,
          12667138,
          5763006,
          10856603,
          6179167,
          8820643,
          5688374,
          5024795,
          15676704,
          14287354,
          13971840,
          6593068,
          18950832,
          5473649,
          13113906,
          10007445,
          4910068,
          5475029,
          41064093,
          4123680,
          17646537,
          4004028,
          30037941,
          6683696,
          25620716,
          5326487,
          3347424,
          3731470,
          6335342,
          4359608,
          3750720,
          6218221,
          5065493,
          3951815,
          5355489,
          3566688,
          3070387,
          4352670,
          17184193,
          5434834,
          4470173,
          4092272,
          4337990,
          6551587,
          4275700,
          3505354,
          3367023,
          3855282,
          3484938,
          3235378,
          3996126,
          3613403,
          5178826,
          4951723,
          8199912,
          3149841,
          3744947,
          3036619,
          5603911,
          5303107,
          5045347,
          2788966,
          4934113,
          6379801,
          3522047,
          4297192,
          3898756,
          3786203,
          3719902,
          6489817,
          2744908,
          4290510,
          2739004,
          2507269,
          3691601,
          5282887,
          3763889,
          3183219,
          4213012,
          4820320,
          5066730,
          3412269,
          3541082,
          3250667,
          4878931,
          7054509,
          1407766,
          3804714,
          3117582,
          1889417,
          3345181,
          2605771,
          4963067,
          4212676,
          2595202,
          3856702,
          2200659,
          2701689,
          896671,
          2446119,
          2827541,
          4414503,
          3288910,
          1431808,
          1835900,
          4166202,
          2190029,
          2957913,
          2833912,
          2406329,
          2975196,
          4017461,
          1292649,
          4368531,
          2037721,
          2729296,
          4758002,
          1805081,
          2488194,
          1496447,
          1519125,
          2400419,
          3383101,
          3120643,
          3346734,
          2888734,
          2895765,
          2739321,
          3602896,
          2100990,
          1580879,
          3462868,
          1787912,
          2256664,
          3465906,
          3084035,
          2253992,
          1122764,
          2837941,
          4190651,
          3000713,
          2732578,
          1769421,
          1816431,
          1732752,
          3804170,
          1011278,
          881050,
          1921831,
          3200301,
          2851076,
          1656776,
          1780920,
          2140013,
          1866576,
          2248329,
          2217552,
          1260033,
          3212767,
          1150494,
          1567715,
          28736423,
          771741,
          2301433,
          1547235,
          1520948,
          492598,
          1030125,
          2057440,
          1741617,
          2092453,
          2502384,
          1881067,
          1046144,
          2217821,
          1132037,
          4665940,
          933373,
          795031,
          515700,
          1633828,
          982882,
          1331614,
          1157890,
          750614,
          1564493,
          921077,
          1517138,
          425819,
          800654,
          2180600,
          562041,
          1309255,
          725751,
          1151202,
          547252,
          2391814,
          3388136,
          1018629,
          1100328,
          1215533,
          617689,
          397508,
          626056,
          2142543,
          874712,
          1689552,
          802026,
          642230,
          1671455,
          1954352,
          1219539,
          294547,
          436173,
          315890,
          921259,
          549162,
          454524,
          767740,
          348533,
          507666,
          552065,
          789880,
          658189,
          631167,
          628289,
          499898,
          558114,
          344764,
          354266,
          895314,
          576888,
          1416396,
          443561,
          249618,
          274788,
          431360,
          234726,
          864454,
          1326560,
          1082428,
          770006,
          228724,
          1058228,
          722801,
          1127224,
          582374,
          1203473,
          203404,
          486156,
          1517273,
          1097128,
          205504,
          604570,
          154056,
          127785,
          231028,
          695382,
          123892,
          226696,
          840988,
          226174,
          662208,
          543360,
          506189,
          1645602,
          70703,
          529660,
          94721,
          96679,
          322250,
          19079,
          325300,
          97171,
          56445,
          88528,
          584938,
          725158,
          433843,
          93784,
          455510,
          186354,
          330738,
          229527,
          358588,
          37518,
          587087,
          10370,
          55267,
          50086,
          14207,
          10470,
          58980,
          51239,
          138268,
          126458,
          153326,
          41765,
          115568,
          122701,
          64201,
          75874,
          46290,
          6998,
          17140,
          33831,
          35816,
          5758,
          18394,
          17381,
          12690,
          164776,
          808846,
          5406,
          11700,
          7742,
          14057,
          12642,
          4632,
          11601,
          4140,
          4490,
          6374,
          1637,
          9918,
          6492,
          4580,
          21207,
          128486,
          1547,
          3672,
          3519,
          11541,
          1930,
          1969,
          89664,
          72930,
          2409,
          5012,
          3366,
          23489,
          3783,
          1673,
          3955,
          3452,
          7087,
          2190,
          5290,
          4496,
          2617,
          3889,
          5348,
          2114,
          3297,
          8424,
          2412,
          23722,
          4006,
          1852,
          6513,
          2110,
          5673,
          6895,
          7335,
          21838,
          20178,
          3939,
          3511,
          4200,
          3690,
          9876,
          8559,
          2938,
          1187,
          13783,
          13061,
          352144,
          3240,
          2501,
          538766,
          2076,
          1148,
          10121,
          1584,
          5050,
          2990,
          12705,
          1516,
          2082,
          20050,
          3909,
          1613,
          15180,
          1457,
          3257,
          3114,
          125370,
          2286,
          3681,
          8346,
          2932,
          1389,
          1687,
          73134,
          3030,
          2127,
          7214,
          1925,
          1905,
          1306,
          4511,
          24035,
          2719,
          4202,
          1556,
          382101,
          1380,
          1899,
          6530,
          7877,
          1377,
          1560,
          2265,
          1196,
          1471,
          1596,
          48925,
          2181,
          9370,
          24341,
          1552,
          1282,
          2388,
          22553,
          1316,
          2636,
          1743,
          2758,
          1736,
          1310,
          2889,
          6069,
          1214,
          5698,
          1645,
          989,
          1070,
          1197,
          1628,
          3967,
          9188,
          10039,
          1726,
          1309,
          1778,
          1953,
          2583,
          1004,
          2632,
          1359,
          2043,
          1310,
          1769,
          3646,
          1189,
          1048,
          2435,
          17889,
          1636,
          1467,
          1735,
          1037,
          2826,
          1398,
          11352,
          3308,
          1312,
          959,
          6597,
          2008,
          1400,
          0,
          1667,
          3744,
          1530,
          977,
          4402,
          979,
          2641,
          2150,
          867,
          848,
          2413,
          13222,
          1133,
          3811,
          12240,
          2428,
          1572,
          1152,
          1527,
          1336,
          1584,
          1063,
          1172,
          1361,
          1271,
          1069,
          960,
          2287,
          5429,
          1826,
          1264,
          1093,
          1347,
          1283,
          967,
          1124,
          1126,
          1000,
          926,
          956,
          3653,
          1208,
          1751,
          1343,
          1457,
          914,
          1379,
          1244,
          2151,
          1160,
          1296,
          1373,
          3050,
          1137,
          1078,
          1716,
          1242,
          1224,
          1402,
          1089,
          1232,
          1402,
          10001,
          1739,
          911,
          8778,
          2844,
          815,
          1329,
          17293,
          4140,
          5650,
          1299,
          975,
          1116,
          1464,
          1422,
          1061,
          3331,
          1156,
          1094,
          851,
          2630,
          1020,
          1571,
          7312,
          1250,
          4047,
          1738,
          1246,
          3089,
          1606,
          1370,
          1558,
          16855,
          962,
          3611,
          2930,
          2430,
          940,
          3997,
          1151,
          1486,
          6969,
          711,
          2108,
          1068,
          1188,
          1443,
          1839,
          1367,
          2186,
          1241,
          1220,
          1146,
          1282,
          1233,
          1250,
          1623,
          1313,
          1847,
          4818,
          4659,
          1252,
          2750,
          4964,
          1083,
          1821,
          5811,
          1275,
          7762,
          2087,
          2398,
          1282110,
          3995,
          13589,
          1012,
          7509,
          2507,
          1247,
          1508,
          1450,
          1406,
          1324,
          4101,
          1455,
          2640,
          1633,
          6771,
          2556,
          1731,
          19055,
          2815,
          2267,
          225367,
          5748,
          11528,
          2814,
          1676,
          22491,
          1419,
          1357,
          1651,
          1335,
          1639,
          1450,
          1373,
          1430,
          1466,
          1425,
          1416,
          1454,
          1555,
          1832,
          1746,
          1736,
          2548,
          5707,
          2396,
          2700,
          12583,
          2884,
          2250,
          2945,
          5233,
          7688,
          1150782,
          3502,
          3557,
          2786,
          4890,
          3239,
          6085,
          16097,
          2703,
          2690,
          3013,
          3138,
          4780,
          3044,
          4887,
          3480,
          3312,
          4010,
          6106,
          3840,
          4229,
          5309,
          20777,
          7913,
          5352,
          9582,
          4361,
          4252,
          4422,
          6417,
          5836,
          5808,
          10386,
          14203,
          15944,
          8586,
          5824,
          6581,
          7901,
          5930,
          6712,
          6644,
          0,
          0,
          0,
          0,
          13782,
          16635,
          20119,
          14968,
          19136,
          0,
          19341,
          24782,
          28294,
          32423,
          37779,
          44676,
          0,
          932941
         ],
         "yaxis": "y"
        }
       ],
       "layout": {
        "legend": {
         "tracegroupgap": 0
        },
        "template": {
         "data": {
          "bar": [
           {
            "error_x": {
             "color": "#2a3f5f"
            },
            "error_y": {
             "color": "#2a3f5f"
            },
            "marker": {
             "line": {
              "color": "#E5ECF6",
              "width": 0.5
             },
             "pattern": {
              "fillmode": "overlay",
              "size": 10,
              "solidity": 0.2
             }
            },
            "type": "bar"
           }
          ],
          "barpolar": [
           {
            "marker": {
             "line": {
              "color": "#E5ECF6",
              "width": 0.5
             },
             "pattern": {
              "fillmode": "overlay",
              "size": 10,
              "solidity": 0.2
             }
            },
            "type": "barpolar"
           }
          ],
          "carpet": [
           {
            "aaxis": {
             "endlinecolor": "#2a3f5f",
             "gridcolor": "white",
             "linecolor": "white",
             "minorgridcolor": "white",
             "startlinecolor": "#2a3f5f"
            },
            "baxis": {
             "endlinecolor": "#2a3f5f",
             "gridcolor": "white",
             "linecolor": "white",
             "minorgridcolor": "white",
             "startlinecolor": "#2a3f5f"
            },
            "type": "carpet"
           }
          ],
          "choropleth": [
           {
            "colorbar": {
             "outlinewidth": 0,
             "ticks": ""
            },
            "type": "choropleth"
           }
          ],
          "contour": [
           {
            "colorbar": {
             "outlinewidth": 0,
             "ticks": ""
            },
            "colorscale": [
             [
              0,
              "#0d0887"
             ],
             [
              0.1111111111111111,
              "#46039f"
             ],
             [
              0.2222222222222222,
              "#7201a8"
             ],
             [
              0.3333333333333333,
              "#9c179e"
             ],
             [
              0.4444444444444444,
              "#bd3786"
             ],
             [
              0.5555555555555556,
              "#d8576b"
             ],
             [
              0.6666666666666666,
              "#ed7953"
             ],
             [
              0.7777777777777778,
              "#fb9f3a"
             ],
             [
              0.8888888888888888,
              "#fdca26"
             ],
             [
              1,
              "#f0f921"
             ]
            ],
            "type": "contour"
           }
          ],
          "contourcarpet": [
           {
            "colorbar": {
             "outlinewidth": 0,
             "ticks": ""
            },
            "type": "contourcarpet"
           }
          ],
          "heatmap": [
           {
            "colorbar": {
             "outlinewidth": 0,
             "ticks": ""
            },
            "colorscale": [
             [
              0,
              "#0d0887"
             ],
             [
              0.1111111111111111,
              "#46039f"
             ],
             [
              0.2222222222222222,
              "#7201a8"
             ],
             [
              0.3333333333333333,
              "#9c179e"
             ],
             [
              0.4444444444444444,
              "#bd3786"
             ],
             [
              0.5555555555555556,
              "#d8576b"
             ],
             [
              0.6666666666666666,
              "#ed7953"
             ],
             [
              0.7777777777777778,
              "#fb9f3a"
             ],
             [
              0.8888888888888888,
              "#fdca26"
             ],
             [
              1,
              "#f0f921"
             ]
            ],
            "type": "heatmap"
           }
          ],
          "heatmapgl": [
           {
            "colorbar": {
             "outlinewidth": 0,
             "ticks": ""
            },
            "colorscale": [
             [
              0,
              "#0d0887"
             ],
             [
              0.1111111111111111,
              "#46039f"
             ],
             [
              0.2222222222222222,
              "#7201a8"
             ],
             [
              0.3333333333333333,
              "#9c179e"
             ],
             [
              0.4444444444444444,
              "#bd3786"
             ],
             [
              0.5555555555555556,
              "#d8576b"
             ],
             [
              0.6666666666666666,
              "#ed7953"
             ],
             [
              0.7777777777777778,
              "#fb9f3a"
             ],
             [
              0.8888888888888888,
              "#fdca26"
             ],
             [
              1,
              "#f0f921"
             ]
            ],
            "type": "heatmapgl"
           }
          ],
          "histogram": [
           {
            "marker": {
             "pattern": {
              "fillmode": "overlay",
              "size": 10,
              "solidity": 0.2
             }
            },
            "type": "histogram"
           }
          ],
          "histogram2d": [
           {
            "colorbar": {
             "outlinewidth": 0,
             "ticks": ""
            },
            "colorscale": [
             [
              0,
              "#0d0887"
             ],
             [
              0.1111111111111111,
              "#46039f"
             ],
             [
              0.2222222222222222,
              "#7201a8"
             ],
             [
              0.3333333333333333,
              "#9c179e"
             ],
             [
              0.4444444444444444,
              "#bd3786"
             ],
             [
              0.5555555555555556,
              "#d8576b"
             ],
             [
              0.6666666666666666,
              "#ed7953"
             ],
             [
              0.7777777777777778,
              "#fb9f3a"
             ],
             [
              0.8888888888888888,
              "#fdca26"
             ],
             [
              1,
              "#f0f921"
             ]
            ],
            "type": "histogram2d"
           }
          ],
          "histogram2dcontour": [
           {
            "colorbar": {
             "outlinewidth": 0,
             "ticks": ""
            },
            "colorscale": [
             [
              0,
              "#0d0887"
             ],
             [
              0.1111111111111111,
              "#46039f"
             ],
             [
              0.2222222222222222,
              "#7201a8"
             ],
             [
              0.3333333333333333,
              "#9c179e"
             ],
             [
              0.4444444444444444,
              "#bd3786"
             ],
             [
              0.5555555555555556,
              "#d8576b"
             ],
             [
              0.6666666666666666,
              "#ed7953"
             ],
             [
              0.7777777777777778,
              "#fb9f3a"
             ],
             [
              0.8888888888888888,
              "#fdca26"
             ],
             [
              1,
              "#f0f921"
             ]
            ],
            "type": "histogram2dcontour"
           }
          ],
          "mesh3d": [
           {
            "colorbar": {
             "outlinewidth": 0,
             "ticks": ""
            },
            "type": "mesh3d"
           }
          ],
          "parcoords": [
           {
            "line": {
             "colorbar": {
              "outlinewidth": 0,
              "ticks": ""
             }
            },
            "type": "parcoords"
           }
          ],
          "pie": [
           {
            "automargin": true,
            "type": "pie"
           }
          ],
          "scatter": [
           {
            "fillpattern": {
             "fillmode": "overlay",
             "size": 10,
             "solidity": 0.2
            },
            "type": "scatter"
           }
          ],
          "scatter3d": [
           {
            "line": {
             "colorbar": {
              "outlinewidth": 0,
              "ticks": ""
             }
            },
            "marker": {
             "colorbar": {
              "outlinewidth": 0,
              "ticks": ""
             }
            },
            "type": "scatter3d"
           }
          ],
          "scattercarpet": [
           {
            "marker": {
             "colorbar": {
              "outlinewidth": 0,
              "ticks": ""
             }
            },
            "type": "scattercarpet"
           }
          ],
          "scattergeo": [
           {
            "marker": {
             "colorbar": {
              "outlinewidth": 0,
              "ticks": ""
             }
            },
            "type": "scattergeo"
           }
          ],
          "scattergl": [
           {
            "marker": {
             "colorbar": {
              "outlinewidth": 0,
              "ticks": ""
             }
            },
            "type": "scattergl"
           }
          ],
          "scattermapbox": [
           {
            "marker": {
             "colorbar": {
              "outlinewidth": 0,
              "ticks": ""
             }
            },
            "type": "scattermapbox"
           }
          ],
          "scatterpolar": [
           {
            "marker": {
             "colorbar": {
              "outlinewidth": 0,
              "ticks": ""
             }
            },
            "type": "scatterpolar"
           }
          ],
          "scatterpolargl": [
           {
            "marker": {
             "colorbar": {
              "outlinewidth": 0,
              "ticks": ""
             }
            },
            "type": "scatterpolargl"
           }
          ],
          "scatterternary": [
           {
            "marker": {
             "colorbar": {
              "outlinewidth": 0,
              "ticks": ""
             }
            },
            "type": "scatterternary"
           }
          ],
          "surface": [
           {
            "colorbar": {
             "outlinewidth": 0,
             "ticks": ""
            },
            "colorscale": [
             [
              0,
              "#0d0887"
             ],
             [
              0.1111111111111111,
              "#46039f"
             ],
             [
              0.2222222222222222,
              "#7201a8"
             ],
             [
              0.3333333333333333,
              "#9c179e"
             ],
             [
              0.4444444444444444,
              "#bd3786"
             ],
             [
              0.5555555555555556,
              "#d8576b"
             ],
             [
              0.6666666666666666,
              "#ed7953"
             ],
             [
              0.7777777777777778,
              "#fb9f3a"
             ],
             [
              0.8888888888888888,
              "#fdca26"
             ],
             [
              1,
              "#f0f921"
             ]
            ],
            "type": "surface"
           }
          ],
          "table": [
           {
            "cells": {
             "fill": {
              "color": "#EBF0F8"
             },
             "line": {
              "color": "white"
             }
            },
            "header": {
             "fill": {
              "color": "#C8D4E3"
             },
             "line": {
              "color": "white"
             }
            },
            "type": "table"
           }
          ]
         },
         "layout": {
          "annotationdefaults": {
           "arrowcolor": "#2a3f5f",
           "arrowhead": 0,
           "arrowwidth": 1
          },
          "autotypenumbers": "strict",
          "coloraxis": {
           "colorbar": {
            "outlinewidth": 0,
            "ticks": ""
           }
          },
          "colorscale": {
           "diverging": [
            [
             0,
             "#8e0152"
            ],
            [
             0.1,
             "#c51b7d"
            ],
            [
             0.2,
             "#de77ae"
            ],
            [
             0.3,
             "#f1b6da"
            ],
            [
             0.4,
             "#fde0ef"
            ],
            [
             0.5,
             "#f7f7f7"
            ],
            [
             0.6,
             "#e6f5d0"
            ],
            [
             0.7,
             "#b8e186"
            ],
            [
             0.8,
             "#7fbc41"
            ],
            [
             0.9,
             "#4d9221"
            ],
            [
             1,
             "#276419"
            ]
           ],
           "sequential": [
            [
             0,
             "#0d0887"
            ],
            [
             0.1111111111111111,
             "#46039f"
            ],
            [
             0.2222222222222222,
             "#7201a8"
            ],
            [
             0.3333333333333333,
             "#9c179e"
            ],
            [
             0.4444444444444444,
             "#bd3786"
            ],
            [
             0.5555555555555556,
             "#d8576b"
            ],
            [
             0.6666666666666666,
             "#ed7953"
            ],
            [
             0.7777777777777778,
             "#fb9f3a"
            ],
            [
             0.8888888888888888,
             "#fdca26"
            ],
            [
             1,
             "#f0f921"
            ]
           ],
           "sequentialminus": [
            [
             0,
             "#0d0887"
            ],
            [
             0.1111111111111111,
             "#46039f"
            ],
            [
             0.2222222222222222,
             "#7201a8"
            ],
            [
             0.3333333333333333,
             "#9c179e"
            ],
            [
             0.4444444444444444,
             "#bd3786"
            ],
            [
             0.5555555555555556,
             "#d8576b"
            ],
            [
             0.6666666666666666,
             "#ed7953"
            ],
            [
             0.7777777777777778,
             "#fb9f3a"
            ],
            [
             0.8888888888888888,
             "#fdca26"
            ],
            [
             1,
             "#f0f921"
            ]
           ]
          },
          "colorway": [
           "#636efa",
           "#EF553B",
           "#00cc96",
           "#ab63fa",
           "#FFA15A",
           "#19d3f3",
           "#FF6692",
           "#B6E880",
           "#FF97FF",
           "#FECB52"
          ],
          "font": {
           "color": "#2a3f5f"
          },
          "geo": {
           "bgcolor": "white",
           "lakecolor": "white",
           "landcolor": "#E5ECF6",
           "showlakes": true,
           "showland": true,
           "subunitcolor": "white"
          },
          "hoverlabel": {
           "align": "left"
          },
          "hovermode": "closest",
          "mapbox": {
           "style": "light"
          },
          "paper_bgcolor": "white",
          "plot_bgcolor": "#E5ECF6",
          "polar": {
           "angularaxis": {
            "gridcolor": "white",
            "linecolor": "white",
            "ticks": ""
           },
           "bgcolor": "#E5ECF6",
           "radialaxis": {
            "gridcolor": "white",
            "linecolor": "white",
            "ticks": ""
           }
          },
          "scene": {
           "xaxis": {
            "backgroundcolor": "#E5ECF6",
            "gridcolor": "white",
            "gridwidth": 2,
            "linecolor": "white",
            "showbackground": true,
            "ticks": "",
            "zerolinecolor": "white"
           },
           "yaxis": {
            "backgroundcolor": "#E5ECF6",
            "gridcolor": "white",
            "gridwidth": 2,
            "linecolor": "white",
            "showbackground": true,
            "ticks": "",
            "zerolinecolor": "white"
           },
           "zaxis": {
            "backgroundcolor": "#E5ECF6",
            "gridcolor": "white",
            "gridwidth": 2,
            "linecolor": "white",
            "showbackground": true,
            "ticks": "",
            "zerolinecolor": "white"
           }
          },
          "shapedefaults": {
           "line": {
            "color": "#2a3f5f"
           }
          },
          "ternary": {
           "aaxis": {
            "gridcolor": "white",
            "linecolor": "white",
            "ticks": ""
           },
           "baxis": {
            "gridcolor": "white",
            "linecolor": "white",
            "ticks": ""
           },
           "bgcolor": "#E5ECF6",
           "caxis": {
            "gridcolor": "white",
            "linecolor": "white",
            "ticks": ""
           }
          },
          "title": {
           "x": 0.05
          },
          "xaxis": {
           "automargin": true,
           "gridcolor": "white",
           "linecolor": "white",
           "ticks": "",
           "title": {
            "standoff": 15
           },
           "zerolinecolor": "white",
           "zerolinewidth": 2
          },
          "yaxis": {
           "automargin": true,
           "gridcolor": "white",
           "linecolor": "white",
           "ticks": "",
           "title": {
            "standoff": 15
           },
           "zerolinecolor": "white",
           "zerolinewidth": 2
          }
         }
        },
        "title": {
         "text": "Likes Vs Duration"
        },
        "xaxis": {
         "anchor": "y",
         "domain": [
          0,
          1
         ],
         "title": {
          "text": "Durations"
         }
        },
        "yaxis": {
         "anchor": "x",
         "domain": [
          0,
          1
         ],
         "title": {
          "text": "Likes"
         }
        }
       }
      },
      "text/html": [
       "<div>                            <div id=\"366501bd-e1e9-44d3-886b-0aedf98181a5\" class=\"plotly-graph-div\" style=\"height:525px; width:100%;\"></div>            <script type=\"text/javascript\">                require([\"plotly\"], function(Plotly) {                    window.PLOTLYENV=window.PLOTLYENV || {};                                    if (document.getElementById(\"366501bd-e1e9-44d3-886b-0aedf98181a5\")) {                    Plotly.newPlot(                        \"366501bd-e1e9-44d3-886b-0aedf98181a5\",                        [{\"hovertemplate\":\"Durations=%{x}<br>Likes=%{y}<extra></extra>\",\"legendgroup\":\"\",\"marker\":{\"color\":\"#636efa\",\"symbol\":\"circle\"},\"mode\":\"markers\",\"name\":\"\",\"orientation\":\"v\",\"showlegend\":false,\"x\":[26.6,0.55,0.8333333333333334,17.6,0.8666666666666667,19.8,0.36666666666666664,0.75,0.5833333333333334,0.6166666666666667,0.48333333333333334,16.466666666666665,0.95,0.6833333333333333,0.75,14.983333333333333,0.8666666666666667,0.4666666666666667,18.816666666666666,0.8666666666666667,16.116666666666667,0.5333333333333333,18.083333333333332,0.7833333333333333,10.6,0.8833333333333333,14.783333333333333,0.55,25.6,6.233333333333333,0.65,0.6333333333333333,0.85,12.333333333333334,0.45,12.283333333333333,0.7833333333333333,8.016666666666667,12.166666666666666,10.416666666666666,0.8,15.383333333333333,0.6666666666666666,15.616666666666667,0.6666666666666666,15.683333333333334,0.9166666666666666,17.166666666666668,12.05,8.233333333333333,15.516666666666667,16.883333333333333,13.066666666666666,17.016666666666666,13.983333333333333,9.016666666666667,8.016666666666667,12.15,12.083333333333334,11.033333333333333,25.7,4.916666666666667,15.133333333333333,8.033333333333333,12.55,17.733333333333334,15.85,10.75,10.2,12.566666666666666,14.333333333333334,16.133333333333333,13.466666666666667,16.9,14.116666666666667,10.833333333333334,12.666666666666666,10.45,9.333333333333334,10.9,13.283333333333333,14.233333333333333,6.516666666666667,11.366666666666667,9.533333333333333,14.3,14.05,15.183333333333334,11.566666666666666,14.183333333333334,9.416666666666666,2.1333333333333333,12.4,17.183333333333334,6.366666666666666,14.083333333333334,18.433333333333334,21.25,11.616666666666667,10.216666666666667,8.05,16.066666666666666,11.15,14.033333333333333,18.35,13.933333333333334,15.866666666666667,17.35,15.316666666666666,13.533333333333333,11.983333333333333,12.483333333333333,13.816666666666666,17.35,20.0,12.933333333333334,14.8,16.8,13.633333333333333,17.983333333333334,6.566666666666666,2.5833333333333335,13.8,15.166666666666666,15.416666666666666,11.75,15.766666666666667,13.033333333333333,13.05,13.8,10.866666666666667,12.933333333333334,16.95,11.683333333333334,15.166666666666666,7.383333333333334,16.8,17.15,15.633333333333333,14.766666666666667,13.15,14.533333333333333,13.983333333333333,13.133333333333333,16.65,16.65,13.866666666666667,15.283333333333333,13.366666666666667,14.883333333333333,15.316666666666666,9.483333333333333,11.283333333333333,13.733333333333333,12.116666666666667,14.85,15.4,14.3,14.966666666666667,14.766666666666667,15.116666666666667,16.933333333333334,15.7,14.483333333333333,15.983333333333333,7.633333333333334,15.15,14.333333333333334,15.533333333333333,14.233333333333333,18.483333333333334,14.616666666666667,14.066666666666666,13.6,9.816666666666666,13.433333333333334,18.266666666666666,15.716666666666667,15.933333333333334,12.75,17.766666666666666,15.316666666666666,15.283333333333333,13.183333333333334,12.05,16.5,17.5,13.833333333333334,15.233333333333333,14.733333333333333,14.866666666666667,15.25,24.65,14.683333333333334,14.416666666666666,13.816666666666666,18.133333333333333,14.633333333333333,14.75,14.05,18.316666666666666,13.116666666666667,19.783333333333335,17.583333333333332,15.516666666666667,11.75,16.9,16.6,14.633333333333333,15.383333333333333,17.533333333333335,11.866666666666667,14.1,18.866666666666667,17.616666666666667,16.366666666666667,10.216666666666667,12.916666666666666,16.183333333333334,15.183333333333334,19.783333333333335,23.033333333333335,13.766666666666667,10.5,18.55,12.383333333333333,22.033333333333335,10.066666666666666,11.866666666666667,5.85,15.766666666666667,12.4,11.65,15.433333333333334,11.516666666666667,10.566666666666666,12.233333333333333,10.266666666666667,13.6,15.05,11.8,13.7,15.15,10.383333333333333,10.25,11.3,24.716666666666665,15.2,10.066666666666666,13.083333333333334,10.683333333333334,12.4,10.2,7.166666666666667,9.2,15.166666666666666,11.75,16.1,13.166666666666666,10.166666666666666,11.283333333333333,10.933333333333334,10.483333333333333,10.733333333333333,10.05,18.433333333333334,12.133333333333333,10.35,19.35,8.35,10.066666666666666,12.65,12.416666666666666,10.266666666666667,3.45,1.8333333333333333,3.783333333333333,12.616666666666667,5.7,12.816666666666666,6.1,16.2,3.95,8.783333333333333,2.6166666666666667,10.033333333333333,4.716666666666667,7.116666666666666,3.1333333333333333,5.383333333333334,4.75,5.15,2.0166666666666666,25.95,33.483333333333334,6.05,3.683333333333333,14.333333333333334,8.85,10.2,10.066666666666666,3.8833333333333333,5.683333333333334,5.433333333333334,5.3,5.266666666666667,3.55,6.35,4.6,5.55,4.716666666666667,1.9833333333333334,5.0,5.216666666666667,7.933333333333334,4.266666666666667,8.05,4.316666666666666,3.4166666666666665,4.133333333333334,2.933333333333333,5.583333333333333,3.45,4.433333333333334,4.833333333333333,2.7333333333333334,4.266666666666667,3.066666666666667,9.083333333333334,3.066666666666667,4.25,3.5833333333333335,3.7,4.083333333333333,5.133333333333334,2.9833333333333334,12.616666666666667,2.466666666666667,4.466666666666667,4.016666666666667,5.65,2.7,3.8,3.2333333333333334,3.683333333333333,2.9833333333333334,2.4833333333333334,3.1666666666666665,5.4,3.216666666666667,2.4166666666666665,4.85,2.1666666666666665,0.7166666666666667,3.433333333333333,3.466666666666667,3.75,4.566666666666666,5.416666666666667,3.9,4.266666666666667,4.5,2.9166666666666665,4.75,2.566666666666667,1.7,4.65,4.466666666666667,2.95,2.433333333333333,5.4,5.35,2.9833333333333334,2.9,1.7666666666666666,3.6666666666666665,3.5166666666666666,3.183333333333333,4.4,5.75,3.2333333333333334,2.2666666666666666,4.05,3.066666666666667,6.216666666666667,1.8666666666666667,2.65,9.916666666666666,6.516666666666667,3.0166666666666666,4.233333333333333,1.35,4.366666666666666,3.55,3.5,3.783333333333333,3.75,2.55,2.9833333333333334,3.0,2.3833333333333333,3.1166666666666667,0.9833333333333333,4.9,1.5333333333333334,2.75,7.833333333333333,5.566666666666666,3.9166666666666665,4.733333333333333,5.433333333333334,3.783333333333333,3.566666666666667,2.7666666666666666,2.15,3.6166666666666667,4.583333333333333,4.066666666666666,1.9166666666666667,2.9833333333333334,5.35,3.45,6.1,3.8666666666666667,1.8,6.15,5.25,1.9833333333333334,1.4666666666666666,3.716666666666667,4.1,2.6333333333333333,3.6166666666666667,4.383333333333334,4.966666666666667,4.316666666666666,1.0833333333333333,2.183333333333333,4.166666666666667,4.633333333333334,6.016666666666667,3.2333333333333334,3.5,3.15,2.4833333333333334,3.4833333333333334,4.483333333333333,3.9,5.533333333333333,4.466666666666667,4.266666666666667,4.533333333333333,2.3833333333333333,3.683333333333333,1.2666666666666666,3.683333333333333,4.133333333333334,3.15,2.933333333333333,3.216666666666667,2.35,4.066666666666666,3.0833333333333335,4.35,7.183333333333334,3.4833333333333334,2.95,3.933333333333333,3.316666666666667,3.433333333333333,2.816666666666667,2.683333333333333,2.466666666666667,2.3,1.2,2.5166666666666666,3.55,3.65,2.0166666666666666,4.233333333333333,5.233333333333333,3.433333333333333,2.5166666666666666,2.6166666666666667,3.4833333333333334,2.8833333333333333,3.1166666666666667,3.6666666666666665,2.45,3.933333333333333,5.033333333333333,1.4666666666666666,4.916666666666667,2.85,4.733333333333333,3.05,4.75,1.0,1.9166666666666667,5.183333333333334,2.1,7.533333333333333,3.15,3.4833333333333334,3.716666666666667,3.3833333333333333,7.033333333333333,3.1166666666666667,5.0,4.15,3.7333333333333334,4.316666666666666,1.7666666666666666,7.316666666666666,2.7,3.183333333333333,14.116666666666667,3.1333333333333333,2.7333333333333334,3.8833333333333333,2.3666666666666667,9.216666666666667,4.55,1.35,2.2333333333333334,1.6333333333333333,2.0833333333333335,2.533333333333333,2.5,3.05,15.766666666666667,3.6,4.083333333333333,2.05,2.2333333333333334,4.2,3.8666666666666667,3.283333333333333,5.066666666666666,1.2166666666666666,4.866666666666666,10.666666666666666,2.433333333333333,3.5,4.933333333333334,4.65,5.466666666666667,6.566666666666666,1.5333333333333334,1.8166666666666667,3.4,10.383333333333333,3.816666666666667,2.65,1.9833333333333334,1.2833333333333334,3.2666666666666666,2.6666666666666665,3.6166666666666667,4.116666666666666,2.8,3.6,2.9166666666666665,2.816666666666667,3.566666666666667,2.216666666666667,2.4166666666666665,4.766666666666667,4.083333333333333,4.283333333333333,3.1666666666666665,3.4166666666666665,3.933333333333333,7.05,3.8666666666666667,3.216666666666667,3.2666666666666666,1.5833333333333333,3.6166666666666667,3.95,3.9166666666666665,2.783333333333333,3.6,4.133333333333334,2.9,3.4,3.25,3.8833333333333333,4.8,1.9,3.0166666666666666,3.7666666666666666,2.566666666666667,2.5833333333333335,2.4833333333333334,4.35,3.0,2.4,3.5833333333333335,8.783333333333333,3.3333333333333335,4.45,6.733333333333333,4.033333333333333,4.033333333333333,3.75,0.4666666666666667,2.3833333333333333,3.7666666666666666,3.45,3.3333333333333335,3.3,6.083333333333333,4.516666666666667,8.816666666666666,3.3333333333333335,0.6,2.6166666666666667,3.5833333333333335,3.0,3.6666666666666665,3.816666666666667,3.55,1.2833333333333334,3.4166666666666665,4.4,3.433333333333333,0.8666666666666667,2.9166666666666665,3.05,2.3666666666666667,3.3666666666666667,3.0166666666666666,23.883333333333333,0.6333333333333333,3.8833333333333333,2.9,3.25,7.166666666666667,3.5,4.766666666666667,4.516666666666667,3.4833333333333334,2.783333333333333,4.6,2.0166666666666666,4.683333333333334,2.95,4.166666666666667,4.35,3.0,2.9,3.8833333333333333,1.4166666666666667,2.5166666666666666,5.033333333333333,3.4,3.1166666666666667,2.1,4.25,4.733333333333333,25.316666666666666,2.7333333333333334,4.166666666666667,2.933333333333333,2.8666666666666667,2.216666666666667,1.6166666666666667,3.1,1.3,1.6,0.9666666666666667,0.95,0.7833333333333333,1.4,2.6666666666666665,1.2,1.2666666666666666,1.1,2.7333333333333334,1.6666666666666667,3.0,4.483333333333333,2.716666666666667,5.533333333333333,2.6666666666666665,0.25,3.5833333333333335,0.6166666666666667,1.7166666666666666,0.7666666666666667,0.8666666666666667,2.7,2.4833333333333334,1.05,1.3666666666666667,14.966666666666667,1.75,6.816666666666666,3.3333333333333335,3.9166666666666665,5.3,4.433333333333334,3.8333333333333335,5.983333333333333,5.633333333333334,0.43333333333333335,2.9166666666666665,4.316666666666666,3.8833333333333333,2.45,3.4,18.45,0.8,6.033333333333333,4.35,15.75,24.566666666666666,14.333333333333334,19.9,2.6333333333333333,1.4666666666666666,0.9666666666666667,1.0666666666666667,3.216666666666667,2.566666666666667,5.316666666666666,5.45,4.35,3.5833333333333335,4.466666666666667,9.4,4.65,3.4166666666666665,2.816666666666667,6.05,4.55,0.8833333333333333,2.5833333333333335,3.7,2.2333333333333334,0.7166666666666667,0.8166666666666667,0.8666666666666667,0.48333333333333334,0.5166666666666667,2.1,1.5,3.9833333333333334,2.6166666666666667],\"xaxis\":\"x\",\"y\":[2734717,3181846,3763144,4372148,7683173,5255920,15838629,9445626,9826064,8397277,10676684,5390831,8447055,17103603,7490917,4781188,2742682,7160636,5397249,9353864,5339440,12458177,6087671,12667138,5763006,10856603,6179167,8820643,5688374,5024795,15676704,14287354,13971840,6593068,18950832,5473649,13113906,10007445,4910068,5475029,41064093,4123680,17646537,4004028,30037941,6683696,25620716,5326487,3347424,3731470,6335342,4359608,3750720,6218221,5065493,3951815,5355489,3566688,3070387,4352670,17184193,5434834,4470173,4092272,4337990,6551587,4275700,3505354,3367023,3855282,3484938,3235378,3996126,3613403,5178826,4951723,8199912,3149841,3744947,3036619,5603911,5303107,5045347,2788966,4934113,6379801,3522047,4297192,3898756,3786203,3719902,6489817,2744908,4290510,2739004,2507269,3691601,5282887,3763889,3183219,4213012,4820320,5066730,3412269,3541082,3250667,4878931,7054509,1407766,3804714,3117582,1889417,3345181,2605771,4963067,4212676,2595202,3856702,2200659,2701689,896671,2446119,2827541,4414503,3288910,1431808,1835900,4166202,2190029,2957913,2833912,2406329,2975196,4017461,1292649,4368531,2037721,2729296,4758002,1805081,2488194,1496447,1519125,2400419,3383101,3120643,3346734,2888734,2895765,2739321,3602896,2100990,1580879,3462868,1787912,2256664,3465906,3084035,2253992,1122764,2837941,4190651,3000713,2732578,1769421,1816431,1732752,3804170,1011278,881050,1921831,3200301,2851076,1656776,1780920,2140013,1866576,2248329,2217552,1260033,3212767,1150494,1567715,28736423,771741,2301433,1547235,1520948,492598,1030125,2057440,1741617,2092453,2502384,1881067,1046144,2217821,1132037,4665940,933373,795031,515700,1633828,982882,1331614,1157890,750614,1564493,921077,1517138,425819,800654,2180600,562041,1309255,725751,1151202,547252,2391814,3388136,1018629,1100328,1215533,617689,397508,626056,2142543,874712,1689552,802026,642230,1671455,1954352,1219539,294547,436173,315890,921259,549162,454524,767740,348533,507666,552065,789880,658189,631167,628289,499898,558114,344764,354266,895314,576888,1416396,443561,249618,274788,431360,234726,864454,1326560,1082428,770006,228724,1058228,722801,1127224,582374,1203473,203404,486156,1517273,1097128,205504,604570,154056,127785,231028,695382,123892,226696,840988,226174,662208,543360,506189,1645602,70703,529660,94721,96679,322250,19079,325300,97171,56445,88528,584938,725158,433843,93784,455510,186354,330738,229527,358588,37518,587087,10370,55267,50086,14207,10470,58980,51239,138268,126458,153326,41765,115568,122701,64201,75874,46290,6998,17140,33831,35816,5758,18394,17381,12690,164776,808846,5406,11700,7742,14057,12642,4632,11601,4140,4490,6374,1637,9918,6492,4580,21207,128486,1547,3672,3519,11541,1930,1969,89664,72930,2409,5012,3366,23489,3783,1673,3955,3452,7087,2190,5290,4496,2617,3889,5348,2114,3297,8424,2412,23722,4006,1852,6513,2110,5673,6895,7335,21838,20178,3939,3511,4200,3690,9876,8559,2938,1187,13783,13061,352144,3240,2501,538766,2076,1148,10121,1584,5050,2990,12705,1516,2082,20050,3909,1613,15180,1457,3257,3114,125370,2286,3681,8346,2932,1389,1687,73134,3030,2127,7214,1925,1905,1306,4511,24035,2719,4202,1556,382101,1380,1899,6530,7877,1377,1560,2265,1196,1471,1596,48925,2181,9370,24341,1552,1282,2388,22553,1316,2636,1743,2758,1736,1310,2889,6069,1214,5698,1645,989,1070,1197,1628,3967,9188,10039,1726,1309,1778,1953,2583,1004,2632,1359,2043,1310,1769,3646,1189,1048,2435,17889,1636,1467,1735,1037,2826,1398,11352,3308,1312,959,6597,2008,1400,0,1667,3744,1530,977,4402,979,2641,2150,867,848,2413,13222,1133,3811,12240,2428,1572,1152,1527,1336,1584,1063,1172,1361,1271,1069,960,2287,5429,1826,1264,1093,1347,1283,967,1124,1126,1000,926,956,3653,1208,1751,1343,1457,914,1379,1244,2151,1160,1296,1373,3050,1137,1078,1716,1242,1224,1402,1089,1232,1402,10001,1739,911,8778,2844,815,1329,17293,4140,5650,1299,975,1116,1464,1422,1061,3331,1156,1094,851,2630,1020,1571,7312,1250,4047,1738,1246,3089,1606,1370,1558,16855,962,3611,2930,2430,940,3997,1151,1486,6969,711,2108,1068,1188,1443,1839,1367,2186,1241,1220,1146,1282,1233,1250,1623,1313,1847,4818,4659,1252,2750,4964,1083,1821,5811,1275,7762,2087,2398,1282110,3995,13589,1012,7509,2507,1247,1508,1450,1406,1324,4101,1455,2640,1633,6771,2556,1731,19055,2815,2267,225367,5748,11528,2814,1676,22491,1419,1357,1651,1335,1639,1450,1373,1430,1466,1425,1416,1454,1555,1832,1746,1736,2548,5707,2396,2700,12583,2884,2250,2945,5233,7688,1150782,3502,3557,2786,4890,3239,6085,16097,2703,2690,3013,3138,4780,3044,4887,3480,3312,4010,6106,3840,4229,5309,20777,7913,5352,9582,4361,4252,4422,6417,5836,5808,10386,14203,15944,8586,5824,6581,7901,5930,6712,6644,0,0,0,0,13782,16635,20119,14968,19136,0,19341,24782,28294,32423,37779,44676,0,932941],\"yaxis\":\"y\",\"type\":\"scatter\"}],                        {\"template\":{\"data\":{\"histogram2dcontour\":[{\"type\":\"histogram2dcontour\",\"colorbar\":{\"outlinewidth\":0,\"ticks\":\"\"},\"colorscale\":[[0.0,\"#0d0887\"],[0.1111111111111111,\"#46039f\"],[0.2222222222222222,\"#7201a8\"],[0.3333333333333333,\"#9c179e\"],[0.4444444444444444,\"#bd3786\"],[0.5555555555555556,\"#d8576b\"],[0.6666666666666666,\"#ed7953\"],[0.7777777777777778,\"#fb9f3a\"],[0.8888888888888888,\"#fdca26\"],[1.0,\"#f0f921\"]]}],\"choropleth\":[{\"type\":\"choropleth\",\"colorbar\":{\"outlinewidth\":0,\"ticks\":\"\"}}],\"histogram2d\":[{\"type\":\"histogram2d\",\"colorbar\":{\"outlinewidth\":0,\"ticks\":\"\"},\"colorscale\":[[0.0,\"#0d0887\"],[0.1111111111111111,\"#46039f\"],[0.2222222222222222,\"#7201a8\"],[0.3333333333333333,\"#9c179e\"],[0.4444444444444444,\"#bd3786\"],[0.5555555555555556,\"#d8576b\"],[0.6666666666666666,\"#ed7953\"],[0.7777777777777778,\"#fb9f3a\"],[0.8888888888888888,\"#fdca26\"],[1.0,\"#f0f921\"]]}],\"heatmap\":[{\"type\":\"heatmap\",\"colorbar\":{\"outlinewidth\":0,\"ticks\":\"\"},\"colorscale\":[[0.0,\"#0d0887\"],[0.1111111111111111,\"#46039f\"],[0.2222222222222222,\"#7201a8\"],[0.3333333333333333,\"#9c179e\"],[0.4444444444444444,\"#bd3786\"],[0.5555555555555556,\"#d8576b\"],[0.6666666666666666,\"#ed7953\"],[0.7777777777777778,\"#fb9f3a\"],[0.8888888888888888,\"#fdca26\"],[1.0,\"#f0f921\"]]}],\"heatmapgl\":[{\"type\":\"heatmapgl\",\"colorbar\":{\"outlinewidth\":0,\"ticks\":\"\"},\"colorscale\":[[0.0,\"#0d0887\"],[0.1111111111111111,\"#46039f\"],[0.2222222222222222,\"#7201a8\"],[0.3333333333333333,\"#9c179e\"],[0.4444444444444444,\"#bd3786\"],[0.5555555555555556,\"#d8576b\"],[0.6666666666666666,\"#ed7953\"],[0.7777777777777778,\"#fb9f3a\"],[0.8888888888888888,\"#fdca26\"],[1.0,\"#f0f921\"]]}],\"contourcarpet\":[{\"type\":\"contourcarpet\",\"colorbar\":{\"outlinewidth\":0,\"ticks\":\"\"}}],\"contour\":[{\"type\":\"contour\",\"colorbar\":{\"outlinewidth\":0,\"ticks\":\"\"},\"colorscale\":[[0.0,\"#0d0887\"],[0.1111111111111111,\"#46039f\"],[0.2222222222222222,\"#7201a8\"],[0.3333333333333333,\"#9c179e\"],[0.4444444444444444,\"#bd3786\"],[0.5555555555555556,\"#d8576b\"],[0.6666666666666666,\"#ed7953\"],[0.7777777777777778,\"#fb9f3a\"],[0.8888888888888888,\"#fdca26\"],[1.0,\"#f0f921\"]]}],\"surface\":[{\"type\":\"surface\",\"colorbar\":{\"outlinewidth\":0,\"ticks\":\"\"},\"colorscale\":[[0.0,\"#0d0887\"],[0.1111111111111111,\"#46039f\"],[0.2222222222222222,\"#7201a8\"],[0.3333333333333333,\"#9c179e\"],[0.4444444444444444,\"#bd3786\"],[0.5555555555555556,\"#d8576b\"],[0.6666666666666666,\"#ed7953\"],[0.7777777777777778,\"#fb9f3a\"],[0.8888888888888888,\"#fdca26\"],[1.0,\"#f0f921\"]]}],\"mesh3d\":[{\"type\":\"mesh3d\",\"colorbar\":{\"outlinewidth\":0,\"ticks\":\"\"}}],\"scatter\":[{\"fillpattern\":{\"fillmode\":\"overlay\",\"size\":10,\"solidity\":0.2},\"type\":\"scatter\"}],\"parcoords\":[{\"type\":\"parcoords\",\"line\":{\"colorbar\":{\"outlinewidth\":0,\"ticks\":\"\"}}}],\"scatterpolargl\":[{\"type\":\"scatterpolargl\",\"marker\":{\"colorbar\":{\"outlinewidth\":0,\"ticks\":\"\"}}}],\"bar\":[{\"error_x\":{\"color\":\"#2a3f5f\"},\"error_y\":{\"color\":\"#2a3f5f\"},\"marker\":{\"line\":{\"color\":\"#E5ECF6\",\"width\":0.5},\"pattern\":{\"fillmode\":\"overlay\",\"size\":10,\"solidity\":0.2}},\"type\":\"bar\"}],\"scattergeo\":[{\"type\":\"scattergeo\",\"marker\":{\"colorbar\":{\"outlinewidth\":0,\"ticks\":\"\"}}}],\"scatterpolar\":[{\"type\":\"scatterpolar\",\"marker\":{\"colorbar\":{\"outlinewidth\":0,\"ticks\":\"\"}}}],\"histogram\":[{\"marker\":{\"pattern\":{\"fillmode\":\"overlay\",\"size\":10,\"solidity\":0.2}},\"type\":\"histogram\"}],\"scattergl\":[{\"type\":\"scattergl\",\"marker\":{\"colorbar\":{\"outlinewidth\":0,\"ticks\":\"\"}}}],\"scatter3d\":[{\"type\":\"scatter3d\",\"line\":{\"colorbar\":{\"outlinewidth\":0,\"ticks\":\"\"}},\"marker\":{\"colorbar\":{\"outlinewidth\":0,\"ticks\":\"\"}}}],\"scattermapbox\":[{\"type\":\"scattermapbox\",\"marker\":{\"colorbar\":{\"outlinewidth\":0,\"ticks\":\"\"}}}],\"scatterternary\":[{\"type\":\"scatterternary\",\"marker\":{\"colorbar\":{\"outlinewidth\":0,\"ticks\":\"\"}}}],\"scattercarpet\":[{\"type\":\"scattercarpet\",\"marker\":{\"colorbar\":{\"outlinewidth\":0,\"ticks\":\"\"}}}],\"carpet\":[{\"aaxis\":{\"endlinecolor\":\"#2a3f5f\",\"gridcolor\":\"white\",\"linecolor\":\"white\",\"minorgridcolor\":\"white\",\"startlinecolor\":\"#2a3f5f\"},\"baxis\":{\"endlinecolor\":\"#2a3f5f\",\"gridcolor\":\"white\",\"linecolor\":\"white\",\"minorgridcolor\":\"white\",\"startlinecolor\":\"#2a3f5f\"},\"type\":\"carpet\"}],\"table\":[{\"cells\":{\"fill\":{\"color\":\"#EBF0F8\"},\"line\":{\"color\":\"white\"}},\"header\":{\"fill\":{\"color\":\"#C8D4E3\"},\"line\":{\"color\":\"white\"}},\"type\":\"table\"}],\"barpolar\":[{\"marker\":{\"line\":{\"color\":\"#E5ECF6\",\"width\":0.5},\"pattern\":{\"fillmode\":\"overlay\",\"size\":10,\"solidity\":0.2}},\"type\":\"barpolar\"}],\"pie\":[{\"automargin\":true,\"type\":\"pie\"}]},\"layout\":{\"autotypenumbers\":\"strict\",\"colorway\":[\"#636efa\",\"#EF553B\",\"#00cc96\",\"#ab63fa\",\"#FFA15A\",\"#19d3f3\",\"#FF6692\",\"#B6E880\",\"#FF97FF\",\"#FECB52\"],\"font\":{\"color\":\"#2a3f5f\"},\"hovermode\":\"closest\",\"hoverlabel\":{\"align\":\"left\"},\"paper_bgcolor\":\"white\",\"plot_bgcolor\":\"#E5ECF6\",\"polar\":{\"bgcolor\":\"#E5ECF6\",\"angularaxis\":{\"gridcolor\":\"white\",\"linecolor\":\"white\",\"ticks\":\"\"},\"radialaxis\":{\"gridcolor\":\"white\",\"linecolor\":\"white\",\"ticks\":\"\"}},\"ternary\":{\"bgcolor\":\"#E5ECF6\",\"aaxis\":{\"gridcolor\":\"white\",\"linecolor\":\"white\",\"ticks\":\"\"},\"baxis\":{\"gridcolor\":\"white\",\"linecolor\":\"white\",\"ticks\":\"\"},\"caxis\":{\"gridcolor\":\"white\",\"linecolor\":\"white\",\"ticks\":\"\"}},\"coloraxis\":{\"colorbar\":{\"outlinewidth\":0,\"ticks\":\"\"}},\"colorscale\":{\"sequential\":[[0.0,\"#0d0887\"],[0.1111111111111111,\"#46039f\"],[0.2222222222222222,\"#7201a8\"],[0.3333333333333333,\"#9c179e\"],[0.4444444444444444,\"#bd3786\"],[0.5555555555555556,\"#d8576b\"],[0.6666666666666666,\"#ed7953\"],[0.7777777777777778,\"#fb9f3a\"],[0.8888888888888888,\"#fdca26\"],[1.0,\"#f0f921\"]],\"sequentialminus\":[[0.0,\"#0d0887\"],[0.1111111111111111,\"#46039f\"],[0.2222222222222222,\"#7201a8\"],[0.3333333333333333,\"#9c179e\"],[0.4444444444444444,\"#bd3786\"],[0.5555555555555556,\"#d8576b\"],[0.6666666666666666,\"#ed7953\"],[0.7777777777777778,\"#fb9f3a\"],[0.8888888888888888,\"#fdca26\"],[1.0,\"#f0f921\"]],\"diverging\":[[0,\"#8e0152\"],[0.1,\"#c51b7d\"],[0.2,\"#de77ae\"],[0.3,\"#f1b6da\"],[0.4,\"#fde0ef\"],[0.5,\"#f7f7f7\"],[0.6,\"#e6f5d0\"],[0.7,\"#b8e186\"],[0.8,\"#7fbc41\"],[0.9,\"#4d9221\"],[1,\"#276419\"]]},\"xaxis\":{\"gridcolor\":\"white\",\"linecolor\":\"white\",\"ticks\":\"\",\"title\":{\"standoff\":15},\"zerolinecolor\":\"white\",\"automargin\":true,\"zerolinewidth\":2},\"yaxis\":{\"gridcolor\":\"white\",\"linecolor\":\"white\",\"ticks\":\"\",\"title\":{\"standoff\":15},\"zerolinecolor\":\"white\",\"automargin\":true,\"zerolinewidth\":2},\"scene\":{\"xaxis\":{\"backgroundcolor\":\"#E5ECF6\",\"gridcolor\":\"white\",\"linecolor\":\"white\",\"showbackground\":true,\"ticks\":\"\",\"zerolinecolor\":\"white\",\"gridwidth\":2},\"yaxis\":{\"backgroundcolor\":\"#E5ECF6\",\"gridcolor\":\"white\",\"linecolor\":\"white\",\"showbackground\":true,\"ticks\":\"\",\"zerolinecolor\":\"white\",\"gridwidth\":2},\"zaxis\":{\"backgroundcolor\":\"#E5ECF6\",\"gridcolor\":\"white\",\"linecolor\":\"white\",\"showbackground\":true,\"ticks\":\"\",\"zerolinecolor\":\"white\",\"gridwidth\":2}},\"shapedefaults\":{\"line\":{\"color\":\"#2a3f5f\"}},\"annotationdefaults\":{\"arrowcolor\":\"#2a3f5f\",\"arrowhead\":0,\"arrowwidth\":1},\"geo\":{\"bgcolor\":\"white\",\"landcolor\":\"#E5ECF6\",\"subunitcolor\":\"white\",\"showland\":true,\"showlakes\":true,\"lakecolor\":\"white\"},\"title\":{\"x\":0.05},\"mapbox\":{\"style\":\"light\"}}},\"xaxis\":{\"anchor\":\"y\",\"domain\":[0.0,1.0],\"title\":{\"text\":\"Durations\"}},\"yaxis\":{\"anchor\":\"x\",\"domain\":[0.0,1.0],\"title\":{\"text\":\"Likes\"}},\"legend\":{\"tracegroupgap\":0},\"title\":{\"text\":\"Likes Vs Duration\"}},                        {\"responsive\": true}                    ).then(function(){\n",
       "                            \n",
       "var gd = document.getElementById('366501bd-e1e9-44d3-886b-0aedf98181a5');\n",
       "var x = new MutationObserver(function (mutations, observer) {{\n",
       "        var display = window.getComputedStyle(gd).display;\n",
       "        if (!display || display === 'none') {{\n",
       "            console.log([gd, 'removed!']);\n",
       "            Plotly.purge(gd);\n",
       "            observer.disconnect();\n",
       "        }}\n",
       "}});\n",
       "\n",
       "// Listen for the removal of the full notebook cells\n",
       "var notebookContainer = gd.closest('#notebook-container');\n",
       "if (notebookContainer) {{\n",
       "    x.observe(notebookContainer, {childList: true});\n",
       "}}\n",
       "\n",
       "// Listen for the clearing of the current output cell\n",
       "var outputEl = gd.closest('.output');\n",
       "if (outputEl) {{\n",
       "    x.observe(outputEl, {childList: true});\n",
       "}}\n",
       "\n",
       "                        })                };                });            </script>        </div>"
      ]
     },
     "metadata": {},
     "output_type": "display_data"
    }
   ],
   "source": [
    "px.scatter(VideosLesthan90,x='Durations',y='Likes',title= 'Likes Vs Duration')"
   ]
  },
  {
   "cell_type": "code",
   "execution_count": 876,
   "id": "c381d716",
   "metadata": {},
   "outputs": [
    {
     "data": {
      "text/html": [
       "<div>\n",
       "<style scoped>\n",
       "    .dataframe tbody tr th:only-of-type {\n",
       "        vertical-align: middle;\n",
       "    }\n",
       "\n",
       "    .dataframe tbody tr th {\n",
       "        vertical-align: top;\n",
       "    }\n",
       "\n",
       "    .dataframe thead th {\n",
       "        text-align: right;\n",
       "    }\n",
       "</style>\n",
       "<table border=\"1\" class=\"dataframe\">\n",
       "  <thead>\n",
       "    <tr style=\"text-align: right;\">\n",
       "      <th></th>\n",
       "      <th>publishTime</th>\n",
       "      <th>Views</th>\n",
       "      <th>Likes</th>\n",
       "      <th>Title</th>\n",
       "    </tr>\n",
       "  </thead>\n",
       "  <tbody>\n",
       "    <tr>\n",
       "      <th>0</th>\n",
       "      <td>00</td>\n",
       "      <td>216571506</td>\n",
       "      <td>6334622</td>\n",
       "      <td>45</td>\n",
       "    </tr>\n",
       "    <tr>\n",
       "      <th>1</th>\n",
       "      <td>01</td>\n",
       "      <td>17197035</td>\n",
       "      <td>442253</td>\n",
       "      <td>38</td>\n",
       "    </tr>\n",
       "    <tr>\n",
       "      <th>2</th>\n",
       "      <td>02</td>\n",
       "      <td>75624566</td>\n",
       "      <td>3509959</td>\n",
       "      <td>23</td>\n",
       "    </tr>\n",
       "    <tr>\n",
       "      <th>3</th>\n",
       "      <td>03</td>\n",
       "      <td>841266</td>\n",
       "      <td>19072</td>\n",
       "      <td>4</td>\n",
       "    </tr>\n",
       "    <tr>\n",
       "      <th>4</th>\n",
       "      <td>04</td>\n",
       "      <td>39658</td>\n",
       "      <td>1133</td>\n",
       "      <td>1</td>\n",
       "    </tr>\n",
       "    <tr>\n",
       "      <th>5</th>\n",
       "      <td>06</td>\n",
       "      <td>39919</td>\n",
       "      <td>1160</td>\n",
       "      <td>1</td>\n",
       "    </tr>\n",
       "    <tr>\n",
       "      <th>6</th>\n",
       "      <td>10</td>\n",
       "      <td>3324207</td>\n",
       "      <td>59585</td>\n",
       "      <td>19</td>\n",
       "    </tr>\n",
       "    <tr>\n",
       "      <th>7</th>\n",
       "      <td>11</td>\n",
       "      <td>879969</td>\n",
       "      <td>51980</td>\n",
       "      <td>4</td>\n",
       "    </tr>\n",
       "    <tr>\n",
       "      <th>8</th>\n",
       "      <td>12</td>\n",
       "      <td>277877</td>\n",
       "      <td>6538</td>\n",
       "      <td>3</td>\n",
       "    </tr>\n",
       "    <tr>\n",
       "      <th>9</th>\n",
       "      <td>13</td>\n",
       "      <td>197639</td>\n",
       "      <td>3995</td>\n",
       "      <td>1</td>\n",
       "    </tr>\n",
       "    <tr>\n",
       "      <th>10</th>\n",
       "      <td>14</td>\n",
       "      <td>23438232</td>\n",
       "      <td>938603</td>\n",
       "      <td>8</td>\n",
       "    </tr>\n",
       "    <tr>\n",
       "      <th>11</th>\n",
       "      <td>15</td>\n",
       "      <td>241569745</td>\n",
       "      <td>8093203</td>\n",
       "      <td>11</td>\n",
       "    </tr>\n",
       "    <tr>\n",
       "      <th>12</th>\n",
       "      <td>16</td>\n",
       "      <td>1802179866</td>\n",
       "      <td>70753407</td>\n",
       "      <td>29</td>\n",
       "    </tr>\n",
       "    <tr>\n",
       "      <th>13</th>\n",
       "      <td>17</td>\n",
       "      <td>2513581152</td>\n",
       "      <td>138644650</td>\n",
       "      <td>40</td>\n",
       "    </tr>\n",
       "    <tr>\n",
       "      <th>14</th>\n",
       "      <td>18</td>\n",
       "      <td>29155475</td>\n",
       "      <td>788055</td>\n",
       "      <td>29</td>\n",
       "    </tr>\n",
       "    <tr>\n",
       "      <th>15</th>\n",
       "      <td>19</td>\n",
       "      <td>1142970984</td>\n",
       "      <td>34856056</td>\n",
       "      <td>39</td>\n",
       "    </tr>\n",
       "    <tr>\n",
       "      <th>16</th>\n",
       "      <td>20</td>\n",
       "      <td>15043069302</td>\n",
       "      <td>426249597</td>\n",
       "      <td>144</td>\n",
       "    </tr>\n",
       "    <tr>\n",
       "      <th>17</th>\n",
       "      <td>21</td>\n",
       "      <td>11498750572</td>\n",
       "      <td>300444797</td>\n",
       "      <td>163</td>\n",
       "    </tr>\n",
       "    <tr>\n",
       "      <th>18</th>\n",
       "      <td>22</td>\n",
       "      <td>2719463722</td>\n",
       "      <td>86604765</td>\n",
       "      <td>100</td>\n",
       "    </tr>\n",
       "    <tr>\n",
       "      <th>19</th>\n",
       "      <td>23</td>\n",
       "      <td>529506378</td>\n",
       "      <td>15478702</td>\n",
       "      <td>60</td>\n",
       "    </tr>\n",
       "  </tbody>\n",
       "</table>\n",
       "</div>"
      ],
      "text/plain": [
       "   publishTime        Views      Likes  Title\n",
       "0           00    216571506    6334622     45\n",
       "1           01     17197035     442253     38\n",
       "2           02     75624566    3509959     23\n",
       "3           03       841266      19072      4\n",
       "4           04        39658       1133      1\n",
       "5           06        39919       1160      1\n",
       "6           10      3324207      59585     19\n",
       "7           11       879969      51980      4\n",
       "8           12       277877       6538      3\n",
       "9           13       197639       3995      1\n",
       "10          14     23438232     938603      8\n",
       "11          15    241569745    8093203     11\n",
       "12          16   1802179866   70753407     29\n",
       "13          17   2513581152  138644650     40\n",
       "14          18     29155475     788055     29\n",
       "15          19   1142970984   34856056     39\n",
       "16          20  15043069302  426249597    144\n",
       "17          21  11498750572  300444797    163\n",
       "18          22   2719463722   86604765    100\n",
       "19          23    529506378   15478702     60"
      ]
     },
     "execution_count": 876,
     "metadata": {},
     "output_type": "execute_result"
    }
   ],
   "source": [
    "agg_functions = {\n",
    "    'Views': 'sum',\n",
    "    'Likes':'sum',\n",
    "    'Title':'count'\n",
    "}\n",
    "time = df.groupby('publishTime').agg(agg_functions).reset_index()\n",
    "time"
   ]
  },
  {
   "cell_type": "markdown",
   "id": "6cf65ed3",
   "metadata": {},
   "source": [
    "Mr Beast has uploaded 762 videos since 2012. His channel has seen a rapid growth from 2015 as his views got increased rapidly. He has uploaded more videos in 2015. Later the number of uploads as rapidly decreased. But the views and subscibers got increased massively. \n",
    "\n",
    "Mr Beast does most of the uploads on Saturday, Thrusday, Friday and Sunday. He usually uploads his videos at 8PM to 10PM.\n",
    "\n",
    "From analysis its clear that Views, Likes, Comments are positively coorelated.\n",
    "\n",
    "Mr Beast has does some crazy long videos during 2016,2017, 2018 the mean duration of these videos is around 805 minutes and longest is of 1140 minutes. And these videos having the lesser number of  views.\n",
    "\n",
    "We can infer that the longer the Video the Lesser the Views."
   ]
  }
 ],
 "metadata": {
  "kernelspec": {
   "display_name": "Python 3 (ipykernel)",
   "language": "python",
   "name": "python3"
  },
  "language_info": {
   "codemirror_mode": {
    "name": "ipython",
    "version": 3
   },
   "file_extension": ".py",
   "mimetype": "text/x-python",
   "name": "python",
   "nbconvert_exporter": "python",
   "pygments_lexer": "ipython3",
   "version": "3.11.4"
  }
 },
 "nbformat": 4,
 "nbformat_minor": 5
}
